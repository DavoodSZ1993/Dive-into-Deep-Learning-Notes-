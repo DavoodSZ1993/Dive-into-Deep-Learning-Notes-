{
  "nbformat": 4,
  "nbformat_minor": 0,
  "metadata": {
    "colab": {
      "provenance": [],
      "authorship_tag": "ABX9TyPmYaeehZO1fnAzxUuBXeF9",
      "include_colab_link": true
    },
    "kernelspec": {
      "name": "python3",
      "display_name": "Python 3"
    },
    "language_info": {
      "name": "python"
    }
  },
  "cells": [
    {
      "cell_type": "markdown",
      "metadata": {
        "id": "view-in-github",
        "colab_type": "text"
      },
      "source": [
        "<a href=\"https://colab.research.google.com/github/DavoodSZ1993/Dive-into-Deep-Learning-Notes-/blob/main/07_CNN_notes.ipynb\" target=\"_parent\"><img src=\"https://colab.research.google.com/assets/colab-badge.svg\" alt=\"Open In Colab\"/></a>"
      ]
    },
    {
      "cell_type": "markdown",
      "source": [
        "## PyTorch Notes"
      ],
      "metadata": {
        "id": "pNZpIcA7ejHq"
      }
    },
    {
      "cell_type": "markdown",
      "source": [
        "* `torch.t(input)`: Expects input to be <= 2D tensor and transposes dimensions 0, 1."
      ],
      "metadata": {
        "id": "U63BU_RIfR5f"
      }
    },
    {
      "cell_type": "code",
      "execution_count": 2,
      "metadata": {
        "colab": {
          "base_uri": "https://localhost:8080/"
        },
        "id": "WLjzV0bPedE0",
        "outputId": "7e24fdb1-d40b-4a29-ae68-a4acb68f91b3"
      },
      "outputs": [
        {
          "output_type": "execute_result",
          "data": {
            "text/plain": [
              "(tensor([[1., 2.],\n",
              "         [3., 4.]]), tensor([[1., 3.],\n",
              "         [2., 4.]]))"
            ]
          },
          "metadata": {},
          "execution_count": 2
        }
      ],
      "source": [
        "import torch\n",
        "\n",
        "A = torch.tensor([[1.0, 2.0],\n",
        "                  [3.0, 4.0]])\n",
        "\n",
        "A, A.t()"
      ]
    },
    {
      "cell_type": "markdown",
      "source": [
        "* `torch.stack(tensors, dim=0)`: Concatenates a sequence of tensors along a new dimension."
      ],
      "metadata": {
        "id": "n7_krMTElKf5"
      }
    },
    {
      "cell_type": "code",
      "source": [
        "A = torch.tensor([1, 2, 3, 4])\n",
        "B = torch.tensor([5, 6, 7, 8])\n",
        "\n",
        "C = torch.stack((A, B), dim=0)\n",
        "D = torch.stack((A, B), dim=1)\n",
        "\n",
        "print(C)\n",
        "print(D)"
      ],
      "metadata": {
        "id": "HRpKTEWQlr0j",
        "outputId": "02df66ef-91c9-47e3-a2e8-3951cf6a0fe0",
        "colab": {
          "base_uri": "https://localhost:8080/"
        }
      },
      "execution_count": 3,
      "outputs": [
        {
          "output_type": "stream",
          "name": "stdout",
          "text": [
            "tensor([[1, 2, 3, 4],\n",
            "        [5, 6, 7, 8]])\n",
            "tensor([[1, 5],\n",
            "        [2, 6],\n",
            "        [3, 7],\n",
            "        [4, 8]])\n"
          ]
        }
      ]
    },
    {
      "cell_type": "markdown",
      "source": [
        "* `torch.normal(mean, std, size)`: Returns a tensor of random numbers drawn from separate normal distribution whose mean and standard deviation are given."
      ],
      "metadata": {
        "id": "OlToZAxRnFXp"
      }
    },
    {
      "cell_type": "code",
      "source": [
        "A = torch.normal(0, 1, size=(2, 2))\n",
        "\n",
        "A"
      ],
      "metadata": {
        "id": "yVj3UnWlnc5g",
        "outputId": "3ba508ec-e1ec-439a-be2c-479a4ad153ce",
        "colab": {
          "base_uri": "https://localhost:8080/"
        }
      },
      "execution_count": 4,
      "outputs": [
        {
          "output_type": "execute_result",
          "data": {
            "text/plain": [
              "tensor([[-0.8277, -0.8098],\n",
              "        [ 0.4693,  1.3178]])"
            ]
          },
          "metadata": {},
          "execution_count": 4
        }
      ]
    },
    {
      "cell_type": "markdown",
      "source": [
        "### Convolution Layers "
      ],
      "metadata": {
        "id": "sl1h2rpjgJ5Y"
      }
    },
    {
      "cell_type": "markdown",
      "source": [
        "* Class `nn.Conv2d(in_channels, out_channels, kernel_size, bias=True)`: Applies a 2D convolution over an input signal composed of several input planes.\n",
        "* `in_channels`: Number of channels in the input image\n",
        "* `out_channels`: Number pf channels produced by the convolution operator.\n",
        "* `kernel_size`: Size of the convolution kernel.\n",
        "* `bias=True`: If `True`, adds a learnable bias to the output."
      ],
      "metadata": {
        "id": "jTxIapeTgfxH"
      }
    },
    {
      "cell_type": "markdown",
      "source": [
        "When isntantiate from the `nn.Conv2d()` class, the images applied to this kind of layer should have the format $(N, C_{in}, H, W)$ where:\n",
        "\n",
        "* $N$ is batch size.\n",
        "* $C_{in}$ denotes number of channels.\n",
        "* $H$ is the height in pixels.\n",
        "* $W$ is the width in pixels.\n",
        "\n",
        "And output will be of the size $(N, C_{out}, H_{out}, W_{out})$."
      ],
      "metadata": {
        "id": "KDgbKQTClK5O"
      }
    },
    {
      "cell_type": "code",
      "source": [
        "X = torch.ones((6, 8))\n",
        "X[:, 2:6] = 0\n",
        "\n",
        "Y = torch.zeros((6, 7))\n",
        "Y[:, 1] = 1\n",
        "Y[:, 5] = -1\n",
        "\n",
        "X, Y"
      ],
      "metadata": {
        "colab": {
          "base_uri": "https://localhost:8080/"
        },
        "id": "NKjPtCxoiLon",
        "outputId": "48156d2d-7709-4ad4-907b-6cffeec1a44d"
      },
      "execution_count": null,
      "outputs": [
        {
          "output_type": "execute_result",
          "data": {
            "text/plain": [
              "(tensor([[1., 1., 0., 0., 0., 0., 1., 1.],\n",
              "         [1., 1., 0., 0., 0., 0., 1., 1.],\n",
              "         [1., 1., 0., 0., 0., 0., 1., 1.],\n",
              "         [1., 1., 0., 0., 0., 0., 1., 1.],\n",
              "         [1., 1., 0., 0., 0., 0., 1., 1.],\n",
              "         [1., 1., 0., 0., 0., 0., 1., 1.]]),\n",
              " tensor([[ 0.,  1.,  0.,  0.,  0., -1.,  0.],\n",
              "         [ 0.,  1.,  0.,  0.,  0., -1.,  0.],\n",
              "         [ 0.,  1.,  0.,  0.,  0., -1.,  0.],\n",
              "         [ 0.,  1.,  0.,  0.,  0., -1.,  0.],\n",
              "         [ 0.,  1.,  0.,  0.,  0., -1.,  0.],\n",
              "         [ 0.,  1.,  0.,  0.,  0., -1.,  0.]]))"
            ]
          },
          "metadata": {},
          "execution_count": 5
        }
      ]
    },
    {
      "cell_type": "code",
      "source": [
        "X = X.reshape((1, 1, 6, 8)) # shape: 1 x 1 x 6 x 8"
      ],
      "metadata": {
        "id": "3oMBFUubqO_u"
      },
      "execution_count": null,
      "outputs": []
    },
    {
      "cell_type": "code",
      "source": [
        "from torch import nn\n",
        "\n",
        "conv2d = nn.Conv2d(in_channels=1, out_channels=1, kernel_size=(1, 2), bias=False) # kernel_size = 1 x 2\n",
        "\n",
        "Y = conv2d(X) # shape: 1 x 1 x 6 (6 - 1 + 1) x 7 (8 - 2 + 1)\n",
        "\n",
        "Y, Y.shape"
      ],
      "metadata": {
        "colab": {
          "base_uri": "https://localhost:8080/"
        },
        "id": "94YHGbSfi-EH",
        "outputId": "f7a089cc-6435-49d4-db27-4f98d701f3de"
      },
      "execution_count": null,
      "outputs": [
        {
          "output_type": "execute_result",
          "data": {
            "text/plain": [
              "(tensor([[[[0.7115, 0.5148, 0.0000, 0.0000, 0.0000, 0.1967, 0.7115],\n",
              "           [0.7115, 0.5148, 0.0000, 0.0000, 0.0000, 0.1967, 0.7115],\n",
              "           [0.7115, 0.5148, 0.0000, 0.0000, 0.0000, 0.1967, 0.7115],\n",
              "           [0.7115, 0.5148, 0.0000, 0.0000, 0.0000, 0.1967, 0.7115],\n",
              "           [0.7115, 0.5148, 0.0000, 0.0000, 0.0000, 0.1967, 0.7115],\n",
              "           [0.7115, 0.5148, 0.0000, 0.0000, 0.0000, 0.1967, 0.7115]]]],\n",
              "        grad_fn=<ConvolutionBackward0>), torch.Size([1, 1, 6, 7]))"
            ]
          },
          "metadata": {},
          "execution_count": 13
        }
      ]
    },
    {
      "cell_type": "markdown",
      "source": [
        "* Class `nn.LazyConv2d()`: A `torch.nn.Conv2d` module with lazy initialization of the `in_channels` argument of the `Conv2d`"
      ],
      "metadata": {
        "id": "G3Gy_Dn4q69o"
      }
    },
    {
      "cell_type": "markdown",
      "source": [
        "## General Notes"
      ],
      "metadata": {
        "id": "lYwdizpaem8o"
      }
    },
    {
      "cell_type": "markdown",
      "source": [
        "### Width and Precision in Python String Formatting\n",
        "\n",
        "The meaning of `x.yf` in string formatting:\n",
        "\n",
        "* `x` represents the maximum width or padding of the output string.\n",
        "* `y` represents the maximum number of characters after the decimal.\n",
        "* `f` symbolizes floating-point representation, `d` for integers, and `s` for strings."
      ],
      "metadata": {
        "id": "VfPhcsqrtV6m"
      }
    }
  ]
}