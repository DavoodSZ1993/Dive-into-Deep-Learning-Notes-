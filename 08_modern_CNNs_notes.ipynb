{
  "nbformat": 4,
  "nbformat_minor": 0,
  "metadata": {
    "colab": {
      "provenance": [],
      "authorship_tag": "ABX9TyMRsJV7sA+KALL0mYYQbNsU",
      "include_colab_link": true
    },
    "kernelspec": {
      "name": "python3",
      "display_name": "Python 3"
    },
    "language_info": {
      "name": "python"
    }
  },
  "cells": [
    {
      "cell_type": "markdown",
      "metadata": {
        "id": "view-in-github",
        "colab_type": "text"
      },
      "source": [
        "<a href=\"https://colab.research.google.com/github/DavoodSZ1993/Dive-into-Deep-Learning-Notes-/blob/main/08_modern_CNNs_notes.ipynb\" target=\"_parent\"><img src=\"https://colab.research.google.com/assets/colab-badge.svg\" alt=\"Open In Colab\"/></a>"
      ]
    },
    {
      "cell_type": "markdown",
      "source": [
        "## Convolutional Neural Networks\n",
        "\n",
        "* **Convolution** (`nn.Conv2d()` & `nn.LazyConv2d()`): Given the input size ($n_h\\times n_w$), and the kernel size ($k_h \\times k_w$), the output size is as follows:\n",
        "$$\n",
        "(n_h - k_h + 1) \\times (n_w - k_w + 1)\n",
        "$$\n",
        "\n",
        "* **Padding**: Given the input size ($n_h \\times n_w$), the kernel size ($k_h \\times k_w$), when adding a total of $p_h$ rows of padding and a total of $p_w$ columns of padding, the output size will be as follows:\n",
        "$$\n",
        "(n_h - k_h + p_h + 1) \\times (n_w - k_w + p_w + 1)\n",
        "$$\n",
        "\n",
        "The `padding=1` argument in `nn.Conv2d()` will add one row at top, and one row at bottom ($p_h=2$), and one column at left and one column at right ($p_w=2$)\n",
        "\n",
        "* **Stride**: Given the input size ($n_h \\times n_w$), the kernel size ($k_h \\times k_w$), padding size ($p_h \\times p_w$), when the stride for hight is $s_h$ and th stride for the width is $s_w$, the output shape will be as follows:\n",
        "$$\n",
        "[{n_h - k_h + p_h + s_h \\over s_h}] \\times [{n_w - k_w + p_w + s_w \\over s_w}] \n",
        "$$\n",
        "\n"
      ],
      "metadata": {
        "id": "ODsC39LJumFB"
      }
    },
    {
      "cell_type": "markdown",
      "source": [
        "### Class `nn.AdaptiveAvgPool2d(output_size)`: \n",
        "Applies a 2D adaptive average pooling over an input signal composed of several input planes. \n",
        "\n",
        "* input: ($N, C, H_{in}, W_{in}$) or ($C, H_{in}, W_{in}$)\n",
        "output: ($N, C, S_0, S_1$) or ($C, S_0, S_1$) where $S$=`output_size`."
      ],
      "metadata": {
        "id": "AfBEWfbY5xy0"
      }
    },
    {
      "cell_type": "code",
      "execution_count": 2,
      "metadata": {
        "id": "GBp4fYgQuUgj"
      },
      "outputs": [],
      "source": [
        "import torch\n",
        "from torch import nn"
      ]
    },
    {
      "cell_type": "code",
      "source": [
        "X = torch.tensor([[1, 2],\n",
        "                  [3, 4]], dtype=torch.float32)  # 1 x 1 2 x 2\n",
        "\n",
        "net = nn.AdaptiveAvgPool2d((1))   # 1 x 1 x 1 x 1\n",
        "\n",
        "net(X), X.mean()"
      ],
      "metadata": {
        "colab": {
          "base_uri": "https://localhost:8080/"
        },
        "id": "P1MiJTUV7iwX",
        "outputId": "c5da88c8-3260-4b65-bac6-67757fc927a7"
      },
      "execution_count": 5,
      "outputs": [
        {
          "output_type": "execute_result",
          "data": {
            "text/plain": [
              "(tensor([[2.5000]]), tensor(2.5000))"
            ]
          },
          "metadata": {},
          "execution_count": 5
        }
      ]
    },
    {
      "cell_type": "markdown",
      "source": [
        "## Batch Normalization\n",
        "\n",
        "$$\n",
        "BN(𝐱) = 𝛄 ⊗ {𝐱 - 𝝻̂_{𝖁} \\over 𝛔̂_{𝖁}} + 𝛃\n",
        "$$\n",
        "where 𝖁 is minibatch and $𝙭 ∈ 𝖁$. $𝓤̂$ is the sample mean and $𝛔̂_{𝖁}$ is the sample standard deviation. 𝛄 and 𝛃 are scale parameter and shift parameter respectively. \n"
      ],
      "metadata": {
        "id": "Q1acNSfxAsGm"
      }
    },
    {
      "cell_type": "markdown",
      "source": [
        "### Fully Connected Layers\n",
        "\n",
        "When using a fully connected layer, calculate the mean and variance on the feature dimension.\n",
        "$$\n",
        "𝐡 = Φ(BN(𝑾𝐱 + 𝐛))\n",
        "$$\n"
      ],
      "metadata": {
        "id": "AzHF70uBAvKD"
      }
    },
    {
      "cell_type": "code",
      "source": [
        "X = torch.tensor([[1, 2],\n",
        "                  [3, 4]], dtype=torch.float32)\n",
        "\n",
        "X.mean(dim=0), X.mean(dim=1)  # mean along rows, mean along columns"
      ],
      "metadata": {
        "colab": {
          "base_uri": "https://localhost:8080/"
        },
        "id": "8wLePTPbPy5i",
        "outputId": "d48bad9b-6220-41e6-8ef8-35d4f66439a2"
      },
      "execution_count": 6,
      "outputs": [
        {
          "output_type": "execute_result",
          "data": {
            "text/plain": [
              "(tensor([2., 3.]), tensor([1.5000, 3.5000]))"
            ]
          },
          "metadata": {},
          "execution_count": 6
        }
      ]
    },
    {
      "cell_type": "markdown",
      "source": [
        "### Convolutional Layers\n",
        "\n",
        "When using a two-dimensional convolution layer, calculate the mean and variance on the channel dimension (dim=1)."
      ],
      "metadata": {
        "id": "xHLpmJEbAzwz"
      }
    },
    {
      "cell_type": "markdown",
      "source": [
        "### Layer Normalization"
      ],
      "metadata": {
        "id": "JmLMmUBsA43b"
      }
    },
    {
      "cell_type": "markdown",
      "source": [
        "## General Notes"
      ],
      "metadata": {
        "id": "RjS3Z1ls9T97"
      }
    },
    {
      "cell_type": "markdown",
      "source": [
        "### Python `super()`\n",
        "\n",
        "Returns objects represented in the parent's class."
      ],
      "metadata": {
        "id": "xEgyiINR98Us"
      }
    }
  ]
}