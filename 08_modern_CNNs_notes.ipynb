{
  "nbformat": 4,
  "nbformat_minor": 0,
  "metadata": {
    "colab": {
      "provenance": [],
      "authorship_tag": "ABX9TyPOMaEB+nz305GsWnxSIj6r",
      "include_colab_link": true
    },
    "kernelspec": {
      "name": "python3",
      "display_name": "Python 3"
    },
    "language_info": {
      "name": "python"
    }
  },
  "cells": [
    {
      "cell_type": "markdown",
      "metadata": {
        "id": "view-in-github",
        "colab_type": "text"
      },
      "source": [
        "<a href=\"https://colab.research.google.com/github/DavoodSZ1993/Dive-into-Deep-Learning-Notes-/blob/main/08_modern_CNNs_notes.ipynb\" target=\"_parent\"><img src=\"https://colab.research.google.com/assets/colab-badge.svg\" alt=\"Open In Colab\"/></a>"
      ]
    },
    {
      "cell_type": "markdown",
      "source": [
        "## Convolutional Neural Networks\n",
        "\n",
        "* **Convolution**: Given the input size ($n_h\\times n_w$), and the kernel size ($k_h \\times k_w$), the output size is as follows:\n",
        "$$\n",
        "(n_h - k_h + 1) \\times (n_w - k_w + 1)\n",
        "$$\n",
        "\n"
      ],
      "metadata": {
        "id": "ODsC39LJumFB"
      }
    },
    {
      "cell_type": "code",
      "execution_count": null,
      "metadata": {
        "id": "GBp4fYgQuUgj"
      },
      "outputs": [],
      "source": []
    }
  ]
}