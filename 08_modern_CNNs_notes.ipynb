{
  "nbformat": 4,
  "nbformat_minor": 0,
  "metadata": {
    "colab": {
      "provenance": [],
      "authorship_tag": "ABX9TyO4tBhgmK7oga3hp1zLyusk",
      "include_colab_link": true
    },
    "kernelspec": {
      "name": "python3",
      "display_name": "Python 3"
    },
    "language_info": {
      "name": "python"
    }
  },
  "cells": [
    {
      "cell_type": "markdown",
      "metadata": {
        "id": "view-in-github",
        "colab_type": "text"
      },
      "source": [
        "<a href=\"https://colab.research.google.com/github/DavoodSZ1993/Dive-into-Deep-Learning-Notes-/blob/main/08_modern_CNNs_notes.ipynb\" target=\"_parent\"><img src=\"https://colab.research.google.com/assets/colab-badge.svg\" alt=\"Open In Colab\"/></a>"
      ]
    },
    {
      "cell_type": "markdown",
      "source": [
        "## Convolutional Neural Networks\n",
        "\n",
        "* **Convolution** (`nn.Conv2d()` & `nn.LazyConv2d()`): Given the input size ($n_h\\times n_w$), and the kernel size ($k_h \\times k_w$), the output size is as follows:\n",
        "$$\n",
        "(n_h - k_h + 1) \\times (n_w - k_w + 1)\n",
        "$$\n",
        "\n",
        "* **Padding**: Given the input size ($n_h \\times n_w$), the kernel size ($k_h \\times k_w$), when adding a total of $p_h$ rows of padding and a total of $p_w$ columns of padding, the output size will be as follows:\n",
        "$$\n",
        "(n_h - k_h + p_h + 1) \\times (n_w - k_w + p_w + 1)\n",
        "$$\n",
        "\n",
        "The `padding=1` argument in `nn.Conv2d()` will add one row at top, and one row at bottom ($p_h=2$), and one column at left and one column at right ($p_w=2$)\n",
        "\n",
        "* **Stride**: Given the input size ($n_h \\times n_w$), the kernel size ($k_h \\times k_w$), padding size ($p_h \\times p_w$), when the stride for hight is $s_h$ and th stride for the width is $s_w$, the output shape will be as follows:\n",
        "$$\n",
        "[{n_h - k_h + p_h + s_h \\over s_h}] \\times [{n_w - k_w + p_w + s_w \\over s_w}] \n",
        "$$\n",
        "\n"
      ],
      "metadata": {
        "id": "ODsC39LJumFB"
      }
    },
    {
      "cell_type": "code",
      "execution_count": null,
      "metadata": {
        "id": "GBp4fYgQuUgj"
      },
      "outputs": [],
      "source": []
    }
  ]
}