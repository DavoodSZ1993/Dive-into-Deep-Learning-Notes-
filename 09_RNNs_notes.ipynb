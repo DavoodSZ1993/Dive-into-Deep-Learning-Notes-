{
  "nbformat": 4,
  "nbformat_minor": 0,
  "metadata": {
    "colab": {
      "provenance": [],
      "authorship_tag": "ABX9TyNdEc2+YHYofGZZVw2C4/OE",
      "include_colab_link": true
    },
    "kernelspec": {
      "name": "python3",
      "display_name": "Python 3"
    },
    "language_info": {
      "name": "python"
    }
  },
  "cells": [
    {
      "cell_type": "markdown",
      "metadata": {
        "id": "view-in-github",
        "colab_type": "text"
      },
      "source": [
        "<a href=\"https://colab.research.google.com/github/DavoodSZ1993/Dive-into-Deep-Learning-Notes-/blob/main/09_RNNs_notes.ipynb\" target=\"_parent\"><img src=\"https://colab.research.google.com/assets/colab-badge.svg\" alt=\"Open In Colab\"/></a>"
      ]
    },
    {
      "cell_type": "code",
      "source": [
        "!pip install d2l==1.0.0-alpha1.post0 --quiet"
      ],
      "metadata": {
        "colab": {
          "base_uri": "https://localhost:8080/"
        },
        "id": "VnuDb7oKTnQz",
        "outputId": "99a4b935-4bc9-4182-f6e2-8fa958068178"
      },
      "execution_count": 2,
      "outputs": [
        {
          "output_type": "stream",
          "name": "stdout",
          "text": [
            "\u001b[2K     \u001b[90m━━━━━━━━━━━━━━━━━━━━━━━━━━━━━━━━━━━━━━━━\u001b[0m \u001b[32m93.0/93.0 KB\u001b[0m \u001b[31m4.1 MB/s\u001b[0m eta \u001b[36m0:00:00\u001b[0m\n",
            "\u001b[2K     \u001b[90m━━━━━━━━━━━━━━━━━━━━━━━━━━━━━━━━━━━━━━━\u001b[0m \u001b[32m121.0/121.0 KB\u001b[0m \u001b[31m6.9 MB/s\u001b[0m eta \u001b[36m0:00:00\u001b[0m\n",
            "\u001b[2K     \u001b[90m━━━━━━━━━━━━━━━━━━━━━━━━━━━━━━━━━━━━━━━━\u001b[0m \u001b[32m83.6/83.6 KB\u001b[0m \u001b[31m8.6 MB/s\u001b[0m eta \u001b[36m0:00:00\u001b[0m\n",
            "\u001b[2K     \u001b[90m━━━━━━━━━━━━━━━━━━━━━━━━━━━━━━━━━━━━━━━━\u001b[0m \u001b[32m1.6/1.6 MB\u001b[0m \u001b[31m34.2 MB/s\u001b[0m eta \u001b[36m0:00:00\u001b[0m\n",
            "\u001b[?25h"
          ]
        }
      ]
    },
    {
      "cell_type": "markdown",
      "source": [
        "## 9.1 Working with Sequences"
      ],
      "metadata": {
        "id": "807WUSmOTXEX"
      }
    },
    {
      "cell_type": "code",
      "execution_count": null,
      "metadata": {
        "id": "kA0ARNlATMnP"
      },
      "outputs": [],
      "source": []
    },
    {
      "cell_type": "markdown",
      "source": [
        "## 9.2 Converting Raw Text into Sequence Data"
      ],
      "metadata": {
        "id": "5pZf8Bn8Taar"
      }
    },
    {
      "cell_type": "code",
      "source": [
        "import random\n",
        "import re\n",
        "import torch\n",
        "from d2l import torch as d2l"
      ],
      "metadata": {
        "colab": {
          "base_uri": "https://localhost:8080/"
        },
        "id": "zSk42_Cqx9nw",
        "outputId": "3c36ea7c-5608-489d-ef65-1c4734cb3b36"
      },
      "execution_count": 3,
      "outputs": [
        {
          "output_type": "stream",
          "name": "stderr",
          "text": [
            "/usr/local/lib/python3.8/dist-packages/torch/cuda/__init__.py:497: UserWarning: Can't initialize NVML\n",
            "  warnings.warn(\"Can't initialize NVML\")\n"
          ]
        }
      ]
    },
    {
      "cell_type": "markdown",
      "source": [
        "* Python `random` Module: This module can be sued to generate random numbers.\n",
        "* Python `re` library: A regular expression (or re) specifies a set of strings that matches it.\n",
        "* `re.sub()`: This function retruns a string where all amtching occurances of the specified pattern are replaced by the replace string."
      ],
      "metadata": {
        "id": "aGVdJLWxtJgW"
      }
    },
    {
      "cell_type": "code",
      "source": [
        "my_string = 'My name is Davood'\n",
        "\n",
        "my_string1 = re.sub('v', 'b', my_string)\n",
        "\n",
        "print(my_string)\n",
        "print(my_string1)"
      ],
      "metadata": {
        "id": "Wgv--QEITilJ",
        "colab": {
          "base_uri": "https://localhost:8080/"
        },
        "outputId": "7fcb91dc-3356-4693-d91a-3ec00bc36b9d"
      },
      "execution_count": 4,
      "outputs": [
        {
          "output_type": "stream",
          "name": "stdout",
          "text": [
            "My name is Davood\n",
            "My name is Dabood\n"
          ]
        }
      ]
    },
    {
      "cell_type": "code",
      "source": [
        "class TimeMachine(d2l.DataModule):\n",
        "  def _download(self):\n",
        "    fname = d2l.download(d2l.DATA_URL + 'timemachine.txt', self.root,\n",
        "                         '090b5e7e70c295757f55df93cb0a180b9691891a')\n",
        "    with open(fname) as f:\n",
        "      return f.read()"
      ],
      "metadata": {
        "id": "uulpNtaSxtz4"
      },
      "execution_count": 5,
      "outputs": []
    },
    {
      "cell_type": "code",
      "source": [
        "data = TimeMachine()\n",
        "raw_text = data._download()\n",
        "raw_text[:60]"
      ],
      "metadata": {
        "colab": {
          "base_uri": "https://localhost:8080/",
          "height": 53
        },
        "id": "CmkIiRv6yMun",
        "outputId": "b3a79610-f0d8-4a1e-d5eb-97a7d64945af"
      },
      "execution_count": 6,
      "outputs": [
        {
          "output_type": "stream",
          "name": "stdout",
          "text": [
            "Downloading ../data/timemachine.txt from http://d2l-data.s3-accelerate.amazonaws.com/timemachine.txt...\n"
          ]
        },
        {
          "output_type": "execute_result",
          "data": {
            "text/plain": [
              "'The Time Machine, by H. G. Wells [1898]\\n\\n\\n\\n\\nI\\n\\n\\nThe Time Tra'"
            ],
            "application/vnd.google.colaboratory.intrinsic+json": {
              "type": "string"
            }
          },
          "metadata": {},
          "execution_count": 6
        }
      ]
    },
    {
      "cell_type": "code",
      "source": [
        "@d2l.add_to_class(TimeMachine)\n",
        "def _preprocess(self, text):\n",
        "  return re.sub('[^A-Za-z]+', ' ', text).lower() # replaces '[^A-Za-z]+' in the text with space."
      ],
      "metadata": {
        "id": "fnbFEhxzyQjX"
      },
      "execution_count": 8,
      "outputs": []
    },
    {
      "cell_type": "code",
      "source": [
        "text = data._preprocess(raw_text)\n",
        "text[0:60]"
      ],
      "metadata": {
        "colab": {
          "base_uri": "https://localhost:8080/",
          "height": 36
        },
        "id": "HrmyCSYVyeTX",
        "outputId": "5470da11-d429-4eef-b609-3b354bd0a8fd"
      },
      "execution_count": 9,
      "outputs": [
        {
          "output_type": "execute_result",
          "data": {
            "text/plain": [
              "'the time machine by h g wells i the time traveller for so it'"
            ],
            "application/vnd.google.colaboratory.intrinsic+json": {
              "type": "string"
            }
          },
          "metadata": {},
          "execution_count": 9
        }
      ]
    },
    {
      "cell_type": "code",
      "source": [
        "list(text[0:10])  # creates a list of the given string"
      ],
      "metadata": {
        "colab": {
          "base_uri": "https://localhost:8080/"
        },
        "id": "5KjeeTgBylAf",
        "outputId": "6afa5662-80f2-443b-b3b7-7bab103d84b8"
      },
      "execution_count": 10,
      "outputs": [
        {
          "output_type": "execute_result",
          "data": {
            "text/plain": [
              "['t', 'h', 'e', ' ', 't', 'i', 'm', 'e', ' ', 'm']"
            ]
          },
          "metadata": {},
          "execution_count": 10
        }
      ]
    },
    {
      "cell_type": "markdown",
      "source": [
        "* Python `join()`: Is an built-in string function in Python used to join elements of the sequence seperated by a string operator."
      ],
      "metadata": {
        "id": "q40PqotZzqfh"
      }
    },
    {
      "cell_type": "code",
      "source": [
        "my_list = ['Davood', 'Soleymanzadeh']\n",
        "\n",
        "' '.join(my_list) # joins the elements in my list seperated by an space"
      ],
      "metadata": {
        "colab": {
          "base_uri": "https://localhost:8080/",
          "height": 36
        },
        "id": "Vs046ZBV0BHf",
        "outputId": "95309a5c-777f-4853-a296-de44f32baa15"
      },
      "execution_count": 11,
      "outputs": [
        {
          "output_type": "execute_result",
          "data": {
            "text/plain": [
              "'Davood Soleymanzadeh'"
            ],
            "application/vnd.google.colaboratory.intrinsic+json": {
              "type": "string"
            }
          },
          "metadata": {},
          "execution_count": 11
        }
      ]
    },
    {
      "cell_type": "markdown",
      "source": [
        "#### Nested List in Python\n",
        "* List comprehension is one of the unique features of Python which allows to create lists by iterating over an iteratable object.\n",
        "* Nested list comprehension are list comprehension within another list comprehension which is similar to nested for loops."
      ],
      "metadata": {
        "id": "povVltkS0rah"
      }
    },
    {
      "cell_type": "code",
      "source": [
        "# Flattening a 2-D list\n",
        "\n",
        "my_list = [[1, 2, 3],\n",
        "           [4, 5, 6],\n",
        "           [7, 8, 9]]\n",
        "\n",
        "flatten_list = [val for sublist in my_list for val in sublist]\n",
        "flatten_list"
      ],
      "metadata": {
        "colab": {
          "base_uri": "https://localhost:8080/"
        },
        "id": "PDDV7Ggy2PEw",
        "outputId": "b51bf73a-eaed-4a36-db21-783325836ffb"
      },
      "execution_count": 13,
      "outputs": [
        {
          "output_type": "execute_result",
          "data": {
            "text/plain": [
              "[1, 2, 3, 4, 5, 6, 7, 8, 9]"
            ]
          },
          "metadata": {},
          "execution_count": 13
        }
      ]
    },
    {
      "cell_type": "code",
      "source": [
        "@d2l.add_to_class(TimeMachine)\n",
        "def _tokenize(self, text):\n",
        "  return list(text)"
      ],
      "metadata": {
        "id": "ZvXWCCMF3EIL"
      },
      "execution_count": 14,
      "outputs": []
    },
    {
      "cell_type": "code",
      "source": [
        "tokens = data._tokenize(text)\n",
        "\n",
        "# When tokens is a nested list, the following will flatten the list\n",
        "if tokens and isinstance(tokens[0], list):\n",
        "  tokens = [token for line in tokens for token in line]"
      ],
      "metadata": {
        "id": "q0j8XD5p3K93"
      },
      "execution_count": 16,
      "outputs": []
    },
    {
      "cell_type": "markdown",
      "source": [
        "* `Counter()` Class in `collection`s module: A counter is a container that stores elements as **dictionary keys**, and their counts are stored as **dictionary values**.\n"
      ],
      "metadata": {
        "id": "keYjG6iK4PEl"
      }
    },
    {
      "cell_type": "code",
      "source": [
        "import collections\n",
        "\n",
        "my_name = 'Davood Soleymanzadeh'\n",
        "\n",
        "my_counter = collections.Counter(my_name)\n",
        "my_counter"
      ],
      "metadata": {
        "id": "Kpm7L8cu5FAc",
        "outputId": "4b31ecd5-c906-4166-afff-d28786c5fd17",
        "colab": {
          "base_uri": "https://localhost:8080/"
        }
      },
      "execution_count": 17,
      "outputs": [
        {
          "output_type": "execute_result",
          "data": {
            "text/plain": [
              "Counter({'D': 1,\n",
              "         'a': 3,\n",
              "         'v': 1,\n",
              "         'o': 3,\n",
              "         'd': 2,\n",
              "         ' ': 1,\n",
              "         'S': 1,\n",
              "         'l': 1,\n",
              "         'e': 2,\n",
              "         'y': 1,\n",
              "         'm': 1,\n",
              "         'n': 1,\n",
              "         'z': 1,\n",
              "         'h': 1})"
            ]
          },
          "metadata": {},
          "execution_count": 17
        }
      ]
    }
  ]
}