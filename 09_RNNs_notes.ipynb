{
  "nbformat": 4,
  "nbformat_minor": 0,
  "metadata": {
    "colab": {
      "provenance": [],
      "authorship_tag": "ABX9TyPpsfd60TbaQVM4rusnUPIL",
      "include_colab_link": true
    },
    "kernelspec": {
      "name": "python3",
      "display_name": "Python 3"
    },
    "language_info": {
      "name": "python"
    },
    "gpuClass": "standard"
  },
  "cells": [
    {
      "cell_type": "markdown",
      "metadata": {
        "id": "view-in-github",
        "colab_type": "text"
      },
      "source": [
        "<a href=\"https://colab.research.google.com/github/DavoodSZ1993/Dive-into-Deep-Learning-Notes-/blob/main/09_RNNs_notes.ipynb\" target=\"_parent\"><img src=\"https://colab.research.google.com/assets/colab-badge.svg\" alt=\"Open In Colab\"/></a>"
      ]
    },
    {
      "cell_type": "code",
      "source": [
        "!pip install d2l==1.0.0-alpha1.post0 --quiet"
      ],
      "metadata": {
        "colab": {
          "base_uri": "https://localhost:8080/"
        },
        "id": "VnuDb7oKTnQz",
        "outputId": "a9614635-3cf5-49ab-ca35-2c813ebc78e5"
      },
      "execution_count": 1,
      "outputs": [
        {
          "output_type": "stream",
          "name": "stdout",
          "text": [
            "\u001b[2K     \u001b[90m━━━━━━━━━━━━━━━━━━━━━━━━━━━━━━━━━━━━━━━━\u001b[0m \u001b[32m93.0/93.0 KB\u001b[0m \u001b[31m2.2 MB/s\u001b[0m eta \u001b[36m0:00:00\u001b[0m\n",
            "\u001b[2K     \u001b[90m━━━━━━━━━━━━━━━━━━━━━━━━━━━━━━━━━━━━━━━\u001b[0m \u001b[32m121.0/121.0 KB\u001b[0m \u001b[31m7.8 MB/s\u001b[0m eta \u001b[36m0:00:00\u001b[0m\n",
            "\u001b[2K     \u001b[90m━━━━━━━━━━━━━━━━━━━━━━━━━━━━━━━━━━━━━━━━\u001b[0m \u001b[32m83.6/83.6 KB\u001b[0m \u001b[31m5.5 MB/s\u001b[0m eta \u001b[36m0:00:00\u001b[0m\n",
            "\u001b[2K     \u001b[90m━━━━━━━━━━━━━━━━━━━━━━━━━━━━━━━━━━━━━━━━\u001b[0m \u001b[32m1.6/1.6 MB\u001b[0m \u001b[31m29.1 MB/s\u001b[0m eta \u001b[36m0:00:00\u001b[0m\n",
            "\u001b[?25h"
          ]
        }
      ]
    },
    {
      "cell_type": "markdown",
      "source": [
        "## 9.1 Working with Sequences"
      ],
      "metadata": {
        "id": "807WUSmOTXEX"
      }
    },
    {
      "cell_type": "code",
      "execution_count": 4,
      "metadata": {
        "id": "kA0ARNlATMnP"
      },
      "outputs": [],
      "source": [
        "%matplotlib inline\n",
        "import matplotlib.pyplot as plt\n",
        "import torch\n",
        "from torch import nn\n",
        "from d2l import torch as d2l"
      ]
    },
    {
      "cell_type": "code",
      "source": [
        "T = 1000\n",
        "time = torch.arange(1, T + 1, dtype=torch.float32)\n",
        "x = torch.sin(0.01 * time) + torch.randn(T) * 0.2\n",
        "\n",
        "fig = plt.figure(figsize=(6, 3))\n",
        "plt.plot(time, x)\n",
        "plt.xlabel('time')\n",
        "plt.ylabel('x')\n",
        "plt.xlim([1, 1000])\n",
        "plt.grid(True)\n"
      ],
      "metadata": {
        "colab": {
          "base_uri": "https://localhost:8080/",
          "height": 225
        },
        "id": "osLACrH55iig",
        "outputId": "4fa86d7c-5e41-4d54-b8a7-529828897e49"
      },
      "execution_count": 7,
      "outputs": [
        {
          "output_type": "display_data",
          "data": {
            "text/plain": [
              "<Figure size 432x216 with 1 Axes>"
            ],
            "image/png": "[encoded data removed]"
          },
          "metadata": {
            "needs_background": "light"
          }
        }
      ]
    },
    {
      "cell_type": "markdown",
      "source": [
        "The following code snippet converts the mentioned sequence to tabular data that can be used as data for linear regression. $\\tau = 4$ indicates that our dataset has four features ($x_1 (0 - 996), x_2 (1 - 997), x_3 (2 - 998), x_4 (3 - 999)$), each feature has 996 elemens, and one label ($y (4 - 1000)$) that also has 996 elements.  "
      ],
      "metadata": {
        "id": "jVaNtg81APE3"
      }
    },
    {
      "cell_type": "code",
      "source": [
        "tau = 4\n",
        "num_train = 600\n",
        "batch_size = 16\n",
        "\n",
        "features = [x[i: T - tau + i] for i in range(tau)]\n",
        "print('Feature length:', len(features))\n",
        "print('Each featute shape:', features[0].shape)\n",
        "\n",
        "print('********************')\n",
        "\n",
        "features = torch.stack(features, 1) # stack the features along the columns\n",
        "print('Features stack together (shape): ',features.shape)\n",
        "\n",
        "print('********************')\n",
        "\n",
        "labels = x[tau:]\n",
        "print('Labels shape: ',labels.shape)\n",
        "lebels = labels.reshape((-1, 1))            # num of columns = 1, and num of rows are inferred from the size.\n",
        "print('labels shape: ',labels.shape)"
      ],
      "metadata": {
        "colab": {
          "base_uri": "https://localhost:8080/"
        },
        "id": "6cxPsIle7zle",
        "outputId": "3f7db5ca-4b50-40e1-85b7-cb3871a606d3"
      },
      "execution_count": 30,
      "outputs": [
        {
          "output_type": "stream",
          "name": "stdout",
          "text": [
            "Feature length: 4\n",
            "Each featute shape: torch.Size([996])\n",
            "********************\n",
            "Features stack together (shape):  torch.Size([996, 4])\n",
            "********************\n",
            "Labels shape:  torch.Size([996])\n",
            "labels shape:  torch.Size([996])\n"
          ]
        }
      ]
    },
    {
      "cell_type": "markdown",
      "source": [
        "## 9.2 Converting Raw Text into Sequence Data"
      ],
      "metadata": {
        "id": "5pZf8Bn8Taar"
      }
    },
    {
      "cell_type": "code",
      "source": [
        "import random\n",
        "import re\n",
        "import torch\n",
        "from d2l import torch as d2l"
      ],
      "metadata": {
        "colab": {
          "base_uri": "https://localhost:8080/"
        },
        "id": "zSk42_Cqx9nw",
        "outputId": "3c36ea7c-5608-489d-ef65-1c4734cb3b36"
      },
      "execution_count": null,
      "outputs": [
        {
          "output_type": "stream",
          "name": "stderr",
          "text": [
            "/usr/local/lib/python3.8/dist-packages/torch/cuda/__init__.py:497: UserWarning: Can't initialize NVML\n",
            "  warnings.warn(\"Can't initialize NVML\")\n"
          ]
        }
      ]
    },
    {
      "cell_type": "markdown",
      "source": [
        "* Python `random` Module: This module can be sued to generate random numbers.\n",
        "* Python `re` library: A regular expression (or re) specifies a set of strings that matches it.\n",
        "* `re.sub()`: This function retruns a string where all amtching occurances of the specified pattern are replaced by the replace string."
      ],
      "metadata": {
        "id": "aGVdJLWxtJgW"
      }
    },
    {
      "cell_type": "code",
      "source": [
        "my_string = 'My name is Davood'\n",
        "\n",
        "my_string1 = re.sub('v', 'b', my_string)\n",
        "\n",
        "print(my_string)\n",
        "print(my_string1)"
      ],
      "metadata": {
        "id": "Wgv--QEITilJ",
        "colab": {
          "base_uri": "https://localhost:8080/"
        },
        "outputId": "7fcb91dc-3356-4693-d91a-3ec00bc36b9d"
      },
      "execution_count": null,
      "outputs": [
        {
          "output_type": "stream",
          "name": "stdout",
          "text": [
            "My name is Davood\n",
            "My name is Dabood\n"
          ]
        }
      ]
    },
    {
      "cell_type": "code",
      "source": [
        "class TimeMachine(d2l.DataModule):\n",
        "  def _download(self):\n",
        "    fname = d2l.download(d2l.DATA_URL + 'timemachine.txt', self.root,\n",
        "                         '090b5e7e70c295757f55df93cb0a180b9691891a')\n",
        "    with open(fname) as f:\n",
        "      return f.read()"
      ],
      "metadata": {
        "id": "uulpNtaSxtz4"
      },
      "execution_count": null,
      "outputs": []
    },
    {
      "cell_type": "code",
      "source": [
        "data = TimeMachine()\n",
        "raw_text = data._download()\n",
        "raw_text[:60]"
      ],
      "metadata": {
        "colab": {
          "base_uri": "https://localhost:8080/",
          "height": 53
        },
        "id": "CmkIiRv6yMun",
        "outputId": "b3a79610-f0d8-4a1e-d5eb-97a7d64945af"
      },
      "execution_count": null,
      "outputs": [
        {
          "output_type": "stream",
          "name": "stdout",
          "text": [
            "Downloading ../data/timemachine.txt from http://d2l-data.s3-accelerate.amazonaws.com/timemachine.txt...\n"
          ]
        },
        {
          "output_type": "execute_result",
          "data": {
            "text/plain": [
              "'The Time Machine, by H. G. Wells [1898]\\n\\n\\n\\n\\nI\\n\\n\\nThe Time Tra'"
            ],
            "application/vnd.google.colaboratory.intrinsic+json": {
              "type": "string"
            }
          },
          "metadata": {},
          "execution_count": 6
        }
      ]
    },
    {
      "cell_type": "code",
      "source": [
        "@d2l.add_to_class(TimeMachine)\n",
        "def _preprocess(self, text):\n",
        "  return re.sub('[^A-Za-z]+', ' ', text).lower() # replaces '[^A-Za-z]+' in the text with space."
      ],
      "metadata": {
        "id": "fnbFEhxzyQjX"
      },
      "execution_count": null,
      "outputs": []
    },
    {
      "cell_type": "code",
      "source": [
        "text = data._preprocess(raw_text)\n",
        "text[0:60]"
      ],
      "metadata": {
        "colab": {
          "base_uri": "https://localhost:8080/",
          "height": 36
        },
        "id": "HrmyCSYVyeTX",
        "outputId": "5470da11-d429-4eef-b609-3b354bd0a8fd"
      },
      "execution_count": null,
      "outputs": [
        {
          "output_type": "execute_result",
          "data": {
            "text/plain": [
              "'the time machine by h g wells i the time traveller for so it'"
            ],
            "application/vnd.google.colaboratory.intrinsic+json": {
              "type": "string"
            }
          },
          "metadata": {},
          "execution_count": 9
        }
      ]
    },
    {
      "cell_type": "code",
      "source": [
        "list(text[0:10])  # creates a list of the given string"
      ],
      "metadata": {
        "colab": {
          "base_uri": "https://localhost:8080/"
        },
        "id": "5KjeeTgBylAf",
        "outputId": "6afa5662-80f2-443b-b3b7-7bab103d84b8"
      },
      "execution_count": null,
      "outputs": [
        {
          "output_type": "execute_result",
          "data": {
            "text/plain": [
              "['t', 'h', 'e', ' ', 't', 'i', 'm', 'e', ' ', 'm']"
            ]
          },
          "metadata": {},
          "execution_count": 10
        }
      ]
    },
    {
      "cell_type": "markdown",
      "source": [
        "* Python `join()`: Is an built-in string function in Python used to join elements of the sequence seperated by a string operator."
      ],
      "metadata": {
        "id": "q40PqotZzqfh"
      }
    },
    {
      "cell_type": "code",
      "source": [
        "my_list = ['Davood', 'Soleymanzadeh']\n",
        "\n",
        "' '.join(my_list) # joins the elements in my list seperated by an space"
      ],
      "metadata": {
        "colab": {
          "base_uri": "https://localhost:8080/",
          "height": 36
        },
        "id": "Vs046ZBV0BHf",
        "outputId": "95309a5c-777f-4853-a296-de44f32baa15"
      },
      "execution_count": null,
      "outputs": [
        {
          "output_type": "execute_result",
          "data": {
            "text/plain": [
              "'Davood Soleymanzadeh'"
            ],
            "application/vnd.google.colaboratory.intrinsic+json": {
              "type": "string"
            }
          },
          "metadata": {},
          "execution_count": 11
        }
      ]
    },
    {
      "cell_type": "markdown",
      "source": [
        "#### Nested List in Python\n",
        "* List comprehension is one of the unique features of Python which allows to create lists by iterating over an iteratable object.\n",
        "* Nested list comprehension are list comprehension within another list comprehension which is similar to nested for loops."
      ],
      "metadata": {
        "id": "povVltkS0rah"
      }
    },
    {
      "cell_type": "code",
      "source": [
        "# Flattening a 2-D list\n",
        "\n",
        "my_list = [[1, 2, 3],\n",
        "           [4, 5, 6],\n",
        "           [7, 8, 9]]\n",
        "\n",
        "flatten_list = [val for sublist in my_list for val in sublist]\n",
        "flatten_list"
      ],
      "metadata": {
        "id": "PDDV7Ggy2PEw"
      },
      "execution_count": null,
      "outputs": []
    },
    {
      "cell_type": "code",
      "source": [
        "@d2l.add_to_class(TimeMachine)\n",
        "def _tokenize(self, text):\n",
        "  return list(text)"
      ],
      "metadata": {
        "id": "ZvXWCCMF3EIL"
      },
      "execution_count": null,
      "outputs": []
    },
    {
      "cell_type": "code",
      "source": [
        "tokens = data._tokenize(text)\n",
        "\n",
        "# When tokens is a nested list, the following will flatten the list\n",
        "if tokens and isinstance(tokens[0], list):\n",
        "  tokens = [token for line in tokens for token in line]"
      ],
      "metadata": {
        "id": "q0j8XD5p3K93"
      },
      "execution_count": null,
      "outputs": []
    },
    {
      "cell_type": "markdown",
      "source": [
        "* `Counter()` Class in `collection`s module: A counter is a container that stores elements as **dictionary keys**, and their counts are stored as **dictionary values**.\n"
      ],
      "metadata": {
        "id": "keYjG6iK4PEl"
      }
    },
    {
      "cell_type": "code",
      "source": [
        "import collections\n",
        "\n",
        "my_name = 'Davood Soleymanzadeh'\n",
        "\n",
        "my_counter = collections.Counter(my_name)\n",
        "my_counter"
      ],
      "metadata": {
        "id": "Kpm7L8cu5FAc"
      },
      "execution_count": null,
      "outputs": []
    },
    {
      "cell_type": "code",
      "source": [
        "counter = collections.Counter(tokens)\n",
        "counter"
      ],
      "metadata": {
        "id": "epHt5hBp9tgy"
      },
      "execution_count": null,
      "outputs": []
    },
    {
      "cell_type": "markdown",
      "source": [
        "* Python built-in `sorted()` function: returns a sorted list from the iterable object."
      ],
      "metadata": {
        "id": "M6uAFbcP-ObW"
      }
    },
    {
      "cell_type": "code",
      "source": [
        "my_list = [4, 1, 3, 2]\n",
        "\n",
        "print(sorted(my_list))\n",
        "print(sorted(my_list, reverse=True))"
      ],
      "metadata": {
        "colab": {
          "base_uri": "https://localhost:8080/"
        },
        "id": "A03oTO7p-bCf",
        "outputId": "03dc7163-4973-4125-983b-bd2b280c473d"
      },
      "execution_count": null,
      "outputs": [
        {
          "output_type": "stream",
          "name": "stdout",
          "text": [
            "[1, 2, 3, 4]\n",
            "[4, 3, 2, 1]\n"
          ]
        }
      ]
    },
    {
      "cell_type": "markdown",
      "source": [
        "* The `key(optional)` argument in `sorted()` is a function that would serve as a key or basis for sort comparison."
      ],
      "metadata": {
        "id": "PHA1Tz1S_AWD"
      }
    },
    {
      "cell_type": "code",
      "source": [
        "my_dict = {'Akbar': 35, 'Mohsen': 32, 'Ahmad': 29, 'Davood': 24}\n",
        "\n",
        "print(sorted(my_dict))   # Sorted based on strings\n",
        "print(sorted(my_dict, key=lambda x: x[0])) # sorted based on keys\n",
        "print(sorted(my_dict, key=lambda x: x[1])) # sorted based on values"
      ],
      "metadata": {
        "colab": {
          "base_uri": "https://localhost:8080/"
        },
        "id": "XMNoGOcX_2E_",
        "outputId": "18bdfc52-d0a0-4dd5-ec72-a6db391040a9"
      },
      "execution_count": null,
      "outputs": [
        {
          "output_type": "stream",
          "name": "stdout",
          "text": [
            "['Ahmad', 'Akbar', 'Davood', 'Mohsen']\n",
            "['Akbar', 'Ahmad', 'Davood', 'Mohsen']\n",
            "['Davood', 'Ahmad', 'Akbar', 'Mohsen']\n"
          ]
        }
      ]
    },
    {
      "cell_type": "code",
      "source": [
        "token_freqs = sorted(counter.items(), key=lambda x: x[1],    # sorted based on the values of each character in the string\n",
        "                              reverse=True)\n",
        "token_freqs"
      ],
      "metadata": {
        "id": "Pe8J3aGAA_qR"
      },
      "execution_count": null,
      "outputs": []
    },
    {
      "cell_type": "markdown",
      "source": [
        "* `set()` in Python: A set is an unordered collection data type that is iterable, mutable, and has no duplicate elements. Since sets are unordered, we cannot access items using indexes as we do in lists."
      ],
      "metadata": {
        "id": "jMV5vcmqB4U6"
      }
    },
    {
      "cell_type": "code",
      "source": [
        "set(['<unk>'] + [token for token, freq in token_freqs])"
      ],
      "metadata": {
        "id": "pumPV9zDDLYb"
      },
      "execution_count": null,
      "outputs": []
    },
    {
      "cell_type": "code",
      "source": [
        "idx_to_token = list(sorted(set(['<unk>'] + [token for token, _ in token_freqs])))\n",
        "idx_to_token, len(idx_to_token)"
      ],
      "metadata": {
        "id": "-kCkdJGLDpFm"
      },
      "execution_count": null,
      "outputs": []
    },
    {
      "cell_type": "code",
      "source": [
        "token_to_idx = {token: idx for idx, token in enumerate(idx_to_token)}\n",
        "token_to_idx"
      ],
      "metadata": {
        "id": "ENZh8DupD5nP"
      },
      "execution_count": null,
      "outputs": []
    },
    {
      "cell_type": "markdown",
      "source": [
        "* Python dictionary `get()` method: Returns the value for the given key if present in the dictionary. If not, the it will return a None."
      ],
      "metadata": {
        "id": "z9HsGN03FByh"
      }
    },
    {
      "cell_type": "code",
      "source": [
        "my_dict = {'Akbar': 35, 'Mohsen': 32, 'Ahmad': 29, 'Davood': 24}\n",
        "\n",
        "print(my_dict.get('Davood'))"
      ],
      "metadata": {
        "colab": {
          "base_uri": "https://localhost:8080/"
        },
        "id": "4gvHncalFadg",
        "outputId": "0030e97f-66bd-4b71-da53-81361b0377d3"
      },
      "execution_count": null,
      "outputs": [
        {
          "output_type": "stream",
          "name": "stdout",
          "text": [
            "24\n"
          ]
        }
      ]
    },
    {
      "cell_type": "markdown",
      "source": [
        "* Python `__len__()` magic method: It is basically used to implement the 'len()' function in Python."
      ],
      "metadata": {
        "id": "wqLRZ6cbGvxk"
      }
    },
    {
      "cell_type": "code",
      "source": [
        "class Person:\n",
        "  def __init__(self, name :str, age :int):\n",
        "    self.name = name\n",
        "    self.age = age\n",
        "\n",
        "  def __len__(self):           # whenever len() is called on a Person object, it will return the age!!\n",
        "    return self.age\n",
        "\n",
        "person1 = Person('Davood', 29)\n",
        "len(person1)"
      ],
      "metadata": {
        "colab": {
          "base_uri": "https://localhost:8080/"
        },
        "id": "wWP8u-kjHSrO",
        "outputId": "a95ada45-f4c2-4a74-9243-5dc5e29b1328"
      },
      "execution_count": null,
      "outputs": [
        {
          "output_type": "execute_result",
          "data": {
            "text/plain": [
              "29"
            ]
          },
          "metadata": {},
          "execution_count": 42
        }
      ]
    },
    {
      "cell_type": "markdown",
      "source": [
        "* Python `__getitem__()` in Python: When used in a class, allows its instance to use the [] (indexer) operator."
      ],
      "metadata": {
        "id": "OGI9-QA4Iapm"
      }
    },
    {
      "cell_type": "code",
      "source": [
        "class Student:\n",
        "  def __init__(self, name :str, scores=None):\n",
        "    self.name = name\n",
        "    self.scores = scores\n",
        "\n",
        "  def __getitem__(self, key):\n",
        "    return self.scores[key]\n",
        "\n",
        "student1 = Student('Davood', [100, 90, 85])\n",
        "print(student1[0])\n",
        "print(student1[1])\n",
        "print(student1[2])"
      ],
      "metadata": {
        "id": "aPYWS325JCae"
      },
      "execution_count": null,
      "outputs": []
    },
    {
      "cell_type": "markdown",
      "source": [
        "* Python string `split()` method: split a string into a list of strings after breaking the given string by the specified seperator."
      ],
      "metadata": {
        "id": "_sVrcA5TQL8V"
      }
    },
    {
      "cell_type": "code",
      "source": [
        "my_string = 'Davood Soleymanzadeh'\n",
        "\n",
        "my_list = my_string.split()\n",
        "my_list[1:], my_list[:-1]"
      ],
      "metadata": {
        "id": "wzjh_WGmQf1M",
        "outputId": "eb181240-0995-4b48-e18b-03485acb619d",
        "colab": {
          "base_uri": "https://localhost:8080/"
        }
      },
      "execution_count": null,
      "outputs": [
        {
          "output_type": "execute_result",
          "data": {
            "text/plain": [
              "(['Soleymanzadeh'], ['Davood'])"
            ]
          },
          "metadata": {},
          "execution_count": 59
        }
      ]
    },
    {
      "cell_type": "code",
      "source": [
        "words = text.split() # creates a list of each word "
      ],
      "metadata": {
        "id": "hhabqLMEOyjZ"
      },
      "execution_count": null,
      "outputs": []
    },
    {
      "cell_type": "code",
      "source": [
        "bigram_tokens = ['--'.join(pair) for pair in zip(words[:-1], words[1:])]  # This will join words that are next to each other.\n"
      ],
      "metadata": {
        "id": "3EtZ3q2pSM8w"
      },
      "execution_count": null,
      "outputs": []
    },
    {
      "cell_type": "markdown",
      "source": [
        "## 9.3 Language Models"
      ],
      "metadata": {
        "id": "Jequ-9B9pmSC"
      }
    },
    {
      "cell_type": "markdown",
      "source": [
        "### Understanding Slicing\n",
        "\n",
        "* `a[start:stop]`: Items start through stop -1.\n",
        "* `a[start:]`: Items start through the rest of the array.\n",
        "* `a[:stop]`: Items from the beginning through step -1.\n",
        "* `a[:]`: A copy of the whole array.\n",
        "* `a[start:stop:step]`: Start through not past stop, by step. step can be a negative number.\n",
        "\n",
        "* `a[-1]`: Last item in the array.\n",
        "* `a[-2:]`: last two items in the array.\n",
        "* `[a:-2]`: Everything except the last two items.\n",
        "* `a[::-1]`: All items in the array, reversed.\n",
        "* `a[1::-1]`: The first two items reversed.\n",
        "* `a[:-3:-1]`: The last two items reversed.\n",
        "* `a[-3::-1]`: Everything expect the last two items."
      ],
      "metadata": {
        "id": "JzKy68x4rWLw"
      }
    },
    {
      "cell_type": "markdown",
      "source": [
        "A slice object can represent a slicing operation.\n",
        "\n",
        "* `a[slice(start, stop, step)]` is equivalent to `a[start, stop, step].` "
      ],
      "metadata": {
        "id": "Gpcrk99zy6R5"
      }
    },
    {
      "cell_type": "code",
      "source": [
        "num_train = 10\n",
        "\n",
        "idx = slice(0, num_train)\n",
        "idx"
      ],
      "metadata": {
        "colab": {
          "base_uri": "https://localhost:8080/"
        },
        "id": "oX4d_e3PppE4",
        "outputId": "36da4c70-4add-4dfc-ba70-a44f3edaa3da"
      },
      "execution_count": null,
      "outputs": [
        {
          "output_type": "execute_result",
          "data": {
            "text/plain": [
              "slice(0, 10, None)"
            ]
          },
          "metadata": {},
          "execution_count": 2
        }
      ]
    },
    {
      "cell_type": "code",
      "source": [
        "num_val = 5\n",
        "\n",
        "idx1 = slice(num_train, num_train + num_val)\n",
        "idx1"
      ],
      "metadata": {
        "colab": {
          "base_uri": "https://localhost:8080/"
        },
        "id": "rxqpmQVTqeX-",
        "outputId": "96ea0e07-af37-4193-b372-0d8d4bb636ee"
      },
      "execution_count": null,
      "outputs": [
        {
          "output_type": "execute_result",
          "data": {
            "text/plain": [
              "slice(10, 15, None)"
            ]
          },
          "metadata": {},
          "execution_count": 4
        }
      ]
    },
    {
      "cell_type": "markdown",
      "source": [
        "## 9.4 Recurrent Neural Networks"
      ],
      "metadata": {
        "id": "LlE6VwNuQOGp"
      }
    },
    {
      "cell_type": "markdown",
      "source": [
        "* `torch.randn(size)`: Returns a tensor filled with random numbers from a normal distribution with mean zero and variance 1.\n",
        "* `torch.normal(mean, std)`: Returns a tensor of random numbers drawn from separate normal distributions whose mean and standard deviation are given."
      ],
      "metadata": {
        "id": "zoSanDRhQq0n"
      }
    },
    {
      "cell_type": "code",
      "source": [
        "import torch\n",
        "\n",
        "X = torch.randn(size=(2, 2)) # mean =0, std = 1\n",
        "X"
      ],
      "metadata": {
        "colab": {
          "base_uri": "https://localhost:8080/"
        },
        "id": "m3fqQOilR0PO",
        "outputId": "41237c7c-ce74-4bd9-ba6b-1641b54bd9ad"
      },
      "execution_count": null,
      "outputs": [
        {
          "output_type": "execute_result",
          "data": {
            "text/plain": [
              "tensor([[ 0.3658,  0.9451],\n",
              "        [-1.1638,  2.0283]])"
            ]
          },
          "metadata": {},
          "execution_count": 3
        }
      ]
    },
    {
      "cell_type": "code",
      "source": [
        "X = torch.normal(mean=0.5, std=torch.arange(1., 6.))\n",
        "X"
      ],
      "metadata": {
        "colab": {
          "base_uri": "https://localhost:8080/"
        },
        "id": "DwzU6cqMSORX",
        "outputId": "eb018f1b-83c4-45ae-f669-1e5a2ba9c93f"
      },
      "execution_count": null,
      "outputs": [
        {
          "output_type": "execute_result",
          "data": {
            "text/plain": [
              "tensor([ 1.0615,  1.1878, -4.8348, -2.1433,  1.8138])"
            ]
          },
          "metadata": {},
          "execution_count": 4
        }
      ]
    },
    {
      "cell_type": "code",
      "source": [
        "X = torch.normal(mean=2, std=3, size=(2, 2))\n",
        "X"
      ],
      "metadata": {
        "colab": {
          "base_uri": "https://localhost:8080/"
        },
        "id": "_0Dvc_f3SiKg",
        "outputId": "1b785186-801f-4231-9769-7e88e4ab8a4a"
      },
      "execution_count": null,
      "outputs": [
        {
          "output_type": "execute_result",
          "data": {
            "text/plain": [
              "tensor([[-1.2760,  5.7879],\n",
              "        [ 1.1504,  3.7919]])"
            ]
          },
          "metadata": {},
          "execution_count": 6
        }
      ]
    },
    {
      "cell_type": "markdown",
      "source": [
        "* `torch.cat(tensors, dim)`: Concatenates the given sequence of tensors in the given dimension. All tensors must either have the same shape (except in the concatenating dimension) or be empty.\n",
        "* `torch.stack(tensors, dim)`: Concatenates a sequence of tensors along a new dimension."
      ],
      "metadata": {
        "id": "xlPwjdcsTm77"
      }
    },
    {
      "cell_type": "code",
      "source": [
        "X = torch.randn(4, 3)\n",
        "Y = torch.randn(4, 1)\n",
        "\n",
        "Z = torch.cat((X, Y), dim=1) # dim=0 along rows, dim=1 along columns\n",
        "# Z = torch.stack((X, Y), dim=1)   # Tensors should be of equal size.\n",
        "Z, Z.shape"
      ],
      "metadata": {
        "colab": {
          "base_uri": "https://localhost:8080/"
        },
        "id": "EnMCi2leUu55",
        "outputId": "dde2a9f3-bc2b-4af0-a6e6-b3ffec932176"
      },
      "execution_count": null,
      "outputs": [
        {
          "output_type": "execute_result",
          "data": {
            "text/plain": [
              "(tensor([[-1.6073,  0.5850,  1.5860, -1.2851],\n",
              "         [-0.6883, -0.5976,  0.1381,  1.4761],\n",
              "         [-0.5060,  1.5860, -0.0240, -0.0226],\n",
              "         [-1.3699, -0.7667, -0.0681, -0.7348]]), torch.Size([4, 4]))"
            ]
          },
          "metadata": {},
          "execution_count": 13
        }
      ]
    },
    {
      "cell_type": "code",
      "source": [
        "X = torch.randn(4, 3)\n",
        "Y = torch.randn(4, 3)\n",
        "\n",
        "Z = torch.stack((X, Y), dim=0)  # along rows\n",
        "Z1 = torch.stack((X, Y), dim=1) # along columns\n",
        "\n",
        "Z.shape, Z1.shape"
      ],
      "metadata": {
        "colab": {
          "base_uri": "https://localhost:8080/"
        },
        "id": "7d8BrTYWVS7X",
        "outputId": "3d9325bf-cda6-451e-810b-a35a53508163"
      },
      "execution_count": null,
      "outputs": [
        {
          "output_type": "execute_result",
          "data": {
            "text/plain": [
              "(torch.Size([2, 4, 3]), torch.Size([4, 2, 3]))"
            ]
          },
          "metadata": {},
          "execution_count": 12
        }
      ]
    },
    {
      "cell_type": "markdown",
      "source": [
        "## 9.5 Recurrent Neural Network Implementation from Scratch"
      ],
      "metadata": {
        "id": "-vRcVtEtmpvi"
      }
    },
    {
      "cell_type": "code",
      "source": [
        "# for loop over multi-dimensional PyTorch Tensors\n",
        "\n",
        "X = torch.tensor([[1, 2, 3],\n",
        "                  [4, 5, 6],\n",
        "                  [7, 8, 9]])\n",
        "\n",
        "for x in X:      # loops over the first index of the tensor (rows)\n",
        "  print(x)"
      ],
      "metadata": {
        "colab": {
          "base_uri": "https://localhost:8080/"
        },
        "id": "WzrtOpc2mysA",
        "outputId": "5fcd98d2-30b6-4d2f-b106-94659876ff2e"
      },
      "execution_count": null,
      "outputs": [
        {
          "output_type": "stream",
          "name": "stdout",
          "text": [
            "tensor([1, 2, 3])\n",
            "tensor([4, 5, 6])\n",
            "tensor([7, 8, 9])\n"
          ]
        }
      ]
    },
    {
      "cell_type": "markdown",
      "source": [
        "* Python built-in `math` module: This module provides access to the mathematical functions defined by C standard.\n",
        "* `torch.nn.functional.one_hot(tensor, num_classes = -1 (int))`: Takes LongTensor with index values of shape `*` and retuns a tensor of shape (`*`, `num_classes`) that have zero everywhere except where the index of last dimension matches the corresponding value of the input tensor, in which case it will be 1. If `num_classes` set to -1, the number of classes will be inferred as one greater than the largest class value in the input tensor."
      ],
      "metadata": {
        "id": "pUgeUw4z2vIr"
      }
    },
    {
      "cell_type": "code",
      "source": [
        "from torch.nn import functional as F\n",
        "\n",
        "X1 = F.one_hot(torch.tensor([1, 2]))\n",
        "X2 = F.one_hot(torch.tensor([0, 2]), num_classes=5)\n",
        "\n",
        "X1, X2"
      ],
      "metadata": {
        "id": "YK51wW3B-3y-",
        "outputId": "0f0c3b0e-ad6c-4c88-c7ba-e935fcd05423",
        "colab": {
          "base_uri": "https://localhost:8080/"
        }
      },
      "execution_count": null,
      "outputs": [
        {
          "output_type": "execute_result",
          "data": {
            "text/plain": [
              "(tensor([[0, 1, 0],\n",
              "         [0, 0, 1]]), tensor([[1, 0, 0, 0, 0],\n",
              "         [0, 0, 1, 0, 0]]))"
            ]
          },
          "metadata": {},
          "execution_count": 22
        }
      ]
    },
    {
      "cell_type": "code",
      "source": [
        "my_tensor = torch.tensor([[1, 2],\n",
        "                          [3, 1]])\n",
        "X3 = F.one_hot(my_tensor)\n",
        "\n",
        "X3"
      ],
      "metadata": {
        "id": "BvgioUVhBelc",
        "outputId": "9558aa2a-58e7-4b0c-a487-3d215dee19f3",
        "colab": {
          "base_uri": "https://localhost:8080/"
        }
      },
      "execution_count": null,
      "outputs": [
        {
          "output_type": "execute_result",
          "data": {
            "text/plain": [
              "tensor([[[0, 1, 0, 0],\n",
              "         [0, 0, 1, 0]],\n",
              "\n",
              "        [[0, 0, 0, 1],\n",
              "         [0, 1, 0, 0]]])"
            ]
          },
          "metadata": {},
          "execution_count": 25
        }
      ]
    },
    {
      "cell_type": "markdown",
      "source": [
        "## 9.6 Concise Implementation of Recurrent Neural Networks"
      ],
      "metadata": {
        "id": "F0NosNit0sFc"
      }
    },
    {
      "cell_type": "markdown",
      "source": [
        "* Class `torch.nn.RNN(input_size, hidden_state)`: Applies a multi-layer Elman RNN with *tanh* or *ReLU* non-linearity to an input sequence.\n",
        "* `input_size`: The number of expected features in the input, x.\n",
        "* `hidden_size`: The number of features in the hidden state, h.\n",
        "* `batch_first`: If `True`, then the input and output tensors are provided as (*batch, seq, feature*) instead of (*seq, batch, feature*). Default: `False`."
      ],
      "metadata": {
        "id": "R1tvYEP-0ybL"
      }
    },
    {
      "cell_type": "code",
      "source": [
        "import torch\n",
        "from torch import nn\n",
        "\n",
        "rnn = nn.RNN(input_size=10, hidden_size=20)"
      ],
      "metadata": {
        "id": "vu-B6O6V3JFq"
      },
      "execution_count": null,
      "outputs": []
    },
    {
      "cell_type": "markdown",
      "source": [
        "* Inputs: `input`, `h_0`:\n",
        "* `input`: Tensor of shape ($L, H_{in}$) for unbatched input, ($L, N, H_{in}$) when `batch_first=False` or ($N, L, H_{in}$) when `batch_first=True` containing the features of the input sequence. $N$ is batch size, $L$ is sequence length, and $H_{in}$ is input size.\n",
        "* `h_0`: Tensor of shape ($D$ * `num_layers`, $H_{out}$) for unbatched input, or ($D$ * `num_layers`, $N$, $H_{out}$), containing the initial hidden state for the input sequence batch. Default to zero if not provided. $D = 2$ if `bidirectional = True`, otherwise 1, and $H_{out}$ is `hidden_size`"
      ],
      "metadata": {
        "id": "WJ_HsasV3ySE"
      }
    },
    {
      "cell_type": "code",
      "source": [
        "input = torch.randn(5, 3, 10) # sequence length * batch_size, input_size\n",
        "h0 = torch.randn(1, 3, 20)    # D * num_layers * batch_size, hidden_size."
      ],
      "metadata": {
        "id": "DSTZd3dzAED6"
      },
      "execution_count": null,
      "outputs": []
    },
    {
      "cell_type": "markdown",
      "source": [
        "* Outputs: `output`, `h_n`\n",
        "* `output`: Tensor of shape ($L$, $D$ * $H_{out}$) for unbatched input, ($L$, $N$, $D$ * $H_{out}$) when `batch_first=False` or ($N$, $L$, $D$ * $H_{out}$) when `batch_first=True`, containing the output features (`h_t`) from  the last layer of the RNN for each t.\n",
        "* `h_n`: Tensor of shape ($D$ * *num_layers*, $H_{out}$) for unbatched input, or ($D$ * *num_layers*, $N$, $H_{out}$), containing final hidden state for each element in the batch."
      ],
      "metadata": {
        "id": "8W1hoAhMCDA2"
      }
    },
    {
      "cell_type": "code",
      "source": [
        "output, h_n = rnn(input, h0)\n",
        "print(output.shape)         # Sequence length * batch_size, hidden_size\n",
        "print('*****************')\n",
        "print(h_n.shape)           # Num_layers * batch_size * hidden_size"
      ],
      "metadata": {
        "colab": {
          "base_uri": "https://localhost:8080/"
        },
        "id": "mAVSje1vECFX",
        "outputId": "ab512792-d089-4d10-857c-21b5dd5facfc"
      },
      "execution_count": null,
      "outputs": [
        {
          "output_type": "stream",
          "name": "stdout",
          "text": [
            "torch.Size([5, 3, 20])\n",
            "*****************\n",
            "torch.Size([1, 3, 20])\n"
          ]
        }
      ]
    },
    {
      "cell_type": "markdown",
      "source": [
        "* `torch.swapaxes(input)`: Alias for `torch.transpose()`. This function is equivalent to NumPy's swapaxes function."
      ],
      "metadata": {
        "id": "EAGaOHEtFsJu"
      }
    },
    {
      "cell_type": "code",
      "source": [
        "input = torch.tensor([[1, 2],\n",
        "                      [3, 4]])\n",
        "output = torch.swapaxes(input, 0, 1)\n",
        "\n",
        "print(input)\n",
        "print('****************')\n",
        "print(output)\n",
        "print('****************')\n",
        "print(torch.transpose(input, 0, 1) == output)"
      ],
      "metadata": {
        "id": "HTmERYoAF83E",
        "outputId": "bde657ef-760f-4752-a9fc-1eb1eee5e435",
        "colab": {
          "base_uri": "https://localhost:8080/"
        }
      },
      "execution_count": null,
      "outputs": [
        {
          "output_type": "stream",
          "name": "stdout",
          "text": [
            "tensor([[1, 2],\n",
            "        [3, 4]])\n",
            "****************\n",
            "tensor([[1, 3],\n",
            "        [2, 4]])\n",
            "****************\n",
            "tensor([[True, True],\n",
            "        [True, True]])\n"
          ]
        }
      ]
    },
    {
      "cell_type": "code",
      "source": [
        "input.swapaxes(0,1)"
      ],
      "metadata": {
        "id": "4T4bS49SG3v7",
        "outputId": "a9301cf7-cae9-4225-dbf0-c667b8158944",
        "colab": {
          "base_uri": "https://localhost:8080/"
        }
      },
      "execution_count": null,
      "outputs": [
        {
          "output_type": "execute_result",
          "data": {
            "text/plain": [
              "tensor([[1, 3],\n",
              "        [2, 4]])"
            ]
          },
          "metadata": {},
          "execution_count": 16
        }
      ]
    }
  ]
}