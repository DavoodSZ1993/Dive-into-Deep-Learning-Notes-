{
  "nbformat": 4,
  "nbformat_minor": 0,
  "metadata": {
    "colab": {
      "provenance": [],
      "authorship_tag": "ABX9TyMIp1x2U0jeXEPu5xluH2G6",
      "include_colab_link": true
    },
    "kernelspec": {
      "name": "python3",
      "display_name": "Python 3"
    },
    "language_info": {
      "name": "python"
    }
  },
  "cells": [
    {
      "cell_type": "markdown",
      "metadata": {
        "id": "view-in-github",
        "colab_type": "text"
      },
      "source": [
        "<a href=\"https://colab.research.google.com/github/DavoodSZ1993/Dive-into-Deep-Learning-Notes-/blob/main/10_5_machine_translation_notes.ipynb\" target=\"_parent\"><img src=\"https://colab.research.google.com/assets/colab-badge.svg\" alt=\"Open In Colab\"/></a>"
      ]
    },
    {
      "cell_type": "code",
      "execution_count": 1,
      "metadata": {
        "id": "RGf4HzD4da_3",
        "colab": {
          "base_uri": "https://localhost:8080/"
        },
        "outputId": "666d60f3-d759-456c-aed9-9d9b671662c9"
      },
      "outputs": [
        {
          "output_type": "stream",
          "name": "stdout",
          "text": [
            "\u001b[2K     \u001b[90m━━━━━━━━━━━━━━━━━━━━━━━━━━━━━━━━━━━━━━━━\u001b[0m \u001b[32m93.0/93.0 KB\u001b[0m \u001b[31m2.7 MB/s\u001b[0m eta \u001b[36m0:00:00\u001b[0m\n",
            "\u001b[2K     \u001b[90m━━━━━━━━━━━━━━━━━━━━━━━━━━━━━━━━━━━━━━━\u001b[0m \u001b[32m121.0/121.0 KB\u001b[0m \u001b[31m6.2 MB/s\u001b[0m eta \u001b[36m0:00:00\u001b[0m\n",
            "\u001b[2K     \u001b[90m━━━━━━━━━━━━━━━━━━━━━━━━━━━━━━━━━━━━━━━━\u001b[0m \u001b[32m83.6/83.6 KB\u001b[0m \u001b[31m4.9 MB/s\u001b[0m eta \u001b[36m0:00:00\u001b[0m\n",
            "\u001b[2K     \u001b[90m━━━━━━━━━━━━━━━━━━━━━━━━━━━━━━━━━━━━━━━━\u001b[0m \u001b[32m1.6/1.6 MB\u001b[0m \u001b[31m26.4 MB/s\u001b[0m eta \u001b[36m0:00:00\u001b[0m\n",
            "\u001b[?25h"
          ]
        }
      ],
      "source": [
        "!pip install d2l==1.0.0-alpha1.post0 --quiet"
      ]
    },
    {
      "cell_type": "markdown",
      "source": [
        "## 10.5 Machine Translation and the Dataset"
      ],
      "metadata": {
        "id": "nHhxfErddlYB"
      }
    },
    {
      "cell_type": "markdown",
      "source": [
        "### Python `open()` Function\n",
        "\n",
        "The `open()` function opens a file and returns it as a file object. With this file object, we can create, update, read, and delete files."
      ],
      "metadata": {
        "id": "nvS575gPeKGE"
      }
    },
    {
      "cell_type": "markdown",
      "source": [
        "#### Create File\n",
        "We can create a file with `open()` function with the following options:\n",
        "\n",
        "* \"x\" - **create**: will create a new file if and only if no file already exists with the same name oe else if will return an error. \n",
        "* \"w\" - **write**: This command will create a new text file whether or not there is a file in the memory with the new specified name."
      ],
      "metadata": {
        "id": "wTs3EMofjLU4"
      }
    },
    {
      "cell_type": "code",
      "source": [
        "file = open(\"myfile.txt\", \"w\")\n",
        "\n",
        "file.write(\"Hello world!\\n\")\n",
        "\n",
        "file.close()"
      ],
      "metadata": {
        "id": "geLBbU0GdsRd"
      },
      "execution_count": 4,
      "outputs": []
    },
    {
      "cell_type": "markdown",
      "source": [
        "#### `mode` argument in `open()`:\n",
        "* `'r'` - **Read (default)**: Open a file for read only.\n",
        "* `'w'` - **Write**: Open a file for write only (over-write).\n",
        "* `'a'` - **Append**: Open a file for write only (append).\n",
        "* `'r+'`- **Read + Write**: Open a file for both reading and writing.\n",
        "* `'x'` - **Create**: Create a new file.\n",
        "\n",
        "We can also specify how the file should be handled:\n",
        "\n",
        "* `'t'` - **Text (default)**: Read and write strings from and to the file.\n",
        "* `'b'` - **Binary**: Read and write bytes objects from and to the file. This mode is used for all files that don't contain text (e.g. images)."
      ],
      "metadata": {
        "id": "01uGqJdlmQog"
      }
    },
    {
      "cell_type": "markdown",
      "source": [
        "#### `encoding` argument in `open()`:\n",
        "We can decode or encode the file in popular encoding like `'ascii'` and `'UTF-8'`, etc.\n",
        "\n",
        "Generally, it is very important to know how strings work in Python. Strings are usually easy to deal with when they are made of English ASCII characters, but problems appear when we enter into non-ASCII characters.\n",
        "\n",
        "At first, all uppercase and lowercase English characters, some punctuations, and digits were all encoded into a sybmol list called ASCII. 7 bites of information or 1 byte is enough to encode every English character. However, it was slowley realized that there are way more number of characters than just English characters. So, an international standard was required to deal with hundreds and thousands of non-English characters.\n",
        "\n",
        "**Unicode** is the international standard where a mapping of individual characters and a unique number is maintained. All the characters (137k) are each represented by a **unicode code point**. 3 of the most popular encoding standards defined by Unicode are UTF-8, UTF-16, and UTF-32.\n",
        "\n",
        "**UTF-8**: it uses **1, 2, 3, or 4 bytes** to encode every code point. It is backward compatible with ASCII. All English characters just need 1 byte which is quite efficient. We only need more bytes if we are sending non-English characters. **UTF-8** is by default the encoding in Python 3."
      ],
      "metadata": {
        "id": "3xnBr4v7pkVJ"
      }
    },
    {
      "cell_type": "markdown",
      "source": [
        "* Unicode character 'Narrow No-Break Space' (U+202F): Python source code `u\"\\u202f\"`.\n",
        "* `\\xa0` means unicode codepoint #160 (No-Break Space).\n",
        "* Python string `replace()` method: This method replaces a spcified phrase with another specified phrase."
      ],
      "metadata": {
        "id": "msv5GpAf8Q94"
      }
    },
    {
      "cell_type": "code",
      "source": [
        "txt = \"My name is davood.\"\n",
        "\n",
        "txt.replace(\"davood\", \"Ali\")\n",
        "print(txt)"
      ],
      "metadata": {
        "colab": {
          "base_uri": "https://localhost:8080/"
        },
        "id": "ttx3plIt9u3J",
        "outputId": "ccc22ae9-90b2-4abb-93c1-4b9faeb02194"
      },
      "execution_count": 5,
      "outputs": [
        {
          "output_type": "stream",
          "name": "stdout",
          "text": [
            "My name is davood.\n"
          ]
        }
      ]
    },
    {
      "cell_type": "markdown",
      "source": [
        "* Python string `join()` method: This method takes all the items in an iterable and joins them into one string."
      ],
      "metadata": {
        "id": "sx3OsDse-0qg"
      }
    },
    {
      "cell_type": "code",
      "source": [
        "my_tuple = (\"Davood\", \"Soleymanzadeh\")\n",
        "\n",
        "txt = ' '.join(my_tuple)\n",
        "print(txt)"
      ],
      "metadata": {
        "colab": {
          "base_uri": "https://localhost:8080/"
        },
        "id": "ZsPAjryE_TSF",
        "outputId": "e8f45803-cc77-41b9-ff0f-815ae6eb0195"
      },
      "execution_count": 6,
      "outputs": [
        {
          "output_type": "stream",
          "name": "stdout",
          "text": [
            "Davood Soleymanzadeh\n"
          ]
        }
      ]
    },
    {
      "cell_type": "markdown",
      "source": [
        "* Python string `split()` method: Splits a a string into a list.\n",
        "* `\\n` in Python: This is a type of scape character that will create a new line when used.\n",
        "* `\\t`: This represents a space in python. It allows to insert white space or tab between strings in a code."
      ],
      "metadata": {
        "id": "ZItbiPjSEfUY"
      }
    },
    {
      "cell_type": "code",
      "source": [
        "txt = 'My\\tname\\tis\\tDavood\\tSoleymanzadeh'\n",
        "\n",
        "my_list = txt.split('\\t')\n",
        "my_list "
      ],
      "metadata": {
        "colab": {
          "base_uri": "https://localhost:8080/"
        },
        "id": "TO__v3ZeF3EN",
        "outputId": "1dc3f991-6414-4474-a62f-ebd3b1bc4a92"
      },
      "execution_count": 10,
      "outputs": [
        {
          "output_type": "execute_result",
          "data": {
            "text/plain": [
              "['My', 'name', 'is', 'Davood', 'Soleymanzadeh']"
            ]
          },
          "metadata": {},
          "execution_count": 10
        }
      ]
    },
    {
      "cell_type": "markdown",
      "source": [
        "### Histograms in `matplotlib` Library\n",
        "\n",
        "* `n, bins, patches = matplotlib.pyplot.hist(x)`: Compute and plot a histogram.\n",
        "\n",
        "**Parameters:**\n",
        "\n",
        "1. **x: (n,) array or sequence of (n,) arrays**: input values, this takes either a single array or a sequence of arrays which are not required to be of the same length.\n",
        "\n",
        "**Returns:**\n",
        "\n",
        "1. **n**: Is the number of counts in each bin of the histogram.\n",
        "2. **bins**: Is the left hand edge of each bin.\n",
        "3. **patches**: Is the individual patches used to create the histogram, e.g. a collection of rectangles. The patches can be used to change the properties of individual bars."
      ],
      "metadata": {
        "id": "JdqbF3mFKfWi"
      }
    },
    {
      "cell_type": "code",
      "source": [
        "%matplotlib inline\n",
        "import numpy as np\n",
        "import matplotlib.pyplot as plt\n",
        "\n",
        "x = np.random.normal(size=100)\n",
        "n, bins, patches = plt.hist(x)\n",
        "patches[0].set_hatch('/')\n",
        "\n",
        "print('Counts in each bean:', n)\n",
        "print('Left hand edge of each bin: ', bins)\n"
      ],
      "metadata": {
        "id": "zbG2OTPAOqne",
        "outputId": "2743f891-a8ce-4482-abae-0a6d207abbb3",
        "colab": {
          "base_uri": "https://localhost:8080/",
          "height": 334
        }
      },
      "execution_count": 18,
      "outputs": [
        {
          "output_type": "stream",
          "name": "stdout",
          "text": [
            "Counts in each bean: [ 3. 10. 12. 20. 14. 16.  9. 13.  2.  1.]\n",
            "Left hand edge of each bin:  [-1.55093968e+00 -1.16319139e+00 -7.75443110e-01 -3.87694827e-01\n",
            "  5.34572870e-05  3.87801741e-01  7.75550025e-01  1.16329831e+00\n",
            "  1.55104659e+00  1.93879488e+00  2.32654316e+00]\n"
          ]
        },
        {
          "output_type": "display_data",
          "data": {
            "text/plain": [
              "<Figure size 432x288 with 1 Axes>"
            ],
            "image/png": "[encoded data removed]"
          },
          "metadata": {
            "needs_background": "light"
          }
        }
      ]
    }
  ]
}