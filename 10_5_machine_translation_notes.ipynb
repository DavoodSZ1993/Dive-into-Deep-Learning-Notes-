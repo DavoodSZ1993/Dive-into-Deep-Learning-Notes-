{
  "nbformat": 4,
  "nbformat_minor": 0,
  "metadata": {
    "colab": {
      "provenance": [],
      "authorship_tag": "ABX9TyOS2dpCpbGJfRvWaSShcZnw",
      "include_colab_link": true
    },
    "kernelspec": {
      "name": "python3",
      "display_name": "Python 3"
    },
    "language_info": {
      "name": "python"
    }
  },
  "cells": [
    {
      "cell_type": "markdown",
      "metadata": {
        "id": "view-in-github",
        "colab_type": "text"
      },
      "source": [
        "<a href=\"https://colab.research.google.com/github/DavoodSZ1993/Dive-into-Deep-Learning-Notes-/blob/main/10_5_machine_translation_notes.ipynb\" target=\"_parent\"><img src=\"https://colab.research.google.com/assets/colab-badge.svg\" alt=\"Open In Colab\"/></a>"
      ]
    },
    {
      "cell_type": "code",
      "execution_count": null,
      "metadata": {
        "id": "RGf4HzD4da_3"
      },
      "outputs": [],
      "source": [
        "!pip install d2l==1.0.0-alpha1.post0 --quiet"
      ]
    },
    {
      "cell_type": "markdown",
      "source": [
        "## 10.5 Machine Translation and the Dataset"
      ],
      "metadata": {
        "id": "nHhxfErddlYB"
      }
    },
    {
      "cell_type": "markdown",
      "source": [
        "### Python `open()` Function\n",
        "\n",
        "The `open()` function opens a file and returns it as a file object. With this file object, we can create, update, read, and delete files."
      ],
      "metadata": {
        "id": "nvS575gPeKGE"
      }
    },
    {
      "cell_type": "code",
      "source": [],
      "metadata": {
        "id": "geLBbU0GdsRd"
      },
      "execution_count": null,
      "outputs": []
    }
  ]
}