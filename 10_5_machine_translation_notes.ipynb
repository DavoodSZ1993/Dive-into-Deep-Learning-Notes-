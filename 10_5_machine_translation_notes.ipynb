{
  "nbformat": 4,
  "nbformat_minor": 0,
  "metadata": {
    "colab": {
      "provenance": [],
      "authorship_tag": "ABX9TyM/y0Wz5QcOlXgPe5wGcy8k",
      "include_colab_link": true
    },
    "kernelspec": {
      "name": "python3",
      "display_name": "Python 3"
    },
    "language_info": {
      "name": "python"
    }
  },
  "cells": [
    {
      "cell_type": "markdown",
      "metadata": {
        "id": "view-in-github",
        "colab_type": "text"
      },
      "source": [
        "<a href=\"https://colab.research.google.com/github/DavoodSZ1993/Dive-into-Deep-Learning-Notes-/blob/main/10_5_machine_translation_notes.ipynb\" target=\"_parent\"><img src=\"https://colab.research.google.com/assets/colab-badge.svg\" alt=\"Open In Colab\"/></a>"
      ]
    },
    {
      "cell_type": "code",
      "execution_count": 1,
      "metadata": {
        "id": "RGf4HzD4da_3",
        "colab": {
          "base_uri": "https://localhost:8080/"
        },
        "outputId": "666d60f3-d759-456c-aed9-9d9b671662c9"
      },
      "outputs": [
        {
          "output_type": "stream",
          "name": "stdout",
          "text": [
            "\u001b[2K     \u001b[90m━━━━━━━━━━━━━━━━━━━━━━━━━━━━━━━━━━━━━━━━\u001b[0m \u001b[32m93.0/93.0 KB\u001b[0m \u001b[31m2.7 MB/s\u001b[0m eta \u001b[36m0:00:00\u001b[0m\n",
            "\u001b[2K     \u001b[90m━━━━━━━━━━━━━━━━━━━━━━━━━━━━━━━━━━━━━━━\u001b[0m \u001b[32m121.0/121.0 KB\u001b[0m \u001b[31m6.2 MB/s\u001b[0m eta \u001b[36m0:00:00\u001b[0m\n",
            "\u001b[2K     \u001b[90m━━━━━━━━━━━━━━━━━━━━━━━━━━━━━━━━━━━━━━━━\u001b[0m \u001b[32m83.6/83.6 KB\u001b[0m \u001b[31m4.9 MB/s\u001b[0m eta \u001b[36m0:00:00\u001b[0m\n",
            "\u001b[2K     \u001b[90m━━━━━━━━━━━━━━━━━━━━━━━━━━━━━━━━━━━━━━━━\u001b[0m \u001b[32m1.6/1.6 MB\u001b[0m \u001b[31m26.4 MB/s\u001b[0m eta \u001b[36m0:00:00\u001b[0m\n",
            "\u001b[?25h"
          ]
        }
      ],
      "source": [
        "!pip install d2l==1.0.0-alpha1.post0 --quiet"
      ]
    },
    {
      "cell_type": "markdown",
      "source": [
        "## 10.5 Machine Translation and the Dataset"
      ],
      "metadata": {
        "id": "nHhxfErddlYB"
      }
    },
    {
      "cell_type": "markdown",
      "source": [
        "### Python `open()` Function\n",
        "\n",
        "The `open()` function opens a file and returns it as a file object. With this file object, we can create, update, read, and delete files."
      ],
      "metadata": {
        "id": "nvS575gPeKGE"
      }
    },
    {
      "cell_type": "markdown",
      "source": [
        "#### Create File\n",
        "We can create a file with `open()` function with the following options:\n",
        "\n",
        "* \"x\" - **create**: will create a new file if and only if no file already exists with the same name oe else if will return an error. \n",
        "* \"w\" - **write**: This command will create a new text file whether or not there is a file in the memory with the new specified name."
      ],
      "metadata": {
        "id": "wTs3EMofjLU4"
      }
    },
    {
      "cell_type": "code",
      "source": [
        "file = open(\"myfile.txt\", \"w\")\n",
        "\n",
        "file.write(\"Hello world!\\n\")\n",
        "\n",
        "file.close()"
      ],
      "metadata": {
        "id": "geLBbU0GdsRd"
      },
      "execution_count": 4,
      "outputs": []
    },
    {
      "cell_type": "markdown",
      "source": [
        "#### `mode` argument in `open()`:\n",
        "* `'r'` - **Read (default)**: Open a file for read only.\n",
        "* `'w'` - **Write**: Open a file for write only (over-write).\n",
        "* `'a'` - **Append**: Open a file for write only (append).\n",
        "* `'r+'`- **Read + Write**: Open a file for both reading and writing.\n",
        "* `'x'` - **Create**: Create a new file.\n",
        "\n",
        "We can also specify how the file should be handled:\n",
        "\n",
        "* `'t'` - **Text (default)**: Read and write strings from and to the file.\n",
        "* `'b'` - **Binary**: Read and write bytes objects from and to the file. This mode is used for all files that don't contain text (e.g. images)."
      ],
      "metadata": {
        "id": "01uGqJdlmQog"
      }
    },
    {
      "cell_type": "markdown",
      "source": [
        "#### `encoding` argument in `open()`:\n",
        "We can decode or encode the file in popular encoding like `'ascii'` and `'UTF-8'`, etc."
      ],
      "metadata": {
        "id": "3xnBr4v7pkVJ"
      }
    }
  ]
}