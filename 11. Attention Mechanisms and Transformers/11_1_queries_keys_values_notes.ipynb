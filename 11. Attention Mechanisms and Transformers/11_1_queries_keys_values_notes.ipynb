{
  "nbformat": 4,
  "nbformat_minor": 0,
  "metadata": {
    "colab": {
      "provenance": [],
      "authorship_tag": "ABX9TyOfkkjjQYdUshQ1YCCGv5W9",
      "include_colab_link": true
    },
    "kernelspec": {
      "name": "python3",
      "display_name": "Python 3"
    },
    "language_info": {
      "name": "python"
    }
  },
  "cells": [
    {
      "cell_type": "markdown",
      "metadata": {
        "id": "view-in-github",
        "colab_type": "text"
      },
      "source": [
        "<a href=\"https://colab.research.google.com/github/DavoodSZ1993/Dive-into-Deep-Learning-Notes-/blob/main/11_1_queries_keys_values_notes.ipynb\" target=\"_parent\"><img src=\"https://colab.research.google.com/assets/colab-badge.svg\" alt=\"Open In Colab\"/></a>"
      ]
    },
    {
      "cell_type": "code",
      "execution_count": null,
      "metadata": {
        "id": "4rQKVSBS8-ZF"
      },
      "outputs": [],
      "source": [
        "!pip install d2l==1.0.0-alpha1.post0 --quiet"
      ]
    },
    {
      "cell_type": "markdown",
      "source": [
        "# 11. Attention Mechanisms and Transformers"
      ],
      "metadata": {
        "id": "nSEPAGuW9H0e"
      }
    },
    {
      "cell_type": "markdown",
      "source": [
        "## 11.1 Queries, Keys, and Values"
      ],
      "metadata": {
        "id": "Le4nVsEO9Ocl"
      }
    },
    {
      "cell_type": "markdown",
      "source": [
        "* `torch.tensor.detach()`: Returns a new tensor, detached from the current graph. The result will neve require gradient.\n",
        "* `torch.tensor.numpy()`: Returns the tensor as a NumPy `ndarray`.\n",
        "* `torch.eye()`: Returns a 2-D tensor with ones on the diagonal and zeros elsewhere."
      ],
      "metadata": {
        "id": "20VkWtja-Ljf"
      }
    },
    {
      "cell_type": "code",
      "source": [
        "import torch\n",
        "\n",
        "X = torch.eye(2)\n",
        "X"
      ],
      "metadata": {
        "colab": {
          "base_uri": "https://localhost:8080/"
        },
        "id": "bsJmjVAq_oe0",
        "outputId": "c9555870-49fa-469b-d21f-52e8b5801918"
      },
      "execution_count": 1,
      "outputs": [
        {
          "output_type": "execute_result",
          "data": {
            "text/plain": [
              "tensor([[1., 0.],\n",
              "        [0., 1.]])"
            ]
          },
          "metadata": {},
          "execution_count": 1
        }
      ]
    }
  ]
}
