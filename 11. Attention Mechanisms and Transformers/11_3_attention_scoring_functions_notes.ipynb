{
  "nbformat": 4,
  "nbformat_minor": 0,
  "metadata": {
    "colab": {
      "provenance": [],
      "authorship_tag": "ABX9TyOnaEGdApidxJllprzbwtVl",
      "include_colab_link": true
    },
    "kernelspec": {
      "name": "python3",
      "display_name": "Python 3"
    },
    "language_info": {
      "name": "python"
    }
  },
  "cells": [
    {
      "cell_type": "markdown",
      "metadata": {
        "id": "view-in-github",
        "colab_type": "text"
      },
      "source": [
        "<a href=\"https://colab.research.google.com/github/DavoodSZ1993/Dive-into-Deep-Learning-Notes-/blob/main/11_3_attention_scoring_functions_notes.ipynb\" target=\"_parent\"><img src=\"https://colab.research.google.com/assets/colab-badge.svg\" alt=\"Open In Colab\"/></a>"
      ]
    },
    {
      "cell_type": "code",
      "execution_count": 1,
      "metadata": {
        "colab": {
          "base_uri": "https://localhost:8080/"
        },
        "id": "e6OnYmhZA1vI",
        "outputId": "2a2d73f8-7c3b-42b6-c9a3-0ae65bd07633"
      },
      "outputs": [
        {
          "output_type": "stream",
          "name": "stdout",
          "text": [
            "\u001b[2K     \u001b[90m━━━━━━━━━━━━━━━━━━━━━━━━━━━━━━━━━━━━━━━━\u001b[0m \u001b[32m93.0/93.0 KB\u001b[0m \u001b[31m3.0 MB/s\u001b[0m eta \u001b[36m0:00:00\u001b[0m\n",
            "\u001b[2K     \u001b[90m━━━━━━━━━━━━━━━━━━━━━━━━━━━━━━━━━━━━━━━\u001b[0m \u001b[32m120.9/120.9 KB\u001b[0m \u001b[31m6.3 MB/s\u001b[0m eta \u001b[36m0:00:00\u001b[0m\n",
            "\u001b[2K     \u001b[90m━━━━━━━━━━━━━━━━━━━━━━━━━━━━━━━━━━━━━━━━\u001b[0m \u001b[32m83.6/83.6 KB\u001b[0m \u001b[31m5.7 MB/s\u001b[0m eta \u001b[36m0:00:00\u001b[0m\n",
            "\u001b[2K     \u001b[90m━━━━━━━━━━━━━━━━━━━━━━━━━━━━━━━━━━━━━━━━\u001b[0m \u001b[32m1.6/1.6 MB\u001b[0m \u001b[31m27.6 MB/s\u001b[0m eta \u001b[36m0:00:00\u001b[0m\n",
            "\u001b[?25h"
          ]
        }
      ],
      "source": [
        "!pip install d2l==1.0.0-alpha1.post0 --quiet"
      ]
    },
    {
      "cell_type": "markdown",
      "source": [
        "## 11.3 Attention Scoring Functions"
      ],
      "metadata": {
        "id": "XRRWiy6vA_Gd"
      }
    },
    {
      "cell_type": "markdown",
      "source": [
        "### 11.3.2 Convenience Functions"
      ],
      "metadata": {
        "id": "Yfdxc4JkBH9t"
      }
    },
    {
      "cell_type": "markdown",
      "source": [
        "#### Masked Softmax Operation"
      ],
      "metadata": {
        "id": "m31jhld_BI59"
      }
    },
    {
      "cell_type": "markdown",
      "source": [
        "* `tensor.size(dim=None)`: Returns the size of the given tensor."
      ],
      "metadata": {
        "id": "3Zj38nIRB0WM"
      }
    },
    {
      "cell_type": "code",
      "source": [
        "import torch\n",
        "X = torch.tensor([[1, 2],\n",
        "                  [3, 4]])\n",
        "\n",
        "X.size(), X.size(dim=0), X.size(dim=1)"
      ],
      "metadata": {
        "colab": {
          "base_uri": "https://localhost:8080/"
        },
        "id": "Ys_RH3adB9Sb",
        "outputId": "db71d86e-5ea3-4bcb-bc26-d49314edcb21"
      },
      "execution_count": 18,
      "outputs": [
        {
          "output_type": "execute_result",
          "data": {
            "text/plain": [
              "(torch.Size([2, 2]), 2, 2)"
            ]
          },
          "metadata": {},
          "execution_count": 18
        }
      ]
    },
    {
      "cell_type": "markdown",
      "source": [
        "* `torch.nn.functional.softmax(input, dim=None)`: Applies a softmax function."
      ],
      "metadata": {
        "id": "vuBLR8TdDenf"
      }
    },
    {
      "cell_type": "code",
      "source": [
        "X = torch.rand(2, 2)\n",
        "Y = torch.nn.functional.softmax(X)\n",
        "Y"
      ],
      "metadata": {
        "colab": {
          "base_uri": "https://localhost:8080/"
        },
        "id": "UM53W1coDomj",
        "outputId": "a1482100-6203-4a77-9757-2e4860e1cc71"
      },
      "execution_count": 3,
      "outputs": [
        {
          "output_type": "stream",
          "name": "stderr",
          "text": [
            "<ipython-input-3-829a4aae16de>:2: UserWarning: Implicit dimension choice for softmax has been deprecated. Change the call to include dim=X as an argument.\n",
            "  Y = torch.nn.functional.softmax(X)\n"
          ]
        },
        {
          "output_type": "execute_result",
          "data": {
            "text/plain": [
              "tensor([[0.4667, 0.5333],\n",
              "        [0.4341, 0.5659]])"
            ]
          },
          "metadata": {},
          "execution_count": 3
        }
      ]
    },
    {
      "cell_type": "code",
      "source": [
        "Y = torch.nn.functional.softmax(X, dim=0)\n",
        "Y"
      ],
      "metadata": {
        "colab": {
          "base_uri": "https://localhost:8080/"
        },
        "id": "9PJw8CVaEOAV",
        "outputId": "a42e9d24-bfa2-4f13-9444-776aaaea43a3"
      },
      "execution_count": 4,
      "outputs": [
        {
          "output_type": "execute_result",
          "data": {
            "text/plain": [
              "tensor([[0.4563, 0.4239],\n",
              "        [0.5437, 0.5761]])"
            ]
          },
          "metadata": {},
          "execution_count": 4
        }
      ]
    },
    {
      "cell_type": "markdown",
      "source": [
        "* `torch.repeat_interleave(input, repeats)`: Repeat elements of a tensor."
      ],
      "metadata": {
        "id": "RyjU-5LMFCgP"
      }
    },
    {
      "cell_type": "code",
      "source": [
        "X = torch.tensor([[1, 2], \n",
        "                  [3, 4]])\n",
        "Y = X.repeat_interleave(2)\n",
        "Y"
      ],
      "metadata": {
        "colab": {
          "base_uri": "https://localhost:8080/"
        },
        "id": "tLkWqvewFLmz",
        "outputId": "a33a5e8d-d131-4165-f880-44f7a932ac83"
      },
      "execution_count": 5,
      "outputs": [
        {
          "output_type": "execute_result",
          "data": {
            "text/plain": [
              "tensor([1, 1, 2, 2, 3, 3, 4, 4])"
            ]
          },
          "metadata": {},
          "execution_count": 5
        }
      ]
    },
    {
      "cell_type": "code",
      "source": [
        "Y = X.repeat_interleave(2, dim=1)\n",
        "Y"
      ],
      "metadata": {
        "colab": {
          "base_uri": "https://localhost:8080/"
        },
        "id": "niH-t43vFaD1",
        "outputId": "d8d7b6f6-7a5d-4ebf-d9df-87ac4fbdce8c"
      },
      "execution_count": 6,
      "outputs": [
        {
          "output_type": "execute_result",
          "data": {
            "text/plain": [
              "tensor([[1, 1, 2, 2],\n",
              "        [3, 3, 4, 4]])"
            ]
          },
          "metadata": {},
          "execution_count": 6
        }
      ]
    },
    {
      "cell_type": "markdown",
      "source": [
        "* Slicing with `None` will add an axis to your array."
      ],
      "metadata": {
        "id": "AimuLcRXJVSU"
      }
    },
    {
      "cell_type": "code",
      "source": [
        "X = torch.rand(2, 2, 4)              # Shape: 2 x 2 x 4\n",
        "valid_lens = torch.tensor([2, 3])    # Shape: 2\n",
        "X.shape, valid_lens.shape, valid_lens.dim()"
      ],
      "metadata": {
        "colab": {
          "base_uri": "https://localhost:8080/"
        },
        "id": "RQDcpi4kQOl-",
        "outputId": "8965fb1b-bf88-4a39-cf6c-9161e5c336d1"
      },
      "execution_count": 7,
      "outputs": [
        {
          "output_type": "execute_result",
          "data": {
            "text/plain": [
              "(torch.Size([2, 2, 4]), torch.Size([2]), 1)"
            ]
          },
          "metadata": {},
          "execution_count": 7
        }
      ]
    },
    {
      "cell_type": "code",
      "source": [
        "shape = X.shape\n",
        "valid_lens = torch.repeat_interleave(valid_lens, shape[1])\n",
        "valid_lens, shape"
      ],
      "metadata": {
        "colab": {
          "base_uri": "https://localhost:8080/"
        },
        "id": "NCnLI_gEVJSI",
        "outputId": "12ceea54-bf61-4b3b-b3c5-0ca087126771"
      },
      "execution_count": 8,
      "outputs": [
        {
          "output_type": "execute_result",
          "data": {
            "text/plain": [
              "(tensor([2, 2, 3, 3]), torch.Size([2, 2, 4]))"
            ]
          },
          "metadata": {},
          "execution_count": 8
        }
      ]
    },
    {
      "cell_type": "code",
      "source": [
        "## _sequence_mask function\n",
        "\n",
        "X = X.reshape(-1, shape[-1])         # shape: 4 x 4\n",
        "value = -1e6\n",
        "print('Shape: ', shape)\n",
        "print('X.shape: ', X.shape)\n",
        "print('valid_lens.shape: ', valid_lens.shape)\n",
        "print('valid_lens: ', valid_lens)\n",
        "\n",
        "print('**************************')\n",
        "\n",
        "maxlen = X.size(1)                    # maxlen = 4\n",
        "print('Maximum length is: ', maxlen)\n",
        "\n",
        "mask = torch.arange((maxlen), dtype=torch.float32,\n",
        "                    device=X.device)\n",
        "print('Mask (without None slicing):', mask)\n",
        "print('Slicing with None on valid_len: ', valid_lens[:, None])\n",
        "print('Slicing with None on mask: ', mask[None, :])\n",
        "\n",
        "mask = torch.arange((maxlen), dtype=torch.float32,\n",
        "                    device=X.device)[None, :] < valid_lens[:, None]\n",
        "print('Mask: ', mask)\n",
        "\n",
        "print('**************************')\n",
        "\n",
        "X[~mask] = value\n",
        "X\n"
      ],
      "metadata": {
        "colab": {
          "base_uri": "https://localhost:8080/"
        },
        "id": "3AeKDYYVGCGs",
        "outputId": "41ec33c1-eecd-49b7-cf28-c79f7715f045"
      },
      "execution_count": 9,
      "outputs": [
        {
          "output_type": "stream",
          "name": "stdout",
          "text": [
            "Shape:  torch.Size([2, 2, 4])\n",
            "X.shape:  torch.Size([4, 4])\n",
            "valid_lens.shape:  torch.Size([4])\n",
            "valid_lens:  tensor([2, 2, 3, 3])\n",
            "**************************\n",
            "Maximum length is:  4\n",
            "Mask (without None slicing): tensor([0., 1., 2., 3.])\n",
            "Slicing with None on valid_len:  tensor([[2],\n",
            "        [2],\n",
            "        [3],\n",
            "        [3]])\n",
            "Slicing with None on mask:  tensor([[0., 1., 2., 3.]])\n",
            "Mask:  tensor([[ True,  True, False, False],\n",
            "        [ True,  True, False, False],\n",
            "        [ True,  True,  True, False],\n",
            "        [ True,  True,  True, False]])\n",
            "**************************\n"
          ]
        },
        {
          "output_type": "execute_result",
          "data": {
            "text/plain": [
              "tensor([[ 9.1626e-01,  8.5247e-01, -1.0000e+06, -1.0000e+06],\n",
              "        [ 8.7970e-01,  4.7735e-01, -1.0000e+06, -1.0000e+06],\n",
              "        [ 4.8545e-01,  2.6565e-01,  3.2469e-01, -1.0000e+06],\n",
              "        [ 1.6048e-01,  9.4612e-01,  8.0980e-01, -1.0000e+06]])"
            ]
          },
          "metadata": {},
          "execution_count": 9
        }
      ]
    },
    {
      "cell_type": "code",
      "source": [
        "torch.nn.functional.softmax(X.reshape(shape), dim=-1)"
      ],
      "metadata": {
        "colab": {
          "base_uri": "https://localhost:8080/"
        },
        "id": "IcQxsw29OYbo",
        "outputId": "92dc32f7-100e-4762-8d63-376419ca65d1"
      },
      "execution_count": 10,
      "outputs": [
        {
          "output_type": "execute_result",
          "data": {
            "text/plain": [
              "tensor([[[0.5159, 0.4841, 0.0000, 0.0000],\n",
              "         [0.5993, 0.4007, 0.0000, 0.0000]],\n",
              "\n",
              "        [[0.3768, 0.3024, 0.3208, 0.0000],\n",
              "         [0.1958, 0.4295, 0.3747, 0.0000]]])"
            ]
          },
          "metadata": {},
          "execution_count": 10
        }
      ]
    },
    {
      "cell_type": "code",
      "source": [
        "Y = torch.tensor([[1, 2],\n",
        "                  [3, 4]])\n",
        "Mask = torch.tensor([True, False])\n",
        "Y.shape, Mask.shape"
      ],
      "metadata": {
        "colab": {
          "base_uri": "https://localhost:8080/"
        },
        "id": "tO5VRURGJ_Lf",
        "outputId": "38ef7962-e29c-4dac-9945-b0e638f3779d"
      },
      "execution_count": 11,
      "outputs": [
        {
          "output_type": "execute_result",
          "data": {
            "text/plain": [
              "(torch.Size([2, 2]), torch.Size([2]))"
            ]
          },
          "metadata": {},
          "execution_count": 11
        }
      ]
    },
    {
      "cell_type": "code",
      "source": [
        "Y[Mask], Y[~Mask]     # Masks first and second row respectively."
      ],
      "metadata": {
        "colab": {
          "base_uri": "https://localhost:8080/"
        },
        "id": "23k4Ib8lNXb1",
        "outputId": "068f6100-5213-49aa-89e5-7df7e7adbcd3"
      },
      "execution_count": 12,
      "outputs": [
        {
          "output_type": "execute_result",
          "data": {
            "text/plain": [
              "(tensor([[1, 2]]), tensor([[3, 4]]))"
            ]
          },
          "metadata": {},
          "execution_count": 12
        }
      ]
    },
    {
      "cell_type": "markdown",
      "source": [
        "* `torch.bmm(input, mat2)`: Performs a batch matrix-matrix product of matrices stored in `input` and `mat2`.\n",
        "* `input` and `mat2` must be 3-D tensors each containing the same number of matrices.\n",
        "* If `input` is a ($b \\times n \\times m$) tensor, `mat2` is a ($b \\times m \\times p$), `out` will be a ($b \\times n \\times p$) tensor.\n",
        "$$\n",
        "out_i = input_i @ mat2_i\n",
        "$$"
      ],
      "metadata": {
        "id": "RIYA72A5ZrKS"
      }
    },
    {
      "cell_type": "code",
      "source": [
        "Q = torch.ones((2, 3, 4))   # Queries (input) 2 x 3 x 4\n",
        "K = torch.ones((2, 4, 6))   # Keys (mat2)    2 x 4 x 6\n",
        " \n",
        "out = torch.bmm(Q, K) # 2 x 3 x 6\n",
        "out.shape"
      ],
      "metadata": {
        "colab": {
          "base_uri": "https://localhost:8080/"
        },
        "id": "3BTes9eUfMgE",
        "outputId": "a86d7494-025f-4606-f494-cc30a5ff3333"
      },
      "execution_count": 13,
      "outputs": [
        {
          "output_type": "execute_result",
          "data": {
            "text/plain": [
              "torch.Size([2, 3, 6])"
            ]
          },
          "metadata": {},
          "execution_count": 13
        }
      ]
    },
    {
      "cell_type": "markdown",
      "source": [
        "### 11.3.3 Scaled Dot-Product Attention"
      ],
      "metadata": {
        "id": "MaP2m2QimNjn"
      }
    },
    {
      "cell_type": "markdown",
      "source": [
        "* `torch.transpose(input, dim0, dim1)`: returns a tensor that is a transposed version of the input."
      ],
      "metadata": {
        "id": "imGnk0-tmOmO"
      }
    },
    {
      "cell_type": "code",
      "source": [
        "X = torch.tensor([[1, 2],\n",
        "                  [3, 4]])\n",
        "Y1 = X.transpose(0, 1)\n",
        "Y1"
      ],
      "metadata": {
        "id": "aOOhViA3mZ3P",
        "outputId": "a0954eb4-ab74-4ce1-97ee-4d0dfcb3d0bd",
        "colab": {
          "base_uri": "https://localhost:8080/"
        }
      },
      "execution_count": 14,
      "outputs": [
        {
          "output_type": "execute_result",
          "data": {
            "text/plain": [
              "tensor([[1, 3],\n",
              "        [2, 4]])"
            ]
          },
          "metadata": {},
          "execution_count": 14
        }
      ]
    },
    {
      "cell_type": "markdown",
      "source": [
        "* `torch.unsqueeze(input, dim)`: returns a new tensor with a dimension of size one inserted at the specified position."
      ],
      "metadata": {
        "id": "rocDl4jVnJvR"
      }
    },
    {
      "cell_type": "code",
      "source": [
        "X = torch.tensor([1, 2])\n",
        "\n",
        "Y1 = X.unsqueeze(0)\n",
        "Y2 = X.unsqueeze(1)\n",
        "\n",
        "X.shape, Y1.shape, Y2.shape"
      ],
      "metadata": {
        "id": "LAZAmKwsnaSO",
        "outputId": "fa50e058-7689-4687-bdeb-4db844ed60d3",
        "colab": {
          "base_uri": "https://localhost:8080/"
        }
      },
      "execution_count": 15,
      "outputs": [
        {
          "output_type": "execute_result",
          "data": {
            "text/plain": [
              "(torch.Size([2]), torch.Size([1, 2]), torch.Size([2, 1]))"
            ]
          },
          "metadata": {},
          "execution_count": 15
        }
      ]
    },
    {
      "cell_type": "markdown",
      "source": [
        "* Class `torch.nn.Dropout(p=0.5, inplace=False)`: During training, randomly zeros some of the elements of the input tensor with probability `p` using samples from a Bernoulli distribution."
      ],
      "metadata": {
        "id": "W1DoRBcflqs9"
      }
    },
    {
      "cell_type": "code",
      "source": [
        "from torch import nn\n",
        "\n",
        "net = nn.Dropout(0.5)\n",
        "input = torch.randn(5, 5)\n",
        "output = net(input)\n",
        "output"
      ],
      "metadata": {
        "colab": {
          "base_uri": "https://localhost:8080/"
        },
        "id": "528PX-IomD9H",
        "outputId": "2e2fc895-818f-4c00-ecdd-040a3ef792ac"
      },
      "execution_count": 17,
      "outputs": [
        {
          "output_type": "execute_result",
          "data": {
            "text/plain": [
              "tensor([[-0.0000, -0.4506,  2.2459, -0.0000,  0.9600],\n",
              "        [ 1.7553, -0.8203, -0.7829, -0.0000, -0.0000],\n",
              "        [-0.0000, -0.8351,  5.2506,  0.0000, -0.0000],\n",
              "        [-0.0000,  0.0000, -2.5133, -1.8300,  0.0000],\n",
              "        [-4.3499, -1.0717,  0.0490,  1.4745,  1.8120]])"
            ]
          },
          "metadata": {},
          "execution_count": 17
        }
      ]
    },
    {
      "cell_type": "markdown",
      "source": [
        "* `model.eval()`: Is a kind of switch for some specific layers/parts of the model that behave differently during training and inference (evaluating) time. For example Dropout layers, BatchNorm layers etc. You need to turn them off during model evaluation, and `.eval()` will do it for you.\n",
        "* In addition, the common practice for evaluating/validation is using `torch.no_grad()` in pair with `model.eval()` to turn off gradients computations.\n",
        "* Don't forget to turn back to `training` mode after eval step (using `model.train()`)."
      ],
      "metadata": {
        "id": "GnWuSNRIn88M"
      }
    },
    {
      "cell_type": "markdown",
      "source": [
        "* `torch.squeeze(input, dim=None)`: returns a tensor with all the dimensions of `input` of size 1 is removed.\n",
        "* For example, if `input` is of shape ($A \\times 1 \\times B \\times C \\times 1 \\times D$), then the `out` tensor will be of shape ($A \\times B \\times C \\times D$).\n",
        "* When `dim` is given, a squeeze operation is done only in the given dimension. If input is of shape ($A \\times 1 \\times B$), `squeeze(input, 0)` leaves the tensor unchanged, but `squeeze(input, 1)` will squeeze the tensor to the shape ($A \\times B$)."
      ],
      "metadata": {
        "id": "0NEfy57G0Mv9"
      }
    },
    {
      "cell_type": "code",
      "source": [
        "X = torch.ones(2, 1, 2, 1, 3)\n",
        "print('Shape of X is: ', X.shape)\n",
        "\n",
        "Y1 = X.squeeze()\n",
        "print('Shape of Y1 is: ',Y1.shape)\n",
        "\n",
        "Y2 = X.squeeze(dim=0)\n",
        "print('Shape of Y2 is: ',Y2.shape)\n",
        "\n",
        "Y3 = X.squeeze(dim=1)\n",
        "print('Shape of Y3 is: ',Y3.shape)"
      ],
      "metadata": {
        "id": "2mbsoxjv2pVj",
        "outputId": "0caca26b-af42-4c70-eb51-cfa3302cc75a",
        "colab": {
          "base_uri": "https://localhost:8080/"
        }
      },
      "execution_count": 22,
      "outputs": [
        {
          "output_type": "stream",
          "name": "stdout",
          "text": [
            "Shape of X is:  torch.Size([2, 1, 2, 1, 3])\n",
            "Shape of Y1 is:  torch.Size([2, 2, 3])\n",
            "Shape of Y2 is:  torch.Size([2, 1, 2, 1, 3])\n",
            "Shape of Y3 is:  torch.Size([2, 2, 1, 3])\n"
          ]
        }
      ]
    }
  ]
}
