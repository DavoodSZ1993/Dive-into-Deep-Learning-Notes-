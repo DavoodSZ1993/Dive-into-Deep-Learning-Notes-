{
  "nbformat": 4,
  "nbformat_minor": 0,
  "metadata": {
    "colab": {
      "provenance": [],
      "authorship_tag": "ABX9TyPwVi9fi+l1JkpD1APWyRJv",
      "include_colab_link": true
    },
    "kernelspec": {
      "name": "python3",
      "display_name": "Python 3"
    },
    "language_info": {
      "name": "python"
    }
  },
  "cells": [
    {
      "cell_type": "markdown",
      "metadata": {
        "id": "view-in-github",
        "colab_type": "text"
      },
      "source": [
        "<a href=\"https://colab.research.google.com/github/DavoodSZ1993/Dive-into-Deep-Learning-Notes-/blob/main/11_2_attention_pooling_notes.ipynb\" target=\"_parent\"><img src=\"https://colab.research.google.com/assets/colab-badge.svg\" alt=\"Open In Colab\"/></a>"
      ]
    },
    {
      "cell_type": "code",
      "execution_count": 1,
      "metadata": {
        "colab": {
          "base_uri": "https://localhost:8080/"
        },
        "id": "LFFDdYO_kxlF",
        "outputId": "cfcbdba7-3b3b-4c55-c084-e8afd277f85a"
      },
      "outputs": [
        {
          "output_type": "stream",
          "name": "stdout",
          "text": [
            "\u001b[2K     \u001b[90m━━━━━━━━━━━━━━━━━━━━━━━━━━━━━━━━━━━━━━━━\u001b[0m \u001b[32m93.0/93.0 kB\u001b[0m \u001b[31m2.4 MB/s\u001b[0m eta \u001b[36m0:00:00\u001b[0m\n",
            "\u001b[2K     \u001b[90m━━━━━━━━━━━━━━━━━━━━━━━━━━━━━━━━━━━━━━\u001b[0m \u001b[32m121.2/121.2 kB\u001b[0m \u001b[31m10.7 MB/s\u001b[0m eta \u001b[36m0:00:00\u001b[0m\n",
            "\u001b[2K     \u001b[90m━━━━━━━━━━━━━━━━━━━━━━━━━━━━━━━━━━━━━━━━\u001b[0m \u001b[32m84.9/84.9 kB\u001b[0m \u001b[31m9.4 MB/s\u001b[0m eta \u001b[36m0:00:00\u001b[0m\n",
            "\u001b[2K     \u001b[90m━━━━━━━━━━━━━━━━━━━━━━━━━━━━━━━━━━━━━━━━\u001b[0m \u001b[32m1.6/1.6 MB\u001b[0m \u001b[31m63.5 MB/s\u001b[0m eta \u001b[36m0:00:00\u001b[0m\n",
            "\u001b[?25h"
          ]
        }
      ],
      "source": [
        "!pip install d2l==1.0.0-alpha1.post0 --quiet"
      ]
    },
    {
      "cell_type": "markdown",
      "source": [
        "## 11.2 Attention Pooling by Similarity"
      ],
      "metadata": {
        "id": "NEzPgqvwk5nL"
      }
    },
    {
      "cell_type": "markdown",
      "source": [
        "* `torch.sort(input)`: Sorts the elements of the `input` tensor along a given dimension in an **ascending order** by value. "
      ],
      "metadata": {
        "id": "kITZaXRdmBEx"
      }
    },
    {
      "cell_type": "code",
      "source": [
        "import torch\n",
        "\n",
        "X = torch.tensor([[1, 2, 3, 4],\n",
        "                  [5, 6, 7, 8],\n",
        "                  [9, 10, 11, 12],\n",
        "                  [13, 14, 15, 16]])\n",
        "sorted, indices = torch.sort(X, descending=True)\n",
        "sorted, indices"
      ],
      "metadata": {
        "colab": {
          "base_uri": "https://localhost:8080/"
        },
        "id": "cCGk7U_Ek_Qx",
        "outputId": "5fcf83a0-c3f6-42af-fbfa-9f37596bc6a9"
      },
      "execution_count": 2,
      "outputs": [
        {
          "output_type": "execute_result",
          "data": {
            "text/plain": [
              "(tensor([[ 4,  3,  2,  1],\n",
              "         [ 8,  7,  6,  5],\n",
              "         [12, 11, 10,  9],\n",
              "         [16, 15, 14, 13]]),\n",
              " tensor([[3, 2, 1, 0],\n",
              "         [3, 2, 1, 0],\n",
              "         [3, 2, 1, 0],\n",
              "         [3, 2, 1, 0]]))"
            ]
          },
          "metadata": {},
          "execution_count": 2
        }
      ]
    },
    {
      "cell_type": "markdown",
      "source": [
        "* `torch.rand(size)`: Returns a tensor filled with random numbers from a uniform distribution on the interval $[0, 1)$."
      ],
      "metadata": {
        "id": "FU2DXdJqn80a"
      }
    },
    {
      "cell_type": "code",
      "source": [
        "torch.rand(2)"
      ],
      "metadata": {
        "colab": {
          "base_uri": "https://localhost:8080/"
        },
        "id": "MDktmHhToMX_",
        "outputId": "f3b62061-083c-4f3f-f7c3-e076c64c71df"
      },
      "execution_count": 3,
      "outputs": [
        {
          "output_type": "execute_result",
          "data": {
            "text/plain": [
              "tensor([0.1970, 0.4328])"
            ]
          },
          "metadata": {},
          "execution_count": 3
        }
      ]
    },
    {
      "cell_type": "markdown",
      "source": [
        "* `torch.randn(size)`: Returns a tensor filled with random numbers from a normal distribution with mean 0 and variance (also called the standard normal distribution)."
      ],
      "metadata": {
        "id": "985a3ClPouzP"
      }
    },
    {
      "cell_type": "code",
      "source": [
        "torch.randn(2)"
      ],
      "metadata": {
        "colab": {
          "base_uri": "https://localhost:8080/"
        },
        "id": "OLcINeu8pp_I",
        "outputId": "32989d0e-8374-4e56-b516-e9899b2470aa"
      },
      "execution_count": 4,
      "outputs": [
        {
          "output_type": "execute_result",
          "data": {
            "text/plain": [
              "tensor([1.3805, 1.2968])"
            ]
          },
          "metadata": {},
          "execution_count": 4
        }
      ]
    },
    {
      "cell_type": "code",
      "source": [
        "n = 4\n",
        "x_train, _ = torch.sort(torch.rand(n) * 5)\n",
        "x_val = torch.arange(0, 4, 1)"
      ],
      "metadata": {
        "id": "oJ61p-Wkp_dn"
      },
      "execution_count": 5,
      "outputs": []
    },
    {
      "cell_type": "code",
      "source": [
        "x_train = x_train.reshape((-1, 1))\n",
        "x_val = x_val.reshape((1, -1))\n",
        "x_train, x_val"
      ],
      "metadata": {
        "colab": {
          "base_uri": "https://localhost:8080/"
        },
        "id": "y8ML5UHEqOK2",
        "outputId": "7e400e4e-f963-4d94-ab5d-0bebe55cd56a"
      },
      "execution_count": 6,
      "outputs": [
        {
          "output_type": "execute_result",
          "data": {
            "text/plain": [
              "(tensor([[1.2338],\n",
              "         [1.6897],\n",
              "         [2.6793],\n",
              "         [3.5953]]),\n",
              " tensor([[0, 1, 2, 3]]))"
            ]
          },
          "metadata": {},
          "execution_count": 6
        }
      ]
    },
    {
      "cell_type": "code",
      "source": [
        "dist = x_train - x_val    # Broadcasting!! - Each column is query and each row is key!\n",
        "dist"
      ],
      "metadata": {
        "colab": {
          "base_uri": "https://localhost:8080/"
        },
        "id": "TzqECwPLqke-",
        "outputId": "ca1f46a2-cc19-432e-844c-e1f9640700b2"
      },
      "execution_count": 7,
      "outputs": [
        {
          "output_type": "execute_result",
          "data": {
            "text/plain": [
              "tensor([[ 1.2338,  0.2338, -0.7662, -1.7662],\n",
              "        [ 1.6897,  0.6897, -0.3103, -1.3103],\n",
              "        [ 2.6793,  1.6793,  0.6793, -0.3207],\n",
              "        [ 3.5953,  2.5953,  1.5953,  0.5953]])"
            ]
          },
          "metadata": {},
          "execution_count": 7
        }
      ]
    },
    {
      "cell_type": "code",
      "source": [
        "# Defining Kernels\n",
        "def gaussian(x):\n",
        "  return torch.exp(-x**2 / 2)\n",
        "\n",
        "def boxcar(x):\n",
        "  return torch.abs(x) < 1.0\n",
        "\n",
        "def constant(x):\n",
        "  return 1.0 + 0 * X\n",
        "\n",
        "def epanechikov(x):\n",
        "  return torch.max(1 - torch.abs(x), torch.zeros_like(x))"
      ],
      "metadata": {
        "id": "avXkao4Sr1Mg"
      },
      "execution_count": 9,
      "outputs": []
    },
    {
      "cell_type": "code",
      "source": [
        "kernels = (gaussian, boxcar, constant, epanechikov)"
      ],
      "metadata": {
        "id": "wlRhF68IswZZ"
      },
      "execution_count": 21,
      "outputs": []
    },
    {
      "cell_type": "code",
      "source": [
        "def f(x):\n",
        "  return 2 * torch.sin(x) + x\n",
        "\n",
        "n = 40\n",
        "x_train, _ = torch.sort(torch.rand(n) * 5)\n",
        "y_train = f(x_train) + torch.randn(n)\n",
        "x_val = torch.arange(0, 5, 0.1)\n",
        "y_val = f(x_val)\n",
        "\n",
        "x_train.shape, x_val.shape"
      ],
      "metadata": {
        "colab": {
          "base_uri": "https://localhost:8080/"
        },
        "id": "Uq2CPpSPtCyS",
        "outputId": "fa6ac21b-0d32-4bce-b9a0-487c1ccf76a6"
      },
      "execution_count": 22,
      "outputs": [
        {
          "output_type": "execute_result",
          "data": {
            "text/plain": [
              "(torch.Size([40]), torch.Size([50]))"
            ]
          },
          "metadata": {},
          "execution_count": 22
        }
      ]
    },
    {
      "cell_type": "markdown",
      "source": [
        "* `torch.tensor.type(dtype=None)`: Returns the type if *dtype* is not provided, else casts this object to the specific type."
      ],
      "metadata": {
        "id": "3nmK2L59vtiL"
      }
    },
    {
      "cell_type": "code",
      "source": [
        "# nadaraya_watson\n",
        "dists = x_train.reshape((-1, 1)) - x_val.reshape((1, -1)) # Broadcasting\n",
        "k = kernels[0](dists).type(torch.float32)                 # a(q, k)\n",
        "attention_w = k / k.sum(0)\n",
        "k.shape"
      ],
      "metadata": {
        "colab": {
          "base_uri": "https://localhost:8080/"
        },
        "id": "VFnrMIeJtnhe",
        "outputId": "fc8b2544-5a36-41d2-f164-a794c17d60b3"
      },
      "execution_count": 24,
      "outputs": [
        {
          "output_type": "execute_result",
          "data": {
            "text/plain": [
              "torch.Size([40, 50])"
            ]
          },
          "metadata": {},
          "execution_count": 24
        }
      ]
    },
    {
      "cell_type": "code",
      "source": [
        "x = torch.tensor([[1, 0.2],\n",
        "                  [3, 0.4]])\n",
        "\n",
        "Y = torch.abs(x) < 1         # False = 0 and True = 1\n",
        "Y"
      ],
      "metadata": {
        "id": "m1NyVLBitkj6",
        "outputId": "7ca1d060-167b-4d99-d971-5953f1ae299f",
        "colab": {
          "base_uri": "https://localhost:8080/"
        }
      },
      "execution_count": 8,
      "outputs": [
        {
          "output_type": "execute_result",
          "data": {
            "text/plain": [
              "tensor([[False,  True],\n",
              "        [False,  True]])"
            ]
          },
          "metadata": {},
          "execution_count": 8
        }
      ]
    }
  ]
}