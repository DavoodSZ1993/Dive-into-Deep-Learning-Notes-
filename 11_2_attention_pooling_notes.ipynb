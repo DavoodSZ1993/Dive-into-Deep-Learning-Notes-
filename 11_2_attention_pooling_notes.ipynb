{
  "nbformat": 4,
  "nbformat_minor": 0,
  "metadata": {
    "colab": {
      "provenance": [],
      "authorship_tag": "ABX9TyO2sQTJ5wdR/by6WoD5WHV8",
      "include_colab_link": true
    },
    "kernelspec": {
      "name": "python3",
      "display_name": "Python 3"
    },
    "language_info": {
      "name": "python"
    }
  },
  "cells": [
    {
      "cell_type": "markdown",
      "metadata": {
        "id": "view-in-github",
        "colab_type": "text"
      },
      "source": [
        "<a href=\"https://colab.research.google.com/github/DavoodSZ1993/Dive-into-Deep-Learning-Notes-/blob/main/11_2_attention_pooling_notes.ipynb\" target=\"_parent\"><img src=\"https://colab.research.google.com/assets/colab-badge.svg\" alt=\"Open In Colab\"/></a>"
      ]
    },
    {
      "cell_type": "code",
      "execution_count": 1,
      "metadata": {
        "colab": {
          "base_uri": "https://localhost:8080/"
        },
        "id": "LFFDdYO_kxlF",
        "outputId": "38090470-cf42-472f-fcb9-82467d8feb08"
      },
      "outputs": [
        {
          "output_type": "stream",
          "name": "stdout",
          "text": [
            "\u001b[2K     \u001b[90m━━━━━━━━━━━━━━━━━━━━━━━━━━━━━━━━━━━━━━━━\u001b[0m \u001b[32m93.0/93.0 KB\u001b[0m \u001b[31m2.8 MB/s\u001b[0m eta \u001b[36m0:00:00\u001b[0m\n",
            "\u001b[2K     \u001b[90m━━━━━━━━━━━━━━━━━━━━━━━━━━━━━━━━━━━━━━━\u001b[0m \u001b[32m121.0/121.0 KB\u001b[0m \u001b[31m7.4 MB/s\u001b[0m eta \u001b[36m0:00:00\u001b[0m\n",
            "\u001b[2K     \u001b[90m━━━━━━━━━━━━━━━━━━━━━━━━━━━━━━━━━━━━━━━━\u001b[0m \u001b[32m83.6/83.6 KB\u001b[0m \u001b[31m3.8 MB/s\u001b[0m eta \u001b[36m0:00:00\u001b[0m\n",
            "\u001b[2K     \u001b[90m━━━━━━━━━━━━━━━━━━━━━━━━━━━━━━━━━━━━━━━━\u001b[0m \u001b[32m1.6/1.6 MB\u001b[0m \u001b[31m40.0 MB/s\u001b[0m eta \u001b[36m0:00:00\u001b[0m\n",
            "\u001b[?25h"
          ]
        }
      ],
      "source": [
        "!pip install d2l==1.0.0-alpha1.post0 --quiet"
      ]
    },
    {
      "cell_type": "markdown",
      "source": [
        "## 11.2 Attention Pooling by Similarity"
      ],
      "metadata": {
        "id": "NEzPgqvwk5nL"
      }
    },
    {
      "cell_type": "markdown",
      "source": [
        "* `torch.sort(input)`: Sorts the elements of the `input` tensor along a given dimension in an **ascending order** by value. "
      ],
      "metadata": {
        "id": "kITZaXRdmBEx"
      }
    },
    {
      "cell_type": "code",
      "source": [
        "import torch\n",
        "\n",
        "X = torch.tensor([[1, 2, 3, 4],\n",
        "                  [5, 6, 7, 8],\n",
        "                  [9, 10, 11, 12],\n",
        "                  [13, 14, 15, 16]])\n",
        "sorted, indices = torch.sort(X, descending=True)\n",
        "sorted, indices"
      ],
      "metadata": {
        "colab": {
          "base_uri": "https://localhost:8080/"
        },
        "id": "cCGk7U_Ek_Qx",
        "outputId": "ac7a5c89-a991-4208-ac9f-440241e18454"
      },
      "execution_count": 2,
      "outputs": [
        {
          "output_type": "execute_result",
          "data": {
            "text/plain": [
              "(tensor([[ 4,  3,  2,  1],\n",
              "         [ 8,  7,  6,  5],\n",
              "         [12, 11, 10,  9],\n",
              "         [16, 15, 14, 13]]), tensor([[3, 2, 1, 0],\n",
              "         [3, 2, 1, 0],\n",
              "         [3, 2, 1, 0],\n",
              "         [3, 2, 1, 0]]))"
            ]
          },
          "metadata": {},
          "execution_count": 2
        }
      ]
    },
    {
      "cell_type": "markdown",
      "source": [
        "* `torch.rand(size)`: Returns a tensor filled with random numbers from a uniform distribution on the interval $[0, 1)$."
      ],
      "metadata": {
        "id": "FU2DXdJqn80a"
      }
    },
    {
      "cell_type": "code",
      "source": [
        "torch.rand(2)"
      ],
      "metadata": {
        "colab": {
          "base_uri": "https://localhost:8080/"
        },
        "id": "MDktmHhToMX_",
        "outputId": "4b2c7dfa-5e09-4c9a-d96f-11663217091f"
      },
      "execution_count": 3,
      "outputs": [
        {
          "output_type": "execute_result",
          "data": {
            "text/plain": [
              "tensor([0.6401, 0.0659])"
            ]
          },
          "metadata": {},
          "execution_count": 3
        }
      ]
    },
    {
      "cell_type": "markdown",
      "source": [
        "* `torch.randn(size)`: Returns a tensor filled with random numbers from a normal distribution with mean 0 and variance (also called the standard normal distribution)."
      ],
      "metadata": {
        "id": "985a3ClPouzP"
      }
    },
    {
      "cell_type": "code",
      "source": [
        "torch.randn(2)"
      ],
      "metadata": {
        "colab": {
          "base_uri": "https://localhost:8080/"
        },
        "id": "OLcINeu8pp_I",
        "outputId": "86685939-c174-48ef-ab2f-30f7d93d9aaf"
      },
      "execution_count": 4,
      "outputs": [
        {
          "output_type": "execute_result",
          "data": {
            "text/plain": [
              "tensor([-0.2631,  0.8598])"
            ]
          },
          "metadata": {},
          "execution_count": 4
        }
      ]
    },
    {
      "cell_type": "code",
      "source": [
        "n = 4\n",
        "x_train, _ = torch.sort(torch.rand(n) * 5)\n",
        "x_val = torch.arange(0, 4, 1)"
      ],
      "metadata": {
        "id": "oJ61p-Wkp_dn"
      },
      "execution_count": 5,
      "outputs": []
    },
    {
      "cell_type": "code",
      "source": [
        "x_train = x_train.reshape((-1, 1))\n",
        "x_val = x_val.reshape((1, -1))\n",
        "x_train, x_val"
      ],
      "metadata": {
        "colab": {
          "base_uri": "https://localhost:8080/"
        },
        "id": "y8ML5UHEqOK2",
        "outputId": "3c1211a5-3be8-4d31-a392-876ca24e7d01"
      },
      "execution_count": 6,
      "outputs": [
        {
          "output_type": "execute_result",
          "data": {
            "text/plain": [
              "(tensor([[2.0687],\n",
              "         [2.3106],\n",
              "         [2.4466],\n",
              "         [3.9010]]), tensor([[0, 1, 2, 3]]))"
            ]
          },
          "metadata": {},
          "execution_count": 6
        }
      ]
    },
    {
      "cell_type": "code",
      "source": [
        "dist = x_train - x_val    # Broadcasting!!\n",
        "dist"
      ],
      "metadata": {
        "colab": {
          "base_uri": "https://localhost:8080/"
        },
        "id": "TzqECwPLqke-",
        "outputId": "7a2970a1-35cb-4560-9197-cfd026357bbf"
      },
      "execution_count": 7,
      "outputs": [
        {
          "output_type": "execute_result",
          "data": {
            "text/plain": [
              "tensor([[ 2.0687,  1.0687,  0.0687, -0.9313],\n",
              "        [ 2.3106,  1.3106,  0.3106, -0.6894],\n",
              "        [ 2.4466,  1.4466,  0.4466, -0.5534],\n",
              "        [ 3.9010,  2.9010,  1.9010,  0.9010]])"
            ]
          },
          "metadata": {},
          "execution_count": 7
        }
      ]
    },
    {
      "cell_type": "code",
      "source": [
        "x = torch.tensor([[1, 0.2],\n",
        "                  [3, 0.4]])\n",
        "\n",
        "Y = torch.abs(x) < 1         # False = 0 and True = 1\n",
        "Y"
      ],
      "metadata": {
        "id": "m1NyVLBitkj6",
        "outputId": "81fe4cbb-2957-4098-db80-e9319d4d9498",
        "colab": {
          "base_uri": "https://localhost:8080/"
        }
      },
      "execution_count": 11,
      "outputs": [
        {
          "output_type": "execute_result",
          "data": {
            "text/plain": [
              "tensor([[False,  True],\n",
              "        [False,  True]])"
            ]
          },
          "metadata": {},
          "execution_count": 11
        }
      ]
    }
  ]
}