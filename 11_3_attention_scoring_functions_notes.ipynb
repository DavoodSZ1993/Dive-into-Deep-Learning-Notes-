{
  "nbformat": 4,
  "nbformat_minor": 0,
  "metadata": {
    "colab": {
      "provenance": [],
      "authorship_tag": "ABX9TyONaiWCQkYXJCfsoDko04nb",
      "include_colab_link": true
    },
    "kernelspec": {
      "name": "python3",
      "display_name": "Python 3"
    },
    "language_info": {
      "name": "python"
    }
  },
  "cells": [
    {
      "cell_type": "markdown",
      "metadata": {
        "id": "view-in-github",
        "colab_type": "text"
      },
      "source": [
        "<a href=\"https://colab.research.google.com/github/DavoodSZ1993/Dive-into-Deep-Learning-Notes-/blob/main/11_3_attention_scoring_functions_notes.ipynb\" target=\"_parent\"><img src=\"https://colab.research.google.com/assets/colab-badge.svg\" alt=\"Open In Colab\"/></a>"
      ]
    },
    {
      "cell_type": "code",
      "execution_count": 1,
      "metadata": {
        "colab": {
          "base_uri": "https://localhost:8080/"
        },
        "id": "e6OnYmhZA1vI",
        "outputId": "42d67cba-a5fe-4e73-afb9-f6566aead1a7"
      },
      "outputs": [
        {
          "output_type": "stream",
          "name": "stdout",
          "text": [
            "\u001b[2K     \u001b[90m━━━━━━━━━━━━━━━━━━━━━━━━━━━━━━━━━━━━━━━━\u001b[0m \u001b[32m93.0/93.0 KB\u001b[0m \u001b[31m4.2 MB/s\u001b[0m eta \u001b[36m0:00:00\u001b[0m\n",
            "\u001b[2K     \u001b[90m━━━━━━━━━━━━━━━━━━━━━━━━━━━━━━━━━━━━━━━\u001b[0m \u001b[32m121.0/121.0 KB\u001b[0m \u001b[31m7.6 MB/s\u001b[0m eta \u001b[36m0:00:00\u001b[0m\n",
            "\u001b[2K     \u001b[90m━━━━━━━━━━━━━━━━━━━━━━━━━━━━━━━━━━━━━━━━\u001b[0m \u001b[32m83.6/83.6 KB\u001b[0m \u001b[31m10.8 MB/s\u001b[0m eta \u001b[36m0:00:00\u001b[0m\n",
            "\u001b[2K     \u001b[90m━━━━━━━━━━━━━━━━━━━━━━━━━━━━━━━━━━━━━━━━\u001b[0m \u001b[32m1.6/1.6 MB\u001b[0m \u001b[31m36.2 MB/s\u001b[0m eta \u001b[36m0:00:00\u001b[0m\n",
            "\u001b[?25h"
          ]
        }
      ],
      "source": [
        "!pip install d2l==1.0.0-alpha1.post0 --quiet"
      ]
    },
    {
      "cell_type": "markdown",
      "source": [
        "## 11.3 Attention Scoring Functions"
      ],
      "metadata": {
        "id": "XRRWiy6vA_Gd"
      }
    },
    {
      "cell_type": "markdown",
      "source": [
        "### 11.3.2 Convenience Functions"
      ],
      "metadata": {
        "id": "Yfdxc4JkBH9t"
      }
    },
    {
      "cell_type": "markdown",
      "source": [
        "#### Masked Softmax Operation"
      ],
      "metadata": {
        "id": "m31jhld_BI59"
      }
    },
    {
      "cell_type": "markdown",
      "source": [
        "* `tensor.size(dim=None)`: Returns the size of the given tensor."
      ],
      "metadata": {
        "id": "3Zj38nIRB0WM"
      }
    },
    {
      "cell_type": "code",
      "source": [
        "import torch\n",
        "X = torch.tensor([[1, 2],\n",
        "                  [3, 4]])\n",
        "\n",
        "X.size(), X.size(dim=0), X.size(dim=1)"
      ],
      "metadata": {
        "colab": {
          "base_uri": "https://localhost:8080/"
        },
        "id": "Ys_RH3adB9Sb",
        "outputId": "38d11b4c-c2ec-4f6c-c35d-051a1714bd3b"
      },
      "execution_count": 2,
      "outputs": [
        {
          "output_type": "execute_result",
          "data": {
            "text/plain": [
              "(torch.Size([2, 2]), 2, 2)"
            ]
          },
          "metadata": {},
          "execution_count": 2
        }
      ]
    },
    {
      "cell_type": "markdown",
      "source": [
        "* `torch.nn.functional.softmax(input, dim=None)`: Applies a softmax function."
      ],
      "metadata": {
        "id": "vuBLR8TdDenf"
      }
    },
    {
      "cell_type": "code",
      "source": [
        "X = torch.rand(2, 2)\n",
        "Y = torch.nn.functional.softmax(X)\n",
        "Y"
      ],
      "metadata": {
        "colab": {
          "base_uri": "https://localhost:8080/"
        },
        "id": "UM53W1coDomj",
        "outputId": "9479b8fd-967e-423e-8eb6-f27c2572a3d4"
      },
      "execution_count": 3,
      "outputs": [
        {
          "output_type": "stream",
          "name": "stderr",
          "text": [
            "<ipython-input-3-829a4aae16de>:2: UserWarning: Implicit dimension choice for softmax has been deprecated. Change the call to include dim=X as an argument.\n",
            "  Y = torch.nn.functional.softmax(X)\n"
          ]
        },
        {
          "output_type": "execute_result",
          "data": {
            "text/plain": [
              "tensor([[0.4010, 0.5990],\n",
              "        [0.6791, 0.3209]])"
            ]
          },
          "metadata": {},
          "execution_count": 3
        }
      ]
    },
    {
      "cell_type": "code",
      "source": [
        "Y = torch.nn.functional.softmax(X, dim=0)\n",
        "Y"
      ],
      "metadata": {
        "colab": {
          "base_uri": "https://localhost:8080/"
        },
        "id": "9PJw8CVaEOAV",
        "outputId": "75018b79-0d90-4187-f1ce-84fc97f83317"
      },
      "execution_count": 4,
      "outputs": [
        {
          "output_type": "execute_result",
          "data": {
            "text/plain": [
              "tensor([[0.3599, 0.6400],\n",
              "        [0.6401, 0.3600]])"
            ]
          },
          "metadata": {},
          "execution_count": 4
        }
      ]
    },
    {
      "cell_type": "markdown",
      "source": [
        "* `torch.repeat_interleave(input, repeats)`: Repeat elements of a tensor."
      ],
      "metadata": {
        "id": "RyjU-5LMFCgP"
      }
    },
    {
      "cell_type": "code",
      "source": [
        "X = torch.tensor([[1, 2], \n",
        "                  [3, 4]])\n",
        "Y = X.repeat_interleave(2)\n",
        "Y"
      ],
      "metadata": {
        "colab": {
          "base_uri": "https://localhost:8080/"
        },
        "id": "tLkWqvewFLmz",
        "outputId": "bbc02eac-7ec4-45b9-e0a6-62cab14ea21c"
      },
      "execution_count": 5,
      "outputs": [
        {
          "output_type": "execute_result",
          "data": {
            "text/plain": [
              "tensor([1, 1, 2, 2, 3, 3, 4, 4])"
            ]
          },
          "metadata": {},
          "execution_count": 5
        }
      ]
    },
    {
      "cell_type": "code",
      "source": [
        "Y = X.repeat_interleave(2, dim=1)\n",
        "Y"
      ],
      "metadata": {
        "colab": {
          "base_uri": "https://localhost:8080/"
        },
        "id": "niH-t43vFaD1",
        "outputId": "3d2763cb-992e-40e5-ec62-b4c26133ec83"
      },
      "execution_count": 6,
      "outputs": [
        {
          "output_type": "execute_result",
          "data": {
            "text/plain": [
              "tensor([[1, 1, 2, 2],\n",
              "        [3, 3, 4, 4]])"
            ]
          },
          "metadata": {},
          "execution_count": 6
        }
      ]
    },
    {
      "cell_type": "markdown",
      "source": [
        "* Slicing with `None` will add an axis to your array."
      ],
      "metadata": {
        "id": "AimuLcRXJVSU"
      }
    },
    {
      "cell_type": "code",
      "source": [
        "X = torch.rand(2, 2, 4)\n",
        "valid_lens = torch.tensor([2, 3])\n",
        "\n",
        "maxlen = X.size(1)\n",
        "print('Maximum length is: ', maxlen)\n",
        "\n",
        "mask = torch.arange((maxlen), dtype=torch.float32,\n",
        "                    device=X.device)\n",
        "print('Mask:', mask)\n",
        "print('Slicing with None on valid_len: ', valid_lens[:, None])\n",
        "print('Slicing with None on mask: ', mask[None, :])\n",
        "\n",
        "mask = torch.arange((maxlen), dtype=torch.float32,\n",
        "                    device=X.device)[None, :] < valid_lens[:, None]\n",
        "print('Mask: ', mask)"
      ],
      "metadata": {
        "colab": {
          "base_uri": "https://localhost:8080/"
        },
        "id": "3AeKDYYVGCGs",
        "outputId": "ef69b633-7981-4b5a-8e19-8c076223fbe2"
      },
      "execution_count": 7,
      "outputs": [
        {
          "output_type": "stream",
          "name": "stdout",
          "text": [
            "Maximum length is:  2\n",
            "Mask: tensor([0., 1.])\n",
            "Slicing with None on valid_len:  tensor([[2],\n",
            "        [3]])\n",
            "Slicing with None on mask:  tensor([[0., 1.]])\n",
            "Mask:  tensor([[True, True],\n",
            "        [True, True]])\n"
          ]
        }
      ]
    },
    {
      "cell_type": "code",
      "source": [
        "Y = torch.tensor([[1, 2],\n",
        "                  [3, 4]])\n",
        "Mask = torch.tensor([True, False])\n",
        "Y.shape, Mask.shape"
      ],
      "metadata": {
        "colab": {
          "base_uri": "https://localhost:8080/"
        },
        "id": "tO5VRURGJ_Lf",
        "outputId": "3467f0a2-9be1-4576-b997-7a5b744e53ee"
      },
      "execution_count": 18,
      "outputs": [
        {
          "output_type": "execute_result",
          "data": {
            "text/plain": [
              "(torch.Size([2, 2]), torch.Size([2]))"
            ]
          },
          "metadata": {},
          "execution_count": 18
        }
      ]
    },
    {
      "cell_type": "code",
      "source": [
        "Y[Mask], Y[~Mask]     # Masks first and second row respectively."
      ],
      "metadata": {
        "id": "23k4Ib8lNXb1",
        "outputId": "7ff2a3d1-99be-408c-a8d1-4ddfbcc5065f",
        "colab": {
          "base_uri": "https://localhost:8080/"
        }
      },
      "execution_count": 19,
      "outputs": [
        {
          "output_type": "execute_result",
          "data": {
            "text/plain": [
              "(tensor([[1, 2]]), tensor([[3, 4]]))"
            ]
          },
          "metadata": {},
          "execution_count": 19
        }
      ]
    }
  ]
}