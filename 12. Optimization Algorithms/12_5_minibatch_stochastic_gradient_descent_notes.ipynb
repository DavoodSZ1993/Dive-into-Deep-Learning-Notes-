{
  "nbformat": 4,
  "nbformat_minor": 0,
  "metadata": {
    "colab": {
      "provenance": [],
      "authorship_tag": "ABX9TyMXLvLMW83YjQi1D1lbozcC",
      "include_colab_link": true
    },
    "kernelspec": {
      "name": "python3",
      "display_name": "Python 3"
    },
    "language_info": {
      "name": "python"
    }
  },
  "cells": [
    {
      "cell_type": "markdown",
      "metadata": {
        "id": "view-in-github",
        "colab_type": "text"
      },
      "source": [
        "<a href=\"https://colab.research.google.com/github/DavoodSZ1993/Dive-into-Deep-Learning-Notes-/blob/main/12_5_minibatch_stochastic_gradient_descent_notes.ipynb\" target=\"_parent\"><img src=\"https://colab.research.google.com/assets/colab-badge.svg\" alt=\"Open In Colab\"/></a>"
      ]
    },
    {
      "cell_type": "code",
      "execution_count": 1,
      "metadata": {
        "colab": {
          "base_uri": "https://localhost:8080/"
        },
        "id": "QK7UZyC39YLw",
        "outputId": "78d054a6-5e92-460d-8b76-640f79432bee"
      },
      "outputs": [
        {
          "output_type": "stream",
          "name": "stdout",
          "text": [
            "\u001b[2K     \u001b[90m━━━━━━━━━━━━━━━━━━━━━━━━━━━━━━━━━━━━━━━━\u001b[0m \u001b[32m93.0/93.0 kB\u001b[0m \u001b[31m4.3 MB/s\u001b[0m eta \u001b[36m0:00:00\u001b[0m\n",
            "\u001b[2K     \u001b[90m━━━━━━━━━━━━━━━━━━━━━━━━━━━━━━━━━━━━━━━\u001b[0m \u001b[32m121.2/121.2 kB\u001b[0m \u001b[31m7.3 MB/s\u001b[0m eta \u001b[36m0:00:00\u001b[0m\n",
            "\u001b[2K     \u001b[90m━━━━━━━━━━━━━━━━━━━━━━━━━━━━━━━━━━━━━━━━\u001b[0m \u001b[32m84.9/84.9 kB\u001b[0m \u001b[31m6.8 MB/s\u001b[0m eta \u001b[36m0:00:00\u001b[0m\n",
            "\u001b[2K     \u001b[90m━━━━━━━━━━━━━━━━━━━━━━━━━━━━━━━━━━━━━━━━\u001b[0m \u001b[32m1.6/1.6 MB\u001b[0m \u001b[31m56.6 MB/s\u001b[0m eta \u001b[36m0:00:00\u001b[0m\n",
            "\u001b[?25h"
          ]
        }
      ],
      "source": [
        "!pip install d2l==1.0.0-alpha1.post0 --quiet"
      ]
    },
    {
      "cell_type": "markdown",
      "source": [
        "## 12.5 Minibatch Stochastic Gradient Descent"
      ],
      "metadata": {
        "id": "0y1lI__o9ipD"
      }
    },
    {
      "cell_type": "markdown",
      "source": [
        "### 12.5.1 Vectorization and Caches"
      ],
      "metadata": {
        "id": "1sxNEd_iGIMs"
      }
    },
    {
      "cell_type": "markdown",
      "source": [
        "* `torch.dot(input, other)`: Computes the dot product of two 1D tensors."
      ],
      "metadata": {
        "id": "aSq-1eP7-cMx"
      }
    },
    {
      "cell_type": "code",
      "source": [
        "import torch\n",
        "\n",
        "A = torch.tensor([2, 3])\n",
        "B = torch.tensor([2, 1])\n",
        "C = torch.dot(A, B)\n",
        "C"
      ],
      "metadata": {
        "colab": {
          "base_uri": "https://localhost:8080/"
        },
        "id": "hvY5BdkG94IS",
        "outputId": "5ec3ab1f-bc0d-482a-c725-fcf747bdfe6e"
      },
      "execution_count": 2,
      "outputs": [
        {
          "output_type": "execute_result",
          "data": {
            "text/plain": [
              "tensor(7)"
            ]
          },
          "metadata": {},
          "execution_count": 2
        }
      ]
    },
    {
      "cell_type": "markdown",
      "source": [
        "* `torch.mv(input, vec)`: Performs a matrix-vector product of the matrix `input` and the vector `vec`.\n",
        "* If `input` is a ($n \\times m$) tensor, `vec` is a 1-D tensor of size $m$, 'out' will be 1-D of size $n$."
      ],
      "metadata": {
        "id": "4S6vVevD_Z7r"
      }
    },
    {
      "cell_type": "code",
      "source": [
        "A = torch.randn(2, 3) # n x m\n",
        "B = torch.randn(3)    # m\n",
        "C = torch.mv(A, B)\n",
        "C"
      ],
      "metadata": {
        "colab": {
          "base_uri": "https://localhost:8080/"
        },
        "id": "Oh9KrAN9EPBX",
        "outputId": "7a300def-0795-4df1-f172-d0553fb350d5"
      },
      "execution_count": 3,
      "outputs": [
        {
          "output_type": "execute_result",
          "data": {
            "text/plain": [
              "tensor([ 3.4966, -6.4120])"
            ]
          },
          "metadata": {},
          "execution_count": 3
        }
      ]
    },
    {
      "cell_type": "markdown",
      "source": [
        "* `torch.mm(input, mat)`: Performs a matrix multiplication of the matrices `input` and `mat`.\n",
        "* If `input` is a $(n \\times m)$ tensor, `mat` is a $(m \\times p)$ tensor, `out` will be a $(n \\times p)$ tensor."
      ],
      "metadata": {
        "id": "miWKqfzAFDYj"
      }
    },
    {
      "cell_type": "code",
      "source": [
        "A = torch.randn(2, 3) # n x m\n",
        "B = torch.randn(3, 3)    # m x p\n",
        "C = torch.mm(A, B)\n",
        "C"
      ],
      "metadata": {
        "colab": {
          "base_uri": "https://localhost:8080/"
        },
        "id": "j-VYvvIjF0wS",
        "outputId": "e9d9c950-7c1e-4af0-de3b-83207b89f720"
      },
      "execution_count": 4,
      "outputs": [
        {
          "output_type": "execute_result",
          "data": {
            "text/plain": [
              "tensor([[-0.4760, -0.8428, -1.0985],\n",
              "        [-1.9362, -1.4545, -1.4131]])"
            ]
          },
          "metadata": {},
          "execution_count": 4
        }
      ]
    },
    {
      "cell_type": "markdown",
      "source": [
        "### 12.5.3 Reading the Dataset"
      ],
      "metadata": {
        "id": "JcCRzSyo8nzz"
      }
    },
    {
      "cell_type": "markdown",
      "source": [
        "* `torch.from_numpy(ndarray)`: Creates a Tensor from a Numpy ndarray."
      ],
      "metadata": {
        "id": "eUw3AI5R9LYz"
      }
    },
    {
      "cell_type": "code",
      "source": [
        "import numpy as np\n",
        "\n",
        "A = np.array([1, 2, 3])\n",
        "B = torch.from_numpy(A)\n",
        "B, type(B)"
      ],
      "metadata": {
        "colab": {
          "base_uri": "https://localhost:8080/"
        },
        "id": "35UGIcJJ8rfK",
        "outputId": "291723e5-eb45-4649-c4f5-b5b64716ce11"
      },
      "execution_count": 5,
      "outputs": [
        {
          "output_type": "execute_result",
          "data": {
            "text/plain": [
              "(tensor([1, 2, 3]), torch.Tensor)"
            ]
          },
          "metadata": {},
          "execution_count": 5
        }
      ]
    },
    {
      "cell_type": "markdown",
      "source": [
        "### 12.5.4 Implementation from Scratch"
      ],
      "metadata": {
        "id": "mafv0UrsQYG7"
      }
    },
    {
      "cell_type": "markdown",
      "source": [
        "* `torch.tensor.sub_()`: In-place version of `sub()`\n",
        "* `torch.sub(input, other, alpha=1)`: Subtracts `other`, scaled by `alpha` from `input`.\n",
        "$$\n",
        "out_i = input_i - alpha \\times other_i\n",
        "$$"
      ],
      "metadata": {
        "id": "-9LO3WBeQlVk"
      }
    },
    {
      "cell_type": "code",
      "source": [
        "A = torch.tensor([1, 2])\n",
        "B = torch.tensor([0, 1])\n",
        "torch.sub(A, B, alpha=2)"
      ],
      "metadata": {
        "id": "SS5BqGRLRgMx",
        "outputId": "3db37873-1a80-4f3b-d0dd-0008dd8fe42a",
        "colab": {
          "base_uri": "https://localhost:8080/"
        }
      },
      "execution_count": 6,
      "outputs": [
        {
          "output_type": "execute_result",
          "data": {
            "text/plain": [
              "tensor([1, 0])"
            ]
          },
          "metadata": {},
          "execution_count": 6
        }
      ]
    },
    {
      "cell_type": "markdown",
      "source": [
        "* It is beneficial to zero out gradients when building a neural network. This is because by default, gradients are accumulated in buffers (i.e., not overwritten) whenever `backward()` is called.\n",
        "* `p.grad.data.zero_()`: Zeros out the gradient of the given weight after each interation."
      ],
      "metadata": {
        "id": "qLCuYwf1S6hK"
      }
    },
    {
      "cell_type": "markdown",
      "source": [
        "### 12.5.5 Concise Implementation"
      ],
      "metadata": {
        "id": "B_tB9zwoEr3Y"
      }
    },
    {
      "cell_type": "markdown",
      "source": [
        "* Class `torch.nn.MSELoss(reduction='none)`: Creates a criterion that measures the mean squared error (squared L2 norm) between each element in the input $x$ and target $y$.\n",
        "* The unreduced (i.e., with `reduction` set to `none`) loss can be described as:\n",
        "$$\n",
        "l(x,y) = L = \\{l_1, ..., l_N\\}^T, l_n = (x_n - y_n)^2\n",
        "$$"
      ],
      "metadata": {
        "id": "D_dW1-AbFa3V"
      }
    },
    {
      "cell_type": "code",
      "source": [
        "from d2l import torch as d2l\n",
        "import torch\n",
        "from torch import nn"
      ],
      "metadata": {
        "id": "-cT0cmt0Ewrd"
      },
      "execution_count": 7,
      "outputs": []
    },
    {
      "cell_type": "code",
      "source": [
        "loss = nn.MSELoss()\n",
        "input = torch.randn(3, 5, requires_grad=True)\n",
        "target = torch.randn(3, 5)\n",
        "output = loss(input, target)\n",
        "output.backward()"
      ],
      "metadata": {
        "id": "B2aYD1szHbCh"
      },
      "execution_count": 8,
      "outputs": []
    },
    {
      "cell_type": "markdown",
      "source": [
        "* `torch.optim.optimizer.step()`: Performs a single optimization step (parameter update)"
      ],
      "metadata": {
        "id": "ybrOUU70ITe-"
      }
    },
    {
      "cell_type": "markdown",
      "source": [
        "* `torch.optim`: Is a package implementing various optimization algorithms."
      ],
      "metadata": {
        "id": "N18CgVtrI4oE"
      }
    },
    {
      "cell_type": "markdown",
      "source": [
        "* Class `torch.optim.SGD`: Implements stochastic gradient descent (optionally) with momentum."
      ],
      "metadata": {
        "id": "S6zvHNbNJi2Y"
      }
    }
  ]
}
