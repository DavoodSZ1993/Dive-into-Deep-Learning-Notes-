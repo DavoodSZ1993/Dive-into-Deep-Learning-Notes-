{
  "nbformat": 4,
  "nbformat_minor": 0,
  "metadata": {
    "colab": {
      "provenance": [],
      "authorship_tag": "ABX9TyNb3/DCx/DBPM9mPh0fNYif",
      "include_colab_link": true
    },
    "kernelspec": {
      "name": "python3",
      "display_name": "Python 3"
    },
    "language_info": {
      "name": "python"
    }
  },
  "cells": [
    {
      "cell_type": "markdown",
      "metadata": {
        "id": "view-in-github",
        "colab_type": "text"
      },
      "source": [
        "<a href=\"https://colab.research.google.com/github/DavoodSZ1993/Dive-into-Deep-Learning-Notes-/blob/main/12_9_adadelta_notes.ipynb\" target=\"_parent\"><img src=\"https://colab.research.google.com/assets/colab-badge.svg\" alt=\"Open In Colab\"/></a>"
      ]
    },
    {
      "cell_type": "code",
      "execution_count": null,
      "metadata": {
        "id": "WwH85wepWkZJ"
      },
      "outputs": [],
      "source": [
        "!pip install d2l==1.0.0-alpha1.post0 --quiet"
      ]
    },
    {
      "cell_type": "markdown",
      "source": [
        "## 12.9 Adadelta"
      ],
      "metadata": {
        "id": "6i3HV9h-WqQq"
      }
    },
    {
      "cell_type": "markdown",
      "source": [
        "* Class `torch.optim.Adadelta(params, rho=0.9)`: Implements Adadelta algorithm.\n",
        "* **params(iterable)**: iterable of parameters to optimize or dicts defining parameter groups.\n",
        "* **rho(float, optional)**: Coefficient used for computing a running average of squared gradients (default: 0.9)"
      ],
      "metadata": {
        "id": "TELJLLJVX6ag"
      }
    }
  ]
}
