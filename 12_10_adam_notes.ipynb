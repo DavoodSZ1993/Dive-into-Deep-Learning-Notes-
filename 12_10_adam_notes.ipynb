{
  "nbformat": 4,
  "nbformat_minor": 0,
  "metadata": {
    "colab": {
      "provenance": [],
      "authorship_tag": "ABX9TyMsuZoRx375OQynSSvThhdU",
      "include_colab_link": true
    },
    "kernelspec": {
      "name": "python3",
      "display_name": "Python 3"
    },
    "language_info": {
      "name": "python"
    }
  },
  "cells": [
    {
      "cell_type": "markdown",
      "metadata": {
        "id": "view-in-github",
        "colab_type": "text"
      },
      "source": [
        "<a href=\"https://colab.research.google.com/github/DavoodSZ1993/Dive-into-Deep-Learning-Notes-/blob/main/12_10_adam_notes.ipynb\" target=\"_parent\"><img src=\"https://colab.research.google.com/assets/colab-badge.svg\" alt=\"Open In Colab\"/></a>"
      ]
    },
    {
      "cell_type": "code",
      "execution_count": null,
      "metadata": {
        "id": "CK9835T4mW1-"
      },
      "outputs": [],
      "source": [
        "!pip install d2l==1.0.0-alpha1.post0 --quiet"
      ]
    },
    {
      "cell_type": "markdown",
      "source": [
        "## 12.10 Adam"
      ],
      "metadata": {
        "id": "HsMHVpGomdq6"
      }
    },
    {
      "cell_type": "markdown",
      "source": [
        "* Class `torch.optim.Adam(params, lr=0.001, betas=(0.9, 0.999)`: Implements Adam algorithm.\n",
        "* ** params(iterable)**: iterable of parameters to optimize or dict defining parameter groups.\n",
        "* **lr(float, optional)**: learning rate (default: 1e-3).\n",
        "* **betas (Tuple[float, float], optional)**: Coefficients used for computing running averages of gradients and its square (default: (0.9, 0.999))."
      ],
      "metadata": {
        "id": "gGHBuiJInGf-"
      }
    },
    {
      "cell_type": "markdown",
      "source": [
        "* `torch.square(input)`: Returns a new tensor with the square of the elements of the `input`."
      ],
      "metadata": {
        "id": "EJ1h_zessuQ-"
      }
    },
    {
      "cell_type": "code",
      "source": [
        "import torch\n",
        "\n",
        "A = torch.randn(4)\n",
        "B = torch.square(A)\n",
        "A, B"
      ],
      "metadata": {
        "colab": {
          "base_uri": "https://localhost:8080/"
        },
        "id": "crIBNSsMs4pF",
        "outputId": "8453cd10-19bb-4307-b610-d57ee753add0"
      },
      "execution_count": 2,
      "outputs": [
        {
          "output_type": "execute_result",
          "data": {
            "text/plain": [
              "(tensor([ 0.3254, -0.4503, -0.5704, -0.0145]),\n",
              " tensor([1.0589e-01, 2.0279e-01, 3.2533e-01, 2.1080e-04]))"
            ]
          },
          "metadata": {},
          "execution_count": 2
        }
      ]
    },
    {
      "cell_type": "markdown",
      "source": [
        "* `torch.sqrt(input)`: Returns a new tensor with the square-root of the elements of `input`."
      ],
      "metadata": {
        "id": "IVmo9qhjtg0W"
      }
    },
    {
      "cell_type": "code",
      "source": [
        "A = torch.randn(4)\n",
        "B = torch.sqrt(A)\n",
        "A, B"
      ],
      "metadata": {
        "colab": {
          "base_uri": "https://localhost:8080/"
        },
        "id": "VviRnFKQty1W",
        "outputId": "db89a93b-0035-4838-eea6-609d4de6958c"
      },
      "execution_count": 3,
      "outputs": [
        {
          "output_type": "execute_result",
          "data": {
            "text/plain": [
              "(tensor([ 0.2337,  0.4840, -0.2434, -0.1499]),\n",
              " tensor([0.4834, 0.6957,    nan,    nan]))"
            ]
          },
          "metadata": {},
          "execution_count": 3
        }
      ]
    },
    {
      "cell_type": "markdown",
      "source": [
        "* `torch.sign(input)`: Returns a new tensor with the signs of the elements of `input`."
      ],
      "metadata": {
        "id": "xa9N0_aCuITr"
      }
    },
    {
      "cell_type": "code",
      "source": [
        "A = torch.randn(4)\n",
        "B = torch.sign(A)\n",
        "A, B"
      ],
      "metadata": {
        "id": "IQd7KcyAuRh4",
        "outputId": "51090e6a-7f5a-45cc-b625-088855f24943",
        "colab": {
          "base_uri": "https://localhost:8080/"
        }
      },
      "execution_count": 4,
      "outputs": [
        {
          "output_type": "execute_result",
          "data": {
            "text/plain": [
              "(tensor([ 1.1489,  1.3494, -0.0415, -0.4984]), tensor([ 1.,  1., -1., -1.]))"
            ]
          },
          "metadata": {},
          "execution_count": 4
        }
      ]
    }
  ]
}