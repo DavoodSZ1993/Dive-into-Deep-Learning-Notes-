{
  "nbformat": 4,
  "nbformat_minor": 0,
  "metadata": {
    "colab": {
      "provenance": [],
      "authorship_tag": "ABX9TyMF4YtIX62PFU9xx+hsNaVX",
      "include_colab_link": true
    },
    "kernelspec": {
      "name": "python3",
      "display_name": "Python 3"
    },
    "language_info": {
      "name": "python"
    }
  },
  "cells": [
    {
      "cell_type": "markdown",
      "metadata": {
        "id": "view-in-github",
        "colab_type": "text"
      },
      "source": [
        "<a href=\"https://colab.research.google.com/github/DavoodSZ1993/Dive-into-Deep-Learning-Notes-/blob/main/12_10_adam_notes.ipynb\" target=\"_parent\"><img src=\"https://colab.research.google.com/assets/colab-badge.svg\" alt=\"Open In Colab\"/></a>"
      ]
    },
    {
      "cell_type": "code",
      "execution_count": null,
      "metadata": {
        "id": "CK9835T4mW1-"
      },
      "outputs": [],
      "source": [
        "!pip install d2l==1.0.0-alpha1.post0 --quiet"
      ]
    },
    {
      "cell_type": "markdown",
      "source": [
        "## 12.10 Adam"
      ],
      "metadata": {
        "id": "HsMHVpGomdq6"
      }
    },
    {
      "cell_type": "markdown",
      "source": [
        "* Class `torch.optim.Adam(params, lr=0.001, betas=(0.9, 0.999)`: Implements Adam algorithm.\n",
        "* ** params(iterable)**: iterable of parameters to optimize or dict defining parameter groups.\n",
        "* **lr(float, optional)**: learning rate (default: 1e-3).\n",
        "* **betas (Tuple[float, float], optional)**: Coefficients used for computing running averages of gradients and its square (default: (0.9, 0.999))."
      ],
      "metadata": {
        "id": "gGHBuiJInGf-"
      }
    }
  ]
}