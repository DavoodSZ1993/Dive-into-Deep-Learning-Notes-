{
  "nbformat": 4,
  "nbformat_minor": 0,
  "metadata": {
    "colab": {
      "provenance": [],
      "authorship_tag": "ABX9TyMdY3IWfRhN/Ymu6Ss7Jx0z",
      "include_colab_link": true
    },
    "kernelspec": {
      "name": "python3",
      "display_name": "Python 3"
    },
    "language_info": {
      "name": "python"
    }
  },
  "cells": [
    {
      "cell_type": "markdown",
      "metadata": {
        "id": "view-in-github",
        "colab_type": "text"
      },
      "source": [
        "<a href=\"https://colab.research.google.com/github/DavoodSZ1993/Dive-into-Deep-Learning-Notes-/blob/main/12_5_minibatch_stochastic_gradient_descent_notes.ipynb\" target=\"_parent\"><img src=\"https://colab.research.google.com/assets/colab-badge.svg\" alt=\"Open In Colab\"/></a>"
      ]
    },
    {
      "cell_type": "code",
      "execution_count": 1,
      "metadata": {
        "colab": {
          "base_uri": "https://localhost:8080/"
        },
        "id": "QK7UZyC39YLw",
        "outputId": "add3ede7-002d-4bc0-cb26-26bacb689f1a"
      },
      "outputs": [
        {
          "output_type": "stream",
          "name": "stdout",
          "text": [
            "\u001b[2K     \u001b[90m━━━━━━━━━━━━━━━━━━━━━━━━━━━━━━━━━━━━━━━━\u001b[0m \u001b[32m93.0/93.0 kB\u001b[0m \u001b[31m2.6 MB/s\u001b[0m eta \u001b[36m0:00:00\u001b[0m\n",
            "\u001b[2K     \u001b[90m━━━━━━━━━━━━━━━━━━━━━━━━━━━━━━━━━━━━━━━\u001b[0m \u001b[32m121.2/121.2 kB\u001b[0m \u001b[31m7.7 MB/s\u001b[0m eta \u001b[36m0:00:00\u001b[0m\n",
            "\u001b[2K     \u001b[90m━━━━━━━━━━━━━━━━━━━━━━━━━━━━━━━━━━━━━━━━\u001b[0m \u001b[32m84.9/84.9 kB\u001b[0m \u001b[31m4.3 MB/s\u001b[0m eta \u001b[36m0:00:00\u001b[0m\n",
            "\u001b[2K     \u001b[90m━━━━━━━━━━━━━━━━━━━━━━━━━━━━━━━━━━━━━━━━\u001b[0m \u001b[32m1.6/1.6 MB\u001b[0m \u001b[31m25.6 MB/s\u001b[0m eta \u001b[36m0:00:00\u001b[0m\n",
            "\u001b[?25h"
          ]
        }
      ],
      "source": [
        "!pip install d2l==1.0.0-alpha1.post0 --quiet"
      ]
    },
    {
      "cell_type": "markdown",
      "source": [
        "## 12.5 Minibatch Stochastic Gradient Descent"
      ],
      "metadata": {
        "id": "0y1lI__o9ipD"
      }
    },
    {
      "cell_type": "markdown",
      "source": [
        "### 12.5.1 Vectorization and Caches"
      ],
      "metadata": {
        "id": "1sxNEd_iGIMs"
      }
    },
    {
      "cell_type": "markdown",
      "source": [
        "* `torch.dot(input, other)`: Computes the dot product of two 1D tensors."
      ],
      "metadata": {
        "id": "aSq-1eP7-cMx"
      }
    },
    {
      "cell_type": "code",
      "source": [
        "import torch\n",
        "\n",
        "A = torch.tensor([2, 3])\n",
        "B = torch.tensor([2, 1])\n",
        "C = torch.dot(A, B)\n",
        "C"
      ],
      "metadata": {
        "colab": {
          "base_uri": "https://localhost:8080/"
        },
        "id": "hvY5BdkG94IS",
        "outputId": "c2e5a6a4-11e0-4f81-b8e7-cecce6020740"
      },
      "execution_count": 2,
      "outputs": [
        {
          "output_type": "execute_result",
          "data": {
            "text/plain": [
              "tensor(7)"
            ]
          },
          "metadata": {},
          "execution_count": 2
        }
      ]
    },
    {
      "cell_type": "markdown",
      "source": [
        "* `torch.mv(input, vec)`: Performs a matrix-vector product of the matrix `input` and the vector `vec`.\n",
        "* If `input` is a ($n \\times m$) tensor, `vec` is a 1-D tensor of size $m$, 'out' will be 1-D of size $n$."
      ],
      "metadata": {
        "id": "4S6vVevD_Z7r"
      }
    },
    {
      "cell_type": "code",
      "source": [
        "A = torch.randn(2, 3) # n x m\n",
        "B = torch.randn(3)    # m\n",
        "C = torch.mv(A, B)\n",
        "C"
      ],
      "metadata": {
        "colab": {
          "base_uri": "https://localhost:8080/"
        },
        "id": "Oh9KrAN9EPBX",
        "outputId": "c48d3e78-6d42-4ac1-9f4d-c1ae2543520d"
      },
      "execution_count": 3,
      "outputs": [
        {
          "output_type": "execute_result",
          "data": {
            "text/plain": [
              "tensor([-1.4448, -2.4171])"
            ]
          },
          "metadata": {},
          "execution_count": 3
        }
      ]
    },
    {
      "cell_type": "markdown",
      "source": [
        "* `torch.mm(input, mat)`: Performs a matrix multiplication of the matrices `input` and `mat`.\n",
        "* If `input` is a $(n \\times m)$ tensor, `mat` is a $(m \\times p)$ tensor, `out` will be a $(n \\times p)$ tensor."
      ],
      "metadata": {
        "id": "miWKqfzAFDYj"
      }
    },
    {
      "cell_type": "code",
      "source": [
        "A = torch.randn(2, 3) # n x m\n",
        "B = torch.randn(3, 3)    # m x p\n",
        "C = torch.mm(A, B)\n",
        "C"
      ],
      "metadata": {
        "colab": {
          "base_uri": "https://localhost:8080/"
        },
        "id": "j-VYvvIjF0wS",
        "outputId": "eafe8501-f3fd-412e-e3ab-149cf66cc930"
      },
      "execution_count": 4,
      "outputs": [
        {
          "output_type": "execute_result",
          "data": {
            "text/plain": [
              "tensor([[-2.4065,  1.6474,  3.8753],\n",
              "        [-5.7819, -0.4093,  5.0291]])"
            ]
          },
          "metadata": {},
          "execution_count": 4
        }
      ]
    },
    {
      "cell_type": "markdown",
      "source": [
        "### 12.5.3 Reading the Dataset"
      ],
      "metadata": {
        "id": "JcCRzSyo8nzz"
      }
    },
    {
      "cell_type": "markdown",
      "source": [
        "* `torch.from_numpy(ndarray)`: Creates a Tensor from a Numpy ndarray."
      ],
      "metadata": {
        "id": "eUw3AI5R9LYz"
      }
    },
    {
      "cell_type": "code",
      "source": [
        "import numpy as np\n",
        "\n",
        "A = np.array([1, 2, 3])\n",
        "B = torch.from_numpy(A)\n",
        "B, type(B)"
      ],
      "metadata": {
        "id": "35UGIcJJ8rfK",
        "outputId": "c03b4249-4224-4024-f194-86803cef4b4a",
        "colab": {
          "base_uri": "https://localhost:8080/"
        }
      },
      "execution_count": 7,
      "outputs": [
        {
          "output_type": "execute_result",
          "data": {
            "text/plain": [
              "(tensor([1, 2, 3]), torch.Tensor)"
            ]
          },
          "metadata": {},
          "execution_count": 7
        }
      ]
    }
  ]
}