{
  "nbformat": 4,
  "nbformat_minor": 0,
  "metadata": {
    "colab": {
      "provenance": [],
      "authorship_tag": "ABX9TyM2OWz8/Y8mqFxECyl1Emk0",
      "include_colab_link": true
    },
    "kernelspec": {
      "name": "python3",
      "display_name": "Python 3"
    },
    "language_info": {
      "name": "python"
    }
  },
  "cells": [
    {
      "cell_type": "markdown",
      "metadata": {
        "id": "view-in-github",
        "colab_type": "text"
      },
      "source": [
        "<a href=\"https://colab.research.google.com/github/DavoodSZ1993/Dive-into-Deep-Learning-Notes-/blob/main/12_5_minibatch_stochastic_gradient_descent_notes.ipynb\" target=\"_parent\"><img src=\"https://colab.research.google.com/assets/colab-badge.svg\" alt=\"Open In Colab\"/></a>"
      ]
    },
    {
      "cell_type": "code",
      "execution_count": 1,
      "metadata": {
        "colab": {
          "base_uri": "https://localhost:8080/"
        },
        "id": "QK7UZyC39YLw",
        "outputId": "40e68a28-6828-4e87-8db7-8f2672c3bf4c"
      },
      "outputs": [
        {
          "output_type": "stream",
          "name": "stdout",
          "text": [
            "\u001b[2K     \u001b[90m━━━━━━━━━━━━━━━━━━━━━━━━━━━━━━━━━━━━━━━━\u001b[0m \u001b[32m93.0/93.0 kB\u001b[0m \u001b[31m2.2 MB/s\u001b[0m eta \u001b[36m0:00:00\u001b[0m\n",
            "\u001b[2K     \u001b[90m━━━━━━━━━━━━━━━━━━━━━━━━━━━━━━━━━━━━━━━\u001b[0m \u001b[32m121.2/121.2 kB\u001b[0m \u001b[31m4.4 MB/s\u001b[0m eta \u001b[36m0:00:00\u001b[0m\n",
            "\u001b[2K     \u001b[90m━━━━━━━━━━━━━━━━━━━━━━━━━━━━━━━━━━━━━━━━\u001b[0m \u001b[32m84.9/84.9 kB\u001b[0m \u001b[31m1.2 MB/s\u001b[0m eta \u001b[36m0:00:00\u001b[0m\n",
            "\u001b[2K     \u001b[90m━━━━━━━━━━━━━━━━━━━━━━━━━━━━━━━━━━━━━━━━\u001b[0m \u001b[32m1.6/1.6 MB\u001b[0m \u001b[31m30.0 MB/s\u001b[0m eta \u001b[36m0:00:00\u001b[0m\n",
            "\u001b[?25h"
          ]
        }
      ],
      "source": [
        "!pip install d2l==1.0.0-alpha1.post0 --quiet"
      ]
    },
    {
      "cell_type": "markdown",
      "source": [
        "## 12.5 Minibatch Stochastic Gradient Descent"
      ],
      "metadata": {
        "id": "0y1lI__o9ipD"
      }
    },
    {
      "cell_type": "markdown",
      "source": [
        "### 12.5.1 Vectorization and Caches"
      ],
      "metadata": {
        "id": "1sxNEd_iGIMs"
      }
    },
    {
      "cell_type": "markdown",
      "source": [
        "* `torch.dot(input, other)`: Computes the dot product of two 1D tensors."
      ],
      "metadata": {
        "id": "aSq-1eP7-cMx"
      }
    },
    {
      "cell_type": "code",
      "source": [
        "import torch\n",
        "\n",
        "A = torch.tensor([2, 3])\n",
        "B = torch.tensor([2, 1])\n",
        "C = torch.dot(A, B)\n",
        "C"
      ],
      "metadata": {
        "colab": {
          "base_uri": "https://localhost:8080/"
        },
        "id": "hvY5BdkG94IS",
        "outputId": "374ed1e0-ecb4-43d6-8d4f-4326dbf12567"
      },
      "execution_count": 3,
      "outputs": [
        {
          "output_type": "execute_result",
          "data": {
            "text/plain": [
              "tensor(7)"
            ]
          },
          "metadata": {},
          "execution_count": 3
        }
      ]
    },
    {
      "cell_type": "markdown",
      "source": [
        "* `torch.mv(input, vec)`: Performs a matrix-vector product of the matrix `input` and the vector `vec`.\n",
        "* If `input` is a ($n \\times m$) tensor, `vec` is a 1-D tensor of size $m$, 'out' will be 1-D of size $n$."
      ],
      "metadata": {
        "id": "4S6vVevD_Z7r"
      }
    },
    {
      "cell_type": "code",
      "source": [
        "A = torch.randn(2, 3) # n x m\n",
        "B = torch.randn(3)    # m\n",
        "C = torch.mv(A, B)\n",
        "C"
      ],
      "metadata": {
        "colab": {
          "base_uri": "https://localhost:8080/"
        },
        "id": "Oh9KrAN9EPBX",
        "outputId": "ab33508a-e330-496b-c6bc-7b21960c1c46"
      },
      "execution_count": 4,
      "outputs": [
        {
          "output_type": "execute_result",
          "data": {
            "text/plain": [
              "tensor([0.3809, 3.3896])"
            ]
          },
          "metadata": {},
          "execution_count": 4
        }
      ]
    },
    {
      "cell_type": "markdown",
      "source": [
        "* `torch.mm(input, mat)`: Performs a matrix multiplication of the matrices `input` and `mat`.\n",
        "* If `input` is a $(n \\times m)$ tensor, `mat` is a $(m \\times p)$ tensor, `out` will be a $(n \\times p)$ tensor."
      ],
      "metadata": {
        "id": "miWKqfzAFDYj"
      }
    },
    {
      "cell_type": "code",
      "source": [
        "A = torch.randn(2, 3) # n x m\n",
        "B = torch.randn(3, 3)    # m x p\n",
        "C = torch.mm(A, B)\n",
        "C"
      ],
      "metadata": {
        "colab": {
          "base_uri": "https://localhost:8080/"
        },
        "id": "j-VYvvIjF0wS",
        "outputId": "3da21c44-51ba-457c-f1c2-c492b0216342"
      },
      "execution_count": 5,
      "outputs": [
        {
          "output_type": "execute_result",
          "data": {
            "text/plain": [
              "tensor([[-1.2877, -0.5943, -0.4537],\n",
              "        [-0.4526, -0.2386, -0.0063]])"
            ]
          },
          "metadata": {},
          "execution_count": 5
        }
      ]
    }
  ]
}