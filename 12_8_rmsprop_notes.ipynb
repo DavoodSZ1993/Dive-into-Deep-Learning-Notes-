{
  "nbformat": 4,
  "nbformat_minor": 0,
  "metadata": {
    "colab": {
      "provenance": [],
      "authorship_tag": "ABX9TyNtGNQbM5XSF5D+1F76hTY+",
      "include_colab_link": true
    },
    "kernelspec": {
      "name": "python3",
      "display_name": "Python 3"
    },
    "language_info": {
      "name": "python"
    }
  },
  "cells": [
    {
      "cell_type": "markdown",
      "metadata": {
        "id": "view-in-github",
        "colab_type": "text"
      },
      "source": [
        "<a href=\"https://colab.research.google.com/github/DavoodSZ1993/Dive-into-Deep-Learning-Notes-/blob/main/12_8_rmsprop_notes.ipynb\" target=\"_parent\"><img src=\"https://colab.research.google.com/assets/colab-badge.svg\" alt=\"Open In Colab\"/></a>"
      ]
    },
    {
      "cell_type": "code",
      "execution_count": null,
      "metadata": {
        "id": "7oy8JSJUe8KS"
      },
      "outputs": [],
      "source": [
        "!pip install d2l==1.0.0-alpha1.post0 --quiet"
      ]
    },
    {
      "cell_type": "markdown",
      "source": [
        "## 12.8 RMSProp"
      ],
      "metadata": {
        "id": "blbQdYSufDd_"
      }
    },
    {
      "cell_type": "markdown",
      "source": [
        "* Class `torch.optim.RMSprop(params, lr=0.01, alpha=0.99)`: Implements RMSprop algorithm.\n",
        "* **params(iterable)**: iterable of parameters to optimize or dicts defining parameter groups.\n",
        "* **lr(float, optional)**: learning rate (default: 1e-2)\n",
        "* **alpha(float, optional)**: smoothing constant (default: 0.99)"
      ],
      "metadata": {
        "id": "C7OD2O35hLuP"
      }
    }
  ]
}