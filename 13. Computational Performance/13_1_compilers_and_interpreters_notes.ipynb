{
  "nbformat": 4,
  "nbformat_minor": 0,
  "metadata": {
    "colab": {
      "provenance": [],
      "authorship_tag": "ABX9TyNbVHnc4ZAjAId5jMpZxAO6",
      "include_colab_link": true
    },
    "kernelspec": {
      "name": "python3",
      "display_name": "Python 3"
    },
    "language_info": {
      "name": "python"
    }
  },
  "cells": [
    {
      "cell_type": "markdown",
      "metadata": {
        "id": "view-in-github",
        "colab_type": "text"
      },
      "source": [
        "<a href=\"https://colab.research.google.com/github/DavoodSZ1993/Dive-into-Deep-Learning-Notes-/blob/main/13_1_compilers_and_interpreters_notes.ipynb\" target=\"_parent\"><img src=\"https://colab.research.google.com/assets/colab-badge.svg\" alt=\"Open In Colab\"/></a>"
      ]
    },
    {
      "cell_type": "code",
      "execution_count": null,
      "metadata": {
        "id": "jef9tsXkEt_S"
      },
      "outputs": [],
      "source": [
        "!pip install d2l==1.0.0-alpha1.post0 --quiet"
      ]
    },
    {
      "cell_type": "markdown",
      "source": [
        "## 13.1 Compilers and Interpreters "
      ],
      "metadata": {
        "id": "hu4N_0aeE541"
      }
    },
    {
      "cell_type": "markdown",
      "source": [
        "* `torch.jit.script(obj)`: Scripting a function or `nn.Module` will inspect the source code, compile it as TorchScript code using TorchScript compiler.\n",
        "* `torch.jit.script` can be used as a function for modules, functions, dictionaries, and lists."
      ],
      "metadata": {
        "id": "OsPKrNyyF4NM"
      }
    }
  ]
}
