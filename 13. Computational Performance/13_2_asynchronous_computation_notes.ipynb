{
  "nbformat": 4,
  "nbformat_minor": 0,
  "metadata": {
    "colab": {
      "provenance": [],
      "authorship_tag": "ABX9TyNqYJlW/WYIzof4vyOayV2c",
      "include_colab_link": true
    },
    "kernelspec": {
      "name": "python3",
      "display_name": "Python 3"
    },
    "language_info": {
      "name": "python"
    }
  },
  "cells": [
    {
      "cell_type": "markdown",
      "metadata": {
        "id": "view-in-github",
        "colab_type": "text"
      },
      "source": [
        "<a href=\"https://colab.research.google.com/github/DavoodSZ1993/Dive-into-Deep-Learning-Notes-/blob/main/13_2_asynchronous_computation_notes.ipynb\" target=\"_parent\"><img src=\"https://colab.research.google.com/assets/colab-badge.svg\" alt=\"Open In Colab\"/></a>"
      ]
    },
    {
      "cell_type": "code",
      "execution_count": null,
      "metadata": {
        "id": "YrYtMC4aGt73"
      },
      "outputs": [],
      "source": [
        "!pip install d2l==1.0.0-alpha1.post0 --quiet"
      ]
    },
    {
      "cell_type": "markdown",
      "source": [
        "## 13.2 Asynchronous Computation"
      ],
      "metadata": {
        "id": "C5RJbMNeG_zY"
      }
    },
    {
      "cell_type": "markdown",
      "source": [
        "* `torch.cuda.synchronize(device=None)`: waits for all kernels in all streams on a CUDA device to complete."
      ],
      "metadata": {
        "id": "inlTG3BnHNtv"
      }
    }
  ]
}
