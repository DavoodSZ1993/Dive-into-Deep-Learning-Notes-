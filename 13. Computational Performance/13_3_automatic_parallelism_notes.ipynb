{
  "nbformat": 4,
  "nbformat_minor": 0,
  "metadata": {
    "colab": {
      "provenance": [],
      "authorship_tag": "ABX9TyO8qYL08FfV8Re6zgwykGa+",
      "include_colab_link": true
    },
    "kernelspec": {
      "name": "python3",
      "display_name": "Python 3"
    },
    "language_info": {
      "name": "python"
    }
  },
  "cells": [
    {
      "cell_type": "markdown",
      "metadata": {
        "id": "view-in-github",
        "colab_type": "text"
      },
      "source": [
        "<a href=\"https://colab.research.google.com/github/DavoodSZ1993/Dive-into-Deep-Learning-Notes-/blob/main/13_3_automatic_parallelism_notes.ipynb\" target=\"_parent\"><img src=\"https://colab.research.google.com/assets/colab-badge.svg\" alt=\"Open In Colab\"/></a>"
      ]
    },
    {
      "cell_type": "code",
      "execution_count": null,
      "metadata": {
        "id": "R3U5lgflRclh"
      },
      "outputs": [],
      "source": [
        "!pip install d2l==1.0.0-alpha1.post0 --quiet"
      ]
    },
    {
      "cell_type": "markdown",
      "source": [
        "## 13.3 Automatic Parallelism"
      ],
      "metadata": {
        "id": "onMdmuSeRlRC"
      }
    },
    {
      "cell_type": "markdown",
      "source": [
        "* Non-blocking allows you to overlap compute and memory transfer to the GPU. The reason you can set the target as non-blocking is so you can overlap the compute of the model and the transfer of the ground truth. If you set the input to also non-blocking, it would yield no benefit due to the fact that the model has a dependency on the input data. Pinned memory allows the non-blocking calls to actually be non-blockings."
      ],
      "metadata": {
        "id": "9CqYMW0OXmH4"
      }
    }
  ]
}
