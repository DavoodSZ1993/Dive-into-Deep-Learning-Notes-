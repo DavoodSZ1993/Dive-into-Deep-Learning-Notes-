{
  "nbformat": 4,
  "nbformat_minor": 0,
  "metadata": {
    "colab": {
      "provenance": [],
      "authorship_tag": "ABX9TyO/n2r30yDHpZzKE8/Df7f9",
      "include_colab_link": true
    },
    "kernelspec": {
      "name": "python3",
      "display_name": "Python 3"
    },
    "language_info": {
      "name": "python"
    }
  },
  "cells": [
    {
      "cell_type": "markdown",
      "metadata": {
        "id": "view-in-github",
        "colab_type": "text"
      },
      "source": [
        "<a href=\"https://colab.research.google.com/github/DavoodSZ1993/Dive-into-Deep-Learning-Notes-/blob/main/14_3_object_detection_and_bounding_boxes_notes.ipynb\" target=\"_parent\"><img src=\"https://colab.research.google.com/assets/colab-badge.svg\" alt=\"Open In Colab\"/></a>"
      ]
    },
    {
      "cell_type": "code",
      "execution_count": null,
      "metadata": {
        "id": "GTdBAwNHZKmG"
      },
      "outputs": [],
      "source": [
        "!pip install d2l==1.0.0-alpha1.post0 --quiet"
      ]
    },
    {
      "cell_type": "markdown",
      "source": [
        "## 14.3 Object Detection and Bounding Boxes"
      ],
      "metadata": {
        "id": "ORzZstGTZVHZ"
      }
    },
    {
      "cell_type": "markdown",
      "source": [
        "* `torch.stack(tensors, dim=0)`: Concatenates a sequence of tensors along a new dimension. All tensors need to be of the same size.\n",
        "* **tensors (sequence of tensors)**: Sequence of tensors to concatenate.\n",
        "* **dim (int)**: Dimension to insert."
      ],
      "metadata": {
        "id": "BoCSOIenZyI-"
      }
    },
    {
      "cell_type": "code",
      "source": [
        "import torch\n",
        "\n",
        "bbox = torch.tensor([60.0, 45.0, 378.0, 516.0])\n",
        "x1, y1, x2, y2 = bbox[0],bbox[1], bbox[2], bbox[3]\n",
        "boxes = torch.stack((x1, y1, x2, y2), dim=-1)\n",
        "boxes"
      ],
      "metadata": {
        "colab": {
          "base_uri": "https://localhost:8080/"
        },
        "id": "aN04fdvDa1bR",
        "outputId": "2298ab7d-5e5e-49e7-8102-19559d9d1d5d"
      },
      "execution_count": 8,
      "outputs": [
        {
          "output_type": "execute_result",
          "data": {
            "text/plain": [
              "tensor([ 60.,  45., 378., 516.])"
            ]
          },
          "metadata": {},
          "execution_count": 8
        }
      ]
    }
  ]
}
