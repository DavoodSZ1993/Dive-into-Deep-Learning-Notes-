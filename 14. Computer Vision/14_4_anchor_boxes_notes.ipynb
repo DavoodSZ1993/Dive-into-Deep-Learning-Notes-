{
  "nbformat": 4,
  "nbformat_minor": 0,
  "metadata": {
    "colab": {
      "provenance": [],
      "authorship_tag": "ABX9TyMF3It+EPkWLvUU+Elkt2ey",
      "include_colab_link": true
    },
    "kernelspec": {
      "name": "python3",
      "display_name": "Python 3"
    },
    "language_info": {
      "name": "python"
    }
  },
  "cells": [
    {
      "cell_type": "markdown",
      "metadata": {
        "id": "view-in-github",
        "colab_type": "text"
      },
      "source": [
        "<a href=\"https://colab.research.google.com/github/DavoodSZ1993/Dive-into-Deep-Learning-Notes-/blob/main/14_4_anchor_boxes_notes.ipynb\" target=\"_parent\"><img src=\"https://colab.research.google.com/assets/colab-badge.svg\" alt=\"Open In Colab\"/></a>"
      ]
    },
    {
      "cell_type": "code",
      "execution_count": null,
      "metadata": {
        "id": "RTJvb2Z5kOTn",
        "colab": {
          "base_uri": "https://localhost:8080/"
        },
        "outputId": "f4329580-f5f5-4c6b-9b59-905bcfcddb0c"
      },
      "outputs": [
        {
          "output_type": "stream",
          "name": "stdout",
          "text": [
            "\u001b[2K     \u001b[90m━━━━━━━━━━━━━━━━━━━━━━━━━━━━━━━━━━━━━━━━\u001b[0m \u001b[32m93.0/93.0 kB\u001b[0m \u001b[31m6.0 MB/s\u001b[0m eta \u001b[36m0:00:00\u001b[0m\n",
            "\u001b[2K     \u001b[90m━━━━━━━━━━━━━━━━━━━━━━━━━━━━━━━━━━━━━━━\u001b[0m \u001b[32m121.9/121.9 kB\u001b[0m \u001b[31m9.2 MB/s\u001b[0m eta \u001b[36m0:00:00\u001b[0m\n",
            "\u001b[2K     \u001b[90m━━━━━━━━━━━━━━━━━━━━━━━━━━━━━━━━━━━━━━━━\u001b[0m \u001b[32m84.9/84.9 kB\u001b[0m \u001b[31m11.7 MB/s\u001b[0m eta \u001b[36m0:00:00\u001b[0m\n",
            "\u001b[2K     \u001b[90m━━━━━━━━━━━━━━━━━━━━━━━━━━━━━━━━━━━━━━━━\u001b[0m \u001b[32m1.6/1.6 MB\u001b[0m \u001b[31m29.5 MB/s\u001b[0m eta \u001b[36m0:00:00\u001b[0m\n",
            "\u001b[?25h"
          ]
        }
      ],
      "source": [
        "!pip install d2l==1.0.0-alpha1.post0 --quiet"
      ]
    },
    {
      "cell_type": "markdown",
      "source": [
        "## 14.4 Anchor Boxes "
      ],
      "metadata": {
        "id": "HnipiVEhkVQM"
      }
    },
    {
      "cell_type": "markdown",
      "source": [
        "* `torch.set_printoptions(precision=None)`: Set options for printing. Items shamelessly are taken from NumPy.\n",
        "* **Precision**: Number of digits of precision for floating point outputs."
      ],
      "metadata": {
        "id": "vjr6Db4ilvKT"
      }
    },
    {
      "cell_type": "code",
      "source": [
        "import torch\n",
        "torch.set_printoptions(2)\n",
        "\n",
        "torch.tensor([1.123456])"
      ],
      "metadata": {
        "colab": {
          "base_uri": "https://localhost:8080/"
        },
        "id": "E9xgmZM5mIdr",
        "outputId": "d21f71d5-6520-4ca8-8c88-f7ce09a7f028"
      },
      "execution_count": 1,
      "outputs": [
        {
          "output_type": "execute_result",
          "data": {
            "text/plain": [
              "tensor([1.12])"
            ]
          },
          "metadata": {},
          "execution_count": 1
        }
      ]
    },
    {
      "cell_type": "markdown",
      "source": [
        "### 14.4.1 Generating Multiple Anchor Boxes"
      ],
      "metadata": {
        "id": "pobKH7hAmfAE"
      }
    },
    {
      "cell_type": "markdown",
      "source": [
        "* `torch.meshgrid(*tensors, indexing=None)`: Creates grids of coordinates specified by the 1D inputs in attr: tensors.\n",
        "* **tensors (list of tensors)**: list of scalar or 1 dimensional tensors. Scalars will be treated as tensors of size (1,) automatically.\n",
        "* **indexing (optional [str])**: The indexing mode, either \"xy\" or \"ij\", defaults to \"ij\".\n",
        "* If \"xy\" is selected, the first dimension corresponds to the cardinality of the second input and the second dimension corresponds to the cardinality of the first input.\n",
        "* If \"ij\" is selected, the dimensions are in the same order as the cardinality of the input.\n",
        "* **Returns**: if the input has $N$ tensors of size $S_0, ..., S_{N-1}$, then the output will also have $N$ tensors, where each tensor is of shape ($S_0, ..., S_{N-1}$)"
      ],
      "metadata": {
        "id": "iedgxpFfr0nz"
      }
    },
    {
      "cell_type": "code",
      "source": [
        "x = torch.tensor([1, 2, 3])\n",
        "y = torch.tensor([4, 5, 6])\n",
        "\n",
        "grid_x, grid_y = torch.meshgrid(x, y, indexing='ij')\n",
        "grid_x, grid_y, grid_x.shape"
      ],
      "metadata": {
        "id": "6UbqSJY1mjkz",
        "colab": {
          "base_uri": "https://localhost:8080/"
        },
        "outputId": "0322c810-c657-4de0-e0bd-d32eb61dd0cc"
      },
      "execution_count": null,
      "outputs": [
        {
          "output_type": "execute_result",
          "data": {
            "text/plain": [
              "(tensor([[1, 1, 1],\n",
              "         [2, 2, 2],\n",
              "         [3, 3, 3]]),\n",
              " tensor([[4, 5, 6],\n",
              "         [4, 5, 6],\n",
              "         [4, 5, 6]]),\n",
              " torch.Size([3, 3]))"
            ]
          },
          "metadata": {},
          "execution_count": 4
        }
      ]
    },
    {
      "cell_type": "code",
      "source": [
        "grid_x = grid_x.reshape(-1)\n",
        "grid_x"
      ],
      "metadata": {
        "colab": {
          "base_uri": "https://localhost:8080/"
        },
        "id": "PpjSLcLgPjOL",
        "outputId": "c51c3c65-b626-4954-d9f9-a6ce756c5484"
      },
      "execution_count": null,
      "outputs": [
        {
          "output_type": "execute_result",
          "data": {
            "text/plain": [
              "tensor([1, 1, 1, 2, 2, 2, 3, 3, 3])"
            ]
          },
          "metadata": {},
          "execution_count": 5
        }
      ]
    },
    {
      "cell_type": "markdown",
      "source": [
        "* `torch.cat(tesnors, dim)`: Concatenates the given sequence of tensors in the given dimension.\n",
        "* All tensors must either have the same shape (except in the concatenating dimension) or be empty."
      ],
      "metadata": {
        "id": "JRxidd8PSiia"
      }
    },
    {
      "cell_type": "code",
      "source": [
        "x = torch.tensor([[1, 2],\n",
        "                  [3, 4]])\n",
        "\n",
        "Y1 = torch.cat((x, x), dim=0)\n",
        "Y2 = torch.cat((x, x), dim=1)\n",
        "Y1, Y2"
      ],
      "metadata": {
        "colab": {
          "base_uri": "https://localhost:8080/"
        },
        "id": "Y1zH2KmgTLFw",
        "outputId": "38dc490e-8346-416a-c328-53e458d78cf8"
      },
      "execution_count": null,
      "outputs": [
        {
          "output_type": "execute_result",
          "data": {
            "text/plain": [
              "(tensor([[1, 2],\n",
              "         [3, 4],\n",
              "         [1, 2],\n",
              "         [3, 4]]),\n",
              " tensor([[1, 2, 1, 2],\n",
              "         [3, 4, 3, 4]]))"
            ]
          },
          "metadata": {},
          "execution_count": 8
        }
      ]
    },
    {
      "cell_type": "markdown",
      "source": [
        "* `torch.stack(tensors, dim=0)`: Concatenates a sequence of tensors along a new dimension.\n",
        "* All tensors need to be os the same size."
      ],
      "metadata": {
        "id": "Xqak1iqyUH88"
      }
    },
    {
      "cell_type": "code",
      "source": [
        "x = torch.tensor([[1, 2],\n",
        "                  [3, 4]])\n",
        "\n",
        "Y1 = torch.stack((x, x), dim=0)\n",
        "Y2 = torch.stack((x, x), dim=1)\n",
        "Y1, Y2"
      ],
      "metadata": {
        "colab": {
          "base_uri": "https://localhost:8080/"
        },
        "id": "Dqa0gVsfUHBm",
        "outputId": "2185f9f2-9ba6-4f1c-f3e0-c310d5555993"
      },
      "execution_count": null,
      "outputs": [
        {
          "output_type": "execute_result",
          "data": {
            "text/plain": [
              "(tensor([[[1, 2],\n",
              "          [3, 4]],\n",
              " \n",
              "         [[1, 2],\n",
              "          [3, 4]]]),\n",
              " tensor([[[1, 2],\n",
              "          [1, 2]],\n",
              " \n",
              "         [[3, 4],\n",
              "          [3, 4]]]))"
            ]
          },
          "metadata": {},
          "execution_count": 9
        }
      ]
    },
    {
      "cell_type": "markdown",
      "source": [
        "* `torch.t(input)`: Expects `input` to be $<= 2D$ tensor and transposes dimensions 0, 1. "
      ],
      "metadata": {
        "id": "FW0lfEs-VdFl"
      }
    },
    {
      "cell_type": "code",
      "source": [
        "x.T"
      ],
      "metadata": {
        "colab": {
          "base_uri": "https://localhost:8080/"
        },
        "id": "BfbQNhJUVsoG",
        "outputId": "bfedb44e-44a8-4db1-8dc1-08a99956ab8a"
      },
      "execution_count": null,
      "outputs": [
        {
          "output_type": "execute_result",
          "data": {
            "text/plain": [
              "tensor([[1, 3],\n",
              "        [2, 4]])"
            ]
          },
          "metadata": {},
          "execution_count": 11
        }
      ]
    },
    {
      "cell_type": "markdown",
      "source": [
        "* `torch.tensor.repeat(*sizes)`: Repeats this tensor along the specified dimensions."
      ],
      "metadata": {
        "id": "MHPhORXEWGH9"
      }
    },
    {
      "cell_type": "code",
      "source": [
        "x.repeat(2, 1)"
      ],
      "metadata": {
        "colab": {
          "base_uri": "https://localhost:8080/"
        },
        "id": "wl2dwPYOWQBu",
        "outputId": "b89ad3d6-49e4-4fbb-cc7c-72a5a872f26e"
      },
      "execution_count": null,
      "outputs": [
        {
          "output_type": "execute_result",
          "data": {
            "text/plain": [
              "tensor([[1, 2],\n",
              "        [3, 4],\n",
              "        [1, 2],\n",
              "        [3, 4]])"
            ]
          },
          "metadata": {},
          "execution_count": 13
        }
      ]
    },
    {
      "cell_type": "markdown",
      "source": [
        "* `torch.repeat_interleave(unput, repeats, dim=0)`: Repeats elements of a tensor."
      ],
      "metadata": {
        "id": "efwUAs02X-JI"
      }
    },
    {
      "cell_type": "code",
      "source": [
        "x.repeat_interleave(2)"
      ],
      "metadata": {
        "colab": {
          "base_uri": "https://localhost:8080/"
        },
        "id": "1XIMsIqnYK8c",
        "outputId": "c177f907-2bd8-4fcb-f229-5e4a55f68dd9"
      },
      "execution_count": null,
      "outputs": [
        {
          "output_type": "execute_result",
          "data": {
            "text/plain": [
              "tensor([1, 1, 2, 2, 3, 3, 4, 4])"
            ]
          },
          "metadata": {},
          "execution_count": 14
        }
      ]
    },
    {
      "cell_type": "markdown",
      "source": [
        "* `torch.unsqueeze(input, dim)`: Returns a new tensor with a dimension of size one inserted at the specified position."
      ],
      "metadata": {
        "id": "i7wjIJziY0iz"
      }
    },
    {
      "cell_type": "code",
      "source": [
        "x.unsqueeze(0).shape"
      ],
      "metadata": {
        "colab": {
          "base_uri": "https://localhost:8080/"
        },
        "id": "f5o90bx4ZBfs",
        "outputId": "baafd1c4-8bd8-4308-9b30-fbecf5fd8c57"
      },
      "execution_count": null,
      "outputs": [
        {
          "output_type": "execute_result",
          "data": {
            "text/plain": [
              "torch.Size([1, 2, 2])"
            ]
          },
          "metadata": {},
          "execution_count": 16
        }
      ]
    },
    {
      "cell_type": "code",
      "source": [
        "in_height, in_width = 561, 728\n",
        "sizes, ratios = [0.75, 0.5, 0.25], [1, 2, 0.5]\n",
        "\n",
        "num_sizes, num_ratios = len(sizes), len(ratios)\n",
        "boxes_per_pixel = (num_sizes + num_ratios - 1)\n",
        "size_tensor = torch.tensor(sizes)\n",
        "ratio_tensor = torch.tensor(ratios)"
      ],
      "metadata": {
        "id": "bTurFrmsad19"
      },
      "execution_count": null,
      "outputs": []
    },
    {
      "cell_type": "code",
      "source": [
        "offset_h, offset_w = 0.5, 0.5\n",
        "steps_h = 1.0 / in_height   # 1 / 561\n",
        "steps_w = 1.0 / in_width    # 1 / 728\n",
        "\n",
        "center_h = (torch.arange(in_height) + offset_h) * steps_h\n",
        "center_w = (torch.arange(in_width) + offset_w) * steps_w\n",
        "center_h.shape, center_w.shape"
      ],
      "metadata": {
        "id": "iffjpbxne44q",
        "outputId": "a20cd61f-27ec-4a9d-928a-697c7c190742",
        "colab": {
          "base_uri": "https://localhost:8080/"
        }
      },
      "execution_count": null,
      "outputs": [
        {
          "output_type": "execute_result",
          "data": {
            "text/plain": [
              "(torch.Size([561]), torch.Size([728]))"
            ]
          },
          "metadata": {},
          "execution_count": 25
        }
      ]
    },
    {
      "cell_type": "code",
      "source": [
        "shift_y, shift_x = torch.meshgrid(center_h, center_w, indexing='ij')\n",
        "shift_y, shift_x = shift_y.reshape(-1), shift_x.reshape(-1)"
      ],
      "metadata": {
        "id": "Pfdm1ChAfmuM"
      },
      "execution_count": null,
      "outputs": []
    },
    {
      "cell_type": "code",
      "source": [
        "size_tensor * torch.sqrt(ratio_tensor[0]) # n"
      ],
      "metadata": {
        "id": "bob5X9OJhgtH",
        "outputId": "6cd02b9b-11cc-4572-f93d-7b51a1a85d47",
        "colab": {
          "base_uri": "https://localhost:8080/"
        }
      },
      "execution_count": null,
      "outputs": [
        {
          "output_type": "execute_result",
          "data": {
            "text/plain": [
              "tensor([0.75, 0.50, 0.25])"
            ]
          },
          "metadata": {},
          "execution_count": 31
        }
      ]
    },
    {
      "cell_type": "code",
      "source": [
        "sizes[0] * torch.sqrt(ratio_tensor[1:])  # m - 1"
      ],
      "metadata": {
        "id": "t1UtU27shr1Y",
        "outputId": "31ee2235-0544-4d75-b715-331150faabd2",
        "colab": {
          "base_uri": "https://localhost:8080/"
        }
      },
      "execution_count": null,
      "outputs": [
        {
          "output_type": "execute_result",
          "data": {
            "text/plain": [
              "tensor([1.06, 0.53])"
            ]
          },
          "metadata": {},
          "execution_count": 33
        }
      ]
    },
    {
      "cell_type": "markdown",
      "source": [
        "### 14.4.2 Intersection over Union (IoU)"
      ],
      "metadata": {
        "id": "IxWWDQniJQcI"
      }
    },
    {
      "cell_type": "markdown",
      "source": [
        "* `torch.clamp(input, min=None, max=None)`: Clamps all elements in `input` into the range [`min`, `max`]."
      ],
      "metadata": {
        "id": "MypPXxuKJuIw"
      }
    },
    {
      "cell_type": "code",
      "source": [
        "A = torch.randn(4)\n",
        "A"
      ],
      "metadata": {
        "colab": {
          "base_uri": "https://localhost:8080/"
        },
        "id": "eCeEJiSqKPcS",
        "outputId": "e0302bc3-0e26-4709-c0ef-04a57c75e33c"
      },
      "execution_count": 2,
      "outputs": [
        {
          "output_type": "execute_result",
          "data": {
            "text/plain": [
              "tensor([ 2.14, -2.83,  0.39,  1.29])"
            ]
          },
          "metadata": {},
          "execution_count": 2
        }
      ]
    },
    {
      "cell_type": "code",
      "source": [
        "A.clamp(min=-0.5, max=0.5)"
      ],
      "metadata": {
        "colab": {
          "base_uri": "https://localhost:8080/"
        },
        "id": "Bd5PGQAFKUFO",
        "outputId": "89aca423-5d13-4004-e7be-e6aa27bb3b6d"
      },
      "execution_count": 3,
      "outputs": [
        {
          "output_type": "execute_result",
          "data": {
            "text/plain": [
              "tensor([ 0.50, -0.50,  0.39,  0.50])"
            ]
          },
          "metadata": {},
          "execution_count": 3
        }
      ]
    },
    {
      "cell_type": "markdown",
      "source": [
        "### 14.4.3 Labeling Anchor Boxes in Training Data"
      ],
      "metadata": {
        "id": "Jobos180L0ej"
      }
    },
    {
      "cell_type": "markdown",
      "source": [
        "* `torch.full(size, fill_value)`: Creates a tensor of size `size` filled with `fill_value`. The tensor's `dtype` is infered from `fill_value`."
      ],
      "metadata": {
        "id": "5WdygI1rL7Rc"
      }
    },
    {
      "cell_type": "code",
      "source": [
        "torch.full((2, 2), -1)"
      ],
      "metadata": {
        "colab": {
          "base_uri": "https://localhost:8080/"
        },
        "id": "y6ZNjtd_MOfU",
        "outputId": "e107c345-9a0b-4edc-c638-41847f017b7a"
      },
      "execution_count": 5,
      "outputs": [
        {
          "output_type": "execute_result",
          "data": {
            "text/plain": [
              "tensor([[-1, -1],\n",
              "        [-1, -1]])"
            ]
          },
          "metadata": {},
          "execution_count": 5
        }
      ]
    },
    {
      "cell_type": "markdown",
      "source": [
        "* `torch.nonzero(input)`: Returns a tensor containing the indices of all non-zero elements of the input."
      ],
      "metadata": {
        "id": "bvv34mzSNAvL"
      }
    },
    {
      "cell_type": "code",
      "source": [
        "a = torch.tensor([1, 1, 1, 0, 1])\n",
        "torch.nonzero(a)"
      ],
      "metadata": {
        "colab": {
          "base_uri": "https://localhost:8080/"
        },
        "id": "hTvQ3JRPNMhb",
        "outputId": "d7fdd144-8066-440e-db9f-fc3b1ccb7cc9"
      },
      "execution_count": 6,
      "outputs": [
        {
          "output_type": "execute_result",
          "data": {
            "text/plain": [
              "tensor([[0],\n",
              "        [1],\n",
              "        [2],\n",
              "        [4]])"
            ]
          },
          "metadata": {},
          "execution_count": 6
        }
      ]
    },
    {
      "cell_type": "markdown",
      "source": [
        "* `self.long()` is equivalent to `self.to(torch.int64)`"
      ],
      "metadata": {
        "id": "u0q3kXxVNrTE"
      }
    },
    {
      "cell_type": "markdown",
      "source": [
        "### 14.4.4 Predicting Bounding Boxes with Non-Maximum Suppression"
      ],
      "metadata": {
        "id": "sxIVL8CtOemb"
      }
    },
    {
      "cell_type": "markdown",
      "source": [
        "* `torch.argsort(input, dim=-1, descending=None)`: Returns the indices that sort a tensor along a given dimension in ascending order by value."
      ],
      "metadata": {
        "id": "O7C5qsWCOoCK"
      }
    },
    {
      "cell_type": "code",
      "source": [
        "A = torch.randn(4, 4)\n",
        "A"
      ],
      "metadata": {
        "colab": {
          "base_uri": "https://localhost:8080/"
        },
        "id": "3DW4ea7GPZCY",
        "outputId": "3875b18d-8026-4a4a-f1a4-522f80718bc0"
      },
      "execution_count": 8,
      "outputs": [
        {
          "output_type": "execute_result",
          "data": {
            "text/plain": [
              "tensor([[ 0.20,  0.04, -0.52, -0.92],\n",
              "        [ 0.52, -0.85,  1.39,  1.90],\n",
              "        [-0.23,  0.09,  0.76, -0.87],\n",
              "        [ 0.95, -1.16, -0.58, -2.17]])"
            ]
          },
          "metadata": {},
          "execution_count": 8
        }
      ]
    },
    {
      "cell_type": "code",
      "source": [
        "torch.argsort(A, dim=1)"
      ],
      "metadata": {
        "colab": {
          "base_uri": "https://localhost:8080/"
        },
        "id": "2L4Om-hXPfJM",
        "outputId": "519c92bd-e2ae-4359-8f90-32fac5461212"
      },
      "execution_count": 9,
      "outputs": [
        {
          "output_type": "execute_result",
          "data": {
            "text/plain": [
              "tensor([[3, 2, 1, 0],\n",
              "        [1, 0, 2, 3],\n",
              "        [3, 0, 1, 2],\n",
              "        [3, 1, 2, 0]])"
            ]
          },
          "metadata": {},
          "execution_count": 9
        }
      ]
    },
    {
      "cell_type": "code",
      "source": [
        "torch.argsort(A, dim=1, descending=True)"
      ],
      "metadata": {
        "colab": {
          "base_uri": "https://localhost:8080/"
        },
        "id": "i2LDcwGAPjlk",
        "outputId": "d11546e0-7e8c-4528-c672-11745d774b4d"
      },
      "execution_count": 10,
      "outputs": [
        {
          "output_type": "execute_result",
          "data": {
            "text/plain": [
              "tensor([[0, 1, 2, 3],\n",
              "        [3, 2, 0, 1],\n",
              "        [2, 1, 0, 3],\n",
              "        [0, 2, 1, 3]])"
            ]
          },
          "metadata": {},
          "execution_count": 10
        }
      ]
    },
    {
      "cell_type": "markdown",
      "source": [
        "* `torch.numel(input)`: Returns the total number of elements in the input tensor."
      ],
      "metadata": {
        "id": "B6YYbMGVQIY3"
      }
    },
    {
      "cell_type": "code",
      "source": [
        "A = torch.randn(4, 4)\n",
        "A.numel()"
      ],
      "metadata": {
        "id": "dW6LCwmQQRK4",
        "outputId": "bca24c68-8b58-4e8e-b780-90197e451958",
        "colab": {
          "base_uri": "https://localhost:8080/"
        }
      },
      "execution_count": 11,
      "outputs": [
        {
          "output_type": "execute_result",
          "data": {
            "text/plain": [
              "16"
            ]
          },
          "metadata": {},
          "execution_count": 11
        }
      ]
    },
    {
      "cell_type": "markdown",
      "source": [
        "* `torch.unique(input, return_counts=False)`: Returns the unique elements of the input tensor.\n",
        "* **return_counts (bool)**: whether to also return the counts for each unique element."
      ],
      "metadata": {
        "id": "tJNHt9-IUkjx"
      }
    },
    {
      "cell_type": "code",
      "source": [
        "A = torch.tensor([1, 3, 2, 3])\n",
        "A.unique(return_counts=True)"
      ],
      "metadata": {
        "id": "RkOTRavzVKQQ",
        "outputId": "b9e5e170-2b0c-44cb-c53b-01849f3dda66",
        "colab": {
          "base_uri": "https://localhost:8080/"
        }
      },
      "execution_count": 12,
      "outputs": [
        {
          "output_type": "execute_result",
          "data": {
            "text/plain": [
              "(tensor([1, 2, 3]), tensor([1, 1, 2]))"
            ]
          },
          "metadata": {},
          "execution_count": 12
        }
      ]
    },
    {
      "cell_type": "code",
      "source": [
        "label = ('dog=', 'cat=')[0] \n",
        "label"
      ],
      "metadata": {
        "id": "N7DI2XbpWGmU",
        "outputId": "f3a7dab7-c97f-4d34-b8b3-846fcf8a9cf0",
        "colab": {
          "base_uri": "https://localhost:8080/",
          "height": 36
        }
      },
      "execution_count": 16,
      "outputs": [
        {
          "output_type": "execute_result",
          "data": {
            "text/plain": [
              "'dog='"
            ],
            "application/vnd.google.colaboratory.intrinsic+json": {
              "type": "string"
            }
          },
          "metadata": {},
          "execution_count": 16
        }
      ]
    },
    {
      "cell_type": "code",
      "source": [
        "label = ('dog=', 'cat=')[1] \n",
        "label"
      ],
      "metadata": {
        "id": "zFneFM60Wc0m",
        "outputId": "90aefa0d-1b8f-4956-a7e7-b82f08f45ac9",
        "colab": {
          "base_uri": "https://localhost:8080/",
          "height": 36
        }
      },
      "execution_count": 18,
      "outputs": [
        {
          "output_type": "execute_result",
          "data": {
            "text/plain": [
              "'cat='"
            ],
            "application/vnd.google.colaboratory.intrinsic+json": {
              "type": "string"
            }
          },
          "metadata": {},
          "execution_count": 18
        }
      ]
    }
  ]
}
