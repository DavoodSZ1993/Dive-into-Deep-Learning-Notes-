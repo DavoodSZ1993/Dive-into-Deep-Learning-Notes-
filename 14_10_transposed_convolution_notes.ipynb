{
  "nbformat": 4,
  "nbformat_minor": 0,
  "metadata": {
    "colab": {
      "provenance": [],
      "authorship_tag": "ABX9TyPAEjL3/3oxV/Y0g3EHEm6r",
      "include_colab_link": true
    },
    "kernelspec": {
      "name": "python3",
      "display_name": "Python 3"
    },
    "language_info": {
      "name": "python"
    }
  },
  "cells": [
    {
      "cell_type": "markdown",
      "metadata": {
        "id": "view-in-github",
        "colab_type": "text"
      },
      "source": [
        "<a href=\"https://colab.research.google.com/github/DavoodSZ1993/Dive-into-Deep-Learning-Notes-/blob/main/14_10_transposed_convolution_notes.ipynb\" target=\"_parent\"><img src=\"https://colab.research.google.com/assets/colab-badge.svg\" alt=\"Open In Colab\"/></a>"
      ]
    },
    {
      "cell_type": "code",
      "execution_count": null,
      "metadata": {
        "id": "_sulRAMHACwb"
      },
      "outputs": [],
      "source": [
        "!pip install d2l==1.0.0-alpha1.post0 --quiet"
      ]
    },
    {
      "cell_type": "markdown",
      "source": [
        "## 14.10 Transposed Convolution"
      ],
      "metadata": {
        "id": "iwYjQ2Y8AMfa"
      }
    },
    {
      "cell_type": "markdown",
      "source": [
        "### 14.10.1 Basic Operation"
      ],
      "metadata": {
        "id": "Hm2pob94AQPb"
      }
    }
  ]
}