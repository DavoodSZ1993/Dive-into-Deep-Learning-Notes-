{
  "nbformat": 4,
  "nbformat_minor": 0,
  "metadata": {
    "colab": {
      "provenance": [],
      "authorship_tag": "ABX9TyPBmbyE/VPWIHGO5534VwlE",
      "include_colab_link": true
    },
    "kernelspec": {
      "name": "python3",
      "display_name": "Python 3"
    },
    "language_info": {
      "name": "python"
    }
  },
  "cells": [
    {
      "cell_type": "markdown",
      "metadata": {
        "id": "view-in-github",
        "colab_type": "text"
      },
      "source": [
        "<a href=\"https://colab.research.google.com/github/DavoodSZ1993/Dive-into-Deep-Learning-Notes-/blob/main/14_10_transposed_convolution_notes.ipynb\" target=\"_parent\"><img src=\"https://colab.research.google.com/assets/colab-badge.svg\" alt=\"Open In Colab\"/></a>"
      ]
    },
    {
      "cell_type": "code",
      "execution_count": null,
      "metadata": {
        "id": "_sulRAMHACwb"
      },
      "outputs": [],
      "source": [
        "!pip install d2l==1.0.0-alpha1.post0 --quiet"
      ]
    },
    {
      "cell_type": "markdown",
      "source": [
        "## 14.10 Transposed Convolution"
      ],
      "metadata": {
        "id": "iwYjQ2Y8AMfa"
      }
    },
    {
      "cell_type": "markdown",
      "source": [
        "### 14.10.1 Basic Operation"
      ],
      "metadata": {
        "id": "Hm2pob94AQPb"
      }
    },
    {
      "cell_type": "markdown",
      "source": [
        "* Class `torch.nn.ConvTranspose2d(in_channels, out_channels, kernel_size, stride=1, padding =0, bias=True)`: Applies a 2D transposed convolution operator over an input image composed of several input layers.\n",
        "* stride (int or tuple, optional): stride of the convolution, default = 1.\n",
        "* bias (bool, optional): if `True`, adds a learnable bias to the output, default: `True`.\n",
        "* input: $(N, C_{in}, H_{in}, W_{in})$ or $(C_{in}, H_{in}, W_{in})$\n",
        "* output: $(N, C_{out}, H_{out}, W_{out})$ or $(C_{out}, H_{out}, W_{out})$"
      ],
      "metadata": {
        "id": "woI36-9eBfUc"
      }
    }
  ]
}