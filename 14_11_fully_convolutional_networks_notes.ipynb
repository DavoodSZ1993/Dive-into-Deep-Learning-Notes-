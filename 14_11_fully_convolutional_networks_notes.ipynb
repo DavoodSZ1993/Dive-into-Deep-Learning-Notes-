{
  "nbformat": 4,
  "nbformat_minor": 0,
  "metadata": {
    "colab": {
      "provenance": [],
      "authorship_tag": "ABX9TyO7Hg0JIww9TkB+0tF0oRGc",
      "include_colab_link": true
    },
    "kernelspec": {
      "name": "python3",
      "display_name": "Python 3"
    },
    "language_info": {
      "name": "python"
    }
  },
  "cells": [
    {
      "cell_type": "markdown",
      "metadata": {
        "id": "view-in-github",
        "colab_type": "text"
      },
      "source": [
        "<a href=\"https://colab.research.google.com/github/DavoodSZ1993/Dive-into-Deep-Learning-Notes-/blob/main/14_11_fully_convolutional_networks_notes.ipynb\" target=\"_parent\"><img src=\"https://colab.research.google.com/assets/colab-badge.svg\" alt=\"Open In Colab\"/></a>"
      ]
    },
    {
      "cell_type": "code",
      "execution_count": 2,
      "metadata": {
        "colab": {
          "base_uri": "https://localhost:8080/"
        },
        "id": "-0g1EbTTzeB2",
        "outputId": "05786ce6-719c-4529-ed15-d705d27283fd"
      },
      "outputs": [
        {
          "output_type": "stream",
          "name": "stdout",
          "text": [
            "\u001b[2K     \u001b[90m━━━━━━━━━━━━━━━━━━━━━━━━━━━━━━━━━━━━━━━━\u001b[0m \u001b[32m93.0/93.0 kB\u001b[0m \u001b[31m9.4 MB/s\u001b[0m eta \u001b[36m0:00:00\u001b[0m\n",
            "\u001b[2K     \u001b[90m━━━━━━━━━━━━━━━━━━━━━━━━━━━━━━━━━━━━━━\u001b[0m \u001b[32m121.9/121.9 kB\u001b[0m \u001b[31m14.0 MB/s\u001b[0m eta \u001b[36m0:00:00\u001b[0m\n",
            "\u001b[2K     \u001b[90m━━━━━━━━━━━━━━━━━━━━━━━━━━━━━━━━━━━━━━━━\u001b[0m \u001b[32m84.9/84.9 kB\u001b[0m \u001b[31m10.1 MB/s\u001b[0m eta \u001b[36m0:00:00\u001b[0m\n",
            "\u001b[2K     \u001b[90m━━━━━━━━━━━━━━━━━━━━━━━━━━━━━━━━━━━━━━━━\u001b[0m \u001b[32m1.6/1.6 MB\u001b[0m \u001b[31m69.6 MB/s\u001b[0m eta \u001b[36m0:00:00\u001b[0m\n",
            "\u001b[?25h"
          ]
        }
      ],
      "source": [
        "!pip install d2l==1.0.0-alpha1.post0 --quiet"
      ]
    },
    {
      "cell_type": "markdown",
      "source": [
        "## 14.11 Fully Convolutional Networks"
      ],
      "metadata": {
        "id": "mXcs1m1YzoNJ"
      }
    },
    {
      "cell_type": "markdown",
      "source": [
        "### Bilinear Interpolation"
      ],
      "metadata": {
        "id": "2qDf_Xvc1lT7"
      }
    },
    {
      "cell_type": "code",
      "source": [
        "import numpy as np\n",
        "\n",
        "A = np.array([[1, 2, 3],\n",
        "              [4, 5, 6],\n",
        "              [7, 8, 9],\n",
        "              [10, 11, 12]])\n",
        "\n",
        "print(A)\n",
        "r, c = A.shape\n",
        "print()\n",
        "print('Old dimensions: ', (r, c))\n",
        "print()\n",
        "\n",
        "rNew = 2*r - 1\n",
        "cNew = 2*c - 1\n",
        "B = np.zeros((rNew, cNew))\n",
        "print(B)\n",
        "print()\n",
        "print('New dimensions: ', (rNew, cNew))\n",
        "print()\n",
        "\n",
        "B[0:rNew:2, 0:cNew:2] = A[0:r, 0:c]\n",
        "print(B)"
      ],
      "metadata": {
        "colab": {
          "base_uri": "https://localhost:8080/"
        },
        "id": "db2K3aZJ1ouQ",
        "outputId": "d3190b8f-7bf5-4e5b-dcef-cd7d1fb9e3a2"
      },
      "execution_count": 4,
      "outputs": [
        {
          "output_type": "stream",
          "name": "stdout",
          "text": [
            "[[ 1  2  3]\n",
            " [ 4  5  6]\n",
            " [ 7  8  9]\n",
            " [10 11 12]]\n",
            "\n",
            "Old dimensions:  (4, 3)\n",
            "\n",
            "[[0. 0. 0. 0. 0.]\n",
            " [0. 0. 0. 0. 0.]\n",
            " [0. 0. 0. 0. 0.]\n",
            " [0. 0. 0. 0. 0.]\n",
            " [0. 0. 0. 0. 0.]\n",
            " [0. 0. 0. 0. 0.]\n",
            " [0. 0. 0. 0. 0.]]\n",
            "\n",
            "New dimensions:  (7, 5)\n",
            "\n",
            "[[ 1.  0.  2.  0.  3.]\n",
            " [ 0.  0.  0.  0.  0.]\n",
            " [ 4.  0.  5.  0.  6.]\n",
            " [ 0.  0.  0.  0.  0.]\n",
            " [ 7.  0.  8.  0.  9.]\n",
            " [ 0.  0.  0.  0.  0.]\n",
            " [10.  0. 11.  0. 12.]]\n"
          ]
        }
      ]
    },
    {
      "cell_type": "code",
      "source": [
        "from PIL import Image\n",
        "\n",
        "def resizeImage(name):\n",
        "  img1 = Image.open(name)\n",
        "\n",
        "  old = np.asarray(img1) # convert to Numpy array\n",
        "  rows, cols, layers = old.shape\n",
        "  new = np.zeros((2*rows-1, 2*cols-1, layers))\n",
        "  print('original dimensions: ', old.shape)\n",
        "\n",
        "  for layer in range(3):\n",
        "    new[:, :, layer] = resizeLayer(old[:, :, layer])\n",
        "\n",
        "  # Convert the values to unsigned, 8-bit integers\n",
        "  new = new.astype(np.uint8)\n",
        "  print('new dimension: ', new.shape)\n",
        "\n",
        "  img2 = Image.fromarray(new) # Convert back to Image\n",
        "  newName = 'big-' + name\n",
        "  img2.save(newName)\n",
        "\n",
        "def resizeLayer(old):\n",
        "  rows, cols = old.shape\n",
        "\n",
        "  # move old points\n",
        "  rNew = 2 * rows - 1\n",
        "  cNew = 2 * cols - 1\n",
        "  new = np.zeros((rNew, cNew))\n",
        "  new[0:rNew:2, 0:cNew:2] = old[0:rows, 0:cols]\n",
        "\n",
        "  # produce vertical values\n",
        "  new[1:rNew:2, :] = (new[0:rNew -1:2, :] + new[2:rNew:2, :]) / 2\n",
        "\n",
        "  # produce horizontal values\n",
        "  new[:, 1:cNew:2] = (new[:, 0:cNew-1:2] + new[:, 2:cNew:2]) / 2\n",
        "\n",
        "  # produce center values\n",
        "  new[1:rNew:2, 1:cNew:2] = (new[0:rNew-2:2, 0:cNew-2:2] +\n",
        "                             new[0:rNew-2:2, 2:cNew:2] +\n",
        "                             new[2:rNew:2, 0:cNew-2:2] +\n",
        "                             new[2:rNew:2, 2:cNew:2]) / 4\n",
        "  return new"
      ],
      "metadata": {
        "id": "3g-5DsNO5p6y"
      },
      "execution_count": null,
      "outputs": []
    }
  ]
}