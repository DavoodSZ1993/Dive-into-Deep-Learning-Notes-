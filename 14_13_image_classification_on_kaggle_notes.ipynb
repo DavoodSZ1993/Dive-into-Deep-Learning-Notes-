{
  "nbformat": 4,
  "nbformat_minor": 0,
  "metadata": {
    "colab": {
      "provenance": [],
      "authorship_tag": "ABX9TyOyNCxTTyLkIC0c8WDifuoO",
      "include_colab_link": true
    },
    "kernelspec": {
      "name": "python3",
      "display_name": "Python 3"
    },
    "language_info": {
      "name": "python"
    }
  },
  "cells": [
    {
      "cell_type": "markdown",
      "metadata": {
        "id": "view-in-github",
        "colab_type": "text"
      },
      "source": [
        "<a href=\"https://colab.research.google.com/github/DavoodSZ1993/Dive-into-Deep-Learning-Notes-/blob/main/14_13_image_classification_on_kaggle_notes.ipynb\" target=\"_parent\"><img src=\"https://colab.research.google.com/assets/colab-badge.svg\" alt=\"Open In Colab\"/></a>"
      ]
    },
    {
      "cell_type": "code",
      "execution_count": null,
      "metadata": {
        "id": "KH2Fw9aZLnot"
      },
      "outputs": [],
      "source": [
        "!pip install d2l==1.0.0-alpha1.post0 --quiet"
      ]
    },
    {
      "cell_type": "markdown",
      "source": [
        "## 14.13 Image Classification (CIFAR-10) on Kaggle"
      ],
      "metadata": {
        "id": "ErsqjlLdLxOY"
      }
    },
    {
      "cell_type": "markdown",
      "source": [
        "* `shutil` Library: This module offers a number of high-level operations on files and collections of files. In particular, functions are provided which supprot file copying and removal. For operations on individual files, see also the `os` module."
      ],
      "metadata": {
        "id": "xCERUW2HMXdg"
      }
    },
    {
      "cell_type": "markdown",
      "source": [
        "* `f.readlines()`: Returns a list containing each line in the file as a list item."
      ],
      "metadata": {
        "id": "LO2MT5usNr1p"
      }
    },
    {
      "cell_type": "markdown",
      "source": [
        "* `f.rstrip(characters)`: Removes any trailing character (characters at the end of a string). Space is the default trailing character to remove."
      ],
      "metadata": {
        "id": "yhxvP79JOfwx"
      }
    },
    {
      "cell_type": "markdown",
      "source": [
        "* `shutil.copy(src, dst)`: Copies the file `src` to the file or directory `dst`."
      ],
      "metadata": {
        "id": "mcgLiGHzTlV4"
      }
    },
    {
      "cell_type": "markdown",
      "source": [
        "* Class `collections.Counter([iterable-or-mapping])`: It is a collection where elements are stored as dictionary keys and their counts are sotred as dictionary values.\n",
        "* `most_common([n])`: Returns a list of the n most common elements and their counts from the most common to the least."
      ],
      "metadata": {
        "id": "LOa_bIRuUgDe"
      }
    },
    {
      "cell_type": "markdown",
      "source": [
        "* `os.listdir(path)`: Returns a list containing the names of the entries in the directory given by path.\n",
        "* `os.makedirs(name, exist_ok=False)`: Recursive directory creation function.\n",
        "* If `exist_ok=False` (default), a `FileExistError` is raised if the target directory already exists.\n",
        "* `os.path.join(path, *paths)`: Joins one or more path components intelligently. This method concatenates various path components with exactly one directory separator (`/`) following each non-empty part except the last path component. If the last path component to be joined is empty, then a directory separator (`/`) is put at the end."
      ],
      "metadata": {
        "id": "ec6xN3xyg5yJ"
      }
    },
    {
      "cell_type": "markdown",
      "source": [
        "* Python dictionary `get()` method: returns the value for the specified key if the key is in the dictionary."
      ],
      "metadata": {
        "id": "TssTf6SOldCv"
      }
    },
    {
      "cell_type": "code",
      "source": [
        "marks = {'Physics': 67, 'Math': 87}\n",
        "print(marks.get('Physics'))"
      ],
      "metadata": {
        "id": "J6qJ51fglzaV",
        "outputId": "2065563b-5869-4ea5-8ba6-327cf292ac9a",
        "colab": {
          "base_uri": "https://localhost:8080/"
        }
      },
      "execution_count": 1,
      "outputs": [
        {
          "output_type": "stream",
          "name": "stdout",
          "text": [
            "67\n"
          ]
        }
      ]
    }
  ]
}