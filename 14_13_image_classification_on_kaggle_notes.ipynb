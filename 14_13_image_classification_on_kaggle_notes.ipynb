{
  "nbformat": 4,
  "nbformat_minor": 0,
  "metadata": {
    "colab": {
      "provenance": [],
      "authorship_tag": "ABX9TyMhtP+tJQjsUwZG3um2l0p+",
      "include_colab_link": true
    },
    "kernelspec": {
      "name": "python3",
      "display_name": "Python 3"
    },
    "language_info": {
      "name": "python"
    }
  },
  "cells": [
    {
      "cell_type": "markdown",
      "metadata": {
        "id": "view-in-github",
        "colab_type": "text"
      },
      "source": [
        "<a href=\"https://colab.research.google.com/github/DavoodSZ1993/Dive-into-Deep-Learning-Notes-/blob/main/14_13_image_classification_on_kaggle_notes.ipynb\" target=\"_parent\"><img src=\"https://colab.research.google.com/assets/colab-badge.svg\" alt=\"Open In Colab\"/></a>"
      ]
    },
    {
      "cell_type": "code",
      "execution_count": null,
      "metadata": {
        "id": "KH2Fw9aZLnot"
      },
      "outputs": [],
      "source": [
        "!pip install d2l==1.0.0-alpha1.post0 --quiet"
      ]
    },
    {
      "cell_type": "markdown",
      "source": [
        "## 14.13 Image Classification (CIFAR-10) on Kaggle"
      ],
      "metadata": {
        "id": "ErsqjlLdLxOY"
      }
    },
    {
      "cell_type": "markdown",
      "source": [
        "* `shutil` Library: This module offers a number of high-level operations on files and collections of files. In particular, functions are provided which supprot file copying and removal. For operations on individual files, see also the `os` module."
      ],
      "metadata": {
        "id": "xCERUW2HMXdg"
      }
    },
    {
      "cell_type": "markdown",
      "source": [
        "* `f.readlines()`: Returns a list containing each line in the file as a list item."
      ],
      "metadata": {
        "id": "LO2MT5usNr1p"
      }
    },
    {
      "cell_type": "markdown",
      "source": [
        "* `f.rstrip(characters)`: Removes any trailing character (characters at the end of a string). Space is the default trailing character to remove."
      ],
      "metadata": {
        "id": "yhxvP79JOfwx"
      }
    },
    {
      "cell_type": "code",
      "source": [],
      "metadata": {
        "id": "rYH_yGoQNrT8"
      },
      "execution_count": null,
      "outputs": []
    }
  ]
}