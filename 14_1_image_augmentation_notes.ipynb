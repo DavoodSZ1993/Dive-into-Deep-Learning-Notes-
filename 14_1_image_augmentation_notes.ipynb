{
  "nbformat": 4,
  "nbformat_minor": 0,
  "metadata": {
    "colab": {
      "provenance": [],
      "authorship_tag": "ABX9TyNCNC3V0W3YwEET8fUzceHZ",
      "include_colab_link": true
    },
    "kernelspec": {
      "name": "python3",
      "display_name": "Python 3"
    },
    "language_info": {
      "name": "python"
    }
  },
  "cells": [
    {
      "cell_type": "markdown",
      "metadata": {
        "id": "view-in-github",
        "colab_type": "text"
      },
      "source": [
        "<a href=\"https://colab.research.google.com/github/DavoodSZ1993/Dive-into-Deep-Learning-Notes-/blob/main/14_1_image_augmentation_notes.ipynb\" target=\"_parent\"><img src=\"https://colab.research.google.com/assets/colab-badge.svg\" alt=\"Open In Colab\"/></a>"
      ]
    },
    {
      "cell_type": "code",
      "execution_count": 1,
      "metadata": {
        "id": "MwcXH6sbm_xL"
      },
      "outputs": [],
      "source": [
        "!pip install d2l==1.0.0-alpha1.post0 --quiet"
      ]
    },
    {
      "cell_type": "markdown",
      "source": [
        "## 14.1 Image Augmentation"
      ],
      "metadata": {
        "id": "1e0wleMcnHA1"
      }
    },
    {
      "cell_type": "markdown",
      "source": [
        "### 14.1.1 Common Image Augmentation Methods"
      ],
      "metadata": {
        "id": "Gy8G0bw12_Uz"
      }
    },
    {
      "cell_type": "markdown",
      "source": [
        "* `torchvision`: This package consists of popular datasets, model architectures, and common image transformations for computer vision.\n",
        "* `torchvision.transforms`: Contains common image transformations."
      ],
      "metadata": {
        "id": "qzd8mhXDoCQz"
      }
    },
    {
      "cell_type": "markdown",
      "source": [
        "* Class `torch.transforms.RandomHorizontalFlip(p=0.5)`: Horizontally flip the given image with the given probability. \n",
        "* `p(float)`: Probability of the image being flipped. Default value is 0.5."
      ],
      "metadata": {
        "id": "uzjicbO2pcZh"
      }
    },
    {
      "cell_type": "code",
      "source": [
        "import torchvision.transforms as T\n",
        "\n",
        "aug = T.RandomHorizontalFlip()\n"
      ],
      "metadata": {
        "id": "ITB94xdNnL8t"
      },
      "execution_count": 2,
      "outputs": []
    },
    {
      "cell_type": "markdown",
      "source": [
        "* `forward(img)`: `img(PIL Image or Tensor)`"
      ],
      "metadata": {
        "id": "c0noN7pQukeq"
      }
    },
    {
      "cell_type": "markdown",
      "source": [
        "* Class `torchvision.transforms.RandomVerticalFlip(p=0.5)`: Vertically flip the given image randomly with a given probability.\n",
        "* `p(float)`: Porbability of the image being flipped. Default value is 0.5."
      ],
      "metadata": {
        "id": "mu5CGJ6qvhdF"
      }
    },
    {
      "cell_type": "code",
      "source": [
        "aug = T.RandomVerticalFlip()"
      ],
      "metadata": {
        "id": "Db3qlb7qv4Kk"
      },
      "execution_count": 3,
      "outputs": []
    },
    {
      "cell_type": "markdown",
      "source": [
        "* `forward(img)`: `img(PIL Image or Tensor)`"
      ],
      "metadata": {
        "id": "DJIf47w3v_nU"
      }
    },
    {
      "cell_type": "markdown",
      "source": [
        "* Class `torchvision.transforms.RandomResizedCrop(size, scale=(0.8, 1.0), ratio=(0.75, 1.33))`: Crop a random portion of image and resize it to a given size.\n",
        "* A crop of the original image is made. The crop has a random area ($H \\times W$) and a random aspect ratio. This crop is finally resized to the given size.\n",
        "* `size(int)`: Expected output size of the crop.\n",
        "* `scale(tuple of floats)`: Specifies the lower and upper bounds for the random area of the crop, before resizing. The scale is denfined with respect to the area of the original image.\n",
        "* `ratio (tuple of floats)`: Lower and upper bounds for the random aspect ratio of the crop, before resizing."
      ],
      "metadata": {
        "id": "Ze9M7jL5xs-g"
      }
    },
    {
      "cell_type": "code",
      "source": [
        "aug = T.RandomResizedCrop((200, 200), scale=(0.1, 1), ratio=(0.5, 2))"
      ],
      "metadata": {
        "id": "kZXjWzCE0JrY"
      },
      "execution_count": 4,
      "outputs": []
    },
    {
      "cell_type": "markdown",
      "source": [
        "* `forward(img)`: `img(PIL Image or Tensor)`"
      ],
      "metadata": {
        "id": "UtLhOau80dRn"
      }
    },
    {
      "cell_type": "markdown",
      "source": [
        "* Class `torchvision.transforms.ColorJitter(brightness, contrast, saturation, hue)`: Randomly change the brightness, contrast, saturation, and hue of an image.\n",
        "* `brightness(float)`: How much to jitter brightness.\n",
        "* `contrast(float)`: How much to jitter contrast.\n",
        "* `saturation(float)`: How much to jitter saturation.\n",
        "* `hue(float)`: How much to jitter hue."
      ],
      "metadata": {
        "id": "loe8YX2G1lsz"
      }
    },
    {
      "cell_type": "code",
      "source": [
        "aug = T.ColorJitter(brightness=0.5, contrast=0, saturation=0, hue=0)"
      ],
      "metadata": {
        "id": "c1JeeeBb2VPs"
      },
      "execution_count": 5,
      "outputs": []
    },
    {
      "cell_type": "markdown",
      "source": [
        "* `forward(img)`: `img(PIL or Tensor)`"
      ],
      "metadata": {
        "id": "IJU8oeDe2j9i"
      }
    },
    {
      "cell_type": "markdown",
      "source": [
        "### 14.1.2 Training with Image Augmentation"
      ],
      "metadata": {
        "id": "LIcCKKbx3YJB"
      }
    },
    {
      "cell_type": "markdown",
      "source": [
        "* `torchvision.datasets`: This package contains many built-in datasets as well as utility classes for building your own datasets.\n",
        "* Class `torchvision.datasets.CIFAR10(root, train=bool, download=bool, transform=optional)`: CIFAR10 dataset.\n",
        "* `root(string)`: Root directory of dataset where direcory `cifar-10-batches.py` exists or will be saved to if download is set to True.\n",
        "* `train(bool, optional)`: If True, creates dataset from training set, otherwise creates from a test set.\n",
        "* `transform(optional)`: A function/transform that takes in an PIL image and returns a transformed version.\n",
        "* `download(bool, optional)`: If True, downloads the dataset from the internet and puts it in root directory. If dataset is already downloaded, it is not downloaded again.\n",
        "* `__getitem__(index) --> Tuple[Any, Any]`: Returns (image, target) where target is the index of the target class."
      ],
      "metadata": {
        "id": "4rg4Q34R3dxq"
      }
    },
    {
      "cell_type": "markdown",
      "source": [
        "* Class `torchvision.transforms.ToTensor`: Converts a PIL image or ndarray to tensor and scale the values accordingly.\n",
        "* Converts a PIL image or numpy.ndarray ($H \\times W \\times C$) in the range [0, 255] to a torch.FLoatTensor of shape ($C \\times H \\times W$) in the range [0.0, 1.0]."
      ],
      "metadata": {
        "id": "Pse89xXQVQs4"
      }
    },
    {
      "cell_type": "code",
      "source": [
        "aug = T.ToTensor()"
      ],
      "metadata": {
        "id": "kLmv_HleWWeG"
      },
      "execution_count": 6,
      "outputs": []
    },
    {
      "cell_type": "markdown",
      "source": [
        "* Class `torchvision.transforms.Compose(transforms)`: Compose several transforms together."
      ],
      "metadata": {
        "id": "3bGfGN3DXflA"
      }
    },
    {
      "cell_type": "code",
      "source": [
        "import torch\n",
        "aug = T.Compose([\n",
        "    T.CenterCrop(10),\n",
        "    T.PILToTensor(),\n",
        "    T.ConvertImageDtype(torch.float)\n",
        "])"
      ],
      "metadata": {
        "id": "n3_i95MYXrG0"
      },
      "execution_count": 7,
      "outputs": []
    },
    {
      "cell_type": "markdown",
      "source": [
        "* Class `torch.utils.data.DataLoader(dataset, batch_szie, shuffle, num_workers)`: Data loader. Combines a dataset and a sampler, and provides an iterable over the given dataset.\n",
        "\n",
        "* **dataset**: dataset from which to load the data.\n",
        "* **batch_size (int, optional)**: How many samples per batch to load (default=1).\n",
        "* **shuffle (bool, optional)**: Set to `True` to have the data reshuffled at every epoch (default= `False`)\n",
        "* **num_workers (int, optional)**: How many subprocesses to use for data loading. `0` means that the data will be loaded in the main process (default= 0)"
      ],
      "metadata": {
        "id": "DmJHk8uqYu7u"
      }
    },
    {
      "cell_type": "markdown",
      "source": [
        "* Class `torch.nn.DataParallel(module, device_ids=None)`: Implements data parallelism at the module level.\n",
        "* **module**: module to be parallelized.\n",
        "* **device_ids (list of python or torch.device)**: CUDA devices (default: all devices)"
      ],
      "metadata": {
        "id": "ivO5w4cjcaDn"
      }
    }
  ]
}