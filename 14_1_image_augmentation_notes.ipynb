{
  "nbformat": 4,
  "nbformat_minor": 0,
  "metadata": {
    "colab": {
      "provenance": [],
      "authorship_tag": "ABX9TyNT2Qkn/FboibwmXefvtBlI",
      "include_colab_link": true
    },
    "kernelspec": {
      "name": "python3",
      "display_name": "Python 3"
    },
    "language_info": {
      "name": "python"
    }
  },
  "cells": [
    {
      "cell_type": "markdown",
      "metadata": {
        "id": "view-in-github",
        "colab_type": "text"
      },
      "source": [
        "<a href=\"https://colab.research.google.com/github/DavoodSZ1993/Dive-into-Deep-Learning-Notes-/blob/main/14_1_image_augmentation_notes.ipynb\" target=\"_parent\"><img src=\"https://colab.research.google.com/assets/colab-badge.svg\" alt=\"Open In Colab\"/></a>"
      ]
    },
    {
      "cell_type": "code",
      "execution_count": 2,
      "metadata": {
        "colab": {
          "base_uri": "https://localhost:8080/"
        },
        "id": "MwcXH6sbm_xL",
        "outputId": "cbf9a34f-437a-4da6-dade-682cf8e42cd1"
      },
      "outputs": [
        {
          "output_type": "stream",
          "name": "stdout",
          "text": [
            "\u001b[2K     \u001b[90m━━━━━━━━━━━━━━━━━━━━━━━━━━━━━━━━━━━━━━━━\u001b[0m \u001b[32m93.0/93.0 kB\u001b[0m \u001b[31m6.1 MB/s\u001b[0m eta \u001b[36m0:00:00\u001b[0m\n",
            "\u001b[2K     \u001b[90m━━━━━━━━━━━━━━━━━━━━━━━━━━━━━━━━━━━━━━━\u001b[0m \u001b[32m121.9/121.9 kB\u001b[0m \u001b[31m5.9 MB/s\u001b[0m eta \u001b[36m0:00:00\u001b[0m\n",
            "\u001b[2K     \u001b[90m━━━━━━━━━━━━━━━━━━━━━━━━━━━━━━━━━━━━━━━━\u001b[0m \u001b[32m84.9/84.9 kB\u001b[0m \u001b[31m9.1 MB/s\u001b[0m eta \u001b[36m0:00:00\u001b[0m\n",
            "\u001b[2K     \u001b[90m━━━━━━━━━━━━━━━━━━━━━━━━━━━━━━━━━━━━━━━━\u001b[0m \u001b[32m1.6/1.6 MB\u001b[0m \u001b[31m49.8 MB/s\u001b[0m eta \u001b[36m0:00:00\u001b[0m\n",
            "\u001b[?25h"
          ]
        }
      ],
      "source": [
        "!pip install d2l==1.0.0-alpha1.post0 --quiet"
      ]
    },
    {
      "cell_type": "markdown",
      "source": [
        "## 14.1 Image Augmentation"
      ],
      "metadata": {
        "id": "1e0wleMcnHA1"
      }
    },
    {
      "cell_type": "markdown",
      "source": [
        "* `torchvision`: This package consists of popular datasets, model architectures, and common image transformations for computer vision.\n",
        "* `torchvision.transforms`: Contains common image transformations."
      ],
      "metadata": {
        "id": "qzd8mhXDoCQz"
      }
    },
    {
      "cell_type": "markdown",
      "source": [
        "* Class `torch.transforms.RandomHorizontalFlip(p=0.5)`: Horizontally flip the given image with the given probability. \n",
        "* `p(float)`: Probability of the image being flipped. Default value is 0.5."
      ],
      "metadata": {
        "id": "uzjicbO2pcZh"
      }
    },
    {
      "cell_type": "code",
      "source": [
        "import torchvision.transforms as T\n",
        "\n",
        "aug = T.RandomHorizontalFlip()\n"
      ],
      "metadata": {
        "id": "ITB94xdNnL8t"
      },
      "execution_count": 3,
      "outputs": []
    },
    {
      "cell_type": "markdown",
      "source": [
        "* `forward(img)`: `img(PIL Image or Tensor)`"
      ],
      "metadata": {
        "id": "c0noN7pQukeq"
      }
    },
    {
      "cell_type": "markdown",
      "source": [
        "* Class `torchvision.transforms.RandomVerticalFlip(p=0.5)`: Vertically flip the given image randomly with a given probability.\n",
        "* `p(float)`: Porbability of the image being flipped. Default value is 0.5."
      ],
      "metadata": {
        "id": "mu5CGJ6qvhdF"
      }
    },
    {
      "cell_type": "code",
      "source": [
        "aug = T.RandomVerticalFlip()"
      ],
      "metadata": {
        "id": "Db3qlb7qv4Kk"
      },
      "execution_count": 4,
      "outputs": []
    },
    {
      "cell_type": "markdown",
      "source": [
        "* `forward(img)`: `img(PIL Image or Tensor)`"
      ],
      "metadata": {
        "id": "DJIf47w3v_nU"
      }
    },
    {
      "cell_type": "markdown",
      "source": [
        "* Class `torchvision.transforms.RandomResizedCrop(size, scale=(0.8, 1.0), ratio=(0.75, 1.33))`: Crop a random portion of image and resize it to a given size.\n",
        "* A crop of the original image is made. The crop has a random area ($H \\times W$) and a random aspect ratio. This crop is finally resized to the given size.\n",
        "* `size(int)`: Expected output size of the crop.\n",
        "* `scale(tuple of floats)`: Specifies the lower and upper bounds for the random area of the crop, before resizing. The scale is denfined with respect to the area of the original image.\n",
        "* `ratio (tuple of floats)`: Lower and upper bounds for the random aspect ratio of the crop, before resizing."
      ],
      "metadata": {
        "id": "Ze9M7jL5xs-g"
      }
    },
    {
      "cell_type": "code",
      "source": [
        "aug = T.RandomResizedCrop((200, 200), scale=(0.1, 1), ratio=(0.5, 2))"
      ],
      "metadata": {
        "id": "kZXjWzCE0JrY"
      },
      "execution_count": 5,
      "outputs": []
    },
    {
      "cell_type": "markdown",
      "source": [
        "* `forward(img)`: `img(PIL Image or Tensor)`"
      ],
      "metadata": {
        "id": "UtLhOau80dRn"
      }
    }
  ]
}