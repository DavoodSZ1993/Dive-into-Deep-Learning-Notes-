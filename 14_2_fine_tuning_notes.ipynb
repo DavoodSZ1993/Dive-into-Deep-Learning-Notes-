{
  "nbformat": 4,
  "nbformat_minor": 0,
  "metadata": {
    "colab": {
      "provenance": [],
      "authorship_tag": "ABX9TyN5Q0fNULeHMZF0O7vpxFBw",
      "include_colab_link": true
    },
    "kernelspec": {
      "name": "python3",
      "display_name": "Python 3"
    },
    "language_info": {
      "name": "python"
    }
  },
  "cells": [
    {
      "cell_type": "markdown",
      "metadata": {
        "id": "view-in-github",
        "colab_type": "text"
      },
      "source": [
        "<a href=\"https://colab.research.google.com/github/DavoodSZ1993/Dive-into-Deep-Learning-Notes-/blob/main/14_2_fine_tuning_notes.ipynb\" target=\"_parent\"><img src=\"https://colab.research.google.com/assets/colab-badge.svg\" alt=\"Open In Colab\"/></a>"
      ]
    },
    {
      "cell_type": "code",
      "execution_count": 1,
      "metadata": {
        "colab": {
          "base_uri": "https://localhost:8080/"
        },
        "id": "1Prp1Xq00yIY",
        "outputId": "a4b26aa4-2e9d-44e5-e8fc-7559567a7847"
      },
      "outputs": [
        {
          "output_type": "stream",
          "name": "stdout",
          "text": [
            "\u001b[2K     \u001b[90m━━━━━━━━━━━━━━━━━━━━━━━━━━━━━━━━━━━━━━━━\u001b[0m \u001b[32m93.0/93.0 kB\u001b[0m \u001b[31m2.2 MB/s\u001b[0m eta \u001b[36m0:00:00\u001b[0m\n",
            "\u001b[2K     \u001b[90m━━━━━━━━━━━━━━━━━━━━━━━━━━━━━━━━━━━━━━━\u001b[0m \u001b[32m121.9/121.9 kB\u001b[0m \u001b[31m8.3 MB/s\u001b[0m eta \u001b[36m0:00:00\u001b[0m\n",
            "\u001b[2K     \u001b[90m━━━━━━━━━━━━━━━━━━━━━━━━━━━━━━━━━━━━━━━━\u001b[0m \u001b[32m84.9/84.9 kB\u001b[0m \u001b[31m4.8 MB/s\u001b[0m eta \u001b[36m0:00:00\u001b[0m\n",
            "\u001b[2K     \u001b[90m━━━━━━━━━━━━━━━━━━━━━━━━━━━━━━━━━━━━━━━━\u001b[0m \u001b[32m1.6/1.6 MB\u001b[0m \u001b[31m33.4 MB/s\u001b[0m eta \u001b[36m0:00:00\u001b[0m\n",
            "\u001b[?25h"
          ]
        }
      ],
      "source": [
        "!pip install d2l==1.0.0-alpha1.post0 --quiet"
      ]
    },
    {
      "cell_type": "markdown",
      "source": [
        "## 14.2 Fine-Tuning"
      ],
      "metadata": {
        "id": "YOszC6xI05Q2"
      }
    },
    {
      "cell_type": "markdown",
      "source": [
        "* Class `torchvision.datasets.ImageFolder(root, transforms)`: A generic data loader where the images are arranged in this way by default.\n",
        "\n",
        "``` \n",
        "root/dog/xxx.png\n",
        "root/dog/xxy.png\n",
        "root/dog/[...]/xxz.png\n",
        "\n",
        "root/cat/123.png\n",
        "root/cat/asdf3.png\n",
        "root/cat/[...]/asd932_.png\n",
        "```\n",
        "* root (string): Root directory path.\n",
        "* transform (callable, optional): A function/transform that takes in an PIL image and returns a transformed version.\n",
        "* The data should be in a different folder per label for the default PyTorch `ImageFolder` to load it correctly."
      ],
      "metadata": {
        "id": "rPinuhH06Twz"
      }
    },
    {
      "cell_type": "code",
      "source": [],
      "metadata": {
        "id": "VYeC1Whc08J_"
      },
      "execution_count": null,
      "outputs": []
    }
  ]
}