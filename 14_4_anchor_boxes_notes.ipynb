{
  "nbformat": 4,
  "nbformat_minor": 0,
  "metadata": {
    "colab": {
      "provenance": [],
      "authorship_tag": "ABX9TyNEvmtwp9slBVNPOE2zq+Jx",
      "include_colab_link": true
    },
    "kernelspec": {
      "name": "python3",
      "display_name": "Python 3"
    },
    "language_info": {
      "name": "python"
    }
  },
  "cells": [
    {
      "cell_type": "markdown",
      "metadata": {
        "id": "view-in-github",
        "colab_type": "text"
      },
      "source": [
        "<a href=\"https://colab.research.google.com/github/DavoodSZ1993/Dive-into-Deep-Learning-Notes-/blob/main/14_4_anchor_boxes_notes.ipynb\" target=\"_parent\"><img src=\"https://colab.research.google.com/assets/colab-badge.svg\" alt=\"Open In Colab\"/></a>"
      ]
    },
    {
      "cell_type": "code",
      "execution_count": 1,
      "metadata": {
        "id": "RTJvb2Z5kOTn",
        "colab": {
          "base_uri": "https://localhost:8080/"
        },
        "outputId": "f4329580-f5f5-4c6b-9b59-905bcfcddb0c"
      },
      "outputs": [
        {
          "output_type": "stream",
          "name": "stdout",
          "text": [
            "\u001b[2K     \u001b[90m━━━━━━━━━━━━━━━━━━━━━━━━━━━━━━━━━━━━━━━━\u001b[0m \u001b[32m93.0/93.0 kB\u001b[0m \u001b[31m6.0 MB/s\u001b[0m eta \u001b[36m0:00:00\u001b[0m\n",
            "\u001b[2K     \u001b[90m━━━━━━━━━━━━━━━━━━━━━━━━━━━━━━━━━━━━━━━\u001b[0m \u001b[32m121.9/121.9 kB\u001b[0m \u001b[31m9.2 MB/s\u001b[0m eta \u001b[36m0:00:00\u001b[0m\n",
            "\u001b[2K     \u001b[90m━━━━━━━━━━━━━━━━━━━━━━━━━━━━━━━━━━━━━━━━\u001b[0m \u001b[32m84.9/84.9 kB\u001b[0m \u001b[31m11.7 MB/s\u001b[0m eta \u001b[36m0:00:00\u001b[0m\n",
            "\u001b[2K     \u001b[90m━━━━━━━━━━━━━━━━━━━━━━━━━━━━━━━━━━━━━━━━\u001b[0m \u001b[32m1.6/1.6 MB\u001b[0m \u001b[31m29.5 MB/s\u001b[0m eta \u001b[36m0:00:00\u001b[0m\n",
            "\u001b[?25h"
          ]
        }
      ],
      "source": [
        "!pip install d2l==1.0.0-alpha1.post0 --quiet"
      ]
    },
    {
      "cell_type": "markdown",
      "source": [
        "## 14.4 Anchor Boxes "
      ],
      "metadata": {
        "id": "HnipiVEhkVQM"
      }
    },
    {
      "cell_type": "markdown",
      "source": [
        "* `torch.set_printoptions(precision=None)`: Set options for printing. Items shamelessly are taken from NumPy.\n",
        "* **Precision**: Number of digits of precision for floating point outputs."
      ],
      "metadata": {
        "id": "vjr6Db4ilvKT"
      }
    },
    {
      "cell_type": "code",
      "source": [
        "import torch\n",
        "torch.set_printoptions(2)\n",
        "\n",
        "torch.tensor([1.123456])"
      ],
      "metadata": {
        "colab": {
          "base_uri": "https://localhost:8080/"
        },
        "id": "E9xgmZM5mIdr",
        "outputId": "afcd0709-d1d1-415c-bd50-cc92c965db0a"
      },
      "execution_count": 2,
      "outputs": [
        {
          "output_type": "execute_result",
          "data": {
            "text/plain": [
              "tensor([1.12])"
            ]
          },
          "metadata": {},
          "execution_count": 2
        }
      ]
    },
    {
      "cell_type": "markdown",
      "source": [
        "### 14.4.1 Generating Multiple Anchor Boxes"
      ],
      "metadata": {
        "id": "pobKH7hAmfAE"
      }
    },
    {
      "cell_type": "markdown",
      "source": [
        "* `torch.meshgrid(*tensors, indexing=None)`: Creates grids of coordinates specified by the 1D inputs in attr: tensors.\n",
        "* **tensors (list of tensors)**: list of scalar or 1 dimensional tensors. Scalars will be treated as tensors of size (1,) automatically.\n",
        "* **indexing (optional [str])**: The indexing mode, either \"xy\" or \"ij\", defaults to \"ij\".\n",
        "* If \"xy\" is selected, the first dimension corresponds to the cardinality of the second input and the second dimension corresponds to the cardinality of the first input.\n",
        "* If \"ij\" is selected, the dimensions are in the same order as the cardinality of the input.\n",
        "* **Returns**: if the input has $N$ tensors of size $S_0, ..., S_{N-1}$, then the output will also have $N$ tensors, where each tensor is of shape ($S_0, ..., S_{N-1}$)"
      ],
      "metadata": {
        "id": "iedgxpFfr0nz"
      }
    },
    {
      "cell_type": "code",
      "source": [
        "x = torch.tensor([1, 2, 3])\n",
        "y = torch.tensor([4, 5, 6])\n",
        "\n",
        "grid_x, grid_y = torch.meshgrid(x, y, indexing='ij')\n",
        "grid_x, grid_y, grid_x.shape"
      ],
      "metadata": {
        "id": "6UbqSJY1mjkz",
        "colab": {
          "base_uri": "https://localhost:8080/"
        },
        "outputId": "0322c810-c657-4de0-e0bd-d32eb61dd0cc"
      },
      "execution_count": 4,
      "outputs": [
        {
          "output_type": "execute_result",
          "data": {
            "text/plain": [
              "(tensor([[1, 1, 1],\n",
              "         [2, 2, 2],\n",
              "         [3, 3, 3]]),\n",
              " tensor([[4, 5, 6],\n",
              "         [4, 5, 6],\n",
              "         [4, 5, 6]]),\n",
              " torch.Size([3, 3]))"
            ]
          },
          "metadata": {},
          "execution_count": 4
        }
      ]
    },
    {
      "cell_type": "code",
      "source": [
        "grid_x = grid_x.reshape(-1)\n",
        "grid_x"
      ],
      "metadata": {
        "colab": {
          "base_uri": "https://localhost:8080/"
        },
        "id": "PpjSLcLgPjOL",
        "outputId": "c51c3c65-b626-4954-d9f9-a6ce756c5484"
      },
      "execution_count": 5,
      "outputs": [
        {
          "output_type": "execute_result",
          "data": {
            "text/plain": [
              "tensor([1, 1, 1, 2, 2, 2, 3, 3, 3])"
            ]
          },
          "metadata": {},
          "execution_count": 5
        }
      ]
    },
    {
      "cell_type": "markdown",
      "source": [
        "* `torch.cat(tesnors, dim)`: Concatenates the given sequence of tensors in the given dimension.\n",
        "* All tensors must either have the same shape (except in the concatenating dimension) or be empty."
      ],
      "metadata": {
        "id": "JRxidd8PSiia"
      }
    },
    {
      "cell_type": "code",
      "source": [
        "x = torch.tensor([[1, 2],\n",
        "                  [3, 4]])\n",
        "\n",
        "Y1 = torch.cat((x, x), dim=0)\n",
        "Y2 = torch.cat((x, x), dim=1)\n",
        "Y1, Y2"
      ],
      "metadata": {
        "colab": {
          "base_uri": "https://localhost:8080/"
        },
        "id": "Y1zH2KmgTLFw",
        "outputId": "38dc490e-8346-416a-c328-53e458d78cf8"
      },
      "execution_count": 8,
      "outputs": [
        {
          "output_type": "execute_result",
          "data": {
            "text/plain": [
              "(tensor([[1, 2],\n",
              "         [3, 4],\n",
              "         [1, 2],\n",
              "         [3, 4]]),\n",
              " tensor([[1, 2, 1, 2],\n",
              "         [3, 4, 3, 4]]))"
            ]
          },
          "metadata": {},
          "execution_count": 8
        }
      ]
    },
    {
      "cell_type": "markdown",
      "source": [
        "* `torch.stack(tensors, dim=0)`: Concatenates a sequence of tensors along a new dimension.\n",
        "* All tensors need to be os the same size."
      ],
      "metadata": {
        "id": "Xqak1iqyUH88"
      }
    },
    {
      "cell_type": "code",
      "source": [
        "x = torch.tensor([[1, 2],\n",
        "                  [3, 4]])\n",
        "\n",
        "Y1 = torch.stack((x, x), dim=0)\n",
        "Y2 = torch.stack((x, x), dim=1)\n",
        "Y1, Y2"
      ],
      "metadata": {
        "colab": {
          "base_uri": "https://localhost:8080/"
        },
        "id": "Dqa0gVsfUHBm",
        "outputId": "2185f9f2-9ba6-4f1c-f3e0-c310d5555993"
      },
      "execution_count": 9,
      "outputs": [
        {
          "output_type": "execute_result",
          "data": {
            "text/plain": [
              "(tensor([[[1, 2],\n",
              "          [3, 4]],\n",
              " \n",
              "         [[1, 2],\n",
              "          [3, 4]]]),\n",
              " tensor([[[1, 2],\n",
              "          [1, 2]],\n",
              " \n",
              "         [[3, 4],\n",
              "          [3, 4]]]))"
            ]
          },
          "metadata": {},
          "execution_count": 9
        }
      ]
    },
    {
      "cell_type": "markdown",
      "source": [
        "* `torch.t(input)`: Expects `input` to be $<= 2D$ tensor and transposes dimensions 0, 1. "
      ],
      "metadata": {
        "id": "FW0lfEs-VdFl"
      }
    },
    {
      "cell_type": "code",
      "source": [
        "x.T"
      ],
      "metadata": {
        "colab": {
          "base_uri": "https://localhost:8080/"
        },
        "id": "BfbQNhJUVsoG",
        "outputId": "bfedb44e-44a8-4db1-8dc1-08a99956ab8a"
      },
      "execution_count": 11,
      "outputs": [
        {
          "output_type": "execute_result",
          "data": {
            "text/plain": [
              "tensor([[1, 3],\n",
              "        [2, 4]])"
            ]
          },
          "metadata": {},
          "execution_count": 11
        }
      ]
    },
    {
      "cell_type": "markdown",
      "source": [
        "* `torch.tensor.repeat(*sizes)`: Repeats this tensor along the specified dimensions."
      ],
      "metadata": {
        "id": "MHPhORXEWGH9"
      }
    },
    {
      "cell_type": "code",
      "source": [
        "x.repeat(2, 1)"
      ],
      "metadata": {
        "colab": {
          "base_uri": "https://localhost:8080/"
        },
        "id": "wl2dwPYOWQBu",
        "outputId": "b89ad3d6-49e4-4fbb-cc7c-72a5a872f26e"
      },
      "execution_count": 13,
      "outputs": [
        {
          "output_type": "execute_result",
          "data": {
            "text/plain": [
              "tensor([[1, 2],\n",
              "        [3, 4],\n",
              "        [1, 2],\n",
              "        [3, 4]])"
            ]
          },
          "metadata": {},
          "execution_count": 13
        }
      ]
    },
    {
      "cell_type": "markdown",
      "source": [
        "* `torch.repeat_interleave(unput, repeats, dim=0)`: Repeats elements of a tensor."
      ],
      "metadata": {
        "id": "efwUAs02X-JI"
      }
    },
    {
      "cell_type": "code",
      "source": [
        "x.repeat_interleave(2)"
      ],
      "metadata": {
        "id": "1XIMsIqnYK8c",
        "outputId": "c177f907-2bd8-4fcb-f229-5e4a55f68dd9",
        "colab": {
          "base_uri": "https://localhost:8080/"
        }
      },
      "execution_count": 14,
      "outputs": [
        {
          "output_type": "execute_result",
          "data": {
            "text/plain": [
              "tensor([1, 1, 2, 2, 3, 3, 4, 4])"
            ]
          },
          "metadata": {},
          "execution_count": 14
        }
      ]
    },
    {
      "cell_type": "markdown",
      "source": [
        "* `torch.unsqueeze(input, dim)`: Returns a new tensor with a dimension of size one inserted at the specified position."
      ],
      "metadata": {
        "id": "i7wjIJziY0iz"
      }
    },
    {
      "cell_type": "code",
      "source": [
        "x.unsqueeze(0).shape"
      ],
      "metadata": {
        "id": "f5o90bx4ZBfs",
        "outputId": "baafd1c4-8bd8-4308-9b30-fbecf5fd8c57",
        "colab": {
          "base_uri": "https://localhost:8080/"
        }
      },
      "execution_count": 16,
      "outputs": [
        {
          "output_type": "execute_result",
          "data": {
            "text/plain": [
              "torch.Size([1, 2, 2])"
            ]
          },
          "metadata": {},
          "execution_count": 16
        }
      ]
    }
  ]
}