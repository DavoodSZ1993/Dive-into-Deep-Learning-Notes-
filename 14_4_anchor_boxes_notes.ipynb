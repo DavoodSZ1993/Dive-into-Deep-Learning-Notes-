{
  "nbformat": 4,
  "nbformat_minor": 0,
  "metadata": {
    "colab": {
      "provenance": [],
      "authorship_tag": "ABX9TyNDN3OHOjT3fx7WU4zwt0mJ",
      "include_colab_link": true
    },
    "kernelspec": {
      "name": "python3",
      "display_name": "Python 3"
    },
    "language_info": {
      "name": "python"
    }
  },
  "cells": [
    {
      "cell_type": "markdown",
      "metadata": {
        "id": "view-in-github",
        "colab_type": "text"
      },
      "source": [
        "<a href=\"https://colab.research.google.com/github/DavoodSZ1993/Dive-into-Deep-Learning-Notes-/blob/main/14_4_anchor_boxes_notes.ipynb\" target=\"_parent\"><img src=\"https://colab.research.google.com/assets/colab-badge.svg\" alt=\"Open In Colab\"/></a>"
      ]
    },
    {
      "cell_type": "code",
      "execution_count": 1,
      "metadata": {
        "id": "RTJvb2Z5kOTn",
        "outputId": "f4329580-f5f5-4c6b-9b59-905bcfcddb0c",
        "colab": {
          "base_uri": "https://localhost:8080/"
        }
      },
      "outputs": [
        {
          "output_type": "stream",
          "name": "stdout",
          "text": [
            "\u001b[2K     \u001b[90m━━━━━━━━━━━━━━━━━━━━━━━━━━━━━━━━━━━━━━━━\u001b[0m \u001b[32m93.0/93.0 kB\u001b[0m \u001b[31m6.0 MB/s\u001b[0m eta \u001b[36m0:00:00\u001b[0m\n",
            "\u001b[2K     \u001b[90m━━━━━━━━━━━━━━━━━━━━━━━━━━━━━━━━━━━━━━━\u001b[0m \u001b[32m121.9/121.9 kB\u001b[0m \u001b[31m9.2 MB/s\u001b[0m eta \u001b[36m0:00:00\u001b[0m\n",
            "\u001b[2K     \u001b[90m━━━━━━━━━━━━━━━━━━━━━━━━━━━━━━━━━━━━━━━━\u001b[0m \u001b[32m84.9/84.9 kB\u001b[0m \u001b[31m11.7 MB/s\u001b[0m eta \u001b[36m0:00:00\u001b[0m\n",
            "\u001b[2K     \u001b[90m━━━━━━━━━━━━━━━━━━━━━━━━━━━━━━━━━━━━━━━━\u001b[0m \u001b[32m1.6/1.6 MB\u001b[0m \u001b[31m29.5 MB/s\u001b[0m eta \u001b[36m0:00:00\u001b[0m\n",
            "\u001b[?25h"
          ]
        }
      ],
      "source": [
        "!pip install d2l==1.0.0-alpha1.post0 --quiet"
      ]
    },
    {
      "cell_type": "markdown",
      "source": [
        "## 14.4 Anchor Boxes "
      ],
      "metadata": {
        "id": "HnipiVEhkVQM"
      }
    },
    {
      "cell_type": "markdown",
      "source": [
        "* `torch.set_printoptions(precision=None)`: Set options for printing. Items shamelessly are taken from NumPy.\n",
        "* **Precision**: Number of digits of precision for floating point outputs."
      ],
      "metadata": {
        "id": "vjr6Db4ilvKT"
      }
    },
    {
      "cell_type": "code",
      "source": [
        "import torch\n",
        "torch.set_printoptions(2)\n",
        "\n",
        "torch.tensor([1.123456])"
      ],
      "metadata": {
        "colab": {
          "base_uri": "https://localhost:8080/"
        },
        "id": "E9xgmZM5mIdr",
        "outputId": "afcd0709-d1d1-415c-bd50-cc92c965db0a"
      },
      "execution_count": 2,
      "outputs": [
        {
          "output_type": "execute_result",
          "data": {
            "text/plain": [
              "tensor([1.12])"
            ]
          },
          "metadata": {},
          "execution_count": 2
        }
      ]
    },
    {
      "cell_type": "markdown",
      "source": [
        "### 14.4.1 Generating Multiple Anchor Boxes"
      ],
      "metadata": {
        "id": "pobKH7hAmfAE"
      }
    },
    {
      "cell_type": "markdown",
      "source": [
        "* `torch.meshgrid(*tensors, indexing=None)`: Creates grids of coordinates specified by the 1D inputs in attr: tensors.\n",
        "* **tensors (list of tensors)**: list of scalar or 1 dimensional tensors. Scalars will be treated as tensors of size (1,) automatically.\n",
        "* **indexing (optional [str])**: The indexing mode, either \"xy\" or \"ij\", defaults to \"ij\".\n",
        "* If \"xy\" is selected, the first dimension corresponds to the cardinality of the second input and the second dimension corresponds to the cardinality of the first input.\n",
        "* If \"ij\" is selected, the dimensions are in the same order as the cardinality of the input.\n",
        "* **Returns**: if the input has $N$ tensors of size $S_0, ..., S_{N-1}$, then the output will also have $N$ tensors, where each tensor is of shape ($S_0, ..., S_{N-1}$)"
      ],
      "metadata": {
        "id": "iedgxpFfr0nz"
      }
    },
    {
      "cell_type": "code",
      "source": [
        "x = torch.tensor([1, 2, 3])\n",
        "y = torch.tensor([4, 5, 6])\n",
        "\n",
        "grid_x, grid_y = torch.meshgrid(x, y, indexing='ij')\n",
        "grid_x, grid_y, grid_x.shape"
      ],
      "metadata": {
        "id": "6UbqSJY1mjkz",
        "outputId": "0322c810-c657-4de0-e0bd-d32eb61dd0cc",
        "colab": {
          "base_uri": "https://localhost:8080/"
        }
      },
      "execution_count": 4,
      "outputs": [
        {
          "output_type": "execute_result",
          "data": {
            "text/plain": [
              "(tensor([[1, 1, 1],\n",
              "         [2, 2, 2],\n",
              "         [3, 3, 3]]),\n",
              " tensor([[4, 5, 6],\n",
              "         [4, 5, 6],\n",
              "         [4, 5, 6]]),\n",
              " torch.Size([3, 3]))"
            ]
          },
          "metadata": {},
          "execution_count": 4
        }
      ]
    },
    {
      "cell_type": "code",
      "source": [
        "grid_x = grid_x.reshape(-1)\n",
        "grid_x"
      ],
      "metadata": {
        "id": "PpjSLcLgPjOL",
        "outputId": "c51c3c65-b626-4954-d9f9-a6ce756c5484",
        "colab": {
          "base_uri": "https://localhost:8080/"
        }
      },
      "execution_count": 5,
      "outputs": [
        {
          "output_type": "execute_result",
          "data": {
            "text/plain": [
              "tensor([1, 1, 1, 2, 2, 2, 3, 3, 3])"
            ]
          },
          "metadata": {},
          "execution_count": 5
        }
      ]
    }
  ]
}