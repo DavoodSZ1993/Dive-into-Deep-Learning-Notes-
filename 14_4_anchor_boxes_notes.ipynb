{
  "nbformat": 4,
  "nbformat_minor": 0,
  "metadata": {
    "colab": {
      "provenance": [],
      "authorship_tag": "ABX9TyMp5oa+RGEuiZDNpty4Gh1q",
      "include_colab_link": true
    },
    "kernelspec": {
      "name": "python3",
      "display_name": "Python 3"
    },
    "language_info": {
      "name": "python"
    }
  },
  "cells": [
    {
      "cell_type": "markdown",
      "metadata": {
        "id": "view-in-github",
        "colab_type": "text"
      },
      "source": [
        "<a href=\"https://colab.research.google.com/github/DavoodSZ1993/Dive-into-Deep-Learning-Notes-/blob/main/14_4_anchor_boxes_notes.ipynb\" target=\"_parent\"><img src=\"https://colab.research.google.com/assets/colab-badge.svg\" alt=\"Open In Colab\"/></a>"
      ]
    },
    {
      "cell_type": "code",
      "execution_count": null,
      "metadata": {
        "id": "RTJvb2Z5kOTn"
      },
      "outputs": [],
      "source": [
        "!pip install d2l==1.0.0-alpha1.post0 --quiet"
      ]
    },
    {
      "cell_type": "markdown",
      "source": [
        "## 14.4 Anchor Boxes "
      ],
      "metadata": {
        "id": "HnipiVEhkVQM"
      }
    },
    {
      "cell_type": "markdown",
      "source": [
        "* `torch.set_printoptions(precision=None)`: Set options for printing. Items shamelessly are taken from NumPy.\n",
        "* **Precision**: Number of digits of precision for floating point outputs."
      ],
      "metadata": {
        "id": "vjr6Db4ilvKT"
      }
    },
    {
      "cell_type": "code",
      "source": [
        "import torch\n",
        "torch.set_printoptions(2)\n",
        "\n",
        "torch.tensor([1.123456])"
      ],
      "metadata": {
        "colab": {
          "base_uri": "https://localhost:8080/"
        },
        "id": "E9xgmZM5mIdr",
        "outputId": "1a3cccbd-e3ed-4da2-d458-944a805122ba"
      },
      "execution_count": 2,
      "outputs": [
        {
          "output_type": "execute_result",
          "data": {
            "text/plain": [
              "tensor([1.12])"
            ]
          },
          "metadata": {},
          "execution_count": 2
        }
      ]
    },
    {
      "cell_type": "markdown",
      "source": [
        "### 14.4.1 Generating Multiple Anchor Boxes"
      ],
      "metadata": {
        "id": "pobKH7hAmfAE"
      }
    },
    {
      "cell_type": "markdown",
      "source": [
        "* `torch.meshgrid(*tensors, indexing=None)`: Creates grids of coordinates specified by the 1D inputs in attr: tensors."
      ],
      "metadata": {
        "id": "iedgxpFfr0nz"
      }
    },
    {
      "cell_type": "code",
      "source": [],
      "metadata": {
        "id": "6UbqSJY1mjkz"
      },
      "execution_count": null,
      "outputs": []
    }
  ]
}