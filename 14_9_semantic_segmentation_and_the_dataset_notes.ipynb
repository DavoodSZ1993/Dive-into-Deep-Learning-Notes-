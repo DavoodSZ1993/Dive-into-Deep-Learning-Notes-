{
  "nbformat": 4,
  "nbformat_minor": 0,
  "metadata": {
    "colab": {
      "provenance": [],
      "authorship_tag": "ABX9TyNac9tje6oC5BK1pq6+5ofi",
      "include_colab_link": true
    },
    "kernelspec": {
      "name": "python3",
      "display_name": "Python 3"
    },
    "language_info": {
      "name": "python"
    }
  },
  "cells": [
    {
      "cell_type": "markdown",
      "metadata": {
        "id": "view-in-github",
        "colab_type": "text"
      },
      "source": [
        "<a href=\"https://colab.research.google.com/github/DavoodSZ1993/Dive-into-Deep-Learning-Notes-/blob/main/14_9_semantic_segmentation_and_the_dataset_notes.ipynb\" target=\"_parent\"><img src=\"https://colab.research.google.com/assets/colab-badge.svg\" alt=\"Open In Colab\"/></a>"
      ]
    },
    {
      "cell_type": "code",
      "execution_count": null,
      "metadata": {
        "id": "fTB-xMvEfCiB"
      },
      "outputs": [],
      "source": [
        "!pip install d2l==1.0.0-alpha1.post0 --quiet"
      ]
    },
    {
      "cell_type": "markdown",
      "source": [
        "## 14.9 Semantic Segmentation and the Dataset"
      ],
      "metadata": {
        "id": "zGvobbg8fL4j"
      }
    },
    {
      "cell_type": "markdown",
      "source": [
        "* Class `torchvision.io.ImageReadMode(value)`: Support for various modes while reading images.\n",
        "* Use ` ImageReadMode.UNCHANGED` for loading the image as is, `ImageReadMode.GRAY` for converting to grayscale, `ImageReadMode.GRAY_ALPHA` for grayscale with transparency, `ImageReadMode.RGB` for RGB, and `ImageReadMode.RGB_ALPHA` for RGB with transparency.\n"
      ],
      "metadata": {
        "id": "Dnig6uD3gMqD"
      }
    },
    {
      "cell_type": "markdown",
      "source": [
        "* Class `torchvision.transforms.RandomCrop()`: crop the given image at a random location.\n",
        "* STATIC `get_params(img, output_size)`: Get parameters for `crop` for a random crop.\n",
        "* img (PIL Image or tensor) - image to be cropped.\n",
        "* output_size (tuple): expected output size of the crop."
      ],
      "metadata": {
        "id": "HukNbQP_jcF2"
      }
    }
  ]
}