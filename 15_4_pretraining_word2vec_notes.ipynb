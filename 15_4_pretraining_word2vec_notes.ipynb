{
  "nbformat": 4,
  "nbformat_minor": 0,
  "metadata": {
    "colab": {
      "provenance": [],
      "authorship_tag": "ABX9TyN+2+LWDdD0uKMMcIDbxClf",
      "include_colab_link": true
    },
    "kernelspec": {
      "name": "python3",
      "display_name": "Python 3"
    },
    "language_info": {
      "name": "python"
    }
  },
  "cells": [
    {
      "cell_type": "markdown",
      "metadata": {
        "id": "view-in-github",
        "colab_type": "text"
      },
      "source": [
        "<a href=\"https://colab.research.google.com/github/DavoodSZ1993/Dive-into-Deep-Learning-Notes-/blob/main/15_4_pretraining_word2vec_notes.ipynb\" target=\"_parent\"><img src=\"https://colab.research.google.com/assets/colab-badge.svg\" alt=\"Open In Colab\"/></a>"
      ]
    },
    {
      "cell_type": "code",
      "execution_count": null,
      "metadata": {
        "id": "dOXlOWxL1r10"
      },
      "outputs": [],
      "source": [
        "!pip install d2l==1.0.0-alpha1.post0 --quiet"
      ]
    },
    {
      "cell_type": "markdown",
      "source": [
        "## 15.4 Pretraining word2vec"
      ],
      "metadata": {
        "id": "GjfjGTKW11Rs"
      }
    },
    {
      "cell_type": "markdown",
      "source": [
        "### Binary Cross-entropy\n",
        "* We usually use binary cross-entropy to train a binary classifier.\n",
        "$$\n",
        "H_p(q) = - {1/N}\\sum_{i=1}^N y_i.log(p(y_i)) + (1 - y_i).log(1-p(y_i))\n",
        "$$\n",
        "* Where $y$ is the label, and $p(y)$ is the predicted probability of the label being 1 for all $N$ points."
      ],
      "metadata": {
        "id": "7RghH2VW73VE"
      }
    },
    {
      "cell_type": "markdown",
      "source": [],
      "metadata": {
        "id": "3AYeUARS-iYe"
      }
    }
  ]
}