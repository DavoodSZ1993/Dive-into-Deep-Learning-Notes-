{
  "nbformat": 4,
  "nbformat_minor": 0,
  "metadata": {
    "colab": {
      "provenance": [],
      "authorship_tag": "ABX9TyO6TyMdSWPvy/zkYbeIrSWJ",
      "include_colab_link": true
    },
    "kernelspec": {
      "name": "python3",
      "display_name": "Python 3"
    },
    "language_info": {
      "name": "python"
    }
  },
  "cells": [
    {
      "cell_type": "markdown",
      "metadata": {
        "id": "view-in-github",
        "colab_type": "text"
      },
      "source": [
        "<a href=\"https://colab.research.google.com/github/DavoodSZ1993/Dive-into-Deep-Learning-Notes-/blob/main/5_mlp_kaggle.ipynb\" target=\"_parent\"><img src=\"https://colab.research.google.com/assets/colab-badge.svg\" alt=\"Open In Colab\"/></a>"
      ]
    },
    {
      "cell_type": "markdown",
      "source": [
        "## `os` Built-in Module\n",
        "\n",
        "This module provides a portable way of using **operating system** dependent functionality.\n",
        "\n",
        "* `os.mkdir()`: Can be used to create a directory named path with the specific numeric mode.\n",
        "* `os.path.join()`: Join one or more path components intelligently.\n",
        "* `os.path.exists()`: Check whether the specific path exists or not.\n",
        "* `os.path.dirname()`: Used to get the dictionary name from the specific path.\n",
        "* `os.path.splittext()`: Used to split the pathname into a pair root and ext."
      ],
      "metadata": {
        "id": "_cAu2IgeucT5"
      }
    },
    {
      "cell_type": "markdown",
      "source": [
        "## `tarfile` Module\n",
        "\n",
        "We can create tar files using this module. This module makes it possible to read and write tar archives, including those using gzip, bz2 and lzma compression.\n",
        "\n",
        "* `tarfile.open()`: Return a tarfile object."
      ],
      "metadata": {
        "id": "G4lA-5lLyLQt"
      }
    },
    {
      "cell_type": "markdown",
      "source": [
        "## `zipfile` Module\n",
        "\n",
        "This module provides tools to create, read, write, append, and list ZIP files.\n",
        "\n",
        "* `zipfile.ZipFile()`: Open a ZIP file."
      ],
      "metadata": {
        "id": "oL6J4bKJzVfb"
      }
    },
    {
      "cell_type": "markdown",
      "source": [
        "## With Open in Python\n",
        "\n",
        "* `open()`: This function opens a file in python. However, the `open()` function does not close the file. So, the file should be closed with `close()` method. \n",
        "* The `with` statement works with the `open()` function to open a file.\n",
        "* Unlike the `open()` where we have to close the file with the `close()` method, the `with` statement closes the file authomatically."
      ],
      "metadata": {
        "id": "qpayZT4v1zY_"
      }
    },
    {
      "cell_type": "markdown",
      "source": [
        "## Preprocessing the Data\n",
        "### `opendatasets`\n",
        "`opendatasets` is a Python library for downloading datasets from online sources like Kaggle and Google Drive using a simple Python command."
      ],
      "metadata": {
        "id": "ukPD23IV35CJ"
      }
    },
    {
      "cell_type": "code",
      "execution_count": 1,
      "metadata": {
        "id": "JTEjE-G8tf53"
      },
      "outputs": [],
      "source": [
        "!pip install opendatasets --upgrade --quiet"
      ]
    },
    {
      "cell_type": "code",
      "source": [
        "import opendatasets as od\n",
        "\n",
        "dataset_url = 'https://www.kaggle.com/competitions/house-prices-advanced-regression-techniques/data'\n",
        "od.download(dataset_url)"
      ],
      "metadata": {
        "colab": {
          "base_uri": "https://localhost:8080/"
        },
        "id": "GnwpWCKHmsQH",
        "outputId": "620cbd1f-4d41-47ec-b2aa-07febbe30f96"
      },
      "execution_count": 2,
      "outputs": [
        {
          "output_type": "stream",
          "name": "stdout",
          "text": [
            "Skipping, found downloaded files in \"./house-prices-advanced-regression-techniques\" (use force=True to force download)\n"
          ]
        }
      ]
    },
    {
      "cell_type": "code",
      "source": [
        "import pandas as pd\n",
        "\n",
        "df_train = pd.read_csv('./house-prices-advanced-regression-techniques/train.csv')\n",
        "df_val = pd.read_csv('./house-prices-advanced-regression-techniques/test.csv')\n",
        "\n",
        "df_train.shape, df_val.shape"
      ],
      "metadata": {
        "colab": {
          "base_uri": "https://localhost:8080/"
        },
        "id": "dmflRfI-n27z",
        "outputId": "a7501da9-3f50-4a46-b6a7-17eabad7c6f7"
      },
      "execution_count": 3,
      "outputs": [
        {
          "output_type": "execute_result",
          "data": {
            "text/plain": [
              "((1460, 81), (1459, 80))"
            ]
          },
          "metadata": {},
          "execution_count": 3
        }
      ]
    },
    {
      "cell_type": "markdown",
      "source": [
        "* `pd.concat()`: Concatenate pandas objects along a particular axis.\n",
        "* `df.dtypes()`: Return the dtypes in the DataFrame.\n",
        "* `df.apply()`: Apply a function along an axis of the DataFrame.\n",
        "* `df.fillna()`: Fill NA/NaN values using the specified method.\n",
        "* `pd.get_dummies()`: Convert categorical variable into dummy/indicator variables. \n",
        "* `df.index`: The index (raw label) of the DataFrame."
      ],
      "metadata": {
        "id": "3AUKWumkq91i"
      }
    },
    {
      "cell_type": "code",
      "source": [
        "# Removing index and label columns\n",
        "\n",
        "label = 'SalePrice'\n",
        "\n",
        "raw_train = df_train.drop(columns=['Id', label])\n",
        "raw_val = df_val.drop(columns = ['Id'])\n",
        "\n",
        "raw_train.shape, raw_val.shape"
      ],
      "metadata": {
        "colab": {
          "base_uri": "https://localhost:8080/"
        },
        "id": "iez1pTGAu2gm",
        "outputId": "fff330aa-974c-4952-8df6-283738e335bd"
      },
      "execution_count": 4,
      "outputs": [
        {
          "output_type": "execute_result",
          "data": {
            "text/plain": [
              "((1460, 79), (1459, 79))"
            ]
          },
          "metadata": {},
          "execution_count": 4
        }
      ]
    },
    {
      "cell_type": "code",
      "source": [
        "# Concatenating two datasets for further pre-process.\n",
        "\n",
        "features = pd.concat((raw_train, raw_val))  # raw_train (1460 x 79)\n",
        "features.shape                              # --------\n",
        "                                            # raw_val (1459 x 79)"
      ],
      "metadata": {
        "colab": {
          "base_uri": "https://localhost:8080/"
        },
        "id": "Fpb7pDtjv5DV",
        "outputId": "fb5025d9-3849-48da-f01a-471eb6f02451"
      },
      "execution_count": 5,
      "outputs": [
        {
          "output_type": "execute_result",
          "data": {
            "text/plain": [
              "(2919, 79)"
            ]
          },
          "metadata": {},
          "execution_count": 5
        }
      ]
    },
    {
      "cell_type": "code",
      "source": [
        "# Processing numerical columns (mean = 0, standard deviation = 1)\n",
        "\n",
        "numeric_features = features.dtypes[features.dtypes != 'object'].index\n",
        "numeric_features"
      ],
      "metadata": {
        "colab": {
          "base_uri": "https://localhost:8080/"
        },
        "id": "SnBBU6JYw7dz",
        "outputId": "3d5bd2d9-96bf-477c-c1f9-fa9b6b2499e9"
      },
      "execution_count": 6,
      "outputs": [
        {
          "output_type": "execute_result",
          "data": {
            "text/plain": [
              "Index(['MSSubClass', 'LotFrontage', 'LotArea', 'OverallQual', 'OverallCond',\n",
              "       'YearBuilt', 'YearRemodAdd', 'MasVnrArea', 'BsmtFinSF1', 'BsmtFinSF2',\n",
              "       'BsmtUnfSF', 'TotalBsmtSF', '1stFlrSF', '2ndFlrSF', 'LowQualFinSF',\n",
              "       'GrLivArea', 'BsmtFullBath', 'BsmtHalfBath', 'FullBath', 'HalfBath',\n",
              "       'BedroomAbvGr', 'KitchenAbvGr', 'TotRmsAbvGrd', 'Fireplaces',\n",
              "       'GarageYrBlt', 'GarageCars', 'GarageArea', 'WoodDeckSF', 'OpenPorchSF',\n",
              "       'EnclosedPorch', '3SsnPorch', 'ScreenPorch', 'PoolArea', 'MiscVal',\n",
              "       'MoSold', 'YrSold'],\n",
              "      dtype='object')"
            ]
          },
          "metadata": {},
          "execution_count": 6
        }
      ]
    },
    {
      "cell_type": "code",
      "source": [
        "features[numeric_features] = features[numeric_features].apply(\n",
        "    lambda x: (x - x.mean()) / (x.std()))    # function along each column\n",
        "\n",
        "features.head()"
      ],
      "metadata": {
        "colab": {
          "base_uri": "https://localhost:8080/",
          "height": 299
        },
        "id": "6iIZ--mrzDTh",
        "outputId": "53bac56c-e340-4ac9-d095-780f2478cb14"
      },
      "execution_count": 7,
      "outputs": [
        {
          "output_type": "execute_result",
          "data": {
            "text/plain": [
              "   MSSubClass MSZoning  LotFrontage   LotArea Street Alley LotShape  \\\n",
              "0    0.067320       RL    -0.184443 -0.217841   Pave   NaN      Reg   \n",
              "1   -0.873466       RL     0.458096 -0.072032   Pave   NaN      Reg   \n",
              "2    0.067320       RL    -0.055935  0.137173   Pave   NaN      IR1   \n",
              "3    0.302516       RL    -0.398622 -0.078371   Pave   NaN      IR1   \n",
              "4    0.067320       RL     0.629439  0.518814   Pave   NaN      IR1   \n",
              "\n",
              "  LandContour Utilities LotConfig  ... ScreenPorch  PoolArea PoolQC Fence  \\\n",
              "0         Lvl    AllPub    Inside  ...   -0.285886 -0.063139    NaN   NaN   \n",
              "1         Lvl    AllPub       FR2  ...   -0.285886 -0.063139    NaN   NaN   \n",
              "2         Lvl    AllPub    Inside  ...   -0.285886 -0.063139    NaN   NaN   \n",
              "3         Lvl    AllPub    Corner  ...   -0.285886 -0.063139    NaN   NaN   \n",
              "4         Lvl    AllPub       FR2  ...   -0.285886 -0.063139    NaN   NaN   \n",
              "\n",
              "  MiscFeature   MiscVal    MoSold    YrSold  SaleType  SaleCondition  \n",
              "0         NaN -0.089577 -1.551918  0.157619        WD         Normal  \n",
              "1         NaN -0.089577 -0.446848 -0.602858        WD         Normal  \n",
              "2         NaN -0.089577  1.026577  0.157619        WD         Normal  \n",
              "3         NaN -0.089577 -1.551918 -1.363335        WD        Abnorml  \n",
              "4         NaN -0.089577  2.131647  0.157619        WD         Normal  \n",
              "\n",
              "[5 rows x 79 columns]"
            ],
            "text/html": [
              "\n",
              "  <div id=\"df-68e05666-2463-4479-a90e-e6a8213c7f7a\">\n",
              "    <div class=\"colab-df-container\">\n",
              "      <div>\n",
              "<style scoped>\n",
              "    .dataframe tbody tr th:only-of-type {\n",
              "        vertical-align: middle;\n",
              "    }\n",
              "\n",
              "    .dataframe tbody tr th {\n",
              "        vertical-align: top;\n",
              "    }\n",
              "\n",
              "    .dataframe thead th {\n",
              "        text-align: right;\n",
              "    }\n",
              "</style>\n",
              "<table border=\"1\" class=\"dataframe\">\n",
              "  <thead>\n",
              "    <tr style=\"text-align: right;\">\n",
              "      <th></th>\n",
              "      <th>MSSubClass</th>\n",
              "      <th>MSZoning</th>\n",
              "      <th>LotFrontage</th>\n",
              "      <th>LotArea</th>\n",
              "      <th>Street</th>\n",
              "      <th>Alley</th>\n",
              "      <th>LotShape</th>\n",
              "      <th>LandContour</th>\n",
              "      <th>Utilities</th>\n",
              "      <th>LotConfig</th>\n",
              "      <th>...</th>\n",
              "      <th>ScreenPorch</th>\n",
              "      <th>PoolArea</th>\n",
              "      <th>PoolQC</th>\n",
              "      <th>Fence</th>\n",
              "      <th>MiscFeature</th>\n",
              "      <th>MiscVal</th>\n",
              "      <th>MoSold</th>\n",
              "      <th>YrSold</th>\n",
              "      <th>SaleType</th>\n",
              "      <th>SaleCondition</th>\n",
              "    </tr>\n",
              "  </thead>\n",
              "  <tbody>\n",
              "    <tr>\n",
              "      <th>0</th>\n",
              "      <td>0.067320</td>\n",
              "      <td>RL</td>\n",
              "      <td>-0.184443</td>\n",
              "      <td>-0.217841</td>\n",
              "      <td>Pave</td>\n",
              "      <td>NaN</td>\n",
              "      <td>Reg</td>\n",
              "      <td>Lvl</td>\n",
              "      <td>AllPub</td>\n",
              "      <td>Inside</td>\n",
              "      <td>...</td>\n",
              "      <td>-0.285886</td>\n",
              "      <td>-0.063139</td>\n",
              "      <td>NaN</td>\n",
              "      <td>NaN</td>\n",
              "      <td>NaN</td>\n",
              "      <td>-0.089577</td>\n",
              "      <td>-1.551918</td>\n",
              "      <td>0.157619</td>\n",
              "      <td>WD</td>\n",
              "      <td>Normal</td>\n",
              "    </tr>\n",
              "    <tr>\n",
              "      <th>1</th>\n",
              "      <td>-0.873466</td>\n",
              "      <td>RL</td>\n",
              "      <td>0.458096</td>\n",
              "      <td>-0.072032</td>\n",
              "      <td>Pave</td>\n",
              "      <td>NaN</td>\n",
              "      <td>Reg</td>\n",
              "      <td>Lvl</td>\n",
              "      <td>AllPub</td>\n",
              "      <td>FR2</td>\n",
              "      <td>...</td>\n",
              "      <td>-0.285886</td>\n",
              "      <td>-0.063139</td>\n",
              "      <td>NaN</td>\n",
              "      <td>NaN</td>\n",
              "      <td>NaN</td>\n",
              "      <td>-0.089577</td>\n",
              "      <td>-0.446848</td>\n",
              "      <td>-0.602858</td>\n",
              "      <td>WD</td>\n",
              "      <td>Normal</td>\n",
              "    </tr>\n",
              "    <tr>\n",
              "      <th>2</th>\n",
              "      <td>0.067320</td>\n",
              "      <td>RL</td>\n",
              "      <td>-0.055935</td>\n",
              "      <td>0.137173</td>\n",
              "      <td>Pave</td>\n",
              "      <td>NaN</td>\n",
              "      <td>IR1</td>\n",
              "      <td>Lvl</td>\n",
              "      <td>AllPub</td>\n",
              "      <td>Inside</td>\n",
              "      <td>...</td>\n",
              "      <td>-0.285886</td>\n",
              "      <td>-0.063139</td>\n",
              "      <td>NaN</td>\n",
              "      <td>NaN</td>\n",
              "      <td>NaN</td>\n",
              "      <td>-0.089577</td>\n",
              "      <td>1.026577</td>\n",
              "      <td>0.157619</td>\n",
              "      <td>WD</td>\n",
              "      <td>Normal</td>\n",
              "    </tr>\n",
              "    <tr>\n",
              "      <th>3</th>\n",
              "      <td>0.302516</td>\n",
              "      <td>RL</td>\n",
              "      <td>-0.398622</td>\n",
              "      <td>-0.078371</td>\n",
              "      <td>Pave</td>\n",
              "      <td>NaN</td>\n",
              "      <td>IR1</td>\n",
              "      <td>Lvl</td>\n",
              "      <td>AllPub</td>\n",
              "      <td>Corner</td>\n",
              "      <td>...</td>\n",
              "      <td>-0.285886</td>\n",
              "      <td>-0.063139</td>\n",
              "      <td>NaN</td>\n",
              "      <td>NaN</td>\n",
              "      <td>NaN</td>\n",
              "      <td>-0.089577</td>\n",
              "      <td>-1.551918</td>\n",
              "      <td>-1.363335</td>\n",
              "      <td>WD</td>\n",
              "      <td>Abnorml</td>\n",
              "    </tr>\n",
              "    <tr>\n",
              "      <th>4</th>\n",
              "      <td>0.067320</td>\n",
              "      <td>RL</td>\n",
              "      <td>0.629439</td>\n",
              "      <td>0.518814</td>\n",
              "      <td>Pave</td>\n",
              "      <td>NaN</td>\n",
              "      <td>IR1</td>\n",
              "      <td>Lvl</td>\n",
              "      <td>AllPub</td>\n",
              "      <td>FR2</td>\n",
              "      <td>...</td>\n",
              "      <td>-0.285886</td>\n",
              "      <td>-0.063139</td>\n",
              "      <td>NaN</td>\n",
              "      <td>NaN</td>\n",
              "      <td>NaN</td>\n",
              "      <td>-0.089577</td>\n",
              "      <td>2.131647</td>\n",
              "      <td>0.157619</td>\n",
              "      <td>WD</td>\n",
              "      <td>Normal</td>\n",
              "    </tr>\n",
              "  </tbody>\n",
              "</table>\n",
              "<p>5 rows × 79 columns</p>\n",
              "</div>\n",
              "      <button class=\"colab-df-convert\" onclick=\"convertToInteractive('df-68e05666-2463-4479-a90e-e6a8213c7f7a')\"\n",
              "              title=\"Convert this dataframe to an interactive table.\"\n",
              "              style=\"display:none;\">\n",
              "        \n",
              "  <svg xmlns=\"http://www.w3.org/2000/svg\" height=\"24px\"viewBox=\"0 0 24 24\"\n",
              "       width=\"24px\">\n",
              "    <path d=\"M0 0h24v24H0V0z\" fill=\"none\"/>\n",
              "    <path d=\"M18.56 5.44l.94 2.06.94-2.06 2.06-.94-2.06-.94-.94-2.06-.94 2.06-2.06.94zm-11 1L8.5 8.5l.94-2.06 2.06-.94-2.06-.94L8.5 2.5l-.94 2.06-2.06.94zm10 10l.94 2.06.94-2.06 2.06-.94-2.06-.94-.94-2.06-.94 2.06-2.06.94z\"/><path d=\"M17.41 7.96l-1.37-1.37c-.4-.4-.92-.59-1.43-.59-.52 0-1.04.2-1.43.59L10.3 9.45l-7.72 7.72c-.78.78-.78 2.05 0 2.83L4 21.41c.39.39.9.59 1.41.59.51 0 1.02-.2 1.41-.59l7.78-7.78 2.81-2.81c.8-.78.8-2.07 0-2.86zM5.41 20L4 18.59l7.72-7.72 1.47 1.35L5.41 20z\"/>\n",
              "  </svg>\n",
              "      </button>\n",
              "      \n",
              "  <style>\n",
              "    .colab-df-container {\n",
              "      display:flex;\n",
              "      flex-wrap:wrap;\n",
              "      gap: 12px;\n",
              "    }\n",
              "\n",
              "    .colab-df-convert {\n",
              "      background-color: #E8F0FE;\n",
              "      border: none;\n",
              "      border-radius: 50%;\n",
              "      cursor: pointer;\n",
              "      display: none;\n",
              "      fill: #1967D2;\n",
              "      height: 32px;\n",
              "      padding: 0 0 0 0;\n",
              "      width: 32px;\n",
              "    }\n",
              "\n",
              "    .colab-df-convert:hover {\n",
              "      background-color: #E2EBFA;\n",
              "      box-shadow: 0px 1px 2px rgba(60, 64, 67, 0.3), 0px 1px 3px 1px rgba(60, 64, 67, 0.15);\n",
              "      fill: #174EA6;\n",
              "    }\n",
              "\n",
              "    [theme=dark] .colab-df-convert {\n",
              "      background-color: #3B4455;\n",
              "      fill: #D2E3FC;\n",
              "    }\n",
              "\n",
              "    [theme=dark] .colab-df-convert:hover {\n",
              "      background-color: #434B5C;\n",
              "      box-shadow: 0px 1px 3px 1px rgba(0, 0, 0, 0.15);\n",
              "      filter: drop-shadow(0px 1px 2px rgba(0, 0, 0, 0.3));\n",
              "      fill: #FFFFFF;\n",
              "    }\n",
              "  </style>\n",
              "\n",
              "      <script>\n",
              "        const buttonEl =\n",
              "          document.querySelector('#df-68e05666-2463-4479-a90e-e6a8213c7f7a button.colab-df-convert');\n",
              "        buttonEl.style.display =\n",
              "          google.colab.kernel.accessAllowed ? 'block' : 'none';\n",
              "\n",
              "        async function convertToInteractive(key) {\n",
              "          const element = document.querySelector('#df-68e05666-2463-4479-a90e-e6a8213c7f7a');\n",
              "          const dataTable =\n",
              "            await google.colab.kernel.invokeFunction('convertToInteractive',\n",
              "                                                     [key], {});\n",
              "          if (!dataTable) return;\n",
              "\n",
              "          const docLinkHtml = 'Like what you see? Visit the ' +\n",
              "            '<a target=\"_blank\" href=https://colab.research.google.com/notebooks/data_table.ipynb>data table notebook</a>'\n",
              "            + ' to learn more about interactive tables.';\n",
              "          element.innerHTML = '';\n",
              "          dataTable['output_type'] = 'display_data';\n",
              "          await google.colab.output.renderOutput(dataTable, element);\n",
              "          const docLink = document.createElement('div');\n",
              "          docLink.innerHTML = docLinkHtml;\n",
              "          element.appendChild(docLink);\n",
              "        }\n",
              "      </script>\n",
              "    </div>\n",
              "  </div>\n",
              "  "
            ]
          },
          "metadata": {},
          "execution_count": 7
        }
      ]
    },
    {
      "cell_type": "code",
      "source": [
        "# Replacing NAN values with zero is numerical columns.\n",
        "\n",
        "features[numeric_features] = features[numeric_features].fillna(0)"
      ],
      "metadata": {
        "id": "CGsTd02y3nxf"
      },
      "execution_count": 8,
      "outputs": []
    },
    {
      "cell_type": "markdown",
      "source": [
        "* `pd.get_dummies(dummy_na=True)`: Add a column to indicate NaNs, if `False` NaNs are ignored."
      ],
      "metadata": {
        "id": "7Cu-sZim4bel"
      }
    },
    {
      "cell_type": "code",
      "source": [
        "# Convert categorcial values to discerete numbers\n",
        "\n",
        "features = pd.get_dummies(features, dummy_na=False)\n",
        "print(features.shape)\n",
        "\n",
        "features = pd.get_dummies(features, dummy_na=True)\n",
        "print(features.shape)"
      ],
      "metadata": {
        "colab": {
          "base_uri": "https://localhost:8080/"
        },
        "id": "kzZ3nodp4Kht",
        "outputId": "251f734c-9942-4cf9-b0d6-18b0fa9ba211"
      },
      "execution_count": 9,
      "outputs": [
        {
          "output_type": "stream",
          "name": "stdout",
          "text": [
            "(2919, 288)\n",
            "(2919, 288)\n"
          ]
        }
      ]
    },
    {
      "cell_type": "code",
      "source": [
        "# Separate training and evaluation data from features.\n",
        "\n",
        "train_data = features[: raw_train.shape[0]].copy()\n",
        "train_data[label] = df_train[label].copy()\n",
        "\n",
        "val_data = features[raw_train.shape[0]:].copy()\n",
        "\n",
        "train_data.shape, val_data.shape"
      ],
      "metadata": {
        "colab": {
          "base_uri": "https://localhost:8080/"
        },
        "id": "qt9tybLX5aJl",
        "outputId": "47f5fd5d-e3a2-40cf-b479-2190ef31104e"
      },
      "execution_count": 10,
      "outputs": [
        {
          "output_type": "execute_result",
          "data": {
            "text/plain": [
              "((1460, 289), (1459, 288))"
            ]
          },
          "metadata": {},
          "execution_count": 10
        }
      ]
    },
    {
      "cell_type": "markdown",
      "source": [
        "## Converting the Data to PyTorch Datasets."
      ],
      "metadata": {
        "id": "673Flt2OEMQi"
      }
    },
    {
      "cell_type": "markdown",
      "source": [
        "* Python `slice()` Function: Returns a slice object.\n",
        "* `df.values`: Return a Numpy representation of the DataFrame."
      ],
      "metadata": {
        "id": "_azcjSpk7WQV"
      }
    },
    {
      "cell_type": "code",
      "source": [
        "import torch"
      ],
      "metadata": {
        "id": "SSppDeoh9V4z"
      },
      "execution_count": 11,
      "outputs": []
    },
    {
      "cell_type": "code",
      "source": [
        "get_tensor = lambda x: torch.tensor(x.values, dtype=torch.float32)\n",
        "\n",
        "tensors1 = get_tensor(train_data.drop(columns=[label])) # converts the Numpy representation od the data frame to tensors.\n",
        "\n",
        "type(train_data.values), type(tensors1)"
      ],
      "metadata": {
        "colab": {
          "base_uri": "https://localhost:8080/"
        },
        "id": "ES3gJjZt76h-",
        "outputId": "ee850161-14af-4fb4-92d0-448706e13124"
      },
      "execution_count": 12,
      "outputs": [
        {
          "output_type": "execute_result",
          "data": {
            "text/plain": [
              "(numpy.ndarray, torch.Tensor)"
            ]
          },
          "metadata": {},
          "execution_count": 12
        }
      ]
    },
    {
      "cell_type": "code",
      "source": [
        "indices = slice(0, None)\n",
        "\n",
        "tensors = tuple(a[indices] for a in tensors1)  # this line of code puts each sample (331 features) as an element in a tuple.\n",
        "indices, type(tensors1), len(tensors1)"
      ],
      "metadata": {
        "colab": {
          "base_uri": "https://localhost:8080/"
        },
        "id": "CgeImUKnAWm2",
        "outputId": "867e8d6d-fe86-4e20-b52b-e50658703e5e"
      },
      "execution_count": 13,
      "outputs": [
        {
          "output_type": "execute_result",
          "data": {
            "text/plain": [
              "(slice(0, None, None), torch.Tensor, 1460)"
            ]
          },
          "metadata": {},
          "execution_count": 13
        }
      ]
    },
    {
      "cell_type": "markdown",
      "source": [
        "## Torch Datasets and Torch DataLoader\n",
        "\n",
        "* The `Dataset` class is an abstract class that is used to define new types of custom datasets.\n",
        "* The `TensorDataset` is a ready to use class to represent your data as a list of tensors. "
      ],
      "metadata": {
        "id": "mBg_gsal4gGK"
      }
    },
    {
      "cell_type": "markdown",
      "source": [
        "#### Torch Tensor Datasets\n",
        "\n",
        "`TensorDataset` can be used when we have a list of inputs and a list of outputs (targets). In other words, there is a one-one mapping between input data and the target data (for example an image and its labels)."
      ],
      "metadata": {
        "id": "mgGm43Jw6xrA"
      }
    },
    {
      "cell_type": "code",
      "source": [
        "# Example using TensorDataset Class\n",
        "\n",
        "inps = torch.arange(1, 16).reshape(5, 3)\n",
        "outs = torch.randint(1, 3, size=(5,))\n",
        "\n",
        "ds = torch.utils.data.TensorDataset(inps, outs)\n",
        "for inp, target in ds:\n",
        "  print(f'{inp}:{target}')\n",
        "\n",
        "print('***************************************')\n",
        "\n",
        "dl = torch.utils.data.DataLoader(ds, batch_size=2, shuffle=True)\n",
        "for inp, target in dl:\n",
        "  print(f'{inp}:{target}')\n"
      ],
      "metadata": {
        "colab": {
          "base_uri": "https://localhost:8080/"
        },
        "id": "_m3yLATb9hDA",
        "outputId": "453f4f19-e6bd-4666-874f-b1211b4c0e1c"
      },
      "execution_count": 14,
      "outputs": [
        {
          "output_type": "stream",
          "name": "stdout",
          "text": [
            "tensor([1, 2, 3]):2\n",
            "tensor([4, 5, 6]):1\n",
            "tensor([7, 8, 9]):2\n",
            "tensor([10, 11, 12]):2\n",
            "tensor([13, 14, 15]):1\n",
            "***************************************\n",
            "tensor([[ 7,  8,  9],\n",
            "        [13, 14, 15]]):tensor([2, 1])\n",
            "tensor([[10, 11, 12],\n",
            "        [ 1,  2,  3]]):tensor([2, 2])\n",
            "tensor([[4, 5, 6]]):tensor([1])\n"
          ]
        }
      ]
    },
    {
      "cell_type": "code",
      "source": [
        "tensors = (get_tensor(train_data.drop(columns=[label])),\n",
        "           torch.log(get_tensor(train_data[label])).reshape((-1,1))) # a tple: fist element: input, second element: labels\n",
        "print(tensors[0].shape, tensors[1].shape)\n",
        "\n",
        "a, b = tensors\n",
        "print(a.shape)\n",
        "print(b.shape)\n",
        "\n",
        "for a in tensors:\n",
        "  print(a)\n",
        "\n",
        "\n",
        "tensors = tuple(a[indices] for a in tensors)\n",
        "tensors[0].shape, tensors[1].shape"
      ],
      "metadata": {
        "id": "SEnwX5cTAEbX"
      },
      "execution_count": null,
      "outputs": []
    },
    {
      "cell_type": "code",
      "source": [
        "def get_tensorloader(tensors, indices=slice(0, None)):\n",
        "  tensors = tuple(a[indices] for a in tensors)\n",
        "  dataset = torch.utils.data.TensorDataset(*tensors)\n",
        "  return torch.utils.data.DataLoader(dataset, batch_size=32, shuffle=True)"
      ],
      "metadata": {
        "id": "pM1fETwH9AMV"
      },
      "execution_count": 29,
      "outputs": []
    }
  ]
}