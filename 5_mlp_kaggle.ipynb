{
  "nbformat": 4,
  "nbformat_minor": 0,
  "metadata": {
    "colab": {
      "provenance": [],
      "authorship_tag": "ABX9TyMJLlpKVPlnm53Qqvs35ejk",
      "include_colab_link": true
    },
    "kernelspec": {
      "name": "python3",
      "display_name": "Python 3"
    },
    "language_info": {
      "name": "python"
    }
  },
  "cells": [
    {
      "cell_type": "markdown",
      "metadata": {
        "id": "view-in-github",
        "colab_type": "text"
      },
      "source": [
        "<a href=\"https://colab.research.google.com/github/DavoodSZ1993/Dive-into-Deep-Learning-Notes-/blob/main/5_mlp_kaggle.ipynb\" target=\"_parent\"><img src=\"https://colab.research.google.com/assets/colab-badge.svg\" alt=\"Open In Colab\"/></a>"
      ]
    },
    {
      "cell_type": "markdown",
      "source": [
        "## `os` Built-in Module\n",
        "\n",
        "This module provides a portable way of using **operating system** dependent functionality.\n",
        "\n",
        "* `os.mkdir()`: Can be used to create a directory named path with the specific numeric mode.\n",
        "* `os.path.join()`: Join one or more path components intelligently.\n",
        "* `os.path.exists()`: Check whether the specific path exists or not.\n",
        "* `os.path.dirname()`: Used to get the dictionary name from the specific path.\n",
        "* `os.path.splittext()`: Used to split the pathname into a pair root and ext."
      ],
      "metadata": {
        "id": "_cAu2IgeucT5"
      }
    },
    {
      "cell_type": "markdown",
      "source": [
        "## `tarfile` Module\n",
        "\n",
        "We can create tar files using this module. This module makes it possible to read and write tar archives, including those using gzip, bz2 and lzma compression.\n",
        "\n",
        "* `tarfile.open()`: Return a tarfile object."
      ],
      "metadata": {
        "id": "G4lA-5lLyLQt"
      }
    },
    {
      "cell_type": "markdown",
      "source": [
        "## `zipfile` Module\n",
        "\n",
        "This module provides tools to create, read, write, append, and list ZIP files.\n",
        "\n",
        "* `zipfile.ZipFile()`: Open a ZIP file."
      ],
      "metadata": {
        "id": "oL6J4bKJzVfb"
      }
    },
    {
      "cell_type": "markdown",
      "source": [
        "## With Open in Python\n",
        "\n",
        "* `open()`: This function opens a file in python. However, the `open()` function does not close the file. So, the file should be closed with `close()` method. \n",
        "* The `with` statement works with the `open()` function to open a file.\n",
        "* Unlike the `open()` where we have to close the file with the `close()` method, the `with` statement closes the file authomatically."
      ],
      "metadata": {
        "id": "qpayZT4v1zY_"
      }
    },
    {
      "cell_type": "markdown",
      "source": [
        "## `opendatasets`\n",
        "`opendatasets` is a Python library for downloading datasets from online sources like Kaggle and Google Drive using a simple Python command."
      ],
      "metadata": {
        "id": "ukPD23IV35CJ"
      }
    },
    {
      "cell_type": "code",
      "execution_count": null,
      "metadata": {
        "id": "JTEjE-G8tf53"
      },
      "outputs": [],
      "source": [
        "!pip install opendatasets --upgrade --quiet"
      ]
    }
  ]
}