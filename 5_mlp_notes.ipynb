{
  "nbformat": 4,
  "nbformat_minor": 0,
  "metadata": {
    "colab": {
      "provenance": [],
      "authorship_tag": "ABX9TyOIqgUUHbsiVOegxuXvEut0",
      "include_colab_link": true
    },
    "kernelspec": {
      "name": "python3",
      "display_name": "Python 3"
    },
    "language_info": {
      "name": "python"
    }
  },
  "cells": [
    {
      "cell_type": "markdown",
      "metadata": {
        "id": "view-in-github",
        "colab_type": "text"
      },
      "source": [
        "<a href=\"https://colab.research.google.com/github/DavoodSZ1993/Pytorch_Basics/blob/main/5_mlp_notes.ipynb\" target=\"_parent\"><img src=\"https://colab.research.google.com/assets/colab-badge.svg\" alt=\"Open In Colab\"/></a>"
      ]
    },
    {
      "cell_type": "markdown",
      "source": [
        "## `nn.ReLU()` vs. `nn.functional.relu()`:\n",
        "\n",
        "* `nn.ReLU`: Creates an `nn.Module` which can be added to an `nn.Sequential` model.\n",
        "* `nn.functional.relu()`: Is just the functional API call to the relu function. So it can be added in forward method."
      ],
      "metadata": {
        "id": "6qNn_txAg_m7"
      }
    },
    {
      "cell_type": "markdown",
      "source": [
        "## `tensor.backward()`\n",
        "\n",
        "Computes the gradient of the current tensor w.r.t.  graph leaves.\n",
        "\n",
        "* By default, PyTorch expects `backward()` to be called for the **last** output of the network, **the loss function**.\n",
        "* By default, `backward()` is called on a **scalar tensor** and expects no arguments.  "
      ],
      "metadata": {
        "id": "z4AXobjji1lB"
      }
    },
    {
      "cell_type": "code",
      "execution_count": 3,
      "metadata": {
        "id": "SAMCobRxgDlM"
      },
      "outputs": [],
      "source": [
        "%matplotlib inline\n",
        "import matplotlib.pyplot as plt\n",
        "import matplotlib.gridspec as gridspec\n",
        "import torch"
      ]
    },
    {
      "cell_type": "code",
      "source": [
        "a = torch.tensor([[1.0, 2.0, 3.0], [4.0, 5.0, 6.0]], requires_grad=True)\n",
        "b = a * a\n",
        "\n",
        "b.backward(a)\n",
        "print(a.grad)"
      ],
      "metadata": {
        "colab": {
          "base_uri": "https://localhost:8080/"
        },
        "id": "lTlRVQybpRBP",
        "outputId": "2846c051-2e03-4cf0-a0d4-97d77aa7350f"
      },
      "execution_count": 16,
      "outputs": [
        {
          "output_type": "stream",
          "name": "stdout",
          "text": [
            "tensor([[ 2.,  8., 18.],\n",
            "        [32., 50., 72.]])\n"
          ]
        }
      ]
    },
    {
      "cell_type": "markdown",
      "source": [
        "* In the above code snippet, the `backward()` is called on a 2x3 `b` tensor (no longer a scalar). Mathematically, `a.grad` should be a 2x3x2x3 tensor as follows:\n",
        "$$\n",
        "db[i, j] / da[k, l]\n",
        "$$\n",
        "\n"
      ],
      "metadata": {
        "id": "lenCymhWvVPJ"
      }
    },
    {
      "cell_type": "markdown",
      "source": [
        "* `torch.ones_like()`: Returns a tesnor filled with the scalar value 1, with the same size as `input`."
      ],
      "metadata": {
        "id": "ZpaboosulVJm"
      }
    },
    {
      "cell_type": "code",
      "source": [
        "x = torch.arange(-8.0, 8.0, 0.1, requires_grad=True)\n",
        "y = torch.relu(x)\n",
        "\n",
        "\n",
        "fig = plt.figure(1, figsize=(5, 5))\n",
        "gs = gridspec.GridSpec(4, 4)\n",
        "\n",
        "y.backward(torch.ones_like(x), retain_graph=True)\n",
        "first_plot = fig.add_subplot(gs[0:2, 0:4])\n",
        "plt.plot(x.detach(), x.grad)\n",
        "\n",
        "x.grad.data.zero_()\n",
        "y.backward(torch.ones_like(x) * 2, retain_graph=True)\n",
        "first_plot = fig.add_subplot(gs[2:4, 0:4])\n",
        "plt.plot(x.detach(), x.grad)"
      ],
      "metadata": {
        "colab": {
          "base_uri": "https://localhost:8080/",
          "height": 337
        },
        "id": "J-Ppk-INjn6C",
        "outputId": "cc33af7d-40aa-4152-c342-a7bafe6df787"
      },
      "execution_count": 13,
      "outputs": [
        {
          "output_type": "execute_result",
          "data": {
            "text/plain": [
              "[<matplotlib.lines.Line2D at 0x7ff71b66ee80>]"
            ]
          },
          "metadata": {},
          "execution_count": 13
        },
        {
          "output_type": "display_data",
          "data": {
            "text/plain": [
              "<Figure size 360x360 with 2 Axes>"
            ],
            "image/png": "[encoded data removed]"
          },
          "metadata": {
            "needs_background": "light"
          }
        }
      ]
    }
  ]
}