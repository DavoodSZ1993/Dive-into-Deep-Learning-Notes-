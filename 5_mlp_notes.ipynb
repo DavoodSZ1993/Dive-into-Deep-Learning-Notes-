{
  "nbformat": 4,
  "nbformat_minor": 0,
  "metadata": {
    "colab": {
      "provenance": [],
      "authorship_tag": "ABX9TyOa4UFVtXW0bG9A/eT1Y6UP",
      "include_colab_link": true
    },
    "kernelspec": {
      "name": "python3",
      "display_name": "Python 3"
    },
    "language_info": {
      "name": "python"
    }
  },
  "cells": [
    {
      "cell_type": "markdown",
      "metadata": {
        "id": "view-in-github",
        "colab_type": "text"
      },
      "source": [
        "<a href=\"https://colab.research.google.com/github/DavoodSZ1993/Pytorch_Basics/blob/main/5_mlp_notes.ipynb\" target=\"_parent\"><img src=\"https://colab.research.google.com/assets/colab-badge.svg\" alt=\"Open In Colab\"/></a>"
      ]
    },
    {
      "cell_type": "markdown",
      "source": [
        "## `nn.ReLU()` vs. `nn.functional.relu()`:\n",
        "\n",
        "* `nn.ReLU`: Creates an `nn.Module` which can be added to an `nn.Sequential` model.\n",
        "* `nn.functional.relu()`: Is just the functional API call to the relu function. So it can be added in forward method."
      ],
      "metadata": {
        "id": "6qNn_txAg_m7"
      }
    },
    {
      "cell_type": "markdown",
      "source": [
        "## `tensor.backward()`\n",
        "\n",
        "Computes the gradient of the current tensor w.r.t.  graph leaves.\n",
        "\n",
        "* By default, PyTorch expects `backward()` to be called for the **last** output of the network, **the loss function**.\n",
        "* By default, `backward()` is called on a **scalar tensor** and expects no arguments.  "
      ],
      "metadata": {
        "id": "z4AXobjji1lB"
      }
    },
    {
      "cell_type": "code",
      "execution_count": 3,
      "metadata": {
        "id": "SAMCobRxgDlM"
      },
      "outputs": [],
      "source": [
        "%matplotlib inline\n",
        "import matplotlib.pyplot as plt\n",
        "import matplotlib.gridspec as gridspec\n",
        "import torch"
      ]
    },
    {
      "cell_type": "code",
      "source": [
        "a = torch.tensor([[1.0, 2.0, 3.0], [4.0, 5.0, 6.0]], requires_grad=True)\n",
        "b = a * a\n",
        "\n",
        "b.backward(a)\n",
        "print(a.grad)"
      ],
      "metadata": {
        "colab": {
          "base_uri": "https://localhost:8080/"
        },
        "id": "lTlRVQybpRBP",
        "outputId": "2846c051-2e03-4cf0-a0d4-97d77aa7350f"
      },
      "execution_count": 16,
      "outputs": [
        {
          "output_type": "stream",
          "name": "stdout",
          "text": [
            "tensor([[ 2.,  8., 18.],\n",
            "        [32., 50., 72.]])\n"
          ]
        }
      ]
    },
    {
      "cell_type": "markdown",
      "source": [
        "* In the above code snippet, the `backward()` is called on a 2x3 `b` tensor (no longer a scalar). Mathematically, `a.grad` should be a 2x3x2x3 tensor as follows:\n",
        "$$\n",
        "db[i, j] \\over da[k, l]\n",
        "$$\n",
        "* PyTorch does not support this **non-scalar** function derivatives. Instead, PyTorch assumes `b` is only an intermediate tensor and **somewhere upstream there is a loss function**.\n",
        "* The upstream loss function through **chain rule** provides the following:\n",
        "$$\n",
        "d loss[i,j]\\over db[i,j] \n",
        "$$\n",
        "* The upstream gradient is of size 2x3 and this is actually the argument provided for `backward()`. In this case, `b.backward(g)`, where:\n",
        "$$\n",
        "g[i,j] = {d loss \\over db[i,j]}\n",
        "$$\n",
        "* The gradients then is calculated by the chain rule:\n",
        "$$\n",
        "{d loss \\over da[i,j]} = {dloss \\over db[i,j]} \\times {db[i,j] \\over da[i,j]}\n",
        "$$\n",
        "\n",
        "* So, if we initiate the term `g`($dloss \\over db[i,j]$) to the 1, then we can calculate the correct gradient."
      ],
      "metadata": {
        "id": "lenCymhWvVPJ"
      }
    },
    {
      "cell_type": "markdown",
      "source": [
        "* `torch.ones_like()`: Returns a tesnor filled with the scalar value 1, with the same size as `input`.\n",
        "* `x.grad.data.zero(_)`: Since the `backward()` function accumulates gradients, we should not mix up gradients between minibatches, so we have to zero out the gradients by this command."
      ],
      "metadata": {
        "id": "ZpaboosulVJm"
      }
    },
    {
      "cell_type": "code",
      "source": [
        "x = torch.arange(-8.0, 8.0, 0.1, requires_grad=True)\n",
        "y = torch.relu(x)\n",
        "\n",
        "\n",
        "fig = plt.figure(1, figsize=(5, 5))\n",
        "gs = gridspec.GridSpec(4, 4)\n",
        "\n",
        "y.backward(torch.ones_like(x), retain_graph=True)\n",
        "first_plot = fig.add_subplot(gs[0:2, 0:4])\n",
        "plt.plot(x.detach(), x.grad, c= 'r')\n",
        "plt.grid()\n",
        "plt.minorticks_on()\n",
        "plt.tick_params(labelbottom=False)\n",
        "plt.ylabel('grad of relue', fontsize=14)\n",
        "plt.title('How use chain rule to calculate grad with backward method')\n",
        "\n",
        "x.grad.data.zero_()\n",
        "y.backward(torch.ones_like(x) * 2, retain_graph=True)    # in the cahin rule, calculates 2 x gradient (as dicussed above!)\n",
        "first_plot = fig.add_subplot(gs[2:4, 0:4])\n",
        "plt.plot(x.detach(), x.grad, c='g')\n",
        "plt.grid()\n",
        "plt.minorticks_on()\n",
        "plt.xlabel('x', fontsize=14)\n",
        "plt.ylabel(' 2 x grad of relue', fontsize=14)\n"
      ],
      "metadata": {
        "colab": {
          "base_uri": "https://localhost:8080/",
          "height": 371
        },
        "id": "J-Ppk-INjn6C",
        "outputId": "0da7e2ba-14af-4cea-c802-2680f614626f"
      },
      "execution_count": 22,
      "outputs": [
        {
          "output_type": "execute_result",
          "data": {
            "text/plain": [
              "Text(0, 0.5, ' 2 x grad of relue')"
            ]
          },
          "metadata": {},
          "execution_count": 22
        },
        {
          "output_type": "display_data",
          "data": {
            "text/plain": [
              "<Figure size 360x360 with 2 Axes>"
            ],
            "image/png": "[encoded data removed]"
          },
          "metadata": {
            "needs_background": "light"
          }
        }
      ]
    },
    {
      "cell_type": "markdown",
      "source": [
        "## `retain_graph` Argument in the `backward()` Method: \n",
        "\n",
        "Consider the following code snippet that contains a graph. In this graph, `d` and `e` are outputs and `a` is input."
      ],
      "metadata": {
        "id": "hXdslfB93u1_"
      }
    },
    {
      "cell_type": "code",
      "source": [
        "a = torch.tensor([[1.0, 2.0, 3.0], [4.0, 5.0, 6.0]], requires_grad=True)\n",
        "\n",
        "b = a**2\n",
        "c = b*2\n",
        "d = c.mean()\n",
        "e = c.sum()\n",
        "d, e"
      ],
      "metadata": {
        "colab": {
          "base_uri": "https://localhost:8080/"
        },
        "id": "KAUlpRgT9Mw6",
        "outputId": "b3273c20-c78a-44aa-957b-fffa21fde023"
      },
      "execution_count": 24,
      "outputs": [
        {
          "output_type": "execute_result",
          "data": {
            "text/plain": [
              "(tensor(30.3333, grad_fn=<MeanBackward0>),\n",
              " tensor(182., grad_fn=<SumBackward0>))"
            ]
          },
          "metadata": {},
          "execution_count": 24
        }
      ]
    },
    {
      "cell_type": "markdown",
      "source": [
        "* When we do `d.backward()`, that is fine. However, after this computation the part of the graph that calculate `d` will be freed by default to save memory. \n",
        "* So, if we do `e.backward()`, the error message will pop up. In order to do `e.backward()`, we have to set the parameter `retain_graph` to `True` in `e.backward()`.\n",
        "* This is very useful when we have to output branches in our network and want to calculate the loss function for both of them. "
      ],
      "metadata": {
        "id": "hHizWHyC98Kv"
      }
    },
    {
      "cell_type": "code",
      "source": [
        "d.backward(retain_graph=True)\n",
        "e.backward(retain_graph=True)"
      ],
      "metadata": {
        "id": "-NMvc5cc_B5E"
      },
      "execution_count": 25,
      "outputs": []
    }
  ]
}