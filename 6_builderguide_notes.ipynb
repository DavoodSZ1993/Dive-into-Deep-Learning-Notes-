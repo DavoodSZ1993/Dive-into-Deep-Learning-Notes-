{
  "nbformat": 4,
  "nbformat_minor": 0,
  "metadata": {
    "colab": {
      "provenance": [],
      "authorship_tag": "ABX9TyMJxOTTV8aNWe9ejbrbVJYe",
      "include_colab_link": true
    },
    "kernelspec": {
      "name": "python3",
      "display_name": "Python 3"
    },
    "language_info": {
      "name": "python"
    }
  },
  "cells": [
    {
      "cell_type": "markdown",
      "metadata": {
        "id": "view-in-github",
        "colab_type": "text"
      },
      "source": [
        "<a href=\"https://colab.research.google.com/github/DavoodSZ1993/Dive-into-Deep-Learning-Notes-/blob/main/6_builderguide_notes.ipynb\" target=\"_parent\"><img src=\"https://colab.research.google.com/assets/colab-badge.svg\" alt=\"Open In Colab\"/></a>"
      ]
    },
    {
      "cell_type": "markdown",
      "source": [
        "## PyTorch Notes"
      ],
      "metadata": {
        "id": "LPEdo5AYK1S0"
      }
    },
    {
      "cell_type": "markdown",
      "source": [
        "* `torch.rand()`: Returns a tensor filled with random numbers from a uniform distribution on the interval [0, 1)."
      ],
      "metadata": {
        "id": "x6Vp7lnCLiGC"
      }
    },
    {
      "cell_type": "code",
      "execution_count": 3,
      "metadata": {
        "colab": {
          "base_uri": "https://localhost:8080/"
        },
        "id": "g12tX95bKv6K",
        "outputId": "b76e3e4d-2407-4eca-905d-8bc758d43dda"
      },
      "outputs": [
        {
          "output_type": "execute_result",
          "data": {
            "text/plain": [
              "tensor([[0.3017, 0.5035],\n",
              "        [0.9197, 0.4851]])"
            ]
          },
          "metadata": {},
          "execution_count": 3
        }
      ],
      "source": [
        "import torch\n",
        "\n",
        "X = torch.rand(size=(2, 2))\n",
        "X"
      ]
    },
    {
      "cell_type": "markdown",
      "source": [
        "## General Notes"
      ],
      "metadata": {
        "id": "gBf3zGEgK44S"
      }
    },
    {
      "cell_type": "markdown",
      "source": [
        "### \\*args and \\**kwargs\n",
        "\n",
        "* \\*args: **Non-Keyword Arguments**: This is used in function definition is python and is used to pass a number of arguments to a function. "
      ],
      "metadata": {
        "id": "_79IhkJ3Mp8z"
      }
    }
  ]
}