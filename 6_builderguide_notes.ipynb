{
  "nbformat": 4,
  "nbformat_minor": 0,
  "metadata": {
    "colab": {
      "provenance": [],
      "authorship_tag": "ABX9TyMPsWXhvVZxGhxCxT+tCQwI",
      "include_colab_link": true
    },
    "kernelspec": {
      "name": "python3",
      "display_name": "Python 3"
    },
    "language_info": {
      "name": "python"
    }
  },
  "cells": [
    {
      "cell_type": "markdown",
      "metadata": {
        "id": "view-in-github",
        "colab_type": "text"
      },
      "source": [
        "<a href=\"https://colab.research.google.com/github/DavoodSZ1993/Dive-into-Deep-Learning-Notes-/blob/main/6_builderguide_notes.ipynb\" target=\"_parent\"><img src=\"https://colab.research.google.com/assets/colab-badge.svg\" alt=\"Open In Colab\"/></a>"
      ]
    },
    {
      "cell_type": "markdown",
      "source": [
        "## PyTorch Notes"
      ],
      "metadata": {
        "id": "LPEdo5AYK1S0"
      }
    },
    {
      "cell_type": "markdown",
      "source": [
        "* `torch.rand()`: Returns a tensor filled with random numbers from a uniform distribution on the interval [0, 1)."
      ],
      "metadata": {
        "id": "x6Vp7lnCLiGC"
      }
    },
    {
      "cell_type": "code",
      "execution_count": 3,
      "metadata": {
        "colab": {
          "base_uri": "https://localhost:8080/"
        },
        "id": "g12tX95bKv6K",
        "outputId": "b76e3e4d-2407-4eca-905d-8bc758d43dda"
      },
      "outputs": [
        {
          "output_type": "execute_result",
          "data": {
            "text/plain": [
              "tensor([[0.3017, 0.5035],\n",
              "        [0.9197, 0.4851]])"
            ]
          },
          "metadata": {},
          "execution_count": 3
        }
      ],
      "source": [
        "import torch\n",
        "\n",
        "X = torch.rand(size=(2, 2))\n",
        "X"
      ]
    },
    {
      "cell_type": "markdown",
      "source": [
        "* `add_module()` method in `Module` class: adds a child module to the current module. This method is useful when adding modules using the `for` loop.\n",
        "* `children()` method in `Module` class: Returns an iterator over *immediate children* modules. This method is a generator that returns layers of the model from which you can extract parameter tensors using `layername.wieght` and `layername.bias`."
      ],
      "metadata": {
        "id": "L0PinrWbWEOL"
      }
    },
    {
      "cell_type": "code",
      "source": [
        "# add_module\n",
        "from torch import nn\n",
        "\n",
        "X = torch.rand(2, 20)\n",
        "\n",
        "modules1 = {'linear1': nn.LazyLinear(256),\n",
        "           'actv1': nn.ReLU(),\n",
        "           'linear2': nn.LazyLinear(10)}\n",
        "\n",
        "class Net(nn.Module):\n",
        "  def __init__(self, **kwargs):\n",
        "    super().__init__()\n",
        "\n",
        "    for key, value in kwargs.items():\n",
        "      self.add_module(key, value)\n",
        "\n",
        "  def forward(self, X):\n",
        "    for module in self.children():         # returns the modules of a neural network ,modules() will not work here because it considers all the modules (the net plus three others)\n",
        "      X = module(X)\n",
        "    return X\n",
        "\n",
        "net = Net(**modules1)\n",
        "\n",
        "for module in net.modules():\n",
        "  print(module)\n",
        "  break          \n"
      ],
      "metadata": {
        "colab": {
          "base_uri": "https://localhost:8080/"
        },
        "id": "KavkhPUPXf4K",
        "outputId": "792034f6-5320-409d-be87-0e32766dc22a"
      },
      "execution_count": 28,
      "outputs": [
        {
          "output_type": "stream",
          "name": "stdout",
          "text": [
            "Net(\n",
            "  (linear1): LazyLinear(in_features=0, out_features=256, bias=True)\n",
            "  (actv1): ReLU()\n",
            "  (linear2): LazyLinear(in_features=0, out_features=10, bias=True)\n",
            ")\n"
          ]
        },
        {
          "output_type": "stream",
          "name": "stderr",
          "text": [
            "/usr/local/lib/python3.8/dist-packages/torch/nn/modules/lazy.py:180: UserWarning: Lazy modules are a new feature under heavy development so changes to the API or functionality can happen at any moment.\n",
            "  warnings.warn('Lazy modules are a new feature under heavy development '\n"
          ]
        }
      ]
    },
    {
      "cell_type": "markdown",
      "source": [
        "* `modules()` method in `Module` class: Returns an iterator over *all modules* in the network. If we want to recursively iterate over modules, then we should use `modules()` method instead of `children()` method."
      ],
      "metadata": {
        "id": "d10dmGyXdj-F"
      }
    },
    {
      "cell_type": "markdown",
      "source": [
        "## General Notes"
      ],
      "metadata": {
        "id": "gBf3zGEgK44S"
      }
    },
    {
      "cell_type": "markdown",
      "source": [
        "### \\*args and \\**kwargs\n",
        "\n",
        "* \\*args: **Non-Keyword Arguments**: This is used in function definition is python and is used to pass a number of arguments to a function. \n",
        "* \\*\\*kwargs: **Keyword Arguments**: Is used in function definition in Python and is used to pass a *keyworded*, variable-length argument list.\n",
        "\n",
        "* A keyword argument is where you provide a name to the variable as you pass it into the function. kwargs can be think of as *dictionary*."
      ],
      "metadata": {
        "id": "_79IhkJ3Mp8z"
      }
    },
    {
      "cell_type": "code",
      "source": [
        "# *args\n",
        "def myfunc(*args):\n",
        "  for arg in args:\n",
        "    print(arg)\n",
        "\n",
        "args = ('Davood', 'Ahmad', 'Akbar', 'Mohsen')\n",
        "myfunc(*args)"
      ],
      "metadata": {
        "colab": {
          "base_uri": "https://localhost:8080/"
        },
        "id": "d7qvz2FFRpj8",
        "outputId": "59eba4cc-bc97-4b85-d2e8-855351374665"
      },
      "execution_count": 5,
      "outputs": [
        {
          "output_type": "stream",
          "name": "stdout",
          "text": [
            "Davood\n",
            "Ahmad\n",
            "Akbar\n",
            "Mohsen\n"
          ]
        }
      ]
    },
    {
      "cell_type": "code",
      "source": [
        "# **kwargs\n",
        "\n",
        "def myfunc1(**kwargs):\n",
        "  for key, value in kwargs.items():         # Items() method returns the key and value in a dictionary.\n",
        "    print(f'{key} == {value}')\n",
        "\n",
        "myfunc1(name='Davood', age=29, education='M.Sc.')"
      ],
      "metadata": {
        "colab": {
          "base_uri": "https://localhost:8080/"
        },
        "id": "5q_ri-6sU1gt",
        "outputId": "aeef3e94-810a-402e-c306-92479b9e8ea6"
      },
      "execution_count": 6,
      "outputs": [
        {
          "output_type": "stream",
          "name": "stdout",
          "text": [
            "name == Davood\n",
            "age == 29\n",
            "education == M.Sc.\n"
          ]
        }
      ]
    }
  ]
}