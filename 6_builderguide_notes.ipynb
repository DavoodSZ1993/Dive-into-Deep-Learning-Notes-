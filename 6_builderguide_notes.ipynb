{
  "nbformat": 4,
  "nbformat_minor": 0,
  "metadata": {
    "colab": {
      "provenance": [],
      "authorship_tag": "ABX9TyNPJlo6Hwqn2w2uLh14lAvr",
      "include_colab_link": true
    },
    "kernelspec": {
      "name": "python3",
      "display_name": "Python 3"
    },
    "language_info": {
      "name": "python"
    }
  },
  "cells": [
    {
      "cell_type": "markdown",
      "metadata": {
        "id": "view-in-github",
        "colab_type": "text"
      },
      "source": [
        "<a href=\"https://colab.research.google.com/github/DavoodSZ1993/Dive-into-Deep-Learning-Notes-/blob/main/6_builderguide_notes.ipynb\" target=\"_parent\"><img src=\"https://colab.research.google.com/assets/colab-badge.svg\" alt=\"Open In Colab\"/></a>"
      ]
    },
    {
      "cell_type": "markdown",
      "source": [
        "## PyTorch Notes"
      ],
      "metadata": {
        "id": "LPEdo5AYK1S0"
      }
    },
    {
      "cell_type": "markdown",
      "source": [
        "* `torch.rand()`: Returns a tensor filled with random numbers from a uniform distribution on the interval [0, 1).\n",
        "* `@`: A@B operator internally maps to `torch.matmul(A,B)`."
      ],
      "metadata": {
        "id": "x6Vp7lnCLiGC"
      }
    },
    {
      "cell_type": "code",
      "execution_count": 1,
      "metadata": {
        "colab": {
          "base_uri": "https://localhost:8080/"
        },
        "id": "g12tX95bKv6K",
        "outputId": "832acd20-10d6-4b3f-9033-1bd05f50a815"
      },
      "outputs": [
        {
          "output_type": "execute_result",
          "data": {
            "text/plain": [
              "tensor([[0.8303, 0.2713],\n",
              "        [0.9342, 0.3234]])"
            ]
          },
          "metadata": {},
          "execution_count": 1
        }
      ],
      "source": [
        "import torch\n",
        "\n",
        "X = torch.rand(size=(2, 2))\n",
        "X"
      ]
    },
    {
      "cell_type": "code",
      "source": [
        "# @ \n",
        "A = torch.randn(1, 64, 1152, 1, 8)\n",
        "B = torch.randn(10, 1, 1152, 8, 16)\n",
        "\n",
        "# The nmatrix multiplication is done between last two dimensions (1x8 @ 8x16 --> 1x16)\n",
        "#The remaining first three dimensions are broadcast and are batch.\n",
        "C = A @ B\n",
        "\n",
        "A.shape, B.shape, C.shape"
      ],
      "metadata": {
        "id": "XINLhIem6Svv",
        "outputId": "db00a7d3-8bf8-4d1f-c38f-03bc520a718b",
        "colab": {
          "base_uri": "https://localhost:8080/"
        }
      },
      "execution_count": 2,
      "outputs": [
        {
          "output_type": "execute_result",
          "data": {
            "text/plain": [
              "(torch.Size([1, 64, 1152, 1, 8]),\n",
              " torch.Size([10, 1, 1152, 8, 16]),\n",
              " torch.Size([10, 64, 1152, 1, 16]))"
            ]
          },
          "metadata": {},
          "execution_count": 2
        }
      ]
    },
    {
      "cell_type": "markdown",
      "source": [
        "* `add_module()` method in `Module` class: adds a child module to the current module. This method is useful when adding modules using the `for` loop.\n",
        "* `children()` method in `Module` class: Returns an iterator over *immediate children* modules. This method is a generator that returns layers of the model from which you can extract parameter tensors using `layername.wieght` and `layername.bias`."
      ],
      "metadata": {
        "id": "L0PinrWbWEOL"
      }
    },
    {
      "cell_type": "code",
      "source": [
        "# add_module\n",
        "from torch import nn\n",
        "\n",
        "X = torch.rand(2, 20)\n",
        "\n",
        "modules1 = {'linear1': nn.LazyLinear(256),\n",
        "           'actv1': nn.ReLU(),\n",
        "           'linear2': nn.LazyLinear(10)}\n",
        "\n",
        "class Net(nn.Module):\n",
        "  def __init__(self, **kwargs):\n",
        "    super().__init__()\n",
        "\n",
        "    for key, value in kwargs.items():\n",
        "      self.add_module(key, value)\n",
        "\n",
        "  def forward(self, X):\n",
        "    for module in self.children():         # returns the modules of a neural network ,modules() will not work here because it considers all the modules (the net plus three others)\n",
        "      X = module(X)\n",
        "    return X\n",
        "\n",
        "net = Net(**modules1)\n",
        "\n",
        "for module in net.modules():\n",
        "  print(module)\n",
        "  break          \n"
      ],
      "metadata": {
        "colab": {
          "base_uri": "https://localhost:8080/"
        },
        "id": "KavkhPUPXf4K",
        "outputId": "6b545b5d-e007-41dd-d787-ffa7b3588ecd"
      },
      "execution_count": 3,
      "outputs": [
        {
          "output_type": "stream",
          "name": "stdout",
          "text": [
            "Net(\n",
            "  (linear1): LazyLinear(in_features=0, out_features=256, bias=True)\n",
            "  (actv1): ReLU()\n",
            "  (linear2): LazyLinear(in_features=0, out_features=10, bias=True)\n",
            ")\n"
          ]
        },
        {
          "output_type": "stream",
          "name": "stderr",
          "text": [
            "/usr/local/lib/python3.8/dist-packages/torch/nn/modules/lazy.py:180: UserWarning: Lazy modules are a new feature under heavy development so changes to the API or functionality can happen at any moment.\n",
            "  warnings.warn('Lazy modules are a new feature under heavy development '\n"
          ]
        }
      ]
    },
    {
      "cell_type": "markdown",
      "source": [
        "* `modules()` method in `Module` class: Returns an iterator over *all modules* in the network. If we want to recursively iterate over modules, then we should use `modules()` method instead of `children()` method."
      ],
      "metadata": {
        "id": "d10dmGyXdj-F"
      }
    },
    {
      "cell_type": "code",
      "source": [
        "# Difference between children() and modules()\n",
        "\n",
        "net2 = nn.Sequential(nn.Linear(2,2),\n",
        "                     nn.ReLU(),\n",
        "                     nn.Sequential(nn.Sigmoid(),\n",
        "                                   nn.ReLU()))"
      ],
      "metadata": {
        "id": "FXkHCXGv4B5-"
      },
      "execution_count": 4,
      "outputs": []
    },
    {
      "cell_type": "code",
      "source": [
        "for module in net2.children():\n",
        "  print(module)"
      ],
      "metadata": {
        "colab": {
          "base_uri": "https://localhost:8080/"
        },
        "id": "RLkLR2iO494j",
        "outputId": "150cfa02-75d3-4013-c265-5b0bebafc5c0"
      },
      "execution_count": 5,
      "outputs": [
        {
          "output_type": "stream",
          "name": "stdout",
          "text": [
            "Linear(in_features=2, out_features=2, bias=True)\n",
            "ReLU()\n",
            "Sequential(\n",
            "  (0): Sigmoid()\n",
            "  (1): ReLU()\n",
            ")\n"
          ]
        }
      ]
    },
    {
      "cell_type": "code",
      "source": [
        "for module in net2.modules():\n",
        "  print(module)"
      ],
      "metadata": {
        "colab": {
          "base_uri": "https://localhost:8080/"
        },
        "id": "VXQMD6Gz5OU6",
        "outputId": "e3769765-c006-4ffc-b5d1-8ceb5d758c49"
      },
      "execution_count": 6,
      "outputs": [
        {
          "output_type": "stream",
          "name": "stdout",
          "text": [
            "Sequential(\n",
            "  (0): Linear(in_features=2, out_features=2, bias=True)\n",
            "  (1): ReLU()\n",
            "  (2): Sequential(\n",
            "    (0): Sigmoid()\n",
            "    (1): ReLU()\n",
            "  )\n",
            ")\n",
            "Linear(in_features=2, out_features=2, bias=True)\n",
            "ReLU()\n",
            "Sequential(\n",
            "  (0): Sigmoid()\n",
            "  (1): ReLU()\n",
            ")\n",
            "Sigmoid()\n",
            "ReLU()\n"
          ]
        }
      ]
    },
    {
      "cell_type": "markdown",
      "source": [
        "* `net.state_dict()`: In PyTorch, the learnable parameters (weights and biases) of a `torch.nn.Module` model are contained in the model parameters (accessed with `model.parameters()`). A `state-dict()` is simply a Python dictionary object that maps each layer to its parameter tensor."
      ],
      "metadata": {
        "id": "esIiOvjAFT-M"
      }
    },
    {
      "cell_type": "code",
      "source": [
        "net3 = nn.Sequential(nn.Linear(2,2),\n",
        "                     nn.ReLU(),\n",
        "                     nn.Sequential(nn.Sigmoid(),\n",
        "                                   nn.ReLU()))"
      ],
      "metadata": {
        "id": "P9R0CRwBGiPi"
      },
      "execution_count": 7,
      "outputs": []
    },
    {
      "cell_type": "code",
      "source": [
        "for param in net3.parameters():\n",
        "  print(type(param.data), param.size())"
      ],
      "metadata": {
        "colab": {
          "base_uri": "https://localhost:8080/"
        },
        "id": "9-Kf7LQ9Gpwa",
        "outputId": "4039fa61-a6db-4ceb-cc48-57c9f8d1c8af"
      },
      "execution_count": 8,
      "outputs": [
        {
          "output_type": "stream",
          "name": "stdout",
          "text": [
            "<class 'torch.Tensor'> torch.Size([2, 2])\n",
            "<class 'torch.Tensor'> torch.Size([2])\n"
          ]
        }
      ]
    },
    {
      "cell_type": "code",
      "source": [
        "net3.state_dict()"
      ],
      "metadata": {
        "colab": {
          "base_uri": "https://localhost:8080/"
        },
        "id": "S6CFzpT-IwuZ",
        "outputId": "1432a9db-da43-4cbf-cb0f-f68798ec5628"
      },
      "execution_count": 9,
      "outputs": [
        {
          "output_type": "execute_result",
          "data": {
            "text/plain": [
              "OrderedDict([('0.weight', tensor([[ 0.5001,  0.3785],\n",
              "                      [ 0.3854, -0.1363]])),\n",
              "             ('0.bias', tensor([-0.6906,  0.5239]))])"
            ]
          },
          "metadata": {},
          "execution_count": 9
        }
      ]
    },
    {
      "cell_type": "markdown",
      "source": [
        "* `named_parameters()` method in `nn.Module` class: Returns an iterator over module parameters, yielding both the name of the parameter as well as the parameter itself. "
      ],
      "metadata": {
        "id": "LDaDFRYqKBsJ"
      }
    },
    {
      "cell_type": "code",
      "source": [
        "for name, param in net3.named_parameters():\n",
        "  print(name, param)"
      ],
      "metadata": {
        "colab": {
          "base_uri": "https://localhost:8080/"
        },
        "id": "2BLcx3msKW8L",
        "outputId": "bcd03cd2-0390-4e52-9fd6-5bb10b58fc8a"
      },
      "execution_count": 10,
      "outputs": [
        {
          "output_type": "stream",
          "name": "stdout",
          "text": [
            "0.weight Parameter containing:\n",
            "tensor([[ 0.5001,  0.3785],\n",
            "        [ 0.3854, -0.1363]], requires_grad=True)\n",
            "0.bias Parameter containing:\n",
            "tensor([-0.6906,  0.5239], requires_grad=True)\n"
          ]
        }
      ]
    },
    {
      "cell_type": "markdown",
      "source": [
        "### `torch.nn.init`\n",
        "\n",
        "All the functions in this module are intended to be used to initialize neural network parameters, so they all run in `torch.no_grad()` mode and will not be taken into account by autograd.\n",
        "\n",
        "* `nn.init.normal_()`: Fills the input tensor with values drawn from the normal distribution.\n",
        "* `nn.init.zeros_()`: Fills the input tensor with the scalar value zero.\n",
        "* `nn.init.constant_()`: Fills the input tensor.\n",
        "* `nn.init.xavier_uniform_()`: Fills the tensor with values as laid out by Xavier *et al*.\n",
        "* `nn.init.uniform_()`: Fills the input tensor with values drawn from the uniform distribution."
      ],
      "metadata": {
        "id": "Bcfo_X38S3aD"
      }
    },
    {
      "cell_type": "markdown",
      "source": [
        "* `apply(fn)`method in `nn.Module`: Applies `fn` recursively to every submodule (as return by `children()`) as well as self. Typical use includes **initializing the parameters of a model**."
      ],
      "metadata": {
        "id": "FohkfVyYZ60x"
      }
    },
    {
      "cell_type": "code",
      "source": [
        "net4 = nn.Sequential(nn.LazyLinear(8), nn.ReLU(),\n",
        "                    nn.LazyLinear(1))\n",
        "\n",
        "net5 = nn.LazyLinear(8)\n",
        "\n",
        "type(net4[0]) == nn.Linear, type(net5) == nn.Linear, isinstance(net4, nn.Linear), isinstance(net5, nn.Linear)"
      ],
      "metadata": {
        "id": "OW7adXG_Wm7K",
        "outputId": "26af94d5-e997-4020-82aa-4afc5542e9fa",
        "colab": {
          "base_uri": "https://localhost:8080/"
        }
      },
      "execution_count": 11,
      "outputs": [
        {
          "output_type": "execute_result",
          "data": {
            "text/plain": [
              "(False, False, False, True)"
            ]
          },
          "metadata": {},
          "execution_count": 11
        }
      ]
    },
    {
      "cell_type": "code",
      "source": [
        "X = torch.rand(size=(2, 4))\n",
        "\n",
        "net = nn.Sequential(nn.LazyLinear(8), nn.ReLU(),\n",
        "                    nn.LazyLinear(1))\n",
        "net(X).shape"
      ],
      "metadata": {
        "id": "qVljEs0ki39C"
      },
      "execution_count": null,
      "outputs": []
    },
    {
      "cell_type": "code",
      "source": [
        "def my_init(module):\n",
        "  if type(module) == nn.Linear:\n",
        "    print(\"Init\", *[(name, param.shape)\n",
        "                      for name, param in module.named_parameters()][0]) # returns a tuple, first element is wieght and second element is bias, [0] means first element\n",
        "    nn.init.uniform_(module.weight, -10, 10)\n",
        "    module.weight.data *= module.weight.data >= 5"
      ],
      "metadata": {
        "id": "a0QBaJGRjDw5"
      },
      "execution_count": 31,
      "outputs": []
    },
    {
      "cell_type": "code",
      "source": [
        "net.apply(my_init)\n",
        "\n",
        "net[0].weight[:2]"
      ],
      "metadata": {
        "id": "khNztrAjjJ8s",
        "outputId": "a041ed8c-e53e-4c68-ce24-ea2a4fa75db9",
        "colab": {
          "base_uri": "https://localhost:8080/"
        }
      },
      "execution_count": 32,
      "outputs": [
        {
          "output_type": "stream",
          "name": "stdout",
          "text": [
            "Init weight torch.Size([8, 4])\n",
            "Init weight torch.Size([1, 8])\n"
          ]
        },
        {
          "output_type": "execute_result",
          "data": {
            "text/plain": [
              "tensor([[0.0000, 8.7223, 0.0000, -0.0000],\n",
              "        [-0.0000, -0.0000, -0.0000, -0.0000]], grad_fn=<SliceBackward0>)"
            ]
          },
          "metadata": {},
          "execution_count": 32
        }
      ]
    },
    {
      "cell_type": "code",
      "source": [
        "xx = torch.tensor([[6, 7], [8, 5]])\n",
        "\n",
        "xx = xx >= 5      # Only gives a boolean value wether elements are greater than five\n",
        "xx"
      ],
      "metadata": {
        "id": "MlZvsksgkDIE",
        "outputId": "76ae4748-743f-41a8-d38c-ae83787edc0a",
        "colab": {
          "base_uri": "https://localhost:8080/"
        }
      },
      "execution_count": 35,
      "outputs": [
        {
          "output_type": "execute_result",
          "data": {
            "text/plain": [
              "tensor([[True, True],\n",
              "        [True, True]])"
            ]
          },
          "metadata": {},
          "execution_count": 35
        }
      ]
    },
    {
      "cell_type": "code",
      "source": [
        "xx = torch.tensor([[6, 7], [8, 5]])\n",
        "\n",
        "xx *= xx >= 5      #  using the * gives the values that are greater than 5\n",
        "xx"
      ],
      "metadata": {
        "id": "WkIu8s8lmGc9",
        "outputId": "49a53a92-d202-41c8-95f3-f01fa85fd584",
        "colab": {
          "base_uri": "https://localhost:8080/"
        }
      },
      "execution_count": 36,
      "outputs": [
        {
          "output_type": "execute_result",
          "data": {
            "text/plain": [
              "tensor([[6, 7],\n",
              "        [8, 5]])"
            ]
          },
          "metadata": {},
          "execution_count": 36
        }
      ]
    },
    {
      "cell_type": "markdown",
      "source": [
        "## General Notes"
      ],
      "metadata": {
        "id": "gBf3zGEgK44S"
      }
    },
    {
      "cell_type": "markdown",
      "source": [
        "### \\*args and \\**kwargs\n",
        "\n",
        "* \\*args: **Non-Keyword Arguments**: This is used in function definition is python and is used to pass a number of arguments to a function. \n",
        "* \\*\\*kwargs: **Keyword Arguments**: Is used in function definition in Python and is used to pass a *keyworded*, variable-length argument list.\n",
        "\n",
        "* A keyword argument is where you provide a name to the variable as you pass it into the function. kwargs can be think of as *dictionary*."
      ],
      "metadata": {
        "id": "_79IhkJ3Mp8z"
      }
    },
    {
      "cell_type": "code",
      "source": [
        "# *args\n",
        "def myfunc(*args):\n",
        "  for arg in args:\n",
        "    print(arg)\n",
        "\n",
        "args = ('Davood', 'Ahmad', 'Akbar', 'Mohsen')\n",
        "myfunc(*args)"
      ],
      "metadata": {
        "colab": {
          "base_uri": "https://localhost:8080/"
        },
        "id": "d7qvz2FFRpj8",
        "outputId": "59eba4cc-bc97-4b85-d2e8-855351374665"
      },
      "execution_count": null,
      "outputs": [
        {
          "output_type": "stream",
          "name": "stdout",
          "text": [
            "Davood\n",
            "Ahmad\n",
            "Akbar\n",
            "Mohsen\n"
          ]
        }
      ]
    },
    {
      "cell_type": "code",
      "source": [
        "# **kwargs\n",
        "\n",
        "def myfunc1(**kwargs):\n",
        "  for key, value in kwargs.items():         # Items() method returns the key and value in a dictionary.\n",
        "    print(f'{key} == {value}')\n",
        "\n",
        "myfunc1(name='Davood', age=29, education='M.Sc.')"
      ],
      "metadata": {
        "colab": {
          "base_uri": "https://localhost:8080/"
        },
        "id": "5q_ri-6sU1gt",
        "outputId": "aeef3e94-810a-402e-c306-92479b9e8ea6"
      },
      "execution_count": null,
      "outputs": [
        {
          "output_type": "stream",
          "name": "stdout",
          "text": [
            "name == Davood\n",
            "age == 29\n",
            "education == M.Sc.\n"
          ]
        }
      ]
    },
    {
      "cell_type": "markdown",
      "source": [
        "### Single and Double Underscores in Python\n",
        "\n",
        "* **Single leading underscore**: This sign in front of a variable, a function, or a method name means that these objects are used internally (internal attributes in classes.)\n",
        "* **Single Trailing Underscore**: It can be employed to use variable names that are actually reserved python keywords such as `class`, `def`.\n",
        "* **Double leading undersocres**: are typically used for name mangling.\n",
        "\n",
        "* **Double leading and trailing underscores**: Are used to define special universal class methods called dunder methods (short for double underscore methods)."
      ],
      "metadata": {
        "id": "4t4xrfmJdhsC"
      }
    }
  ]
}