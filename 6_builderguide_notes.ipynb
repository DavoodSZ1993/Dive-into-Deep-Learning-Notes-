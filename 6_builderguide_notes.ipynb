{
  "nbformat": 4,
  "nbformat_minor": 0,
  "metadata": {
    "colab": {
      "provenance": [],
      "authorship_tag": "ABX9TyM4U6PInHlNVj8W2kUBh1yk",
      "include_colab_link": true
    },
    "kernelspec": {
      "name": "python3",
      "display_name": "Python 3"
    },
    "language_info": {
      "name": "python"
    }
  },
  "cells": [
    {
      "cell_type": "markdown",
      "metadata": {
        "id": "view-in-github",
        "colab_type": "text"
      },
      "source": [
        "<a href=\"https://colab.research.google.com/github/DavoodSZ1993/Dive-into-Deep-Learning-Notes-/blob/main/6_builderguide_notes.ipynb\" target=\"_parent\"><img src=\"https://colab.research.google.com/assets/colab-badge.svg\" alt=\"Open In Colab\"/></a>"
      ]
    },
    {
      "cell_type": "markdown",
      "source": [
        "## PyTorch Notes"
      ],
      "metadata": {
        "id": "LPEdo5AYK1S0"
      }
    },
    {
      "cell_type": "markdown",
      "source": [
        "* `torch.rand()`: Returns a tensor filled with random numbers from a uniform distribution on the interval [0, 1).\n",
        "* `@`: A@B operator internally maps to `torch.matmul(A,B)`."
      ],
      "metadata": {
        "id": "x6Vp7lnCLiGC"
      }
    },
    {
      "cell_type": "code",
      "execution_count": 11,
      "metadata": {
        "colab": {
          "base_uri": "https://localhost:8080/"
        },
        "id": "g12tX95bKv6K",
        "outputId": "1083a067-61c3-44b2-8114-1eaf3ed5774d"
      },
      "outputs": [
        {
          "output_type": "execute_result",
          "data": {
            "text/plain": [
              "tensor([[0.5216, 0.1485],\n",
              "        [0.3893, 0.0416]])"
            ]
          },
          "metadata": {},
          "execution_count": 11
        }
      ],
      "source": [
        "import torch\n",
        "\n",
        "X = torch.rand(size=(2, 2))\n",
        "X"
      ]
    },
    {
      "cell_type": "code",
      "source": [
        "# @ \n",
        "A = torch.randn(1, 64, 1152, 1, 8)\n",
        "B = torch.randn(10, 1, 1152, 8, 16)\n",
        "\n",
        "# The nmatrix multiplication is done between last two dimensions (1x8 @ 8x16 --> 1x16)\n",
        "#The remaining first three dimensions are broadcast and are batch.\n",
        "C = A @ B\n",
        "\n",
        "A.shape, B.shape, C.shape"
      ],
      "metadata": {
        "id": "XINLhIem6Svv",
        "outputId": "0f290afe-c970-4031-bb2d-3b2960770550",
        "colab": {
          "base_uri": "https://localhost:8080/"
        }
      },
      "execution_count": 12,
      "outputs": [
        {
          "output_type": "execute_result",
          "data": {
            "text/plain": [
              "(torch.Size([1, 64, 1152, 1, 8]),\n",
              " torch.Size([10, 1, 1152, 8, 16]),\n",
              " torch.Size([10, 64, 1152, 1, 16]))"
            ]
          },
          "metadata": {},
          "execution_count": 12
        }
      ]
    },
    {
      "cell_type": "markdown",
      "source": [
        "* `add_module()` method in `Module` class: adds a child module to the current module. This method is useful when adding modules using the `for` loop.\n",
        "* `children()` method in `Module` class: Returns an iterator over *immediate children* modules. This method is a generator that returns layers of the model from which you can extract parameter tensors using `layername.wieght` and `layername.bias`."
      ],
      "metadata": {
        "id": "L0PinrWbWEOL"
      }
    },
    {
      "cell_type": "code",
      "source": [
        "# add_module\n",
        "from torch import nn\n",
        "\n",
        "X = torch.rand(2, 20)\n",
        "\n",
        "modules1 = {'linear1': nn.LazyLinear(256),\n",
        "           'actv1': nn.ReLU(),\n",
        "           'linear2': nn.LazyLinear(10)}\n",
        "\n",
        "class Net(nn.Module):\n",
        "  def __init__(self, **kwargs):\n",
        "    super().__init__()\n",
        "\n",
        "    for key, value in kwargs.items():\n",
        "      self.add_module(key, value)\n",
        "\n",
        "  def forward(self, X):\n",
        "    for module in self.children():         # returns the modules of a neural network ,modules() will not work here because it considers all the modules (the net plus three others)\n",
        "      X = module(X)\n",
        "    return X\n",
        "\n",
        "net = Net(**modules1)\n",
        "\n",
        "for module in net.modules():\n",
        "  print(module)\n",
        "  break          \n"
      ],
      "metadata": {
        "colab": {
          "base_uri": "https://localhost:8080/"
        },
        "id": "KavkhPUPXf4K",
        "outputId": "1544a695-f0a5-418c-e3d2-4cffa1e43f18"
      },
      "execution_count": 13,
      "outputs": [
        {
          "output_type": "stream",
          "name": "stdout",
          "text": [
            "Net(\n",
            "  (linear1): LazyLinear(in_features=0, out_features=256, bias=True)\n",
            "  (actv1): ReLU()\n",
            "  (linear2): LazyLinear(in_features=0, out_features=10, bias=True)\n",
            ")\n"
          ]
        },
        {
          "output_type": "stream",
          "name": "stderr",
          "text": [
            "/usr/local/lib/python3.8/dist-packages/torch/nn/modules/lazy.py:180: UserWarning: Lazy modules are a new feature under heavy development so changes to the API or functionality can happen at any moment.\n",
            "  warnings.warn('Lazy modules are a new feature under heavy development '\n"
          ]
        }
      ]
    },
    {
      "cell_type": "markdown",
      "source": [
        "* `modules()` method in `Module` class: Returns an iterator over *all modules* in the network. If we want to recursively iterate over modules, then we should use `modules()` method instead of `children()` method."
      ],
      "metadata": {
        "id": "d10dmGyXdj-F"
      }
    },
    {
      "cell_type": "code",
      "source": [
        "# Difference between children() and modules()\n",
        "\n",
        "net2 = nn.Sequential(nn.Linear(2,2),\n",
        "                     nn.ReLU(),\n",
        "                     nn.Sequential(nn.Sigmoid(),\n",
        "                                   nn.ReLU()))"
      ],
      "metadata": {
        "id": "FXkHCXGv4B5-"
      },
      "execution_count": 14,
      "outputs": []
    },
    {
      "cell_type": "code",
      "source": [
        "for module in net2.children():\n",
        "  print(module)"
      ],
      "metadata": {
        "colab": {
          "base_uri": "https://localhost:8080/"
        },
        "id": "RLkLR2iO494j",
        "outputId": "1a26e3cd-ac3c-4970-cf3d-4d7946a71142"
      },
      "execution_count": 15,
      "outputs": [
        {
          "output_type": "stream",
          "name": "stdout",
          "text": [
            "Linear(in_features=2, out_features=2, bias=True)\n",
            "ReLU()\n",
            "Sequential(\n",
            "  (0): Sigmoid()\n",
            "  (1): ReLU()\n",
            ")\n"
          ]
        }
      ]
    },
    {
      "cell_type": "code",
      "source": [
        "for module in net2.modules():\n",
        "  print(module)"
      ],
      "metadata": {
        "colab": {
          "base_uri": "https://localhost:8080/"
        },
        "id": "VXQMD6Gz5OU6",
        "outputId": "8116b977-82ea-4001-be74-5edf3f79a1ca"
      },
      "execution_count": 16,
      "outputs": [
        {
          "output_type": "stream",
          "name": "stdout",
          "text": [
            "Sequential(\n",
            "  (0): Linear(in_features=2, out_features=2, bias=True)\n",
            "  (1): ReLU()\n",
            "  (2): Sequential(\n",
            "    (0): Sigmoid()\n",
            "    (1): ReLU()\n",
            "  )\n",
            ")\n",
            "Linear(in_features=2, out_features=2, bias=True)\n",
            "ReLU()\n",
            "Sequential(\n",
            "  (0): Sigmoid()\n",
            "  (1): ReLU()\n",
            ")\n",
            "Sigmoid()\n",
            "ReLU()\n"
          ]
        }
      ]
    },
    {
      "cell_type": "markdown",
      "source": [
        "* `net.state_dict()`: In PyTorch, the learnable parameters (weights and biases) of a `torch.nn.Module` model are contained in the model parameters (accessed with `model.parameters()`). A `state-dict()` is simply a Python dictionary object that maps each layer to its parameter tensor."
      ],
      "metadata": {
        "id": "esIiOvjAFT-M"
      }
    },
    {
      "cell_type": "code",
      "source": [
        "net3 = nn.Sequential(nn.Linear(2,2),\n",
        "                     nn.ReLU(),\n",
        "                     nn.Sequential(nn.Sigmoid(),\n",
        "                                   nn.ReLU()))"
      ],
      "metadata": {
        "id": "P9R0CRwBGiPi"
      },
      "execution_count": 17,
      "outputs": []
    },
    {
      "cell_type": "code",
      "source": [
        "for param in net3.parameters():\n",
        "  print(type(param.data), param.size())"
      ],
      "metadata": {
        "colab": {
          "base_uri": "https://localhost:8080/"
        },
        "id": "9-Kf7LQ9Gpwa",
        "outputId": "b9f7989d-f8f4-45f0-ea99-489430de3fe5"
      },
      "execution_count": 19,
      "outputs": [
        {
          "output_type": "stream",
          "name": "stdout",
          "text": [
            "<class 'torch.Tensor'> torch.Size([2, 2])\n",
            "<class 'torch.Tensor'> torch.Size([2])\n"
          ]
        }
      ]
    },
    {
      "cell_type": "code",
      "source": [
        "net3.state_dict()"
      ],
      "metadata": {
        "colab": {
          "base_uri": "https://localhost:8080/"
        },
        "id": "S6CFzpT-IwuZ",
        "outputId": "5b4d92f8-c3ac-4dcc-e5f3-c33dd452dcfa"
      },
      "execution_count": 20,
      "outputs": [
        {
          "output_type": "execute_result",
          "data": {
            "text/plain": [
              "OrderedDict([('0.weight', tensor([[-0.4838, -0.1259],\n",
              "                      [-0.0970, -0.0682]])),\n",
              "             ('0.bias', tensor([-0.2935, -0.2795]))])"
            ]
          },
          "metadata": {},
          "execution_count": 20
        }
      ]
    },
    {
      "cell_type": "markdown",
      "source": [
        "* `named_parameters()` method in `nn.Module` class: Returns an iterator over module parameters, yielding both the name of the parameter as well as the parameter itself. "
      ],
      "metadata": {
        "id": "LDaDFRYqKBsJ"
      }
    },
    {
      "cell_type": "code",
      "source": [
        "for name, param in net3.named_parameters():\n",
        "  print(name, param)"
      ],
      "metadata": {
        "id": "2BLcx3msKW8L",
        "outputId": "c72f78c3-ca27-44b4-80c3-6d3bf2bcc215",
        "colab": {
          "base_uri": "https://localhost:8080/"
        }
      },
      "execution_count": 21,
      "outputs": [
        {
          "output_type": "stream",
          "name": "stdout",
          "text": [
            "0.weight Parameter containing:\n",
            "tensor([[-0.4838, -0.1259],\n",
            "        [-0.0970, -0.0682]], requires_grad=True)\n",
            "0.bias Parameter containing:\n",
            "tensor([-0.2935, -0.2795], requires_grad=True)\n"
          ]
        }
      ]
    },
    {
      "cell_type": "markdown",
      "source": [
        "## General Notes"
      ],
      "metadata": {
        "id": "gBf3zGEgK44S"
      }
    },
    {
      "cell_type": "markdown",
      "source": [
        "### \\*args and \\**kwargs\n",
        "\n",
        "* \\*args: **Non-Keyword Arguments**: This is used in function definition is python and is used to pass a number of arguments to a function. \n",
        "* \\*\\*kwargs: **Keyword Arguments**: Is used in function definition in Python and is used to pass a *keyworded*, variable-length argument list.\n",
        "\n",
        "* A keyword argument is where you provide a name to the variable as you pass it into the function. kwargs can be think of as *dictionary*."
      ],
      "metadata": {
        "id": "_79IhkJ3Mp8z"
      }
    },
    {
      "cell_type": "code",
      "source": [
        "# *args\n",
        "def myfunc(*args):\n",
        "  for arg in args:\n",
        "    print(arg)\n",
        "\n",
        "args = ('Davood', 'Ahmad', 'Akbar', 'Mohsen')\n",
        "myfunc(*args)"
      ],
      "metadata": {
        "colab": {
          "base_uri": "https://localhost:8080/"
        },
        "id": "d7qvz2FFRpj8",
        "outputId": "59eba4cc-bc97-4b85-d2e8-855351374665"
      },
      "execution_count": null,
      "outputs": [
        {
          "output_type": "stream",
          "name": "stdout",
          "text": [
            "Davood\n",
            "Ahmad\n",
            "Akbar\n",
            "Mohsen\n"
          ]
        }
      ]
    },
    {
      "cell_type": "code",
      "source": [
        "# **kwargs\n",
        "\n",
        "def myfunc1(**kwargs):\n",
        "  for key, value in kwargs.items():         # Items() method returns the key and value in a dictionary.\n",
        "    print(f'{key} == {value}')\n",
        "\n",
        "myfunc1(name='Davood', age=29, education='M.Sc.')"
      ],
      "metadata": {
        "colab": {
          "base_uri": "https://localhost:8080/"
        },
        "id": "5q_ri-6sU1gt",
        "outputId": "aeef3e94-810a-402e-c306-92479b9e8ea6"
      },
      "execution_count": null,
      "outputs": [
        {
          "output_type": "stream",
          "name": "stdout",
          "text": [
            "name == Davood\n",
            "age == 29\n",
            "education == M.Sc.\n"
          ]
        }
      ]
    }
  ]
}