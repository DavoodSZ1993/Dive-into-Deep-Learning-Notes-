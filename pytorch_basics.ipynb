{
  "nbformat": 4,
  "nbformat_minor": 0,
  "metadata": {
    "colab": {
      "provenance": [],
      "authorship_tag": "ABX9TyPX1x++3p7T3OsrR3+0uEgp",
      "include_colab_link": true
    },
    "kernelspec": {
      "name": "python3",
      "display_name": "Python 3"
    },
    "language_info": {
      "name": "python"
    }
  },
  "cells": [
    {
      "cell_type": "markdown",
      "metadata": {
        "id": "view-in-github",
        "colab_type": "text"
      },
      "source": [
        "<a href=\"https://colab.research.google.com/github/DavoodSZ1993/Pytorch_Basics/blob/main/pytorch_basics.ipynb\" target=\"_parent\"><img src=\"https://colab.research.google.com/assets/colab-badge.svg\" alt=\"Open In Colab\"/></a>"
      ]
    },
    {
      "cell_type": "markdown",
      "source": [
        "## Some Useful Notes on PyTorch Module"
      ],
      "metadata": {
        "id": "EhdyvpoiHoSU"
      }
    },
    {
      "cell_type": "markdown",
      "source": [
        "### `torchvision.transforms` Module: \n",
        "\n",
        "Transforms are common image transformations. \n",
        "\n",
        "* `transforms.Compose()`: Composes several transforms together.\n",
        "* `transforms.Resize()`: Resizes the input image to the given size.\n",
        "* `transforms.ToTensor()`: Converts a `PIL Image ` or `numpy.ndarray` (H x W x C) to tensor (C x H x W)."
      ],
      "metadata": {
        "id": "E8rOzmw3H3IC"
      }
    },
    {
      "cell_type": "markdown",
      "source": [
        "### `torchvision.datasets` Module:\n",
        "\n",
        "* `datasets.FashionMNIST()`: Fashion-MNIST dataset, consisting of a training set of 60,000 examples and a test set of 10,000 examples. The dataset contains 28x28 grayscale images associated with 10 classes (labels)."
      ],
      "metadata": {
        "id": "z9F7FcqJMh_S"
      }
    },
    {
      "cell_type": "code",
      "execution_count": 4,
      "metadata": {
        "colab": {
          "base_uri": "https://localhost:8080/"
        },
        "id": "fzeOziRPHhvn",
        "outputId": "a316b273-16bf-4c62-a887-dfee43851c41"
      },
      "outputs": [
        {
          "output_type": "execute_result",
          "data": {
            "text/plain": [
              "(60000, 10000)"
            ]
          },
          "metadata": {},
          "execution_count": 4
        }
      ],
      "source": [
        "from torchvision import transforms, datasets\n",
        "from IPython import display\n",
        "\n",
        "train_data = datasets.FashionMNIST(root='../data', train=True, download=True)\n",
        "val_data = datasets.FashionMNIST(root='../data', train=False, download=True)\n",
        "display.clear_output()\n",
        "\n",
        "len(train_data), len(val_data)"
      ]
    }
  ]
}