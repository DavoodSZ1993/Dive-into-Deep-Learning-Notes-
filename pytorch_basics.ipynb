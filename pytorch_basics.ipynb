{
  "nbformat": 4,
  "nbformat_minor": 0,
  "metadata": {
    "colab": {
      "provenance": [],
      "authorship_tag": "ABX9TyMh9iE0bExMu9o91ln4e+2O",
      "include_colab_link": true
    },
    "kernelspec": {
      "name": "python3",
      "display_name": "Python 3"
    },
    "language_info": {
      "name": "python"
    },
    "accelerator": "GPU",
    "gpuClass": "standard",
    "widgets": {
      "application/vnd.jupyter.widget-state+json": {
        "5e7caa2ca76145aba109f850eef62094": {
          "model_module": "@jupyter-widgets/controls",
          "model_name": "HBoxModel",
          "model_module_version": "1.5.0",
          "state": {
            "_dom_classes": [],
            "_model_module": "@jupyter-widgets/controls",
            "_model_module_version": "1.5.0",
            "_model_name": "HBoxModel",
            "_view_count": null,
            "_view_module": "@jupyter-widgets/controls",
            "_view_module_version": "1.5.0",
            "_view_name": "HBoxView",
            "box_style": "",
            "children": [
              "IPY_MODEL_78651f8f664e42dca50cceabbde6304f",
              "IPY_MODEL_5e913e71c403470fa0443b4768cc9ec1",
              "IPY_MODEL_318943f86a184006a60c90fecd46ec45"
            ],
            "layout": "IPY_MODEL_fad7e87cdd0246658bcc4b2614526e2e"
          }
        },
        "78651f8f664e42dca50cceabbde6304f": {
          "model_module": "@jupyter-widgets/controls",
          "model_name": "HTMLModel",
          "model_module_version": "1.5.0",
          "state": {
            "_dom_classes": [],
            "_model_module": "@jupyter-widgets/controls",
            "_model_module_version": "1.5.0",
            "_model_name": "HTMLModel",
            "_view_count": null,
            "_view_module": "@jupyter-widgets/controls",
            "_view_module_version": "1.5.0",
            "_view_name": "HTMLView",
            "description": "",
            "description_tooltip": null,
            "layout": "IPY_MODEL_66463ede4a72428abae54548a3eb6fb5",
            "placeholder": "​",
            "style": "IPY_MODEL_2681180d599f4a41b5197a15af9e8e38",
            "value": "100%"
          }
        },
        "5e913e71c403470fa0443b4768cc9ec1": {
          "model_module": "@jupyter-widgets/controls",
          "model_name": "FloatProgressModel",
          "model_module_version": "1.5.0",
          "state": {
            "_dom_classes": [],
            "_model_module": "@jupyter-widgets/controls",
            "_model_module_version": "1.5.0",
            "_model_name": "FloatProgressModel",
            "_view_count": null,
            "_view_module": "@jupyter-widgets/controls",
            "_view_module_version": "1.5.0",
            "_view_name": "ProgressView",
            "bar_style": "success",
            "description": "",
            "description_tooltip": null,
            "layout": "IPY_MODEL_a67f57e40275459592300f4ebdfae40b",
            "max": 26421880,
            "min": 0,
            "orientation": "horizontal",
            "style": "IPY_MODEL_a9a10ccae03549098da5bc330ede6ad8",
            "value": 26421880
          }
        },
        "318943f86a184006a60c90fecd46ec45": {
          "model_module": "@jupyter-widgets/controls",
          "model_name": "HTMLModel",
          "model_module_version": "1.5.0",
          "state": {
            "_dom_classes": [],
            "_model_module": "@jupyter-widgets/controls",
            "_model_module_version": "1.5.0",
            "_model_name": "HTMLModel",
            "_view_count": null,
            "_view_module": "@jupyter-widgets/controls",
            "_view_module_version": "1.5.0",
            "_view_name": "HTMLView",
            "description": "",
            "description_tooltip": null,
            "layout": "IPY_MODEL_cd78410a9cff42ba91204d3ac0866609",
            "placeholder": "​",
            "style": "IPY_MODEL_dfb1eb36678d4b1f99d9bc4bb1b2c61a",
            "value": " 26421880/26421880 [00:01&lt;00:00, 28150691.28it/s]"
          }
        },
        "fad7e87cdd0246658bcc4b2614526e2e": {
          "model_module": "@jupyter-widgets/base",
          "model_name": "LayoutModel",
          "model_module_version": "1.2.0",
          "state": {
            "_model_module": "@jupyter-widgets/base",
            "_model_module_version": "1.2.0",
            "_model_name": "LayoutModel",
            "_view_count": null,
            "_view_module": "@jupyter-widgets/base",
            "_view_module_version": "1.2.0",
            "_view_name": "LayoutView",
            "align_content": null,
            "align_items": null,
            "align_self": null,
            "border": null,
            "bottom": null,
            "display": null,
            "flex": null,
            "flex_flow": null,
            "grid_area": null,
            "grid_auto_columns": null,
            "grid_auto_flow": null,
            "grid_auto_rows": null,
            "grid_column": null,
            "grid_gap": null,
            "grid_row": null,
            "grid_template_areas": null,
            "grid_template_columns": null,
            "grid_template_rows": null,
            "height": null,
            "justify_content": null,
            "justify_items": null,
            "left": null,
            "margin": null,
            "max_height": null,
            "max_width": null,
            "min_height": null,
            "min_width": null,
            "object_fit": null,
            "object_position": null,
            "order": null,
            "overflow": null,
            "overflow_x": null,
            "overflow_y": null,
            "padding": null,
            "right": null,
            "top": null,
            "visibility": null,
            "width": null
          }
        },
        "66463ede4a72428abae54548a3eb6fb5": {
          "model_module": "@jupyter-widgets/base",
          "model_name": "LayoutModel",
          "model_module_version": "1.2.0",
          "state": {
            "_model_module": "@jupyter-widgets/base",
            "_model_module_version": "1.2.0",
            "_model_name": "LayoutModel",
            "_view_count": null,
            "_view_module": "@jupyter-widgets/base",
            "_view_module_version": "1.2.0",
            "_view_name": "LayoutView",
            "align_content": null,
            "align_items": null,
            "align_self": null,
            "border": null,
            "bottom": null,
            "display": null,
            "flex": null,
            "flex_flow": null,
            "grid_area": null,
            "grid_auto_columns": null,
            "grid_auto_flow": null,
            "grid_auto_rows": null,
            "grid_column": null,
            "grid_gap": null,
            "grid_row": null,
            "grid_template_areas": null,
            "grid_template_columns": null,
            "grid_template_rows": null,
            "height": null,
            "justify_content": null,
            "justify_items": null,
            "left": null,
            "margin": null,
            "max_height": null,
            "max_width": null,
            "min_height": null,
            "min_width": null,
            "object_fit": null,
            "object_position": null,
            "order": null,
            "overflow": null,
            "overflow_x": null,
            "overflow_y": null,
            "padding": null,
            "right": null,
            "top": null,
            "visibility": null,
            "width": null
          }
        },
        "2681180d599f4a41b5197a15af9e8e38": {
          "model_module": "@jupyter-widgets/controls",
          "model_name": "DescriptionStyleModel",
          "model_module_version": "1.5.0",
          "state": {
            "_model_module": "@jupyter-widgets/controls",
            "_model_module_version": "1.5.0",
            "_model_name": "DescriptionStyleModel",
            "_view_count": null,
            "_view_module": "@jupyter-widgets/base",
            "_view_module_version": "1.2.0",
            "_view_name": "StyleView",
            "description_width": ""
          }
        },
        "a67f57e40275459592300f4ebdfae40b": {
          "model_module": "@jupyter-widgets/base",
          "model_name": "LayoutModel",
          "model_module_version": "1.2.0",
          "state": {
            "_model_module": "@jupyter-widgets/base",
            "_model_module_version": "1.2.0",
            "_model_name": "LayoutModel",
            "_view_count": null,
            "_view_module": "@jupyter-widgets/base",
            "_view_module_version": "1.2.0",
            "_view_name": "LayoutView",
            "align_content": null,
            "align_items": null,
            "align_self": null,
            "border": null,
            "bottom": null,
            "display": null,
            "flex": null,
            "flex_flow": null,
            "grid_area": null,
            "grid_auto_columns": null,
            "grid_auto_flow": null,
            "grid_auto_rows": null,
            "grid_column": null,
            "grid_gap": null,
            "grid_row": null,
            "grid_template_areas": null,
            "grid_template_columns": null,
            "grid_template_rows": null,
            "height": null,
            "justify_content": null,
            "justify_items": null,
            "left": null,
            "margin": null,
            "max_height": null,
            "max_width": null,
            "min_height": null,
            "min_width": null,
            "object_fit": null,
            "object_position": null,
            "order": null,
            "overflow": null,
            "overflow_x": null,
            "overflow_y": null,
            "padding": null,
            "right": null,
            "top": null,
            "visibility": null,
            "width": null
          }
        },
        "a9a10ccae03549098da5bc330ede6ad8": {
          "model_module": "@jupyter-widgets/controls",
          "model_name": "ProgressStyleModel",
          "model_module_version": "1.5.0",
          "state": {
            "_model_module": "@jupyter-widgets/controls",
            "_model_module_version": "1.5.0",
            "_model_name": "ProgressStyleModel",
            "_view_count": null,
            "_view_module": "@jupyter-widgets/base",
            "_view_module_version": "1.2.0",
            "_view_name": "StyleView",
            "bar_color": null,
            "description_width": ""
          }
        },
        "cd78410a9cff42ba91204d3ac0866609": {
          "model_module": "@jupyter-widgets/base",
          "model_name": "LayoutModel",
          "model_module_version": "1.2.0",
          "state": {
            "_model_module": "@jupyter-widgets/base",
            "_model_module_version": "1.2.0",
            "_model_name": "LayoutModel",
            "_view_count": null,
            "_view_module": "@jupyter-widgets/base",
            "_view_module_version": "1.2.0",
            "_view_name": "LayoutView",
            "align_content": null,
            "align_items": null,
            "align_self": null,
            "border": null,
            "bottom": null,
            "display": null,
            "flex": null,
            "flex_flow": null,
            "grid_area": null,
            "grid_auto_columns": null,
            "grid_auto_flow": null,
            "grid_auto_rows": null,
            "grid_column": null,
            "grid_gap": null,
            "grid_row": null,
            "grid_template_areas": null,
            "grid_template_columns": null,
            "grid_template_rows": null,
            "height": null,
            "justify_content": null,
            "justify_items": null,
            "left": null,
            "margin": null,
            "max_height": null,
            "max_width": null,
            "min_height": null,
            "min_width": null,
            "object_fit": null,
            "object_position": null,
            "order": null,
            "overflow": null,
            "overflow_x": null,
            "overflow_y": null,
            "padding": null,
            "right": null,
            "top": null,
            "visibility": null,
            "width": null
          }
        },
        "dfb1eb36678d4b1f99d9bc4bb1b2c61a": {
          "model_module": "@jupyter-widgets/controls",
          "model_name": "DescriptionStyleModel",
          "model_module_version": "1.5.0",
          "state": {
            "_model_module": "@jupyter-widgets/controls",
            "_model_module_version": "1.5.0",
            "_model_name": "DescriptionStyleModel",
            "_view_count": null,
            "_view_module": "@jupyter-widgets/base",
            "_view_module_version": "1.2.0",
            "_view_name": "StyleView",
            "description_width": ""
          }
        },
        "d2e0ad088344463ba80ab53053816c30": {
          "model_module": "@jupyter-widgets/controls",
          "model_name": "HBoxModel",
          "model_module_version": "1.5.0",
          "state": {
            "_dom_classes": [],
            "_model_module": "@jupyter-widgets/controls",
            "_model_module_version": "1.5.0",
            "_model_name": "HBoxModel",
            "_view_count": null,
            "_view_module": "@jupyter-widgets/controls",
            "_view_module_version": "1.5.0",
            "_view_name": "HBoxView",
            "box_style": "",
            "children": [
              "IPY_MODEL_7063e1e5cb544191b563b42ddde7a4fa",
              "IPY_MODEL_c7bb3a6b0bd94e7cb6ee68a3cf86f2c1",
              "IPY_MODEL_81be0262c6964071b5a20eb341785da4"
            ],
            "layout": "IPY_MODEL_0b10af1b19ea4a119dcd60ae80977e03"
          }
        },
        "7063e1e5cb544191b563b42ddde7a4fa": {
          "model_module": "@jupyter-widgets/controls",
          "model_name": "HTMLModel",
          "model_module_version": "1.5.0",
          "state": {
            "_dom_classes": [],
            "_model_module": "@jupyter-widgets/controls",
            "_model_module_version": "1.5.0",
            "_model_name": "HTMLModel",
            "_view_count": null,
            "_view_module": "@jupyter-widgets/controls",
            "_view_module_version": "1.5.0",
            "_view_name": "HTMLView",
            "description": "",
            "description_tooltip": null,
            "layout": "IPY_MODEL_b8fa460abc6c43ea96d4e8d99673c036",
            "placeholder": "​",
            "style": "IPY_MODEL_db4e54929cf14f6ea0cb732988727e79",
            "value": "100%"
          }
        },
        "c7bb3a6b0bd94e7cb6ee68a3cf86f2c1": {
          "model_module": "@jupyter-widgets/controls",
          "model_name": "FloatProgressModel",
          "model_module_version": "1.5.0",
          "state": {
            "_dom_classes": [],
            "_model_module": "@jupyter-widgets/controls",
            "_model_module_version": "1.5.0",
            "_model_name": "FloatProgressModel",
            "_view_count": null,
            "_view_module": "@jupyter-widgets/controls",
            "_view_module_version": "1.5.0",
            "_view_name": "ProgressView",
            "bar_style": "success",
            "description": "",
            "description_tooltip": null,
            "layout": "IPY_MODEL_ab9a8944b87849aeaabb132fc10d514f",
            "max": 29515,
            "min": 0,
            "orientation": "horizontal",
            "style": "IPY_MODEL_76e9a645bbd742e88c8075e448021c02",
            "value": 29515
          }
        },
        "81be0262c6964071b5a20eb341785da4": {
          "model_module": "@jupyter-widgets/controls",
          "model_name": "HTMLModel",
          "model_module_version": "1.5.0",
          "state": {
            "_dom_classes": [],
            "_model_module": "@jupyter-widgets/controls",
            "_model_module_version": "1.5.0",
            "_model_name": "HTMLModel",
            "_view_count": null,
            "_view_module": "@jupyter-widgets/controls",
            "_view_module_version": "1.5.0",
            "_view_name": "HTMLView",
            "description": "",
            "description_tooltip": null,
            "layout": "IPY_MODEL_578b3d890d0d4b5d82f2500aaacd328b",
            "placeholder": "​",
            "style": "IPY_MODEL_fb0ff46e895e489cad40648af0cbb56e",
            "value": " 29515/29515 [00:00&lt;00:00, 296173.47it/s]"
          }
        },
        "0b10af1b19ea4a119dcd60ae80977e03": {
          "model_module": "@jupyter-widgets/base",
          "model_name": "LayoutModel",
          "model_module_version": "1.2.0",
          "state": {
            "_model_module": "@jupyter-widgets/base",
            "_model_module_version": "1.2.0",
            "_model_name": "LayoutModel",
            "_view_count": null,
            "_view_module": "@jupyter-widgets/base",
            "_view_module_version": "1.2.0",
            "_view_name": "LayoutView",
            "align_content": null,
            "align_items": null,
            "align_self": null,
            "border": null,
            "bottom": null,
            "display": null,
            "flex": null,
            "flex_flow": null,
            "grid_area": null,
            "grid_auto_columns": null,
            "grid_auto_flow": null,
            "grid_auto_rows": null,
            "grid_column": null,
            "grid_gap": null,
            "grid_row": null,
            "grid_template_areas": null,
            "grid_template_columns": null,
            "grid_template_rows": null,
            "height": null,
            "justify_content": null,
            "justify_items": null,
            "left": null,
            "margin": null,
            "max_height": null,
            "max_width": null,
            "min_height": null,
            "min_width": null,
            "object_fit": null,
            "object_position": null,
            "order": null,
            "overflow": null,
            "overflow_x": null,
            "overflow_y": null,
            "padding": null,
            "right": null,
            "top": null,
            "visibility": null,
            "width": null
          }
        },
        "b8fa460abc6c43ea96d4e8d99673c036": {
          "model_module": "@jupyter-widgets/base",
          "model_name": "LayoutModel",
          "model_module_version": "1.2.0",
          "state": {
            "_model_module": "@jupyter-widgets/base",
            "_model_module_version": "1.2.0",
            "_model_name": "LayoutModel",
            "_view_count": null,
            "_view_module": "@jupyter-widgets/base",
            "_view_module_version": "1.2.0",
            "_view_name": "LayoutView",
            "align_content": null,
            "align_items": null,
            "align_self": null,
            "border": null,
            "bottom": null,
            "display": null,
            "flex": null,
            "flex_flow": null,
            "grid_area": null,
            "grid_auto_columns": null,
            "grid_auto_flow": null,
            "grid_auto_rows": null,
            "grid_column": null,
            "grid_gap": null,
            "grid_row": null,
            "grid_template_areas": null,
            "grid_template_columns": null,
            "grid_template_rows": null,
            "height": null,
            "justify_content": null,
            "justify_items": null,
            "left": null,
            "margin": null,
            "max_height": null,
            "max_width": null,
            "min_height": null,
            "min_width": null,
            "object_fit": null,
            "object_position": null,
            "order": null,
            "overflow": null,
            "overflow_x": null,
            "overflow_y": null,
            "padding": null,
            "right": null,
            "top": null,
            "visibility": null,
            "width": null
          }
        },
        "db4e54929cf14f6ea0cb732988727e79": {
          "model_module": "@jupyter-widgets/controls",
          "model_name": "DescriptionStyleModel",
          "model_module_version": "1.5.0",
          "state": {
            "_model_module": "@jupyter-widgets/controls",
            "_model_module_version": "1.5.0",
            "_model_name": "DescriptionStyleModel",
            "_view_count": null,
            "_view_module": "@jupyter-widgets/base",
            "_view_module_version": "1.2.0",
            "_view_name": "StyleView",
            "description_width": ""
          }
        },
        "ab9a8944b87849aeaabb132fc10d514f": {
          "model_module": "@jupyter-widgets/base",
          "model_name": "LayoutModel",
          "model_module_version": "1.2.0",
          "state": {
            "_model_module": "@jupyter-widgets/base",
            "_model_module_version": "1.2.0",
            "_model_name": "LayoutModel",
            "_view_count": null,
            "_view_module": "@jupyter-widgets/base",
            "_view_module_version": "1.2.0",
            "_view_name": "LayoutView",
            "align_content": null,
            "align_items": null,
            "align_self": null,
            "border": null,
            "bottom": null,
            "display": null,
            "flex": null,
            "flex_flow": null,
            "grid_area": null,
            "grid_auto_columns": null,
            "grid_auto_flow": null,
            "grid_auto_rows": null,
            "grid_column": null,
            "grid_gap": null,
            "grid_row": null,
            "grid_template_areas": null,
            "grid_template_columns": null,
            "grid_template_rows": null,
            "height": null,
            "justify_content": null,
            "justify_items": null,
            "left": null,
            "margin": null,
            "max_height": null,
            "max_width": null,
            "min_height": null,
            "min_width": null,
            "object_fit": null,
            "object_position": null,
            "order": null,
            "overflow": null,
            "overflow_x": null,
            "overflow_y": null,
            "padding": null,
            "right": null,
            "top": null,
            "visibility": null,
            "width": null
          }
        },
        "76e9a645bbd742e88c8075e448021c02": {
          "model_module": "@jupyter-widgets/controls",
          "model_name": "ProgressStyleModel",
          "model_module_version": "1.5.0",
          "state": {
            "_model_module": "@jupyter-widgets/controls",
            "_model_module_version": "1.5.0",
            "_model_name": "ProgressStyleModel",
            "_view_count": null,
            "_view_module": "@jupyter-widgets/base",
            "_view_module_version": "1.2.0",
            "_view_name": "StyleView",
            "bar_color": null,
            "description_width": ""
          }
        },
        "578b3d890d0d4b5d82f2500aaacd328b": {
          "model_module": "@jupyter-widgets/base",
          "model_name": "LayoutModel",
          "model_module_version": "1.2.0",
          "state": {
            "_model_module": "@jupyter-widgets/base",
            "_model_module_version": "1.2.0",
            "_model_name": "LayoutModel",
            "_view_count": null,
            "_view_module": "@jupyter-widgets/base",
            "_view_module_version": "1.2.0",
            "_view_name": "LayoutView",
            "align_content": null,
            "align_items": null,
            "align_self": null,
            "border": null,
            "bottom": null,
            "display": null,
            "flex": null,
            "flex_flow": null,
            "grid_area": null,
            "grid_auto_columns": null,
            "grid_auto_flow": null,
            "grid_auto_rows": null,
            "grid_column": null,
            "grid_gap": null,
            "grid_row": null,
            "grid_template_areas": null,
            "grid_template_columns": null,
            "grid_template_rows": null,
            "height": null,
            "justify_content": null,
            "justify_items": null,
            "left": null,
            "margin": null,
            "max_height": null,
            "max_width": null,
            "min_height": null,
            "min_width": null,
            "object_fit": null,
            "object_position": null,
            "order": null,
            "overflow": null,
            "overflow_x": null,
            "overflow_y": null,
            "padding": null,
            "right": null,
            "top": null,
            "visibility": null,
            "width": null
          }
        },
        "fb0ff46e895e489cad40648af0cbb56e": {
          "model_module": "@jupyter-widgets/controls",
          "model_name": "DescriptionStyleModel",
          "model_module_version": "1.5.0",
          "state": {
            "_model_module": "@jupyter-widgets/controls",
            "_model_module_version": "1.5.0",
            "_model_name": "DescriptionStyleModel",
            "_view_count": null,
            "_view_module": "@jupyter-widgets/base",
            "_view_module_version": "1.2.0",
            "_view_name": "StyleView",
            "description_width": ""
          }
        },
        "81699123343149e281a7b25ad2c84a33": {
          "model_module": "@jupyter-widgets/controls",
          "model_name": "HBoxModel",
          "model_module_version": "1.5.0",
          "state": {
            "_dom_classes": [],
            "_model_module": "@jupyter-widgets/controls",
            "_model_module_version": "1.5.0",
            "_model_name": "HBoxModel",
            "_view_count": null,
            "_view_module": "@jupyter-widgets/controls",
            "_view_module_version": "1.5.0",
            "_view_name": "HBoxView",
            "box_style": "",
            "children": [
              "IPY_MODEL_3a80508ee51a405798092af3350e7ec9",
              "IPY_MODEL_341606f62050472e9617ae9f12b4da5d",
              "IPY_MODEL_512f1dea546a4985a57b9c7ebac11af2"
            ],
            "layout": "IPY_MODEL_714abe291f33408f8cf81e6706a7d71c"
          }
        },
        "3a80508ee51a405798092af3350e7ec9": {
          "model_module": "@jupyter-widgets/controls",
          "model_name": "HTMLModel",
          "model_module_version": "1.5.0",
          "state": {
            "_dom_classes": [],
            "_model_module": "@jupyter-widgets/controls",
            "_model_module_version": "1.5.0",
            "_model_name": "HTMLModel",
            "_view_count": null,
            "_view_module": "@jupyter-widgets/controls",
            "_view_module_version": "1.5.0",
            "_view_name": "HTMLView",
            "description": "",
            "description_tooltip": null,
            "layout": "IPY_MODEL_00356144b719444b8215ebf9ed37c772",
            "placeholder": "​",
            "style": "IPY_MODEL_eee6899ee178484fab7a7d4caeaa40c8",
            "value": "100%"
          }
        },
        "341606f62050472e9617ae9f12b4da5d": {
          "model_module": "@jupyter-widgets/controls",
          "model_name": "FloatProgressModel",
          "model_module_version": "1.5.0",
          "state": {
            "_dom_classes": [],
            "_model_module": "@jupyter-widgets/controls",
            "_model_module_version": "1.5.0",
            "_model_name": "FloatProgressModel",
            "_view_count": null,
            "_view_module": "@jupyter-widgets/controls",
            "_view_module_version": "1.5.0",
            "_view_name": "ProgressView",
            "bar_style": "success",
            "description": "",
            "description_tooltip": null,
            "layout": "IPY_MODEL_54e62bc6bba546a6951f57fe7a0de994",
            "max": 4422102,
            "min": 0,
            "orientation": "horizontal",
            "style": "IPY_MODEL_7455e2ab7c2649edadd6dfb7252c65e3",
            "value": 4422102
          }
        },
        "512f1dea546a4985a57b9c7ebac11af2": {
          "model_module": "@jupyter-widgets/controls",
          "model_name": "HTMLModel",
          "model_module_version": "1.5.0",
          "state": {
            "_dom_classes": [],
            "_model_module": "@jupyter-widgets/controls",
            "_model_module_version": "1.5.0",
            "_model_name": "HTMLModel",
            "_view_count": null,
            "_view_module": "@jupyter-widgets/controls",
            "_view_module_version": "1.5.0",
            "_view_name": "HTMLView",
            "description": "",
            "description_tooltip": null,
            "layout": "IPY_MODEL_e120ef865dd44d329e9b9c7e0f2c3152",
            "placeholder": "​",
            "style": "IPY_MODEL_3bd4523ddd1f46e8a5b4ffbc0745eb10",
            "value": " 4422102/4422102 [00:00&lt;00:00, 9245736.18it/s]"
          }
        },
        "714abe291f33408f8cf81e6706a7d71c": {
          "model_module": "@jupyter-widgets/base",
          "model_name": "LayoutModel",
          "model_module_version": "1.2.0",
          "state": {
            "_model_module": "@jupyter-widgets/base",
            "_model_module_version": "1.2.0",
            "_model_name": "LayoutModel",
            "_view_count": null,
            "_view_module": "@jupyter-widgets/base",
            "_view_module_version": "1.2.0",
            "_view_name": "LayoutView",
            "align_content": null,
            "align_items": null,
            "align_self": null,
            "border": null,
            "bottom": null,
            "display": null,
            "flex": null,
            "flex_flow": null,
            "grid_area": null,
            "grid_auto_columns": null,
            "grid_auto_flow": null,
            "grid_auto_rows": null,
            "grid_column": null,
            "grid_gap": null,
            "grid_row": null,
            "grid_template_areas": null,
            "grid_template_columns": null,
            "grid_template_rows": null,
            "height": null,
            "justify_content": null,
            "justify_items": null,
            "left": null,
            "margin": null,
            "max_height": null,
            "max_width": null,
            "min_height": null,
            "min_width": null,
            "object_fit": null,
            "object_position": null,
            "order": null,
            "overflow": null,
            "overflow_x": null,
            "overflow_y": null,
            "padding": null,
            "right": null,
            "top": null,
            "visibility": null,
            "width": null
          }
        },
        "00356144b719444b8215ebf9ed37c772": {
          "model_module": "@jupyter-widgets/base",
          "model_name": "LayoutModel",
          "model_module_version": "1.2.0",
          "state": {
            "_model_module": "@jupyter-widgets/base",
            "_model_module_version": "1.2.0",
            "_model_name": "LayoutModel",
            "_view_count": null,
            "_view_module": "@jupyter-widgets/base",
            "_view_module_version": "1.2.0",
            "_view_name": "LayoutView",
            "align_content": null,
            "align_items": null,
            "align_self": null,
            "border": null,
            "bottom": null,
            "display": null,
            "flex": null,
            "flex_flow": null,
            "grid_area": null,
            "grid_auto_columns": null,
            "grid_auto_flow": null,
            "grid_auto_rows": null,
            "grid_column": null,
            "grid_gap": null,
            "grid_row": null,
            "grid_template_areas": null,
            "grid_template_columns": null,
            "grid_template_rows": null,
            "height": null,
            "justify_content": null,
            "justify_items": null,
            "left": null,
            "margin": null,
            "max_height": null,
            "max_width": null,
            "min_height": null,
            "min_width": null,
            "object_fit": null,
            "object_position": null,
            "order": null,
            "overflow": null,
            "overflow_x": null,
            "overflow_y": null,
            "padding": null,
            "right": null,
            "top": null,
            "visibility": null,
            "width": null
          }
        },
        "eee6899ee178484fab7a7d4caeaa40c8": {
          "model_module": "@jupyter-widgets/controls",
          "model_name": "DescriptionStyleModel",
          "model_module_version": "1.5.0",
          "state": {
            "_model_module": "@jupyter-widgets/controls",
            "_model_module_version": "1.5.0",
            "_model_name": "DescriptionStyleModel",
            "_view_count": null,
            "_view_module": "@jupyter-widgets/base",
            "_view_module_version": "1.2.0",
            "_view_name": "StyleView",
            "description_width": ""
          }
        },
        "54e62bc6bba546a6951f57fe7a0de994": {
          "model_module": "@jupyter-widgets/base",
          "model_name": "LayoutModel",
          "model_module_version": "1.2.0",
          "state": {
            "_model_module": "@jupyter-widgets/base",
            "_model_module_version": "1.2.0",
            "_model_name": "LayoutModel",
            "_view_count": null,
            "_view_module": "@jupyter-widgets/base",
            "_view_module_version": "1.2.0",
            "_view_name": "LayoutView",
            "align_content": null,
            "align_items": null,
            "align_self": null,
            "border": null,
            "bottom": null,
            "display": null,
            "flex": null,
            "flex_flow": null,
            "grid_area": null,
            "grid_auto_columns": null,
            "grid_auto_flow": null,
            "grid_auto_rows": null,
            "grid_column": null,
            "grid_gap": null,
            "grid_row": null,
            "grid_template_areas": null,
            "grid_template_columns": null,
            "grid_template_rows": null,
            "height": null,
            "justify_content": null,
            "justify_items": null,
            "left": null,
            "margin": null,
            "max_height": null,
            "max_width": null,
            "min_height": null,
            "min_width": null,
            "object_fit": null,
            "object_position": null,
            "order": null,
            "overflow": null,
            "overflow_x": null,
            "overflow_y": null,
            "padding": null,
            "right": null,
            "top": null,
            "visibility": null,
            "width": null
          }
        },
        "7455e2ab7c2649edadd6dfb7252c65e3": {
          "model_module": "@jupyter-widgets/controls",
          "model_name": "ProgressStyleModel",
          "model_module_version": "1.5.0",
          "state": {
            "_model_module": "@jupyter-widgets/controls",
            "_model_module_version": "1.5.0",
            "_model_name": "ProgressStyleModel",
            "_view_count": null,
            "_view_module": "@jupyter-widgets/base",
            "_view_module_version": "1.2.0",
            "_view_name": "StyleView",
            "bar_color": null,
            "description_width": ""
          }
        },
        "e120ef865dd44d329e9b9c7e0f2c3152": {
          "model_module": "@jupyter-widgets/base",
          "model_name": "LayoutModel",
          "model_module_version": "1.2.0",
          "state": {
            "_model_module": "@jupyter-widgets/base",
            "_model_module_version": "1.2.0",
            "_model_name": "LayoutModel",
            "_view_count": null,
            "_view_module": "@jupyter-widgets/base",
            "_view_module_version": "1.2.0",
            "_view_name": "LayoutView",
            "align_content": null,
            "align_items": null,
            "align_self": null,
            "border": null,
            "bottom": null,
            "display": null,
            "flex": null,
            "flex_flow": null,
            "grid_area": null,
            "grid_auto_columns": null,
            "grid_auto_flow": null,
            "grid_auto_rows": null,
            "grid_column": null,
            "grid_gap": null,
            "grid_row": null,
            "grid_template_areas": null,
            "grid_template_columns": null,
            "grid_template_rows": null,
            "height": null,
            "justify_content": null,
            "justify_items": null,
            "left": null,
            "margin": null,
            "max_height": null,
            "max_width": null,
            "min_height": null,
            "min_width": null,
            "object_fit": null,
            "object_position": null,
            "order": null,
            "overflow": null,
            "overflow_x": null,
            "overflow_y": null,
            "padding": null,
            "right": null,
            "top": null,
            "visibility": null,
            "width": null
          }
        },
        "3bd4523ddd1f46e8a5b4ffbc0745eb10": {
          "model_module": "@jupyter-widgets/controls",
          "model_name": "DescriptionStyleModel",
          "model_module_version": "1.5.0",
          "state": {
            "_model_module": "@jupyter-widgets/controls",
            "_model_module_version": "1.5.0",
            "_model_name": "DescriptionStyleModel",
            "_view_count": null,
            "_view_module": "@jupyter-widgets/base",
            "_view_module_version": "1.2.0",
            "_view_name": "StyleView",
            "description_width": ""
          }
        },
        "5f8ff58b0d4641608d4be4d14079d2dd": {
          "model_module": "@jupyter-widgets/controls",
          "model_name": "HBoxModel",
          "model_module_version": "1.5.0",
          "state": {
            "_dom_classes": [],
            "_model_module": "@jupyter-widgets/controls",
            "_model_module_version": "1.5.0",
            "_model_name": "HBoxModel",
            "_view_count": null,
            "_view_module": "@jupyter-widgets/controls",
            "_view_module_version": "1.5.0",
            "_view_name": "HBoxView",
            "box_style": "",
            "children": [
              "IPY_MODEL_98d0c16677ca4035abfcf6c243a5b3c8",
              "IPY_MODEL_38795e7631624c2b8315809d325ecefc",
              "IPY_MODEL_38de8de0118b48349d51d6a46800cf63"
            ],
            "layout": "IPY_MODEL_ee2d8936a75f4b7bbbfe399ab99cb064"
          }
        }
      }
    }
  },
  "cells": [
    {
      "cell_type": "markdown",
      "metadata": {
        "id": "view-in-github",
        "colab_type": "text"
      },
      "source": [
        "<a href=\"https://colab.research.google.com/github/DavoodSZ1993/Pytorch_Basics/blob/main/pytorch_basics.ipynb\" target=\"_parent\"><img src=\"https://colab.research.google.com/assets/colab-badge.svg\" alt=\"Open In Colab\"/></a>"
      ]
    },
    {
      "cell_type": "markdown",
      "source": [
        "## Some Useful Notes on PyTorch Module"
      ],
      "metadata": {
        "id": "EhdyvpoiHoSU"
      }
    },
    {
      "cell_type": "markdown",
      "source": [
        "### `torchvision.datasets` Module:\n",
        "\n",
        "* `datasets.FashionMNIST()`: Fashion-MNIST dataset, consisting of a training set of 60,000 examples and a test set of 10,000 examples. The dataset contains 28x28 grayscale images associated with 10 classes (labels).\n",
        "\n"
      ],
      "metadata": {
        "id": "z9F7FcqJMh_S"
      }
    },
    {
      "cell_type": "code",
      "execution_count": 1,
      "metadata": {
        "colab": {
          "base_uri": "https://localhost:8080/",
          "height": 356,
          "referenced_widgets": [
            "5e7caa2ca76145aba109f850eef62094",
            "78651f8f664e42dca50cceabbde6304f",
            "5e913e71c403470fa0443b4768cc9ec1",
            "318943f86a184006a60c90fecd46ec45",
            "fad7e87cdd0246658bcc4b2614526e2e",
            "66463ede4a72428abae54548a3eb6fb5",
            "2681180d599f4a41b5197a15af9e8e38",
            "a67f57e40275459592300f4ebdfae40b",
            "a9a10ccae03549098da5bc330ede6ad8",
            "cd78410a9cff42ba91204d3ac0866609",
            "dfb1eb36678d4b1f99d9bc4bb1b2c61a",
            "d2e0ad088344463ba80ab53053816c30",
            "7063e1e5cb544191b563b42ddde7a4fa",
            "c7bb3a6b0bd94e7cb6ee68a3cf86f2c1",
            "81be0262c6964071b5a20eb341785da4",
            "0b10af1b19ea4a119dcd60ae80977e03",
            "b8fa460abc6c43ea96d4e8d99673c036",
            "db4e54929cf14f6ea0cb732988727e79",
            "ab9a8944b87849aeaabb132fc10d514f",
            "76e9a645bbd742e88c8075e448021c02",
            "578b3d890d0d4b5d82f2500aaacd328b",
            "fb0ff46e895e489cad40648af0cbb56e",
            "81699123343149e281a7b25ad2c84a33",
            "3a80508ee51a405798092af3350e7ec9",
            "341606f62050472e9617ae9f12b4da5d",
            "512f1dea546a4985a57b9c7ebac11af2",
            "714abe291f33408f8cf81e6706a7d71c",
            "00356144b719444b8215ebf9ed37c772",
            "eee6899ee178484fab7a7d4caeaa40c8",
            "54e62bc6bba546a6951f57fe7a0de994",
            "7455e2ab7c2649edadd6dfb7252c65e3",
            "e120ef865dd44d329e9b9c7e0f2c3152",
            "3bd4523ddd1f46e8a5b4ffbc0745eb10",
            "5f8ff58b0d4641608d4be4d14079d2dd"
          ]
        },
        "id": "fzeOziRPHhvn",
        "outputId": "0d4f6fe6-b7bb-4452-dfeb-b680ec47dcbf"
      },
      "outputs": [
        {
          "output_type": "execute_result",
          "data": {
            "text/plain": [
              "(60000,\n",
              " 10000,\n",
              " ['T-shirt/top',\n",
              "  'Trouser',\n",
              "  'Pullover',\n",
              "  'Dress',\n",
              "  'Coat',\n",
              "  'Sandal',\n",
              "  'Shirt',\n",
              "  'Sneaker',\n",
              "  'Bag',\n",
              "  'Ankle boot'])"
            ]
          },
          "metadata": {},
          "execution_count": 1
        }
      ],
      "source": [
        "from torchvision import datasets\n",
        "from IPython import display\n",
        "\n",
        "train_data = datasets.FashionMNIST(root='../data', train=True, download=True)\n",
        "val_data = datasets.FashionMNIST(root='../data', train=False, download=True)\n",
        "display.clear_output()\n",
        "\n",
        "len(train_data), len(val_data), train_data.classes"
      ]
    },
    {
      "cell_type": "markdown",
      "source": [
        "### Side Note: `matplotlib.pyplot.imshow()`: \n",
        "This method displays data as an image, i.e., as a 2D regular raster. "
      ],
      "metadata": {
        "id": "EoI368KGKO9m"
      }
    },
    {
      "cell_type": "code",
      "source": [
        "%matplotlib inline\n",
        "import matplotlib.pyplot as plt\n",
        "\n",
        "def show_img(img, label):\n",
        "  print('label: ', train_data.classes[label], \"(\"+str(label)+\")\")\n",
        "  plt.imshow(img)\n",
        "\n",
        "show_img(*train_data[10])"
      ],
      "metadata": {
        "colab": {
          "base_uri": "https://localhost:8080/",
          "height": 282
        },
        "id": "cPDEllXzK4p1",
        "outputId": "ab85b96f-9841-4d96-cbdd-fd83c0898918"
      },
      "execution_count": 2,
      "outputs": [
        {
          "output_type": "stream",
          "name": "stdout",
          "text": [
            "label:  T-shirt/top (0)\n"
          ]
        },
        {
          "output_type": "display_data",
          "data": {
            "text/plain": [
              "<Figure size 432x288 with 1 Axes>"
            ],
            "image/png": "[encoded data removed]"
          },
          "metadata": {
            "needs_background": "light"
          }
        }
      ]
    },
    {
      "cell_type": "markdown",
      "source": [
        "### `torchvision.transforms` Module: \n",
        "\n",
        "Transforms are common image transformations. \n",
        "\n",
        "* `transforms.Compose()`: Composes several transforms together.\n",
        "* `transforms.Resize()`: Resizes the input image to the given size.\n",
        "* `transforms.ToTensor()`: Converts a `PIL Image ` or `numpy.ndarray` (H x W x C) to tensor (C x H x W)."
      ],
      "metadata": {
        "id": "KN-QmU_3NdUN"
      }
    },
    {
      "cell_type": "code",
      "source": [
        "from torchvision import transforms\n",
        "\n",
        "trans = transforms.Compose([transforms.Resize((28, 28)),\n",
        "                            transforms.ToTensor()])\n",
        "\n",
        "train_data = datasets.FashionMNIST(root='../data', transform=trans,\n",
        "                                   train=True, download=True)\n",
        "val_data = datasets.FashionMNIST(root='../data', transform=trans,\n",
        "                                 train=False, download=True)\n",
        "display.clear_output()\n",
        "\n"
      ],
      "metadata": {
        "id": "Y5YKB74jNemF"
      },
      "execution_count": 3,
      "outputs": []
    },
    {
      "cell_type": "markdown",
      "source": [
        "### `torch.utils.data.DataLoader()`:\n",
        "\n",
        "This class represents a Python iterable over a dataset."
      ],
      "metadata": {
        "id": "iU4TawAtQMeo"
      }
    },
    {
      "cell_type": "code",
      "source": [
        "from torch.utils.data import DataLoader\n",
        "\n",
        "train_batch = DataLoader(train_data, batch_size=32, \n",
        "                         shuffle=True, num_workers=4)\n",
        "val_batch = DataLoader(val_data, batch_size=32,\n",
        "                       shuffle=False, num_workers=4)\n"
      ],
      "metadata": {
        "colab": {
          "base_uri": "https://localhost:8080/"
        },
        "id": "PKezlIf9REpi",
        "outputId": "c4180870-7220-4602-acdd-2a8b812629f7"
      },
      "execution_count": 4,
      "outputs": [
        {
          "output_type": "stream",
          "name": "stderr",
          "text": [
            "/usr/local/lib/python3.8/dist-packages/torch/utils/data/dataloader.py:554: UserWarning: This DataLoader will create 4 worker processes in total. Our suggested max number of worker in current system is 2, which is smaller than what this DataLoader is going to create. Please be aware that excessive worker creation might get DataLoader running slow or even freeze, lower the worker number to avoid potential slowness/freeze if necessary.\n",
            "  warnings.warn(_create_warning_msg(\n"
          ]
        }
      ]
    },
    {
      "cell_type": "markdown",
      "source": [
        "### `next(iter(val_batch))`:\n",
        "This line of code gives a tuple which has two elements. The first element contains the inputs of the model (in this calse images (32)), and the second element contains the labels (classification) for the system. \n",
        "\n",
        "* `batch[:]`: Returns all the elements in the tuple (images and labels).\n",
        "* `batch[:-1]`: Returns only the first element, and labels (second element) are excluded.\n",
        "* `*batch[:-1]:` Returns the elements inside the tople due to the use of `*`\n",
        "* `len()`: Python tuple method `len()` returns the number of elements in the tuple. This built-in method can be used to get the size of a Python list."
      ],
      "metadata": {
        "id": "Bkqu-VoolXA3"
      }
    },
    {
      "cell_type": "code",
      "source": [
        "batch = next(iter(val_batch))\n",
        "batch[0].shape, batch[1].shape, len(batch)"
      ],
      "metadata": {
        "id": "obQ487mglJZK",
        "outputId": "41338fc9-dfaa-4180-a3ae-50e3bdda2408",
        "colab": {
          "base_uri": "https://localhost:8080/"
        }
      },
      "execution_count": 5,
      "outputs": [
        {
          "output_type": "execute_result",
          "data": {
            "text/plain": [
              "(torch.Size([32, 1, 28, 28]), torch.Size([32]), 2)"
            ]
          },
          "metadata": {},
          "execution_count": 5
        }
      ]
    },
    {
      "cell_type": "code",
      "source": [
        "batch[0][0].shape"
      ],
      "metadata": {
        "colab": {
          "base_uri": "https://localhost:8080/"
        },
        "id": "SPc75_bpp8Pk",
        "outputId": "31ff981b-f0fd-4cd6-d9e8-b484caaa2f88"
      },
      "execution_count": 6,
      "outputs": [
        {
          "output_type": "execute_result",
          "data": {
            "text/plain": [
              "torch.Size([1, 28, 28])"
            ]
          },
          "metadata": {},
          "execution_count": 6
        }
      ]
    },
    {
      "cell_type": "code",
      "source": [
        "batch[:-1][0].shape\n"
      ],
      "metadata": {
        "colab": {
          "base_uri": "https://localhost:8080/"
        },
        "id": "Y4lU4kzHmQCm",
        "outputId": "ed4f15ee-1e56-48da-f923-d524ef31049d"
      },
      "execution_count": 7,
      "outputs": [
        {
          "output_type": "execute_result",
          "data": {
            "text/plain": [
              "torch.Size([32, 1, 28, 28])"
            ]
          },
          "metadata": {},
          "execution_count": 7
        }
      ]
    },
    {
      "cell_type": "markdown",
      "source": [
        "### `torchvision.utils`:\n",
        "This module contains various utilities, mostly for visualization.\n",
        "\n",
        "* `torchvision.utils.make_grid()`: make a grid for images.\n",
        "\n",
        "* `torch.permute()`: Returns a view of the original tensor input with its dimensions permuted.\n",
        "\n",
        "* `torch.tensor.detach()`: Returns a new tensor, detached from the current graph.\n",
        "\n",
        "* `torch.tensor()` is designed to be used in the context of gradient descent optimization. These tensors hold a tensor with numneric values (just like `np.ndarray`). In addition, they contain computational graph leading to these values. \n",
        "\n",
        "* When converting `torch.tensor` to `np.adarray`, we must explicitly remove the computational graph of the tensor using the `detach()` command."
      ],
      "metadata": {
        "id": "pzhpNYnOTSRz"
      }
    },
    {
      "cell_type": "code",
      "source": [
        "from torchvision.utils import make_grid\n",
        "\n",
        "for images, _ in train_batch:\n",
        "  print('images.shape: ', images.shape)\n",
        "  plt.figure(figsize=(16,8))\n",
        "  plt.axis('off')\n",
        "  plt.imshow(make_grid(images).permute((1, 2, 0)))\n",
        "  break"
      ],
      "metadata": {
        "colab": {
          "base_uri": "https://localhost:8080/",
          "height": 483
        },
        "id": "_PuNUc8hU2d3",
        "outputId": "2f019ec4-5067-4621-fe99-404845d000b5"
      },
      "execution_count": 8,
      "outputs": [
        {
          "output_type": "stream",
          "name": "stdout",
          "text": [
            "images.shape:  torch.Size([32, 1, 28, 28])\n"
          ]
        },
        {
          "output_type": "display_data",
          "data": {
            "text/plain": [
              "<Figure size 1152x576 with 1 Axes>"
            ],
            "image/png": "[encoded data removed]"
          },
          "metadata": {
            "needs_background": "light"
          }
        }
      ]
    },
    {
      "cell_type": "markdown",
      "source": [
        "### Side Note: `numpy.squeeze()`:\n",
        "This method is used to when we want to remove single-dimensional entries from the shape of an array."
      ],
      "metadata": {
        "id": "QIq6BFNcjWQ_"
      }
    },
    {
      "cell_type": "code",
      "source": [
        "images, labels = next(iter(val_batch))\n",
        "print('Shape before squeezing: ',images.shape)\n",
        "\n",
        "images = images.squeeze(1)\n",
        "print('Shape after squeezing: ',images.shape)\n",
        "\n",
        "names = []\n",
        "for label in labels:\n",
        "  names.append(val_data.classes[label])\n",
        "\n",
        "figsize = (16, 8)\n",
        "_,axes = plt.subplots(nrows=1, ncols=8, figsize=figsize)\n",
        "axes = axes.flatten()\n",
        "for i, (ax, img, name) in enumerate(zip(axes, images, names)):\n",
        "  img = img.detach().numpy() \n",
        "  ax.imshow(img)\n",
        "\n",
        "  ax.axes.get_xaxis().set_visible(False)\n",
        "  ax.axes.get_yaxis().set_visible(False)\n",
        "  ax.set_title(name)"
      ],
      "metadata": {
        "colab": {
          "base_uri": "https://localhost:8080/",
          "height": 180
        },
        "id": "FFkMA7L7eU3C",
        "outputId": "f387d161-8c7d-4e20-c1a3-aafacf2b50a8"
      },
      "execution_count": 9,
      "outputs": [
        {
          "output_type": "stream",
          "name": "stdout",
          "text": [
            "Shape before squeezing:  torch.Size([32, 1, 28, 28])\n",
            "Shape after squeezing:  torch.Size([32, 28, 28])\n"
          ]
        },
        {
          "output_type": "display_data",
          "data": {
            "text/plain": [
              "<Figure size 1152x576 with 8 Axes>"
            ],
            "image/png": "[encoded data removed]"
          },
          "metadata": {
            "needs_background": "light"
          }
        }
      ]
    },
    {
      "cell_type": "markdown",
      "source": [
        "### Side Note: Python `assert` Keyword:\n",
        "Assertions are assumptions embedded in the code, so that failure of these assumtions doesn't allow the code to execute further. "
      ],
      "metadata": {
        "id": "BqjzX2KwpEzp"
      }
    },
    {
      "cell_type": "code",
      "source": [
        "a = 10\n",
        "b = 0\n",
        "\n",
        "print('The value of a / b is: ')\n",
        "assert b!=0, 'Zero Devision Error'\n",
        "print(a / b)"
      ],
      "metadata": {
        "id": "K1Rw-LvYqVgd",
        "outputId": "f2b2c8d5-5c06-4eac-98c5-99bb275533c5",
        "colab": {
          "base_uri": "https://localhost:8080/",
          "height": 235
        }
      },
      "execution_count": 10,
      "outputs": [
        {
          "output_type": "stream",
          "name": "stdout",
          "text": [
            "The value of a / b is: \n"
          ]
        },
        {
          "output_type": "error",
          "ename": "AssertionError",
          "evalue": "ignored",
          "traceback": [
            "\u001b[0;31m---------------------------------------------------------------------------\u001b[0m",
            "\u001b[0;31mAssertionError\u001b[0m                            Traceback (most recent call last)",
            "\u001b[0;32m<ipython-input-10-905d71c1e5e5>\u001b[0m in \u001b[0;36m<module>\u001b[0;34m\u001b[0m\n\u001b[1;32m      3\u001b[0m \u001b[0;34m\u001b[0m\u001b[0m\n\u001b[1;32m      4\u001b[0m \u001b[0mprint\u001b[0m\u001b[0;34m(\u001b[0m\u001b[0;34m'The value of a / b is: '\u001b[0m\u001b[0;34m)\u001b[0m\u001b[0;34m\u001b[0m\u001b[0;34m\u001b[0m\u001b[0m\n\u001b[0;32m----> 5\u001b[0;31m \u001b[0;32massert\u001b[0m \u001b[0mb\u001b[0m\u001b[0;34m!=\u001b[0m\u001b[0;36m0\u001b[0m\u001b[0;34m,\u001b[0m \u001b[0;34m'Zero Devision Error'\u001b[0m\u001b[0;34m\u001b[0m\u001b[0;34m\u001b[0m\u001b[0m\n\u001b[0m\u001b[1;32m      6\u001b[0m \u001b[0mprint\u001b[0m\u001b[0;34m(\u001b[0m\u001b[0ma\u001b[0m \u001b[0;34m/\u001b[0m \u001b[0mb\u001b[0m\u001b[0;34m)\u001b[0m\u001b[0;34m\u001b[0m\u001b[0;34m\u001b[0m\u001b[0m\n",
            "\u001b[0;31mAssertionError\u001b[0m: Zero Devision Error"
          ]
        }
      ]
    },
    {
      "cell_type": "markdown",
      "source": [
        "### Side Note: `torch.tensor.to()` and `torch.device()`\n",
        "\n",
        "* `torch.Tensor.to()`: Performs tensor dtype (`int` to `float`) and/or device conversion (`cpu` to `gpu`).\n",
        "* `torch.device` is an object representing the device on which a `torch.Tensor()` is or will be allocated."
      ],
      "metadata": {
        "id": "agK0lfuheFnj"
      }
    },
    {
      "cell_type": "code",
      "source": [
        "import torch\n",
        "\n",
        "tensor = torch.randn(2, 2) # Initially dtype=float32, device=cpu\n",
        "\n",
        "tensor.to(torch.float64)"
      ],
      "metadata": {
        "colab": {
          "base_uri": "https://localhost:8080/"
        },
        "id": "56RH9Ar1fzmF",
        "outputId": "3ac41e4b-65eb-4ecc-cb64-dbf55bbb4dbb"
      },
      "execution_count": 11,
      "outputs": [
        {
          "output_type": "execute_result",
          "data": {
            "text/plain": [
              "tensor([[-1.9741, -0.4403],\n",
              "        [ 1.1700, -0.0908]], dtype=torch.float64)"
            ]
          },
          "metadata": {},
          "execution_count": 11
        }
      ]
    },
    {
      "cell_type": "code",
      "source": [
        "cuda0 = torch.device('cuda:0')\n",
        "tensor.to(cuda0)"
      ],
      "metadata": {
        "colab": {
          "base_uri": "https://localhost:8080/"
        },
        "id": "kV_fDShYggwq",
        "outputId": "d2db56a9-d31f-496f-a910-94058b0b0b4a"
      },
      "execution_count": 12,
      "outputs": [
        {
          "output_type": "execute_result",
          "data": {
            "text/plain": [
              "tensor([[-1.9741, -0.4403],\n",
              "        [ 1.1700, -0.0908]], device='cuda:0')"
            ]
          },
          "metadata": {},
          "execution_count": 12
        }
      ]
    },
    {
      "cell_type": "code",
      "source": [
        "tensor.to(cuda0, dtype=torch.float64)"
      ],
      "metadata": {
        "colab": {
          "base_uri": "https://localhost:8080/"
        },
        "id": "gpdZZSpBhmEx",
        "outputId": "224b1f13-1d39-45f2-ed28-a9fd2fd7fc9c"
      },
      "execution_count": 13,
      "outputs": [
        {
          "output_type": "execute_result",
          "data": {
            "text/plain": [
              "tensor([[-1.9741, -0.4403],\n",
              "        [ 1.1700, -0.0908]], device='cuda:0', dtype=torch.float64)"
            ]
          },
          "metadata": {},
          "execution_count": 13
        }
      ]
    },
    {
      "cell_type": "markdown",
      "source": [
        "### `torch.optim`\n",
        "This is a package implementing various optimization algorithms. \n",
        "\n",
        "* `torch.optim.SGD()`: Implements stochasitc gradient descent"
      ],
      "metadata": {
        "id": "CTTgMUMWvJRJ"
      }
    },
    {
      "cell_type": "markdown",
      "source": [
        "### Some Notes on Optimization in PyTorch:\n",
        "\n",
        "* `model.train()`: Tells the model that you are training the model. This line changes the behaviour of `Dropout` and `BatchNorm` in the layers of the model.\n",
        "* `model.eval()` or `model.train(mode=False)`: Tells the model that you are testing. \n",
        "* `optimizer.zero_grad()`: In PyTorch, we want to set gradients to zero before starting to update network parameters. So, in the start the gradient should be zeroed out to remove old gradients. This is done by `optimizer.zero_grad()` method. \n",
        "* `loss.backward()`: Computes `dloss/dx` for any parameter `x` which has `requires_grad=True`. These are accumulated into `x.grad` for every parameter `x`.\n",
        "* `optimizer.step()`: Updates the value of `x` using gradient `x.grad`. For example, the SGD optimizer performs `x += -lr * x.grad`.\n",
        "* `torch.no_grad()`: Context-manager that disable gradient calculation. `with torch.no_grad()` blaock means during these lines doing these lines without keeping track og the gradients. This method also can be sued as decorator `@torch.no_grad()`\n",
        "* `\\n`: next line in print command"
      ],
      "metadata": {
        "id": "dab86yyKy6nt"
      }
    },
    {
      "cell_type": "markdown",
      "source": [
        "### `torch.nn`\n",
        "This module provides the basic building blocks for Neural Networks.\n",
        "\n",
        "* `nn.Sequential()`: The Sequential holder is utilized to chain a succession of PyTorch models, for example layers of a Neural Network into a succession.\n",
        "* `nn.Flatten()`: Is used to reshape any tensor with different dimensions to a single dimension so that we can do further operations on the same input data."
      ],
      "metadata": {
        "id": "plcM05s86opR"
      }
    },
    {
      "cell_type": "markdown",
      "source": [
        "## References\n",
        "\n",
        "* [PyTorch Documentation](https://pytorch.org/docs/stable/index.html)"
      ],
      "metadata": {
        "id": "gUgBJURkfp9M"
      }
    }
  ]
}